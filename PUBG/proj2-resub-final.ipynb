{
 "cells": [
  {
   "cell_type": "markdown",
   "metadata": {},
   "source": [
    "**Resub sections** <br />  \n",
    "* Modeling and evaluation 2 (train/test split) <br />  \n",
    "    * Update with 10-fold cv <br />\n",
    "* Modeling and evaluation 4 (visuals for model evaluation) <br />  \n",
    "    * Add visuals for regression <br />\n",
    "* Modeling and evaluation 5 (compare models with statistical methods) <br />  \n",
    "    * Re-word comments for classification ROC <br />  \n",
    "    * Add t-test for regression <br />  \n",
    "* Modeling and evaluation 6 (feature importance) <br />\n",
    "    * Add coefficients chart for regression features <br />\n",
    "    * Add graph for regression features <br />\n",
    "    * Add comments for important regression features <br />"
   ]
  },
  {
   "cell_type": "markdown",
   "metadata": {},
   "source": [
    "**How to identify changed comments/code**\n",
    "* Search for \"resub comments\" as needed <br />\n",
    "* Search for \"resub code\" as needed"
   ]
  },
  {
   "cell_type": "markdown",
   "metadata": {
    "id": "0MNqCTzunnXd"
   },
   "source": [
    "# **ML1 PROJECT 2** \n",
    "Randy Kim, Kati Schuerger, Will Sherman \n"
   ]
  },
  {
   "cell_type": "markdown",
   "metadata": {
    "id": "miqskT5Vf6uX"
   },
   "source": [
    "# **0. INTRODUCTION = NO EDIT** #"
   ]
  },
  {
   "cell_type": "markdown",
   "metadata": {},
   "source": [
    "## Identify tasks"
   ]
  },
  {
   "cell_type": "markdown",
   "metadata": {
    "id": "l9FCPFQSdEd1"
   },
   "source": [
    "**Identify two tasks from our dataset to predict:**\n",
    "\n",
    "1. Classification task = predict quart_binary (0/1). This variable is equal to 1 when the player's score is in the 4th quantile.\n",
    "\n",
    "\n",
    "2. Regression task = predict winPlacePerc. This variable will require a regression model analyzing the mean absolute error (MAE). Consequently, this was the same metric for the kaggle competition's QOI. (Alternative wording: Our second task will be regressing what the player's win place percent will be, given their performance on other metrics gathered during the game.) "
   ]
  },
  {
   "cell_type": "markdown",
   "metadata": {
    "id": "Ui0x_GD5oXND"
   },
   "source": [
    "**Try to use as much testing data as possible in a realistic manner.**\n",
    "\n",
    "For hyperparameter tuning, we used a subset of our training data, because we ran into very lengthy run-time when attempting to perform tuning on the full training set. To help decrease the run-time, a subsample of 10% of the train data was made. This will still represent about 270,000 records, which is sufficient for our analysis and modeling. \n",
    "\n",
    "As long as the sample size is greater than 30, we can leverage the CLT, which allows us to make inferences about our population by using a sampling of the data.\n"
   ]
  },
  {
   "cell_type": "markdown",
   "metadata": {
    "id": "H-FEdlYQh0Ph"
   },
   "source": [
    "## Business understanding "
   ]
  },
  {
   "cell_type": "markdown",
   "metadata": {
    "id": "EmYbwpJKoOEu"
   },
   "source": [
    "*Context for our classification and regression tasks.*"
   ]
  },
  {
   "cell_type": "markdown",
   "metadata": {
    "id": "xF52Ysn0tH2w"
   },
   "source": [
    "The **PlayerUnknown’s Battleground** (also known as PUBG) **Finish Placement Prediction** Kaggle competition was posted to \"create a model which predicts players' finishing placement based on their final stats, on a scale from 1 (first place) to 0 (last place).\" This competition utilized publicly available official game data from PUBG through the PUBG Developer API. The questions of interest (QOI) were about the best strategy to win in PUBG, the best skillset, and to be able to model ranking in-game. The dataset provided was a breakdown of post-game metrics and percentile winning placement: with 4446966 records and 29 total features.\n",
    "\n",
    "https://www.kaggle.com/c/pubg-finish-placement-prediction/data\n",
    "\n",
    "We want to predict the two following things: winPlacePerc (continuous variable), and winPlaceQuartile (categorical variable). winPlacePerc is a ranking of a “players' finishing placement based on their final stats, on a scale from 1 (first place) to 0 (last place).\" winPlaceQuartile is a new categorical variable we are adding to the dataset. This variable will have four categories, one for each quartile.\n",
    "\n",
    "For the first response (classification task), winPlaceQuartile, we will measure accuracy in combination with 10-fold cross-validation.\n",
    "\n",
    "The second response (regression task), winPlacePerc, will require a regression model analyzing the mean absolute error (MAE) in combination with 10-fold cross-validation. Consequently, this was the same metric for the kaggle competition's QOI.\n",
    "\n",
    "Creating forecasting algorithms for online sports is not new. Therefore, the combination of the two measures could be related to optimizing a sports betting algorithms. You could also use these models for building and managing an effective team for tournaments. For example, the PUBG Global Championship 2021 Grand Finals had combined prize value of over 2 million USD."
   ]
  },
  {
   "cell_type": "markdown",
   "metadata": {
    "id": "3x7rN9vzfhGw"
   },
   "source": [
    "# **1. DATA PREPARATION 1 = NO EDIT**"
   ]
  },
  {
   "cell_type": "markdown",
   "metadata": {},
   "source": [
    "SUBTITLE: DATA PRE-PROCESSING\n",
    "\n",
    "*Assignment: Define and prepare your class variables. Use proper variable representations (int, float, one-hot, etc.). Use pre-processing methods (as needed) for dimensionality reduction, scaling, etc. Remove variables that are not needed/useful for the analysis.*"
   ]
  },
  {
   "cell_type": "markdown",
   "metadata": {
    "id": "8SySUHNMqDQQ"
   },
   "source": [
    "## Set up environment"
   ]
  },
  {
   "cell_type": "code",
   "execution_count": 1,
   "metadata": {
    "id": "Ljahm4hOq5xm"
   },
   "outputs": [],
   "source": [
    "# load libraries\n",
    "import csv\n",
    "import numpy as np\n",
    "import pandas as pd\n",
    "import seaborn as sns\n",
    "import matplotlib.pyplot as plt\n",
    "from sklearn.discriminant_analysis import LinearDiscriminantAnalysis as LDA\n",
    "from sklearn import model_selection\n",
    "from sklearn.model_selection import train_test_split, cross_val_score, RandomizedSearchCV\n",
    "from sklearn.linear_model import LogisticRegression, Lasso\n",
    "from sklearn import metrics as mt\n",
    "from sklearn.pipeline import Pipeline\n",
    "from sklearn.preprocessing import StandardScaler\n",
    "from sklearn.ensemble import RandomForestClassifier\n",
    "from sklearn.svm import SVC\n",
    "from sklearn.linear_model import LinearRegression\n",
    "from sklearn.neighbors import KNeighborsRegressor\n",
    "from sklearn.tree import DecisionTreeRegressor\n",
    "from sklearn.model_selection import GridSearchCV\n",
    "from sklearn.decomposition import PCA\n",
    "import statistics\n",
    "import time\n",
    "\n",
    "# import libraries to clean up CopyWarning\n",
    "import warnings\n",
    "from pandas.core.common import SettingWithCopyWarning\n",
    "warnings.simplefilter(action=\"ignore\", category=SettingWithCopyWarning)"
   ]
  },
  {
   "cell_type": "markdown",
   "metadata": {},
   "source": [
    "*Resub code: Next cell is new. Required new packages to be installed for our updated code.*"
   ]
  },
  {
   "cell_type": "code",
   "execution_count": null,
   "metadata": {},
   "outputs": [],
   "source": [
    "# pip install yellowbrick --user\n",
    "# pip install mlxtend --user"
   ]
  },
  {
   "cell_type": "markdown",
   "metadata": {},
   "source": [
    "## Load in data"
   ]
  },
  {
   "cell_type": "code",
   "execution_count": 2,
   "metadata": {
    "id": "6tfsVa8crHlZ"
   },
   "outputs": [],
   "source": [
    "# load in the data\n",
    "# pubg_raw = pd.read_csv(\"train_V2.csv\")\n",
    "\n",
    "# for kati local run\n",
    "pubg_raw = pd.read_csv(r\"C:\\Users\\kschue200\\OneDrive - Comcast\\Documents\\00 SMU\\00 machine learning1\\mini lab\\train_V2.csv\")\n",
    "\n",
    "# for will local run\n",
    "# pubg_raw = pd.read_csv(r\"C:\\Users\\sherm\\OneDrive\\Documents\\Grad School - Classes\\MSDS - 7331 - Machine Learning I\\Lab 1\\pubg-finish-placement-prediction\\train_V2.csv\")"
   ]
  },
  {
   "cell_type": "markdown",
   "metadata": {},
   "source": [
    "## Reduce memory usage"
   ]
  },
  {
   "cell_type": "code",
   "execution_count": 3,
   "metadata": {
    "id": "kPIwruXtrKSR"
   },
   "outputs": [],
   "source": [
    "# this logic iterates through the DF to reduce memory usage\n",
    "# code adapted from https://www.kaggle.com/yansun1996/gbr-ipynb\n",
    "# additional reference: https://www.kaggle.com/gemartin/load-data-reduce-memory-usage\n",
    "\n",
    "def reduce_mem_usage(df):\n",
    "    '''\n",
    "    iterate through all the columns of a dataframe and modify the data type\n",
    "    to reduce memory usage.        \n",
    "    '''\n",
    "    start_mem = df.memory_usage().sum() / 1024**2\n",
    "    print('Memory usage of dataframe is {:.2f} MB'.format(start_mem))\n",
    "    for col in df.columns:\n",
    "        col_type = df[col].dtype\n",
    "        if col_type != object:\n",
    "            c_min = df[col].min()\n",
    "            c_max = df[col].max()\n",
    "            if str(col_type)[:3] == 'int':\n",
    "                if c_min > np.iinfo(np.int8).min and c_max < np.iinfo(np.int8).max:\n",
    "                    df[col] = df[col].astype(np.int8)\n",
    "                elif c_min > np.iinfo(np.int16).min and c_max < np.iinfo(np.int16).max:\n",
    "                    df[col] = df[col].astype(np.int16)\n",
    "                elif c_min > np.iinfo(np.int32).min and c_max < np.iinfo(np.int32).max:\n",
    "                    df[col] = df[col].astype(np.int32)\n",
    "                elif c_min > np.iinfo(np.int64).min and c_max < np.iinfo(np.int64).max:\n",
    "                    df[col] = df[col].astype(np.int64)  \n",
    "            else:\n",
    "                if c_min > np.finfo(np.float16).min and c_max < np.finfo(np.float16).max:\n",
    "                    df[col] = df[col].astype(np.float16)\n",
    "                elif c_min > np.finfo(np.float32).min and c_max < np.finfo(np.float32).max:\n",
    "                    df[col] = df[col].astype(np.float32)\n",
    "                else:\n",
    "                    df[col] = df[col].astype(np.float64)\n",
    "    end_mem = df.memory_usage().sum() / 1024**2\n",
    "    print('Memory usage after optimization is: {:.2f} MB'.format(end_mem))\n",
    "    print('Decreased by {:.1f}%'.format(100 * (start_mem - end_mem) / start_mem))\n",
    "    return df"
   ]
  },
  {
   "cell_type": "code",
   "execution_count": 4,
   "metadata": {
    "id": "_Gz-RXUIrMZt"
   },
   "outputs": [
    {
     "name": "stdout",
     "output_type": "stream",
     "text": [
      "Memory usage of dataframe is 983.90 MB\n",
      "Memory usage after optimization is: 288.39 MB\n",
      "Decreased by 70.7%\n"
     ]
    }
   ],
   "source": [
    "pubg_raw = reduce_mem_usage(pubg_raw)"
   ]
  },
  {
   "cell_type": "markdown",
   "metadata": {
    "id": "a9Fve7FtaDrX"
   },
   "source": [
    "## Data pre-processing\n",
    "\n",
    "In the below section we will handle records with missing values (chosen methos = drop from data), create new variables for our classification task, remove unuseful object-datatype variables, and remove features that introduce convergence issues in our models."
   ]
  },
  {
   "cell_type": "code",
   "execution_count": 5,
   "metadata": {
    "id": "EZiNlFmdraVq"
   },
   "outputs": [
    {
     "data": {
      "text/html": [
       "<div>\n",
       "<style scoped>\n",
       "    .dataframe tbody tr th:only-of-type {\n",
       "        vertical-align: middle;\n",
       "    }\n",
       "\n",
       "    .dataframe tbody tr th {\n",
       "        vertical-align: top;\n",
       "    }\n",
       "\n",
       "    .dataframe thead th {\n",
       "        text-align: right;\n",
       "    }\n",
       "</style>\n",
       "<table border=\"1\" class=\"dataframe\">\n",
       "  <thead>\n",
       "    <tr style=\"text-align: right;\">\n",
       "      <th></th>\n",
       "      <th>Id</th>\n",
       "      <th>groupId</th>\n",
       "      <th>matchId</th>\n",
       "      <th>assists</th>\n",
       "      <th>boosts</th>\n",
       "      <th>damageDealt</th>\n",
       "      <th>DBNOs</th>\n",
       "      <th>headshotKills</th>\n",
       "      <th>heals</th>\n",
       "      <th>killPlace</th>\n",
       "      <th>...</th>\n",
       "      <th>revives</th>\n",
       "      <th>rideDistance</th>\n",
       "      <th>roadKills</th>\n",
       "      <th>swimDistance</th>\n",
       "      <th>teamKills</th>\n",
       "      <th>vehicleDestroys</th>\n",
       "      <th>walkDistance</th>\n",
       "      <th>weaponsAcquired</th>\n",
       "      <th>winPoints</th>\n",
       "      <th>winPlacePerc</th>\n",
       "    </tr>\n",
       "  </thead>\n",
       "  <tbody>\n",
       "    <tr>\n",
       "      <th>0</th>\n",
       "      <td>7f96b2f878858a</td>\n",
       "      <td>4d4b580de459be</td>\n",
       "      <td>a10357fd1a4a91</td>\n",
       "      <td>0</td>\n",
       "      <td>0</td>\n",
       "      <td>0.00000</td>\n",
       "      <td>0</td>\n",
       "      <td>0</td>\n",
       "      <td>0</td>\n",
       "      <td>60</td>\n",
       "      <td>...</td>\n",
       "      <td>0</td>\n",
       "      <td>0.000000</td>\n",
       "      <td>0</td>\n",
       "      <td>0.000000</td>\n",
       "      <td>0</td>\n",
       "      <td>0</td>\n",
       "      <td>244.75</td>\n",
       "      <td>1</td>\n",
       "      <td>1466</td>\n",
       "      <td>0.444336</td>\n",
       "    </tr>\n",
       "    <tr>\n",
       "      <th>1</th>\n",
       "      <td>eef90569b9d03c</td>\n",
       "      <td>684d5656442f9e</td>\n",
       "      <td>aeb375fc57110c</td>\n",
       "      <td>0</td>\n",
       "      <td>0</td>\n",
       "      <td>91.50000</td>\n",
       "      <td>0</td>\n",
       "      <td>0</td>\n",
       "      <td>0</td>\n",
       "      <td>57</td>\n",
       "      <td>...</td>\n",
       "      <td>0</td>\n",
       "      <td>0.004501</td>\n",
       "      <td>0</td>\n",
       "      <td>11.039062</td>\n",
       "      <td>0</td>\n",
       "      <td>0</td>\n",
       "      <td>1434.00</td>\n",
       "      <td>5</td>\n",
       "      <td>0</td>\n",
       "      <td>0.640137</td>\n",
       "    </tr>\n",
       "    <tr>\n",
       "      <th>2</th>\n",
       "      <td>1eaf90ac73de72</td>\n",
       "      <td>6a4a42c3245a74</td>\n",
       "      <td>110163d8bb94ae</td>\n",
       "      <td>1</td>\n",
       "      <td>0</td>\n",
       "      <td>68.00000</td>\n",
       "      <td>0</td>\n",
       "      <td>0</td>\n",
       "      <td>0</td>\n",
       "      <td>47</td>\n",
       "      <td>...</td>\n",
       "      <td>0</td>\n",
       "      <td>0.000000</td>\n",
       "      <td>0</td>\n",
       "      <td>0.000000</td>\n",
       "      <td>0</td>\n",
       "      <td>0</td>\n",
       "      <td>161.75</td>\n",
       "      <td>2</td>\n",
       "      <td>0</td>\n",
       "      <td>0.775391</td>\n",
       "    </tr>\n",
       "    <tr>\n",
       "      <th>3</th>\n",
       "      <td>4616d365dd2853</td>\n",
       "      <td>a930a9c79cd721</td>\n",
       "      <td>f1f1f4ef412d7e</td>\n",
       "      <td>0</td>\n",
       "      <td>0</td>\n",
       "      <td>32.90625</td>\n",
       "      <td>0</td>\n",
       "      <td>0</td>\n",
       "      <td>0</td>\n",
       "      <td>75</td>\n",
       "      <td>...</td>\n",
       "      <td>0</td>\n",
       "      <td>0.000000</td>\n",
       "      <td>0</td>\n",
       "      <td>0.000000</td>\n",
       "      <td>0</td>\n",
       "      <td>0</td>\n",
       "      <td>202.75</td>\n",
       "      <td>3</td>\n",
       "      <td>0</td>\n",
       "      <td>0.166748</td>\n",
       "    </tr>\n",
       "    <tr>\n",
       "      <th>4</th>\n",
       "      <td>315c96c26c9aac</td>\n",
       "      <td>de04010b3458dd</td>\n",
       "      <td>6dc8ff871e21e6</td>\n",
       "      <td>0</td>\n",
       "      <td>0</td>\n",
       "      <td>100.00000</td>\n",
       "      <td>0</td>\n",
       "      <td>0</td>\n",
       "      <td>0</td>\n",
       "      <td>45</td>\n",
       "      <td>...</td>\n",
       "      <td>0</td>\n",
       "      <td>0.000000</td>\n",
       "      <td>0</td>\n",
       "      <td>0.000000</td>\n",
       "      <td>0</td>\n",
       "      <td>0</td>\n",
       "      <td>49.75</td>\n",
       "      <td>2</td>\n",
       "      <td>0</td>\n",
       "      <td>0.187500</td>\n",
       "    </tr>\n",
       "  </tbody>\n",
       "</table>\n",
       "<p>5 rows × 29 columns</p>\n",
       "</div>"
      ],
      "text/plain": [
       "               Id         groupId         matchId  assists  boosts  \\\n",
       "0  7f96b2f878858a  4d4b580de459be  a10357fd1a4a91        0       0   \n",
       "1  eef90569b9d03c  684d5656442f9e  aeb375fc57110c        0       0   \n",
       "2  1eaf90ac73de72  6a4a42c3245a74  110163d8bb94ae        1       0   \n",
       "3  4616d365dd2853  a930a9c79cd721  f1f1f4ef412d7e        0       0   \n",
       "4  315c96c26c9aac  de04010b3458dd  6dc8ff871e21e6        0       0   \n",
       "\n",
       "   damageDealt  DBNOs  headshotKills  heals  killPlace  ...  revives  \\\n",
       "0      0.00000      0              0      0         60  ...        0   \n",
       "1     91.50000      0              0      0         57  ...        0   \n",
       "2     68.00000      0              0      0         47  ...        0   \n",
       "3     32.90625      0              0      0         75  ...        0   \n",
       "4    100.00000      0              0      0         45  ...        0   \n",
       "\n",
       "   rideDistance  roadKills  swimDistance  teamKills vehicleDestroys  \\\n",
       "0      0.000000          0      0.000000          0               0   \n",
       "1      0.004501          0     11.039062          0               0   \n",
       "2      0.000000          0      0.000000          0               0   \n",
       "3      0.000000          0      0.000000          0               0   \n",
       "4      0.000000          0      0.000000          0               0   \n",
       "\n",
       "   walkDistance  weaponsAcquired  winPoints  winPlacePerc  \n",
       "0        244.75                1       1466      0.444336  \n",
       "1       1434.00                5          0      0.640137  \n",
       "2        161.75                2          0      0.775391  \n",
       "3        202.75                3          0      0.166748  \n",
       "4         49.75                2          0      0.187500  \n",
       "\n",
       "[5 rows x 29 columns]"
      ]
     },
     "execution_count": 5,
     "metadata": {},
     "output_type": "execute_result"
    }
   ],
   "source": [
    "pubg_raw.head()"
   ]
  },
  {
   "cell_type": "code",
   "execution_count": 6,
   "metadata": {
    "id": "bbXPcGvTrcZK"
   },
   "outputs": [
    {
     "data": {
      "image/png": "[encoded data removed]",
      "text/plain": [
       "<Figure size 1080x720 with 2 Axes>"
      ]
     },
     "metadata": {
      "needs_background": "light"
     },
     "output_type": "display_data"
    }
   ],
   "source": [
    "cmap = sns.diverging_palette(220, 10, as_cmap=True)\n",
    "fig, ax = plt.subplots(figsize = (15, 10))\n",
    "corrMatrix = pubg_raw.corr()\n",
    "heatPlot = sns.heatmap(corrMatrix, ax=ax, annot=True, fmt=\".1f\", cmap=cmap,\n",
    "                       mask=np.tril(np.ones_like(corrMatrix, dtype=bool)))\n",
    "plt.show()"
   ]
  },
  {
   "cell_type": "markdown",
   "metadata": {
    "id": "z279KuIzvf7j"
   },
   "source": [
    "Based on our analysis, we dropped the single missing value for a match that had only 1 individual (above).\n",
    "\n",
    "We also identified *unranked* matches as creating significant issues in prediction capabilities (below). We resolved to remove these from our model. Therefore, our model should only be applied to **ranked** matches. "
   ]
  },
  {
   "cell_type": "markdown",
   "metadata": {
    "id": "Pd31uEnssoU-"
   },
   "source": [
    "### Check for missing values"
   ]
  },
  {
   "cell_type": "code",
   "execution_count": 7,
   "metadata": {
    "id": "2GheE241s-2t"
   },
   "outputs": [
    {
     "name": "stdout",
     "output_type": "stream",
     "text": [
      "Column 'Id' has 0 NAs\n",
      "Column 'groupId' has 0 NAs\n",
      "Column 'matchId' has 0 NAs\n",
      "Column 'assists' has 0 NAs\n",
      "Column 'boosts' has 0 NAs\n",
      "Column 'damageDealt' has 0 NAs\n",
      "Column 'DBNOs' has 0 NAs\n",
      "Column 'headshotKills' has 0 NAs\n",
      "Column 'heals' has 0 NAs\n",
      "Column 'killPlace' has 0 NAs\n",
      "Column 'killPoints' has 0 NAs\n",
      "Column 'kills' has 0 NAs\n",
      "Column 'killStreaks' has 0 NAs\n",
      "Column 'longestKill' has 0 NAs\n",
      "Column 'matchDuration' has 0 NAs\n",
      "Column 'matchType' has 0 NAs\n",
      "Column 'maxPlace' has 0 NAs\n",
      "Column 'numGroups' has 0 NAs\n",
      "Column 'rankPoints' has 0 NAs\n",
      "Column 'revives' has 0 NAs\n",
      "Column 'rideDistance' has 0 NAs\n",
      "Column 'roadKills' has 0 NAs\n",
      "Column 'swimDistance' has 0 NAs\n",
      "Column 'teamKills' has 0 NAs\n",
      "Column 'vehicleDestroys' has 0 NAs\n",
      "Column 'walkDistance' has 0 NAs\n",
      "Column 'weaponsAcquired' has 0 NAs\n",
      "Column 'winPoints' has 0 NAs\n",
      "Column 'winPlacePerc' has 1 NAs\n"
     ]
    }
   ],
   "source": [
    "# check for misssing values\n",
    "colname = list(pubg_raw.columns)\n",
    "\n",
    "for i in range(len(pubg_raw.columns)):\n",
    "  count = pubg_raw[pubg_raw.columns[i]].isna().sum()\n",
    "  print(\"Column '{col}' has {ct} NAs\".format(col = colname[i], ct = count))"
   ]
  },
  {
   "cell_type": "code",
   "execution_count": 8,
   "metadata": {
    "id": "UM7JR33NtB2O"
   },
   "outputs": [
    {
     "data": {
      "text/html": [
       "<div>\n",
       "<style scoped>\n",
       "    .dataframe tbody tr th:only-of-type {\n",
       "        vertical-align: middle;\n",
       "    }\n",
       "\n",
       "    .dataframe tbody tr th {\n",
       "        vertical-align: top;\n",
       "    }\n",
       "\n",
       "    .dataframe thead th {\n",
       "        text-align: right;\n",
       "    }\n",
       "</style>\n",
       "<table border=\"1\" class=\"dataframe\">\n",
       "  <thead>\n",
       "    <tr style=\"text-align: right;\">\n",
       "      <th></th>\n",
       "      <th>Id</th>\n",
       "      <th>groupId</th>\n",
       "      <th>matchId</th>\n",
       "      <th>assists</th>\n",
       "      <th>boosts</th>\n",
       "      <th>damageDealt</th>\n",
       "      <th>DBNOs</th>\n",
       "      <th>headshotKills</th>\n",
       "      <th>heals</th>\n",
       "      <th>killPlace</th>\n",
       "      <th>...</th>\n",
       "      <th>revives</th>\n",
       "      <th>rideDistance</th>\n",
       "      <th>roadKills</th>\n",
       "      <th>swimDistance</th>\n",
       "      <th>teamKills</th>\n",
       "      <th>vehicleDestroys</th>\n",
       "      <th>walkDistance</th>\n",
       "      <th>weaponsAcquired</th>\n",
       "      <th>winPoints</th>\n",
       "      <th>winPlacePerc</th>\n",
       "    </tr>\n",
       "  </thead>\n",
       "  <tbody>\n",
       "    <tr>\n",
       "      <th>2744604</th>\n",
       "      <td>f70c74418bb064</td>\n",
       "      <td>12dfbede33f92b</td>\n",
       "      <td>224a123c53e008</td>\n",
       "      <td>0</td>\n",
       "      <td>0</td>\n",
       "      <td>0.0</td>\n",
       "      <td>0</td>\n",
       "      <td>0</td>\n",
       "      <td>0</td>\n",
       "      <td>1</td>\n",
       "      <td>...</td>\n",
       "      <td>0</td>\n",
       "      <td>0.0</td>\n",
       "      <td>0</td>\n",
       "      <td>0.0</td>\n",
       "      <td>0</td>\n",
       "      <td>0</td>\n",
       "      <td>0.0</td>\n",
       "      <td>0</td>\n",
       "      <td>0</td>\n",
       "      <td>NaN</td>\n",
       "    </tr>\n",
       "  </tbody>\n",
       "</table>\n",
       "<p>1 rows × 29 columns</p>\n",
       "</div>"
      ],
      "text/plain": [
       "                     Id         groupId         matchId  assists  boosts  \\\n",
       "2744604  f70c74418bb064  12dfbede33f92b  224a123c53e008        0       0   \n",
       "\n",
       "         damageDealt  DBNOs  headshotKills  heals  killPlace  ...  revives  \\\n",
       "2744604          0.0      0              0      0          1  ...        0   \n",
       "\n",
       "         rideDistance  roadKills  swimDistance  teamKills vehicleDestroys  \\\n",
       "2744604           0.0          0           0.0          0               0   \n",
       "\n",
       "         walkDistance  weaponsAcquired  winPoints  winPlacePerc  \n",
       "2744604           0.0                0          0           NaN  \n",
       "\n",
       "[1 rows x 29 columns]"
      ]
     },
     "execution_count": 8,
     "metadata": {},
     "output_type": "execute_result"
    }
   ],
   "source": [
    "# look at records with null values\n",
    "pubg_raw[pubg_raw.isna().any(axis = 1)]"
   ]
  },
  {
   "cell_type": "code",
   "execution_count": 9,
   "metadata": {
    "id": "pM7dij_ytDtP"
   },
   "outputs": [
    {
     "data": {
      "text/plain": [
       "False"
      ]
     },
     "execution_count": 9,
     "metadata": {},
     "output_type": "execute_result"
    }
   ],
   "source": [
    "# CREATE PUBG_DF_STG TO INCLUDE OUR UPDATES\n",
    "# drop records with missing values (there is only one)\n",
    "pubg_df_stg = pubg_raw.dropna()\n",
    "pubg_df_stg.isnull().values.any()"
   ]
  },
  {
   "cell_type": "code",
   "execution_count": 10,
   "metadata": {
    "id": "q86EPFCztF6y"
   },
   "outputs": [
    {
     "name": "stdout",
     "output_type": "stream",
     "text": [
      "1701810\n",
      "0\n",
      "0\n",
      "2745155\n"
     ]
    }
   ],
   "source": [
    "# we have some records with -1 values = these take the place of NULL\n",
    "\n",
    "x = pubg_df_stg['rankPoints']\n",
    "y = pubg_df_stg['winPoints']\n",
    "z = pubg_df_stg['killPoints']\n",
    "\n",
    "print(x[x==-1].count())\n",
    "print(y[y==-1].count())\n",
    "print(z[z==-1].count())\n",
    "print(pubg_df_stg.shape[0]-x[x==-1].count())"
   ]
  },
  {
   "cell_type": "markdown",
   "metadata": {},
   "source": [
    "### Subset data"
   ]
  },
  {
   "cell_type": "code",
   "execution_count": 11,
   "metadata": {
    "id": "4EZXcje4tizW"
   },
   "outputs": [
    {
     "data": {
      "text/html": [
       "<div>\n",
       "<style scoped>\n",
       "    .dataframe tbody tr th:only-of-type {\n",
       "        vertical-align: middle;\n",
       "    }\n",
       "\n",
       "    .dataframe tbody tr th {\n",
       "        vertical-align: top;\n",
       "    }\n",
       "\n",
       "    .dataframe thead th {\n",
       "        text-align: right;\n",
       "    }\n",
       "</style>\n",
       "<table border=\"1\" class=\"dataframe\">\n",
       "  <thead>\n",
       "    <tr style=\"text-align: right;\">\n",
       "      <th></th>\n",
       "      <th>Id</th>\n",
       "      <th>groupId</th>\n",
       "      <th>matchId</th>\n",
       "      <th>assists</th>\n",
       "      <th>boosts</th>\n",
       "      <th>damageDealt</th>\n",
       "      <th>DBNOs</th>\n",
       "      <th>headshotKills</th>\n",
       "      <th>heals</th>\n",
       "      <th>killPlace</th>\n",
       "      <th>...</th>\n",
       "      <th>revives</th>\n",
       "      <th>rideDistance</th>\n",
       "      <th>roadKills</th>\n",
       "      <th>swimDistance</th>\n",
       "      <th>teamKills</th>\n",
       "      <th>vehicleDestroys</th>\n",
       "      <th>walkDistance</th>\n",
       "      <th>weaponsAcquired</th>\n",
       "      <th>winPoints</th>\n",
       "      <th>winPlacePerc</th>\n",
       "    </tr>\n",
       "  </thead>\n",
       "  <tbody>\n",
       "    <tr>\n",
       "      <th>1</th>\n",
       "      <td>eef90569b9d03c</td>\n",
       "      <td>684d5656442f9e</td>\n",
       "      <td>aeb375fc57110c</td>\n",
       "      <td>0</td>\n",
       "      <td>0</td>\n",
       "      <td>91.50000</td>\n",
       "      <td>0</td>\n",
       "      <td>0</td>\n",
       "      <td>0</td>\n",
       "      <td>57</td>\n",
       "      <td>...</td>\n",
       "      <td>0</td>\n",
       "      <td>0.004501</td>\n",
       "      <td>0</td>\n",
       "      <td>11.039062</td>\n",
       "      <td>0</td>\n",
       "      <td>0</td>\n",
       "      <td>1434.0000</td>\n",
       "      <td>5</td>\n",
       "      <td>0</td>\n",
       "      <td>0.640137</td>\n",
       "    </tr>\n",
       "    <tr>\n",
       "      <th>2</th>\n",
       "      <td>1eaf90ac73de72</td>\n",
       "      <td>6a4a42c3245a74</td>\n",
       "      <td>110163d8bb94ae</td>\n",
       "      <td>1</td>\n",
       "      <td>0</td>\n",
       "      <td>68.00000</td>\n",
       "      <td>0</td>\n",
       "      <td>0</td>\n",
       "      <td>0</td>\n",
       "      <td>47</td>\n",
       "      <td>...</td>\n",
       "      <td>0</td>\n",
       "      <td>0.000000</td>\n",
       "      <td>0</td>\n",
       "      <td>0.000000</td>\n",
       "      <td>0</td>\n",
       "      <td>0</td>\n",
       "      <td>161.7500</td>\n",
       "      <td>2</td>\n",
       "      <td>0</td>\n",
       "      <td>0.775391</td>\n",
       "    </tr>\n",
       "    <tr>\n",
       "      <th>3</th>\n",
       "      <td>4616d365dd2853</td>\n",
       "      <td>a930a9c79cd721</td>\n",
       "      <td>f1f1f4ef412d7e</td>\n",
       "      <td>0</td>\n",
       "      <td>0</td>\n",
       "      <td>32.90625</td>\n",
       "      <td>0</td>\n",
       "      <td>0</td>\n",
       "      <td>0</td>\n",
       "      <td>75</td>\n",
       "      <td>...</td>\n",
       "      <td>0</td>\n",
       "      <td>0.000000</td>\n",
       "      <td>0</td>\n",
       "      <td>0.000000</td>\n",
       "      <td>0</td>\n",
       "      <td>0</td>\n",
       "      <td>202.7500</td>\n",
       "      <td>3</td>\n",
       "      <td>0</td>\n",
       "      <td>0.166748</td>\n",
       "    </tr>\n",
       "    <tr>\n",
       "      <th>4</th>\n",
       "      <td>315c96c26c9aac</td>\n",
       "      <td>de04010b3458dd</td>\n",
       "      <td>6dc8ff871e21e6</td>\n",
       "      <td>0</td>\n",
       "      <td>0</td>\n",
       "      <td>100.00000</td>\n",
       "      <td>0</td>\n",
       "      <td>0</td>\n",
       "      <td>0</td>\n",
       "      <td>45</td>\n",
       "      <td>...</td>\n",
       "      <td>0</td>\n",
       "      <td>0.000000</td>\n",
       "      <td>0</td>\n",
       "      <td>0.000000</td>\n",
       "      <td>0</td>\n",
       "      <td>0</td>\n",
       "      <td>49.7500</td>\n",
       "      <td>2</td>\n",
       "      <td>0</td>\n",
       "      <td>0.187500</td>\n",
       "    </tr>\n",
       "    <tr>\n",
       "      <th>5</th>\n",
       "      <td>ff79c12f326506</td>\n",
       "      <td>289a6836a88d27</td>\n",
       "      <td>bac52627a12114</td>\n",
       "      <td>0</td>\n",
       "      <td>0</td>\n",
       "      <td>100.00000</td>\n",
       "      <td>1</td>\n",
       "      <td>1</td>\n",
       "      <td>0</td>\n",
       "      <td>44</td>\n",
       "      <td>...</td>\n",
       "      <td>0</td>\n",
       "      <td>0.000000</td>\n",
       "      <td>0</td>\n",
       "      <td>0.000000</td>\n",
       "      <td>0</td>\n",
       "      <td>0</td>\n",
       "      <td>34.6875</td>\n",
       "      <td>1</td>\n",
       "      <td>0</td>\n",
       "      <td>0.036987</td>\n",
       "    </tr>\n",
       "  </tbody>\n",
       "</table>\n",
       "<p>5 rows × 29 columns</p>\n",
       "</div>"
      ],
      "text/plain": [
       "               Id         groupId         matchId  assists  boosts  \\\n",
       "1  eef90569b9d03c  684d5656442f9e  aeb375fc57110c        0       0   \n",
       "2  1eaf90ac73de72  6a4a42c3245a74  110163d8bb94ae        1       0   \n",
       "3  4616d365dd2853  a930a9c79cd721  f1f1f4ef412d7e        0       0   \n",
       "4  315c96c26c9aac  de04010b3458dd  6dc8ff871e21e6        0       0   \n",
       "5  ff79c12f326506  289a6836a88d27  bac52627a12114        0       0   \n",
       "\n",
       "   damageDealt  DBNOs  headshotKills  heals  killPlace  ...  revives  \\\n",
       "1     91.50000      0              0      0         57  ...        0   \n",
       "2     68.00000      0              0      0         47  ...        0   \n",
       "3     32.90625      0              0      0         75  ...        0   \n",
       "4    100.00000      0              0      0         45  ...        0   \n",
       "5    100.00000      1              1      0         44  ...        0   \n",
       "\n",
       "   rideDistance  roadKills  swimDistance  teamKills vehicleDestroys  \\\n",
       "1      0.004501          0     11.039062          0               0   \n",
       "2      0.000000          0      0.000000          0               0   \n",
       "3      0.000000          0      0.000000          0               0   \n",
       "4      0.000000          0      0.000000          0               0   \n",
       "5      0.000000          0      0.000000          0               0   \n",
       "\n",
       "   walkDistance  weaponsAcquired  winPoints  winPlacePerc  \n",
       "1     1434.0000                5          0      0.640137  \n",
       "2      161.7500                2          0      0.775391  \n",
       "3      202.7500                3          0      0.166748  \n",
       "4       49.7500                2          0      0.187500  \n",
       "5       34.6875                1          0      0.036987  \n",
       "\n",
       "[5 rows x 29 columns]"
      ]
     },
     "execution_count": 11,
     "metadata": {},
     "output_type": "execute_result"
    }
   ],
   "source": [
    "# SUBSET OUR DATA TO ONLY RETAIN RANKED MATCHES\n",
    "# we have some records with -1 values = take the place of NULL\n",
    "## dropping these to subset our dataset & because they represent non-ranked matches\n",
    "\n",
    "pubg_df = pubg_df_stg[(pubg_df_stg.iloc[:,:] != -1).all(axis=1)]\n",
    "pubg_df.head()"
   ]
  },
  {
   "cell_type": "markdown",
   "metadata": {
    "id": "JR4TjCjgtnWb"
   },
   "source": [
    "### Check for duplicate values"
   ]
  },
  {
   "cell_type": "code",
   "execution_count": 12,
   "metadata": {
    "id": "gpv_VcJitu8w"
   },
   "outputs": [
    {
     "data": {
      "text/plain": [
       "False"
      ]
     },
     "execution_count": 12,
     "metadata": {},
     "output_type": "execute_result"
    }
   ],
   "source": [
    "# check for duplicate records\n",
    "pubg_df.duplicated().any()"
   ]
  },
  {
   "cell_type": "markdown",
   "metadata": {
    "id": "u1PlwdO_tzuZ"
   },
   "source": [
    "### Create new quartile variables"
   ]
  },
  {
   "cell_type": "code",
   "execution_count": 13,
   "metadata": {
    "id": "rCQBpDmOvM78"
   },
   "outputs": [
    {
     "name": "stdout",
     "output_type": "stream",
     "text": [
      "Quartile 1 threshold: 0.20\n",
      "Quartile 2 threshold: 0.46\n",
      "Quartile 3 threshold: 0.74\n"
     ]
    }
   ],
   "source": [
    "# GATHER THRESHOLDS FOR US TO SET OUR QARTILES \n",
    "# pull out the winPlacePerc column\n",
    "winPlace = pubg_df.loc[:,'winPlacePerc']\n",
    "\n",
    "# get quartile thresholds for equal allocation |\n",
    "print('Quartile 1 threshold: {:.2f}'.format(winPlace.quantile(0.25)))\n",
    "print('Quartile 2 threshold: {:.2f}'.format(winPlace.quantile(0.5)))\n",
    "print('Quartile 3 threshold: {:.2f}'.format(winPlace.quantile(0.75)))"
   ]
  },
  {
   "cell_type": "code",
   "execution_count": 14,
   "metadata": {
    "id": "HN6-81aLvPLv"
   },
   "outputs": [
    {
     "data": {
      "text/html": [
       "<div>\n",
       "<style scoped>\n",
       "    .dataframe tbody tr th:only-of-type {\n",
       "        vertical-align: middle;\n",
       "    }\n",
       "\n",
       "    .dataframe tbody tr th {\n",
       "        vertical-align: top;\n",
       "    }\n",
       "\n",
       "    .dataframe thead th {\n",
       "        text-align: right;\n",
       "    }\n",
       "</style>\n",
       "<table border=\"1\" class=\"dataframe\">\n",
       "  <thead>\n",
       "    <tr style=\"text-align: right;\">\n",
       "      <th></th>\n",
       "      <th>Id</th>\n",
       "      <th>groupId</th>\n",
       "      <th>matchId</th>\n",
       "      <th>assists</th>\n",
       "      <th>boosts</th>\n",
       "      <th>damageDealt</th>\n",
       "      <th>DBNOs</th>\n",
       "      <th>headshotKills</th>\n",
       "      <th>heals</th>\n",
       "      <th>killPlace</th>\n",
       "      <th>...</th>\n",
       "      <th>swimDistance</th>\n",
       "      <th>teamKills</th>\n",
       "      <th>vehicleDestroys</th>\n",
       "      <th>walkDistance</th>\n",
       "      <th>weaponsAcquired</th>\n",
       "      <th>winPoints</th>\n",
       "      <th>winPlacePerc</th>\n",
       "      <th>quartile</th>\n",
       "      <th>quart_int</th>\n",
       "      <th>quart_binary</th>\n",
       "    </tr>\n",
       "  </thead>\n",
       "  <tbody>\n",
       "    <tr>\n",
       "      <th>1</th>\n",
       "      <td>eef90569b9d03c</td>\n",
       "      <td>684d5656442f9e</td>\n",
       "      <td>aeb375fc57110c</td>\n",
       "      <td>0</td>\n",
       "      <td>0</td>\n",
       "      <td>91.50000</td>\n",
       "      <td>0</td>\n",
       "      <td>0</td>\n",
       "      <td>0</td>\n",
       "      <td>57</td>\n",
       "      <td>...</td>\n",
       "      <td>11.039062</td>\n",
       "      <td>0</td>\n",
       "      <td>0</td>\n",
       "      <td>1434.0000</td>\n",
       "      <td>5</td>\n",
       "      <td>0</td>\n",
       "      <td>0.640137</td>\n",
       "      <td>q3</td>\n",
       "      <td>3</td>\n",
       "      <td>0</td>\n",
       "    </tr>\n",
       "    <tr>\n",
       "      <th>2</th>\n",
       "      <td>1eaf90ac73de72</td>\n",
       "      <td>6a4a42c3245a74</td>\n",
       "      <td>110163d8bb94ae</td>\n",
       "      <td>1</td>\n",
       "      <td>0</td>\n",
       "      <td>68.00000</td>\n",
       "      <td>0</td>\n",
       "      <td>0</td>\n",
       "      <td>0</td>\n",
       "      <td>47</td>\n",
       "      <td>...</td>\n",
       "      <td>0.000000</td>\n",
       "      <td>0</td>\n",
       "      <td>0</td>\n",
       "      <td>161.7500</td>\n",
       "      <td>2</td>\n",
       "      <td>0</td>\n",
       "      <td>0.775391</td>\n",
       "      <td>q4</td>\n",
       "      <td>4</td>\n",
       "      <td>1</td>\n",
       "    </tr>\n",
       "    <tr>\n",
       "      <th>3</th>\n",
       "      <td>4616d365dd2853</td>\n",
       "      <td>a930a9c79cd721</td>\n",
       "      <td>f1f1f4ef412d7e</td>\n",
       "      <td>0</td>\n",
       "      <td>0</td>\n",
       "      <td>32.90625</td>\n",
       "      <td>0</td>\n",
       "      <td>0</td>\n",
       "      <td>0</td>\n",
       "      <td>75</td>\n",
       "      <td>...</td>\n",
       "      <td>0.000000</td>\n",
       "      <td>0</td>\n",
       "      <td>0</td>\n",
       "      <td>202.7500</td>\n",
       "      <td>3</td>\n",
       "      <td>0</td>\n",
       "      <td>0.166748</td>\n",
       "      <td>q1</td>\n",
       "      <td>1</td>\n",
       "      <td>0</td>\n",
       "    </tr>\n",
       "    <tr>\n",
       "      <th>4</th>\n",
       "      <td>315c96c26c9aac</td>\n",
       "      <td>de04010b3458dd</td>\n",
       "      <td>6dc8ff871e21e6</td>\n",
       "      <td>0</td>\n",
       "      <td>0</td>\n",
       "      <td>100.00000</td>\n",
       "      <td>0</td>\n",
       "      <td>0</td>\n",
       "      <td>0</td>\n",
       "      <td>45</td>\n",
       "      <td>...</td>\n",
       "      <td>0.000000</td>\n",
       "      <td>0</td>\n",
       "      <td>0</td>\n",
       "      <td>49.7500</td>\n",
       "      <td>2</td>\n",
       "      <td>0</td>\n",
       "      <td>0.187500</td>\n",
       "      <td>q1</td>\n",
       "      <td>1</td>\n",
       "      <td>0</td>\n",
       "    </tr>\n",
       "    <tr>\n",
       "      <th>5</th>\n",
       "      <td>ff79c12f326506</td>\n",
       "      <td>289a6836a88d27</td>\n",
       "      <td>bac52627a12114</td>\n",
       "      <td>0</td>\n",
       "      <td>0</td>\n",
       "      <td>100.00000</td>\n",
       "      <td>1</td>\n",
       "      <td>1</td>\n",
       "      <td>0</td>\n",
       "      <td>44</td>\n",
       "      <td>...</td>\n",
       "      <td>0.000000</td>\n",
       "      <td>0</td>\n",
       "      <td>0</td>\n",
       "      <td>34.6875</td>\n",
       "      <td>1</td>\n",
       "      <td>0</td>\n",
       "      <td>0.036987</td>\n",
       "      <td>q1</td>\n",
       "      <td>1</td>\n",
       "      <td>0</td>\n",
       "    </tr>\n",
       "  </tbody>\n",
       "</table>\n",
       "<p>5 rows × 32 columns</p>\n",
       "</div>"
      ],
      "text/plain": [
       "               Id         groupId         matchId  assists  boosts  \\\n",
       "1  eef90569b9d03c  684d5656442f9e  aeb375fc57110c        0       0   \n",
       "2  1eaf90ac73de72  6a4a42c3245a74  110163d8bb94ae        1       0   \n",
       "3  4616d365dd2853  a930a9c79cd721  f1f1f4ef412d7e        0       0   \n",
       "4  315c96c26c9aac  de04010b3458dd  6dc8ff871e21e6        0       0   \n",
       "5  ff79c12f326506  289a6836a88d27  bac52627a12114        0       0   \n",
       "\n",
       "   damageDealt  DBNOs  headshotKills  heals  killPlace  ...  swimDistance  \\\n",
       "1     91.50000      0              0      0         57  ...     11.039062   \n",
       "2     68.00000      0              0      0         47  ...      0.000000   \n",
       "3     32.90625      0              0      0         75  ...      0.000000   \n",
       "4    100.00000      0              0      0         45  ...      0.000000   \n",
       "5    100.00000      1              1      0         44  ...      0.000000   \n",
       "\n",
       "   teamKills  vehicleDestroys  walkDistance  weaponsAcquired winPoints  \\\n",
       "1          0                0     1434.0000                5         0   \n",
       "2          0                0      161.7500                2         0   \n",
       "3          0                0      202.7500                3         0   \n",
       "4          0                0       49.7500                2         0   \n",
       "5          0                0       34.6875                1         0   \n",
       "\n",
       "   winPlacePerc  quartile  quart_int  quart_binary  \n",
       "1      0.640137        q3          3             0  \n",
       "2      0.775391        q4          4             1  \n",
       "3      0.166748        q1          1             0  \n",
       "4      0.187500        q1          1             0  \n",
       "5      0.036987        q1          1             0  \n",
       "\n",
       "[5 rows x 32 columns]"
      ]
     },
     "execution_count": 14,
     "metadata": {},
     "output_type": "execute_result"
    }
   ],
   "source": [
    "# create new variable fields to use for our predictions (quartile, quart_int, quart_binary)\n",
    "# we will use quart_binary for our classification task in this mini-lab\n",
    "\n",
    "pubg_df['quartile'] = np.where(pubg_df.winPlacePerc < 0.20, 'q1', \n",
    "                       np.where(pubg_df.winPlacePerc < 0.46, 'q2',\n",
    "                                np.where(pubg_df.winPlacePerc < 0.74, 'q3',\n",
    "                                         np.where(pubg_df.winPlacePerc >= 0.74, 'q4',\n",
    "                                                  'other'))))\n",
    "pubg_df['quart_int'] = np.where(pubg_df.winPlacePerc < 0.20, '1', \n",
    "                       np.where(pubg_df.winPlacePerc < 0.46, '2',\n",
    "                                np.where(pubg_df.winPlacePerc < 0.74, '3',\n",
    "                                         np.where(pubg_df.winPlacePerc >= 0.74, '4',\n",
    "                                                  'other'))))\n",
    "pubg_df['quart_binary'] = np.where(pubg_df.winPlacePerc < 0.74, '0',\n",
    "                                         np.where(pubg_df.winPlacePerc >= 0.74, '1',\n",
    "                                                  'other'))\n",
    "pubg_df.head()"
   ]
  },
  {
   "cell_type": "code",
   "execution_count": 15,
   "metadata": {
    "id": "IeEI3LUDvRLv"
   },
   "outputs": [
    {
     "name": "stdout",
     "output_type": "stream",
     "text": [
      "Percentage of players in Quartile 1: 24.86%\n",
      "Percentage of players in Quartile 2: 25.19%\n",
      "Percentage of players in Quartile 3: 24.55%\n",
      "Percentage of players in Quartile 4: 25.41%\n",
      "Miscategorized quartile values:   0\n"
     ]
    }
   ],
   "source": [
    "# check the spread of our quartiles\n",
    "# make sure they are balanced\n",
    "\n",
    "quartiles = np.append(sorted(pubg_df.quartile.unique()), 'other')\n",
    "e = 1\n",
    "\n",
    "for i in quartiles:\n",
    "    if e < len(quartiles):\n",
    "        count = len(pubg_df[pubg_df.quartile == i])\n",
    "        print('Percentage of players in Quartile {}: {:.2f}%'.format(e, \n",
    "                                                                 (count / (len(pubg_df.quartile))*100)))\n",
    "        e += 1\n",
    "    else:\n",
    "        count = len(pubg_df[pubg_df.quartile == i])\n",
    "        print('Miscategorized quartile values:  ', count)"
   ]
  },
  {
   "cell_type": "markdown",
   "metadata": {
    "id": "gJB_oj3pvTGj"
   },
   "source": [
    "### Remove unuseful variables"
   ]
  },
  {
   "cell_type": "code",
   "execution_count": 16,
   "metadata": {
    "id": "y86AjnzVvXiQ"
   },
   "outputs": [],
   "source": [
    "# remove some unuseful object-datatype variables \n",
    "del pubg_df['Id']\n",
    "del pubg_df['groupId']\n",
    "del pubg_df['matchId']\n",
    "del pubg_df['matchType']"
   ]
  },
  {
   "cell_type": "code",
   "execution_count": 17,
   "metadata": {
    "id": "MDffg2hSvZuM"
   },
   "outputs": [
    {
     "name": "stdout",
     "output_type": "stream",
     "text": [
      "['assists', 'boosts', 'damageDealt', 'DBNOs', 'headshotKills', 'heals', 'killPlace', 'killPoints', 'kills', 'killStreaks', 'longestKill', 'matchDuration', 'maxPlace', 'numGroups', 'rankPoints', 'revives', 'rideDistance', 'roadKills', 'swimDistance', 'teamKills', 'vehicleDestroys', 'walkDistance', 'weaponsAcquired', 'winPoints']\n"
     ]
    }
   ],
   "source": [
    "# FEATURE COLUMN NAMES \n",
    "# make a list of the columns in our df (to be used for models below)\n",
    "\n",
    "cols_df = pubg_df.columns.values.tolist()\n",
    "cols_df.remove('winPlacePerc') # remove target variable 1 (continuous)\n",
    "cols_df.remove('quartile') # remove target variable 2 (categorical)\n",
    "cols_df.remove('quart_int') # remove target variable 2 (numeric representation)\n",
    "cols_df.remove('quart_binary')\n",
    "print(cols_df)"
   ]
  },
  {
   "cell_type": "code",
   "execution_count": 18,
   "metadata": {
    "id": "YBBxyf3-vbNf"
   },
   "outputs": [
    {
     "data": {
      "text/plain": [
       "<AxesSubplot:>"
      ]
     },
     "execution_count": 18,
     "metadata": {},
     "output_type": "execute_result"
    },
    {
     "data": {
      "image/png": "[encoded data removed]",
      "text/plain": [
       "<Figure size 1080x720 with 2 Axes>"
      ]
     },
     "metadata": {
      "needs_background": "light"
     },
     "output_type": "display_data"
    }
   ],
   "source": [
    "cmap = sns.diverging_palette(220, 10, as_cmap=True)\n",
    "fig, ax = plt.subplots(figsize = (15, 10))\n",
    "corrMatrix = pubg_df.corr()\n",
    "sns.heatmap(corrMatrix, ax=ax, annot=True, fmt=\".1f\", cmap=cmap,\n",
    "            mask=np.tril(np.ones_like(corrMatrix, dtype=bool)))"
   ]
  },
  {
   "cell_type": "code",
   "execution_count": 19,
   "metadata": {
    "id": "sQEwYTfbveHX"
   },
   "outputs": [
    {
     "name": "stdout",
     "output_type": "stream",
     "text": [
      "['assists', 'boosts', 'damageDealt', 'DBNOs', 'headshotKills', 'heals', 'killPlace', 'kills', 'killStreaks', 'longestKill', 'matchDuration', 'numGroups', 'rankPoints', 'revives', 'rideDistance', 'roadKills', 'swimDistance', 'teamKills', 'vehicleDestroys', 'walkDistance', 'weaponsAcquired']\n"
     ]
    }
   ],
   "source": [
    "# remove additional variables that are causing extra noise in our model\n",
    "# (specifically, these variables are highly correlated with other variables \n",
    "# which impacts our model's convergence perfomance)\n",
    "\n",
    "cols_df.remove('winPoints') # highly correlated with rankPoints and killPoints\n",
    "cols_df.remove('killPoints') # highly correlated with rabnkPoints and winPoints\n",
    "cols_df.remove('maxPlace') # perfectly correlated with numGroups\n",
    "print(cols_df)\n",
    "\n",
    "# We maintain the rankPoints variable since we subset on this earlier to only work with 'ranked' matches"
   ]
  },
  {
   "cell_type": "markdown",
   "metadata": {},
   "source": [
    "# **2. DATA PREPARATION 2 = NO EDIT**"
   ]
  },
  {
   "cell_type": "markdown",
   "metadata": {},
   "source": [
    "SUBTITLE: FINAL DATA DESCRIPTION\n",
    "\n",
    "*Assignment: Describe the final dataset that is used for classification/regression (include a description of any newly formed variables you created).*"
   ]
  },
  {
   "cell_type": "markdown",
   "metadata": {
    "tags": []
   },
   "source": [
    "## Data definitions"
   ]
  },
  {
   "cell_type": "markdown",
   "metadata": {},
   "source": [
    "The variables of type integer are *assists*, *boosts*, *DBNO*s, *headshotKills*, *heals*, *killPlace*, *killPoints*, *kills*, *killStreaks*, *matchDuration*, *maxPlace*, *numGroups*, *rankPoints*, *revives*, *roadKills*, *teamKills*, *vehicleDestroys*, *weaponsAcquired*, and *winPoints*.\n",
    "\n",
    "·       DBNOs - Number of enemy players knocked. DBNO means “down but not out.” Essentially, “knocked” means to be knocked out. When a player is knocked, they lose their ability to shoot, move quickly, and to hold a gun. Players do not die instantly when knocked, when playing in a group (on a team) - other members of the team can revive a knocked player. (do we need this last line?)\n",
    "\n",
    "·       assists - Number of enemy players this player damaged that were killed by teammates.\n",
    "\n",
    "·       boosts - Number of boost items used. Boost items are things that improve a player’s health, examples are energy drinks, painkillers, and adrenaline syringes.\n",
    "\n",
    "·       damageDealt - Total damage dealt. Note: Self inflicted damage is subtracted.\n",
    "\n",
    "·       headshotKills - Number of enemy players killed with headshots. \n",
    "\n",
    "·       heals - Number of healing items used.\n",
    "·       Id - Player’s Id\n",
    "\n",
    "·       killPlace - Ranking in match of number of enemy players killed.\n",
    "\n",
    "·       killPoints - Kills-based external ranking of player. (Think of this as an Elo ranking where only kills matter.) If there is a value other than -1 in rankPoints, then any 0 in killPoints should be treated as a “None”.\n",
    "\n",
    "·       killStreaks - Max number of enemy players killed in a short amount of time.\n",
    "\n",
    "·       kills - Number of enemy players killed.\n",
    "\n",
    "·       longestKill - Longest distance between player and player killed at time of death. This may be misleading, as downing a player and driving away may lead to a large longestKill stat.\n",
    "\n",
    "·       matchDuration - Duration of match in seconds.\n",
    "\n",
    "·       matchId - ID to identify match. There are no matches that are in both the training and testing set.\n",
    "\n",
    "·       matchType - String identifying the game mode that the data comes from. The standard modes are “solo”, “duo”, “squad”, “solo-fpp”, “duo-fpp”, and “squad-fpp”; other modes are from events or custom matches.\n",
    "\n",
    "·       rankPoints - Elo-like ranking of player. This ranking is inconsistent and is being deprecated in the API’s next version, so use with caution. Value of -1 takes place of “None”.\n",
    "\n",
    "·       revives - Number of times this player revived teammates.\n",
    "\n",
    "·       rideDistance - Total distance traveled in vehicles measured in meters.\n",
    "\n",
    "·       roadKills - Number of kills while in a vehicle.\n",
    "·       swimDistance - Total distance traveled by swimming measured in meters.\n",
    "\n",
    "·       teamKills - Number of times this player killed a teammate.\n",
    "\n",
    "·       vehicleDestroys - Number of vehicles destroyed.\n",
    "\n",
    "·       walkDistance - Total distance traveled on foot measured in meters.\n",
    "\n",
    "·       weaponsAcquired - Number of weapons picked up.\n",
    "\n",
    "·       winPoints - Win-based external ranking of player. (Think of this as an Elo ranking where only winning matters.) If there is a value other than -1 in rankPoints, then any 0 in winPoints should be treated as a “None”.\n",
    "\n",
    "·       groupId - ID to identify a group within a match. If the same group of players plays in different matches, they will have a different groupId each time.\n",
    "\n",
    "·       numGroups - Number of groups we have data for in the match.\n",
    "\n",
    "·       maxPlace - Worst placement we have data for in the match. This may not match with numGroups, as sometimes the data skips over placements.\n",
    "\n",
    "·       winPlacePerc - The target of the regression. This is a continuous value of percentile winning placement, where 1 corresponds to 1st place, and 0 corresponds to last place in the match. It is calculated off of maxPlace, not numGroups, so it is possible to have missing chunks in a match. (Higher is better.)\n",
    "\n",
    "·       quart_binary - The target of the classification. This is a binary analysis of players who placed in the top 25% are given value of 1; the bottom 75% are given value of 0. This feature was created from winPlacePerc."
   ]
  },
  {
   "cell_type": "markdown",
   "metadata": {},
   "source": [
    "*Definitions pulled from Kaggle:* *https://www.kaggle.com/c/pubg-finish-placement-prediction/data* <br />\n",
    "\n",
    "*Note: Additional details added to elaborate on/clarify some of the variables.*\n",
    "\n",
    "*Note: Definitions have been included for all variables in the starting dataset; not all variables are included in the final dataframe used for modeling.*"
   ]
  },
  {
   "cell_type": "markdown",
   "metadata": {
    "id": "rJyw6i3oyJ7J"
   },
   "source": [
    "## Final dataframe for models"
   ]
  },
  {
   "cell_type": "code",
   "execution_count": 20,
   "metadata": {
    "id": "EHne-W-ZyPmW"
   },
   "outputs": [
    {
     "name": "stdout",
     "output_type": "stream",
     "text": [
      "<class 'pandas.core.frame.DataFrame'>\n",
      "Int64Index: 2745155 entries, 1 to 4446965\n",
      "Data columns (total 23 columns):\n",
      " #   Column           Dtype  \n",
      "---  ------           -----  \n",
      " 0   assists          int8   \n",
      " 1   boosts           int8   \n",
      " 2   damageDealt      float16\n",
      " 3   DBNOs            int8   \n",
      " 4   headshotKills    int8   \n",
      " 5   heals            int8   \n",
      " 6   killPlace        int8   \n",
      " 7   kills            int8   \n",
      " 8   killStreaks      int8   \n",
      " 9   longestKill      float16\n",
      " 10  matchDuration    int16  \n",
      " 11  numGroups        int8   \n",
      " 12  rankPoints       int16  \n",
      " 13  revives          int8   \n",
      " 14  rideDistance     float16\n",
      " 15  roadKills        int8   \n",
      " 16  swimDistance     float16\n",
      " 17  teamKills        int8   \n",
      " 18  vehicleDestroys  int8   \n",
      " 19  walkDistance     float16\n",
      " 20  weaponsAcquired  int16  \n",
      " 21  winPlacePerc     float16\n",
      " 22  quart_binary     object \n",
      "dtypes: float16(6), int16(3), int8(13), object(1)\n",
      "memory usage: 123.0+ MB\n"
     ]
    }
   ],
   "source": [
    "temp = pubg_df[cols_df]\n",
    "temp['winPlacePerc'] = pubg_df['winPlacePerc']\n",
    "temp['quart_binary'] = pubg_df['quart_binary']\n",
    "finalDF = temp\n",
    "finalDF.info()"
   ]
  },
  {
   "cell_type": "markdown",
   "metadata": {},
   "source": [
    "The above df.info() confirms that we have at least 30k records and 15 columns in data. We have 2,745,155 records and 21 feature columns—2 response vectors."
   ]
  },
  {
   "cell_type": "markdown",
   "metadata": {
    "id": "_NcpvFMTfnfp"
   },
   "source": [
    "# **3. MODELING AND EVALUATION 1 = NO EDIT**"
   ]
  },
  {
   "cell_type": "markdown",
   "metadata": {},
   "source": [
    "SUBTITLE: EVALUATION METRIC SELECTION \n",
    "\n",
    "*Assignment: Choose and explain the metrics that you will use to evaluate model performance (i.e., accuracy,\n",
    "precision, recall, F-measure, or any metric we have discussed). Why are the measure(s) appropriate for analyzing the results of your modeling? Give a detailed explanation backing up any assertions.*\n",
    "\n",
    "*Note: Need to be sure that we use regression metric for regression task, and classification metric for classification task.*"
   ]
  },
  {
   "cell_type": "markdown",
   "metadata": {},
   "source": [
    "*Note: Accuracy may not be the best metric when we have imbalanced classes (ex: 75%/25%); accuracy metric can be sensitive to class imbalances. Way to address this would be to change the y-value cutoff using class_weight parameter. (This note only for our own reference.)*"
   ]
  },
  {
   "cell_type": "markdown",
   "metadata": {},
   "source": [
    "## Performance metrics"
   ]
  },
  {
   "cell_type": "markdown",
   "metadata": {
    "id": "z7EuAijyQIBS"
   },
   "source": [
    "1. Classification task (quart_binary): We will use accuracy to measure model performance. We chose accuracy since online gambling is primarily concerned with increasing correct bets: both the true-positive and the true-negative rates. This would correspond with accuracy as a prediction metric—a future model could **also** evaluate F1-score to evaluate \"unsafe\" bets.\n",
    "\n",
    "2. Regression task (winPlacePerc): We will use mean absolute error (MAE) requiring a regression model with 10-fold cross-validation. Consequently, this was the same metric for the kaggle competition's QOI. The reason for MAE evaluation is that we are identifying how far each prediction is from reality.\n",
    "useful reference: https://www.analyticsvidhya.com/blog/2021/05/know-the-best-evaluation-metrics-for-your-regression-model/\n"
   ]
  },
  {
   "cell_type": "markdown",
   "metadata": {},
   "source": [
    "# **4. MODELING AND EVALUATION 2 = YES EDIT**"
   ]
  },
  {
   "cell_type": "markdown",
   "metadata": {},
   "source": [
    "SUBTITLE: TRAIN-TEST-VALIDATE SPLIT DATA \n",
    "\n",
    "*Assignment: Choose the method you will use for dividing your data into training and\n",
    "testing splits (i.e., are you using Stratified 10-fold cross validation? Why?). Explain why\n",
    "your chosen method is appropriate or use more than one method as appropriate. For example, if you are using time series data then you should be using continuous training and testing sets across time.*"
   ]
  },
  {
   "cell_type": "markdown",
   "metadata": {
    "id": "nJMILZV-ZAfb"
   },
   "source": [
    "## Train/Test split logic"
   ]
  },
  {
   "cell_type": "markdown",
   "metadata": {
    "id": "b98fUd983qTZ"
   },
   "source": [
    "Our chosen method for splitting the data is the holdout method (train, test, validation split).\n",
    "\n",
    "We have chosen to split our data into 3 parts: a train set, a test set, and a validation set. \n",
    "We will use them as folows:\n",
    "- **train set:** to fit the different models\n",
    "- **validation set:** to assess model performance and for model selection\n",
    "- **test set:** to assess how well our model generalizes to unseen data \n",
    "\n",
    "Why did we decide to split into 3 groups? <br />\n",
    "When we only split into training/testing sets, and continue to assess model performance on the test data, that test data essentially becomes part of our training data, which means that it does not do as good a job of giving us insight into how well our model will generalize to unseen data.\n",
    "\n",
    "\"One disadvatage of the holdout method is that the performance estimate is sensitive to how we partition the training set into the training and validation subsets; the estimate will vary for different samples of the data.\"\n",
    "\n",
    "\n",
    "*Reference: Python Machine Learning - Raschka (p.174)*"
   ]
  },
  {
   "cell_type": "markdown",
   "metadata": {
    "id": "BU9Tela9ZlBd"
   },
   "source": [
    "**Breakdown:** 70% train, 20% validate, 10% test.\n",
    "\n"
   ]
  },
  {
   "cell_type": "markdown",
   "metadata": {
    "id": "Iqu_WzZPsyLG"
   },
   "source": [
    "**Hyperparameter Data:** 10% sample size randomly taken from training data."
   ]
  },
  {
   "cell_type": "markdown",
   "metadata": {},
   "source": [
    "*Resub comments: Following comments are new.*\n",
    "\n",
    "We initially distributed our data into three sets (*training*, *test*, *validate*) and subset the *training* data into a dataset we called *tune*. The *test_train_split()* function was used to randomly sample our data into these three datasets. These are *randomly sampled* from the original dataset (see code block 2 down). This should also exhibit that the dataset was not \"divided in whatever order that [it] came in.\"\n",
    "\n",
    "Our approach was to do 10-fold cross-validation on the subset of train (*i.e.*, \"tune\") for hyperparameter tuning. We will use *GridSearchCV()* with **cv** as a cross-validation object for classification & as the integer 10, \"to specify the number of folds in a (Stratified)KFold.\" <br />\n",
    "*reference: https://scikit-learn.org/stable/modules/generated/sklearn.model_selection.GridSearchCV.html*\n",
    "\n",
    "* In the instance of our *Task 1: Classification*, the estimator is a classifier and our response is binary; therefore, the **StratifiedKFold** function is called as an object. As per the link above, \"splitters are instantiated with shuffle=False so the splits will be the same across calls.\" therefore, we must instantiate an object that will iterate over our 10 folds in order to evaluate model performance on each of the 10 \"hold-out\" sets—while maintaining our specified *random_state*.\n",
    "\n",
    "* For *Task 2: Regression*, the estimator is not a classifier, and our response is not binary; therefore, the **KFold** function is called by setting *cv=10*.\n",
    "\n",
    "We will also perform 10-fold CV to build the actual model on the full training dataset. This method is appropriate in both cases; and while hyperparameter tuning was done on a portion of the training dataset (which could lead to overfitting), we believe that the drastic increase in data size (×9) should offer some protection against bias.\n",
    "\n",
    "Changed *test_train_split() random_state* so results are reproducible (done both times).\n",
    "\n",
    "* The *validate* and *test* datasets were created for final model analysis as our \"hold-out\" sets. These are merely to be used as a 1-fold final analysis to evaluate model performance on completely unseen data.\n",
    "\n",
    "*Do not believe we were required to do <u>nested</u> 10-fold cross validation as part of the hyperparameter tuning.*"
   ]
  },
  {
   "cell_type": "markdown",
   "metadata": {},
   "source": [
    "*Resub code: Next cell has been editied from original submit.*"
   ]
  },
  {
   "cell_type": "code",
   "execution_count": 21,
   "metadata": {
    "id": "Mg5SlMgIytzk"
   },
   "outputs": [
    {
     "name": "stdout",
     "output_type": "stream",
     "text": [
      "Training Data shape:    (1921608, 21)\n",
      "Validating Data shape:  (549031, 21)\n",
      "Test Data shape:        (274516, 21)\n"
     ]
    }
   ],
   "source": [
    "# TRAIN TEST SPLIT\n",
    "# reference: https://datascience.stackexchange.com/questions/15135/train-test-validation-set-splitting-in-sklearn\n",
    "\n",
    "train_ratio = 0.70\n",
    "validation_ratio = 0.20\n",
    "test_ratio = 0.10\n",
    "\n",
    "# creation of feature-space and response-vectors\n",
    "dataX = finalDF.loc[:, cols_df]\n",
    "dataY = finalDF.loc[:, ('winPlacePerc','quart_binary')]\n",
    "\n",
    "# train is now 70% of the entire data set\n",
    "# resub code\n",
    "## EDIT = WILL\n",
    "x_train, x_test, y_train, y_test = train_test_split(dataX, dataY, test_size=(1-train_ratio), random_state=17)\n",
    "\n",
    "# test is now 10% of the initial data set\n",
    "# validation is now 20% of the initial data set \n",
    "x_val, x_test, y_val, y_test = train_test_split(x_test, y_test,\n",
    "                                                test_size=test_ratio/(test_ratio + validation_ratio), random_state=117) \n",
    "\n",
    "print(\"Training Data shape:   \", x_train.shape)\n",
    "print(\"Validating Data shape: \", x_val.shape)\n",
    "print(\"Test Data shape:       \", x_test.shape)"
   ]
  },
  {
   "cell_type": "markdown",
   "metadata": {},
   "source": [
    "*Resub code: next cell is new.*"
   ]
  },
  {
   "cell_type": "code",
   "execution_count": 22,
   "metadata": {},
   "outputs": [
    {
     "name": "stdout",
     "output_type": "stream",
     "text": [
      "Evaluation of Index Selection\n",
      "Head:\n",
      " Int64Index([1764352, 83992, 965563, 1672690, 3041784], dtype='int64') \n",
      "Tail:\n",
      " Int64Index([3198970, 1694316, 2366209, 1797295, 1310957], dtype='int64')\n"
     ]
    }
   ],
   "source": [
    "# resub code\n",
    "print(\"Evaluation of Index Selection\\nHead:\\n\",x_val.head().index,\n",
    "      \"\\nTail:\\n\",x_val.tail().index)\n",
    "\n",
    "# test_train_split has randomized the data order"
   ]
  },
  {
   "cell_type": "code",
   "execution_count": 23,
   "metadata": {
    "id": "JzyrNhvdzzgI"
   },
   "outputs": [
    {
     "name": "stdout",
     "output_type": "stream",
     "text": [
      "Tuning Data shape:  (50000, 21)\n",
      "(697494, 2)\n",
      "(2047661, 2)\n",
      "(12653, 2)\n",
      "(37347, 2)\n"
     ]
    }
   ],
   "source": [
    "indices = x_train.sample(n=50000, replace=False, random_state=17).index\n",
    "x_tune = x_train.loc[indices, :]\n",
    "y_tune = y_train.loc[indices, :]\n",
    "\n",
    "print(\"Tuning Data shape: \", x_tune.shape)\n",
    "print(dataY[dataY.quart_binary=='1'].shape)\n",
    "print(dataY[dataY.quart_binary=='0'].shape)\n",
    "print(y_tune[y_tune.quart_binary=='1'].shape)\n",
    "print(y_tune[y_tune.quart_binary=='0'].shape)"
   ]
  },
  {
   "cell_type": "markdown",
   "metadata": {
    "id": "eTct0S9J5U4R"
   },
   "source": [
    "This distribution between our training data and our tuning data appear fairly symmetric. The tuning data will be used for hyperparameter tuning."
   ]
  },
  {
   "cell_type": "markdown",
   "metadata": {
    "id": "uMvg9mKuZR2N"
   },
   "source": [
    "# **5. MODELING AND EVALUATION 3 = YES EDIT**\n"
   ]
  },
  {
   "cell_type": "markdown",
   "metadata": {},
   "source": [
    "SUBTITLE: BUILD 3 MODELS FOR EACH TASK + HYPERPARAMETER TUNING\n",
    "\n",
    "*Assignment: Create three different classification/regression models for each task (e.g., random forest, KNN, and SVM for task one and the same or different algorithms for task two). Two modeling techniques must be new (but the third could be SVM or logistic regression). Adjust parameters as appropriate to increase generalization performance using your chosen metric. You must investigate different parameters of the algorithms!*"
   ]
  },
  {
   "cell_type": "markdown",
   "metadata": {},
   "source": [
    "*Resub code: CV set equal to 10 for all cross-validations + See \"Task 2: Regression.\"* <br />\n",
    "\n",
    "*Resub comments (modeling and evaluation 3): No edit to section.* <br />\n",
    "\n",
    "*Note: We moved the Task 2 model building and parameter tuning to this section so that it is in appropriate place - no changes were made to the logic in those cells.*"
   ]
  },
  {
   "cell_type": "markdown",
   "metadata": {
    "id": "GGuFIOhg0Swk"
   },
   "source": [
    "## Task 1: Classification"
   ]
  },
  {
   "cell_type": "markdown",
   "metadata": {},
   "source": [
    "### Classification: Model types <br /> \n",
    "* Random Forest\n",
    "* Logistic Regression\n",
    "* Gaussian Naive Bayes"
   ]
  },
  {
   "cell_type": "markdown",
   "metadata": {
    "id": "3Pcorqy15YUI"
   },
   "source": [
    "### Classification: Model hyperparameter tuning"
   ]
  },
  {
   "cell_type": "code",
   "execution_count": 24,
   "metadata": {
    "id": "FXEPY9mP5N0X"
   },
   "outputs": [],
   "source": [
    "from sklearn. neighbors import KNeighborsClassifier\n",
    "from sklearn.naive_bayes import GaussianNB\n",
    "from sklearn.model_selection import StratifiedShuffleSplit\n",
    "\n",
    "\n",
    "pipe = Pipeline([(\"scaler\", StandardScaler()),\n",
    "                (\"classifier\", RandomForestClassifier())])\n",
    "\n",
    "grid_param = [\n",
    "    {\"classifier\": [RandomForestClassifier(random_state=17)],\n",
    "    \"classifier__n_estimators\": [50,100,200],\n",
    "    \"classifier__criterion\":[\"gini\", \"entropy\"],\n",
    "    \"classifier__max_features\": ['auto','sqrt','log2'],\n",
    "    \"classifier__max_depth\": [4,5,6,7,8,9]\n",
    "    },\n",
    "    {\"classifier\": [LogisticRegression(random_state=17)],\n",
    "    \"classifier__penalty\": [\"l2\"],\n",
    "    \"classifier__C\": np.logspace(-1, 4, 8),\n",
    "    \"classifier__solver\":[\"newton-cg\", \"saga\", \"sag\", \"liblinear\"],\n",
    "    \"classifier__max_iter\": [10, 100, 1000]\n",
    "    },\n",
    "    # {\"classifier\": [SVC(random_state=17)],\n",
    "    # \"classifier__kernel\": [\"linear\",\"rbf\",\"sigmoid\"],\n",
    "    # \"classifier__max_iter\": np.logspace(0,3,4),\n",
    "    # \"classifier__C\": np.logspace(-1,4,6),\n",
    "    # \"classifier__gamma\": ['scale','auto']\n",
    "    # },\n",
    "    # {\"classifier\": [KNeighborsClassifier()],\n",
    "    # \"classifier__n_neighbors\": [1, 3, 5],\n",
    "    # \"classifier__weights\": [\"uniform\", \"distance\"],\n",
    "    # \"classifier__algorithm\": [\"auto\", \"brute\"],\n",
    "    # \"classifier__leaf_size\": [0, 10, 20, 30]\n",
    "    # },\n",
    "    {\"classifier\": [GaussianNB()],\n",
    "    \"classifier__var_smoothing\": np.logspace(-11,-4,8)\n",
    "    }\n",
    "]\n",
    "\n",
    "# resub code -- added call to stratified shuffle split\n",
    "sss_object = StratifiedShuffleSplit(n_splits=10, test_size=.1, random_state=117)"
   ]
  },
  {
   "cell_type": "markdown",
   "metadata": {
    "id": "OFKNM5QX6DC_"
   },
   "source": [
    "### Classification: Best model"
   ]
  },
  {
   "cell_type": "markdown",
   "metadata": {
    "id": "2Qp6y8s35ntm"
   },
   "source": [
    "Pick best classifier parameters using gridsearch. \n",
    "We will fit the model on the TUNE data."
   ]
  },
  {
   "cell_type": "code",
   "execution_count": 25,
   "metadata": {
    "id": "Yich6Rtn5jqA"
   },
   "outputs": [],
   "source": [
    "gridsearch = GridSearchCV(pipe, grid_param, cv = sss_object, verbose = 0, n_jobs = -1)\n",
    "best_model = gridsearch.fit(x_tune, y_tune['quart_binary'])"
   ]
  },
  {
   "cell_type": "markdown",
   "metadata": {},
   "source": [
    "*Resub code: Changed wording in next cell to include \"best classification.\"*"
   ]
  },
  {
   "cell_type": "code",
   "execution_count": 26,
   "metadata": {
    "id": "lLAEwbof6Cac"
   },
   "outputs": [
    {
     "name": "stdout",
     "output_type": "stream",
     "text": [
      "Pipeline(steps=[('scaler', StandardScaler()),\n",
      "                ('classifier',\n",
      "                 RandomForestClassifier(max_depth=9, n_estimators=200,\n",
      "                                        random_state=17))])\n",
      "The mean accuracy of the best classification model is: 0.92354\n"
     ]
    }
   ],
   "source": [
    "print(best_model.best_estimator_)\n",
    "print(\"The mean accuracy of the best classification model is:\",best_model.score(x_tune, y_tune['quart_binary']))"
   ]
  },
  {
   "cell_type": "code",
   "execution_count": 27,
   "metadata": {
    "id": "QS1WZNAf6Il1"
   },
   "outputs": [
    {
     "data": {
      "text/html": [
       "<div>\n",
       "<style scoped>\n",
       "    .dataframe tbody tr th:only-of-type {\n",
       "        vertical-align: middle;\n",
       "    }\n",
       "\n",
       "    .dataframe tbody tr th {\n",
       "        vertical-align: top;\n",
       "    }\n",
       "\n",
       "    .dataframe thead th {\n",
       "        text-align: right;\n",
       "    }\n",
       "</style>\n",
       "<table border=\"1\" class=\"dataframe\">\n",
       "  <thead>\n",
       "    <tr style=\"text-align: right;\">\n",
       "      <th></th>\n",
       "      <th>mean_fit_time</th>\n",
       "      <th>std_fit_time</th>\n",
       "      <th>mean_score_time</th>\n",
       "      <th>std_score_time</th>\n",
       "      <th>param_classifier</th>\n",
       "      <th>param_classifier__criterion</th>\n",
       "      <th>param_classifier__max_depth</th>\n",
       "      <th>param_classifier__max_features</th>\n",
       "      <th>param_classifier__n_estimators</th>\n",
       "      <th>param_classifier__C</th>\n",
       "      <th>...</th>\n",
       "      <th>split3_test_score</th>\n",
       "      <th>split4_test_score</th>\n",
       "      <th>split5_test_score</th>\n",
       "      <th>split6_test_score</th>\n",
       "      <th>split7_test_score</th>\n",
       "      <th>split8_test_score</th>\n",
       "      <th>split9_test_score</th>\n",
       "      <th>mean_test_score</th>\n",
       "      <th>std_test_score</th>\n",
       "      <th>rank_test_score</th>\n",
       "    </tr>\n",
       "  </thead>\n",
       "  <tbody>\n",
       "    <tr>\n",
       "      <th>0</th>\n",
       "      <td>2.635391</td>\n",
       "      <td>0.237080</td>\n",
       "      <td>0.075210</td>\n",
       "      <td>0.009392</td>\n",
       "      <td>RandomForestClassifier(max_depth=9, n_estimato...</td>\n",
       "      <td>gini</td>\n",
       "      <td>4</td>\n",
       "      <td>auto</td>\n",
       "      <td>50</td>\n",
       "      <td>NaN</td>\n",
       "      <td>...</td>\n",
       "      <td>0.8908</td>\n",
       "      <td>0.8992</td>\n",
       "      <td>0.9004</td>\n",
       "      <td>0.8998</td>\n",
       "      <td>0.8988</td>\n",
       "      <td>0.8988</td>\n",
       "      <td>0.9050</td>\n",
       "      <td>0.89962</td>\n",
       "      <td>0.003771</td>\n",
       "      <td>193</td>\n",
       "    </tr>\n",
       "    <tr>\n",
       "      <th>1</th>\n",
       "      <td>5.355302</td>\n",
       "      <td>0.394684</td>\n",
       "      <td>0.112101</td>\n",
       "      <td>0.006279</td>\n",
       "      <td>RandomForestClassifier(max_depth=9, n_estimato...</td>\n",
       "      <td>gini</td>\n",
       "      <td>4</td>\n",
       "      <td>auto</td>\n",
       "      <td>100</td>\n",
       "      <td>NaN</td>\n",
       "      <td>...</td>\n",
       "      <td>0.8900</td>\n",
       "      <td>0.8984</td>\n",
       "      <td>0.9034</td>\n",
       "      <td>0.9006</td>\n",
       "      <td>0.8984</td>\n",
       "      <td>0.9002</td>\n",
       "      <td>0.9048</td>\n",
       "      <td>0.89968</td>\n",
       "      <td>0.003821</td>\n",
       "      <td>190</td>\n",
       "    </tr>\n",
       "    <tr>\n",
       "      <th>2</th>\n",
       "      <td>10.223671</td>\n",
       "      <td>0.753379</td>\n",
       "      <td>0.212964</td>\n",
       "      <td>0.024559</td>\n",
       "      <td>RandomForestClassifier(max_depth=9, n_estimato...</td>\n",
       "      <td>gini</td>\n",
       "      <td>4</td>\n",
       "      <td>auto</td>\n",
       "      <td>200</td>\n",
       "      <td>NaN</td>\n",
       "      <td>...</td>\n",
       "      <td>0.8916</td>\n",
       "      <td>0.8996</td>\n",
       "      <td>0.9028</td>\n",
       "      <td>0.9000</td>\n",
       "      <td>0.8970</td>\n",
       "      <td>0.9006</td>\n",
       "      <td>0.9054</td>\n",
       "      <td>0.90032</td>\n",
       "      <td>0.003726</td>\n",
       "      <td>187</td>\n",
       "    </tr>\n",
       "    <tr>\n",
       "      <th>3</th>\n",
       "      <td>2.888578</td>\n",
       "      <td>0.269418</td>\n",
       "      <td>0.077313</td>\n",
       "      <td>0.012213</td>\n",
       "      <td>RandomForestClassifier(max_depth=9, n_estimato...</td>\n",
       "      <td>gini</td>\n",
       "      <td>4</td>\n",
       "      <td>sqrt</td>\n",
       "      <td>50</td>\n",
       "      <td>NaN</td>\n",
       "      <td>...</td>\n",
       "      <td>0.8908</td>\n",
       "      <td>0.8992</td>\n",
       "      <td>0.9004</td>\n",
       "      <td>0.8998</td>\n",
       "      <td>0.8988</td>\n",
       "      <td>0.8988</td>\n",
       "      <td>0.9050</td>\n",
       "      <td>0.89962</td>\n",
       "      <td>0.003771</td>\n",
       "      <td>193</td>\n",
       "    </tr>\n",
       "    <tr>\n",
       "      <th>4</th>\n",
       "      <td>5.617690</td>\n",
       "      <td>0.436246</td>\n",
       "      <td>0.124497</td>\n",
       "      <td>0.012688</td>\n",
       "      <td>RandomForestClassifier(max_depth=9, n_estimato...</td>\n",
       "      <td>gini</td>\n",
       "      <td>4</td>\n",
       "      <td>sqrt</td>\n",
       "      <td>100</td>\n",
       "      <td>NaN</td>\n",
       "      <td>...</td>\n",
       "      <td>0.8900</td>\n",
       "      <td>0.8984</td>\n",
       "      <td>0.9034</td>\n",
       "      <td>0.9006</td>\n",
       "      <td>0.8984</td>\n",
       "      <td>0.9002</td>\n",
       "      <td>0.9048</td>\n",
       "      <td>0.89968</td>\n",
       "      <td>0.003821</td>\n",
       "      <td>190</td>\n",
       "    </tr>\n",
       "    <tr>\n",
       "      <th>...</th>\n",
       "      <td>...</td>\n",
       "      <td>...</td>\n",
       "      <td>...</td>\n",
       "      <td>...</td>\n",
       "      <td>...</td>\n",
       "      <td>...</td>\n",
       "      <td>...</td>\n",
       "      <td>...</td>\n",
       "      <td>...</td>\n",
       "      <td>...</td>\n",
       "      <td>...</td>\n",
       "      <td>...</td>\n",
       "      <td>...</td>\n",
       "      <td>...</td>\n",
       "      <td>...</td>\n",
       "      <td>...</td>\n",
       "      <td>...</td>\n",
       "      <td>...</td>\n",
       "      <td>...</td>\n",
       "      <td>...</td>\n",
       "      <td>...</td>\n",
       "    </tr>\n",
       "    <tr>\n",
       "      <th>207</th>\n",
       "      <td>0.280285</td>\n",
       "      <td>0.038147</td>\n",
       "      <td>0.033301</td>\n",
       "      <td>0.012626</td>\n",
       "      <td>GaussianNB()</td>\n",
       "      <td>NaN</td>\n",
       "      <td>NaN</td>\n",
       "      <td>NaN</td>\n",
       "      <td>NaN</td>\n",
       "      <td>NaN</td>\n",
       "      <td>...</td>\n",
       "      <td>0.8326</td>\n",
       "      <td>0.8464</td>\n",
       "      <td>0.8474</td>\n",
       "      <td>0.8406</td>\n",
       "      <td>0.8372</td>\n",
       "      <td>0.8392</td>\n",
       "      <td>0.8440</td>\n",
       "      <td>0.84366</td>\n",
       "      <td>0.005926</td>\n",
       "      <td>205</td>\n",
       "    </tr>\n",
       "    <tr>\n",
       "      <th>208</th>\n",
       "      <td>0.272187</td>\n",
       "      <td>0.067217</td>\n",
       "      <td>0.030645</td>\n",
       "      <td>0.010966</td>\n",
       "      <td>GaussianNB()</td>\n",
       "      <td>NaN</td>\n",
       "      <td>NaN</td>\n",
       "      <td>NaN</td>\n",
       "      <td>NaN</td>\n",
       "      <td>NaN</td>\n",
       "      <td>...</td>\n",
       "      <td>0.8326</td>\n",
       "      <td>0.8464</td>\n",
       "      <td>0.8474</td>\n",
       "      <td>0.8406</td>\n",
       "      <td>0.8372</td>\n",
       "      <td>0.8392</td>\n",
       "      <td>0.8440</td>\n",
       "      <td>0.84366</td>\n",
       "      <td>0.005926</td>\n",
       "      <td>205</td>\n",
       "    </tr>\n",
       "    <tr>\n",
       "      <th>209</th>\n",
       "      <td>0.251897</td>\n",
       "      <td>0.062341</td>\n",
       "      <td>0.026359</td>\n",
       "      <td>0.005568</td>\n",
       "      <td>GaussianNB()</td>\n",
       "      <td>NaN</td>\n",
       "      <td>NaN</td>\n",
       "      <td>NaN</td>\n",
       "      <td>NaN</td>\n",
       "      <td>NaN</td>\n",
       "      <td>...</td>\n",
       "      <td>0.8326</td>\n",
       "      <td>0.8464</td>\n",
       "      <td>0.8474</td>\n",
       "      <td>0.8406</td>\n",
       "      <td>0.8372</td>\n",
       "      <td>0.8392</td>\n",
       "      <td>0.8440</td>\n",
       "      <td>0.84366</td>\n",
       "      <td>0.005926</td>\n",
       "      <td>205</td>\n",
       "    </tr>\n",
       "    <tr>\n",
       "      <th>210</th>\n",
       "      <td>0.275009</td>\n",
       "      <td>0.048742</td>\n",
       "      <td>0.038915</td>\n",
       "      <td>0.021092</td>\n",
       "      <td>GaussianNB()</td>\n",
       "      <td>NaN</td>\n",
       "      <td>NaN</td>\n",
       "      <td>NaN</td>\n",
       "      <td>NaN</td>\n",
       "      <td>NaN</td>\n",
       "      <td>...</td>\n",
       "      <td>0.8326</td>\n",
       "      <td>0.8464</td>\n",
       "      <td>0.8474</td>\n",
       "      <td>0.8406</td>\n",
       "      <td>0.8372</td>\n",
       "      <td>0.8392</td>\n",
       "      <td>0.8440</td>\n",
       "      <td>0.84366</td>\n",
       "      <td>0.005926</td>\n",
       "      <td>205</td>\n",
       "    </tr>\n",
       "    <tr>\n",
       "      <th>211</th>\n",
       "      <td>0.249753</td>\n",
       "      <td>0.049490</td>\n",
       "      <td>0.028084</td>\n",
       "      <td>0.003817</td>\n",
       "      <td>GaussianNB()</td>\n",
       "      <td>NaN</td>\n",
       "      <td>NaN</td>\n",
       "      <td>NaN</td>\n",
       "      <td>NaN</td>\n",
       "      <td>NaN</td>\n",
       "      <td>...</td>\n",
       "      <td>0.8326</td>\n",
       "      <td>0.8464</td>\n",
       "      <td>0.8474</td>\n",
       "      <td>0.8406</td>\n",
       "      <td>0.8372</td>\n",
       "      <td>0.8392</td>\n",
       "      <td>0.8440</td>\n",
       "      <td>0.84366</td>\n",
       "      <td>0.005926</td>\n",
       "      <td>205</td>\n",
       "    </tr>\n",
       "  </tbody>\n",
       "</table>\n",
       "<p>212 rows × 28 columns</p>\n",
       "</div>"
      ],
      "text/plain": [
       "     mean_fit_time  std_fit_time  mean_score_time  std_score_time  \\\n",
       "0         2.635391      0.237080         0.075210        0.009392   \n",
       "1         5.355302      0.394684         0.112101        0.006279   \n",
       "2        10.223671      0.753379         0.212964        0.024559   \n",
       "3         2.888578      0.269418         0.077313        0.012213   \n",
       "4         5.617690      0.436246         0.124497        0.012688   \n",
       "..             ...           ...              ...             ...   \n",
       "207       0.280285      0.038147         0.033301        0.012626   \n",
       "208       0.272187      0.067217         0.030645        0.010966   \n",
       "209       0.251897      0.062341         0.026359        0.005568   \n",
       "210       0.275009      0.048742         0.038915        0.021092   \n",
       "211       0.249753      0.049490         0.028084        0.003817   \n",
       "\n",
       "                                      param_classifier  \\\n",
       "0    RandomForestClassifier(max_depth=9, n_estimato...   \n",
       "1    RandomForestClassifier(max_depth=9, n_estimato...   \n",
       "2    RandomForestClassifier(max_depth=9, n_estimato...   \n",
       "3    RandomForestClassifier(max_depth=9, n_estimato...   \n",
       "4    RandomForestClassifier(max_depth=9, n_estimato...   \n",
       "..                                                 ...   \n",
       "207                                       GaussianNB()   \n",
       "208                                       GaussianNB()   \n",
       "209                                       GaussianNB()   \n",
       "210                                       GaussianNB()   \n",
       "211                                       GaussianNB()   \n",
       "\n",
       "    param_classifier__criterion param_classifier__max_depth  \\\n",
       "0                          gini                           4   \n",
       "1                          gini                           4   \n",
       "2                          gini                           4   \n",
       "3                          gini                           4   \n",
       "4                          gini                           4   \n",
       "..                          ...                         ...   \n",
       "207                         NaN                         NaN   \n",
       "208                         NaN                         NaN   \n",
       "209                         NaN                         NaN   \n",
       "210                         NaN                         NaN   \n",
       "211                         NaN                         NaN   \n",
       "\n",
       "    param_classifier__max_features param_classifier__n_estimators  \\\n",
       "0                             auto                             50   \n",
       "1                             auto                            100   \n",
       "2                             auto                            200   \n",
       "3                             sqrt                             50   \n",
       "4                             sqrt                            100   \n",
       "..                             ...                            ...   \n",
       "207                            NaN                            NaN   \n",
       "208                            NaN                            NaN   \n",
       "209                            NaN                            NaN   \n",
       "210                            NaN                            NaN   \n",
       "211                            NaN                            NaN   \n",
       "\n",
       "    param_classifier__C  ... split3_test_score split4_test_score  \\\n",
       "0                   NaN  ...            0.8908            0.8992   \n",
       "1                   NaN  ...            0.8900            0.8984   \n",
       "2                   NaN  ...            0.8916            0.8996   \n",
       "3                   NaN  ...            0.8908            0.8992   \n",
       "4                   NaN  ...            0.8900            0.8984   \n",
       "..                  ...  ...               ...               ...   \n",
       "207                 NaN  ...            0.8326            0.8464   \n",
       "208                 NaN  ...            0.8326            0.8464   \n",
       "209                 NaN  ...            0.8326            0.8464   \n",
       "210                 NaN  ...            0.8326            0.8464   \n",
       "211                 NaN  ...            0.8326            0.8464   \n",
       "\n",
       "    split5_test_score split6_test_score split7_test_score  split8_test_score  \\\n",
       "0              0.9004            0.8998            0.8988             0.8988   \n",
       "1              0.9034            0.9006            0.8984             0.9002   \n",
       "2              0.9028            0.9000            0.8970             0.9006   \n",
       "3              0.9004            0.8998            0.8988             0.8988   \n",
       "4              0.9034            0.9006            0.8984             0.9002   \n",
       "..                ...               ...               ...                ...   \n",
       "207            0.8474            0.8406            0.8372             0.8392   \n",
       "208            0.8474            0.8406            0.8372             0.8392   \n",
       "209            0.8474            0.8406            0.8372             0.8392   \n",
       "210            0.8474            0.8406            0.8372             0.8392   \n",
       "211            0.8474            0.8406            0.8372             0.8392   \n",
       "\n",
       "     split9_test_score  mean_test_score  std_test_score  rank_test_score  \n",
       "0               0.9050          0.89962        0.003771              193  \n",
       "1               0.9048          0.89968        0.003821              190  \n",
       "2               0.9054          0.90032        0.003726              187  \n",
       "3               0.9050          0.89962        0.003771              193  \n",
       "4               0.9048          0.89968        0.003821              190  \n",
       "..                 ...              ...             ...              ...  \n",
       "207             0.8440          0.84366        0.005926              205  \n",
       "208             0.8440          0.84366        0.005926              205  \n",
       "209             0.8440          0.84366        0.005926              205  \n",
       "210             0.8440          0.84366        0.005926              205  \n",
       "211             0.8440          0.84366        0.005926              205  \n",
       "\n",
       "[212 rows x 28 columns]"
      ]
     },
     "execution_count": 27,
     "metadata": {},
     "output_type": "execute_result"
    }
   ],
   "source": [
    "df = pd.DataFrame(best_model.cv_results_)\n",
    "df"
   ]
  },
  {
   "cell_type": "markdown",
   "metadata": {
    "id": "51iSpGWd6K2q"
   },
   "source": [
    "### Classification: Best model parameters\n",
    "\n"
   ]
  },
  {
   "cell_type": "code",
   "execution_count": 28,
   "metadata": {
    "id": "jKstiU7m6OmC"
   },
   "outputs": [
    {
     "data": {
      "text/html": [
       "<style  type=\"text/css\" >\n",
       "#T_8ead1_row0_col3,#T_8ead1_row1_col3,#T_8ead1_row2_col3{\n",
       "            width:  250px;\n",
       "        }</style><table id=\"T_8ead1_\" ><thead>    <tr>        <th class=\"blank level0\" ></th>        <th class=\"col_heading level0 col0\" >model</th>        <th class=\"col_heading level0 col1\" >total_fit_time</th>        <th class=\"col_heading level0 col2\" >mean_fit_time</th>        <th class=\"col_heading level0 col3\" >params</th>        <th class=\"col_heading level0 col4\" >mean_test_score</th>    </tr></thead><tbody>\n",
       "                <tr>\n",
       "                        <th id=\"T_8ead1_level0_row0\" class=\"row_heading level0 row0\" >0</th>\n",
       "                        <td id=\"T_8ead1_row0_col0\" class=\"data row0 col0\" >RandomForest</td>\n",
       "                        <td id=\"T_8ead1_row0_col1\" class=\"data row0 col1\" >1051.650265</td>\n",
       "                        <td id=\"T_8ead1_row0_col2\" class=\"data row0 col2\" >20.667572</td>\n",
       "                        <td id=\"T_8ead1_row0_col3\" class=\"data row0 col3\" >{'classifier': RandomForestClassifier(max_depth=9, n_estimators=200, random_state=17), 'classifier__criterion': 'gini', 'classifier__max_depth': 9, 'classifier__max_features': 'log2', 'classifier__n_estimators': 200}</td>\n",
       "                        <td id=\"T_8ead1_row0_col4\" class=\"data row0 col4\" >0.913080</td>\n",
       "            </tr>\n",
       "            <tr>\n",
       "                        <th id=\"T_8ead1_level0_row1\" class=\"row_heading level0 row1\" >1</th>\n",
       "                        <td id=\"T_8ead1_row1_col0\" class=\"data row1 col0\" >LogisticRegression</td>\n",
       "                        <td id=\"T_8ead1_row1_col1\" class=\"data row1 col1\" >144.092836</td>\n",
       "                        <td id=\"T_8ead1_row1_col2\" class=\"data row1 col2\" >3.892477</td>\n",
       "                        <td id=\"T_8ead1_row1_col3\" class=\"data row1 col3\" >{'classifier': LogisticRegression(random_state=17), 'classifier__C': 0.1, 'classifier__max_iter': 100, 'classifier__penalty': 'l2', 'classifier__solver': 'saga'}</td>\n",
       "                        <td id=\"T_8ead1_row1_col4\" class=\"data row1 col4\" >0.906780</td>\n",
       "            </tr>\n",
       "            <tr>\n",
       "                        <th id=\"T_8ead1_level0_row2\" class=\"row_heading level0 row2\" >2</th>\n",
       "                        <td id=\"T_8ead1_row2_col0\" class=\"data row2 col0\" >Gaussian</td>\n",
       "                        <td id=\"T_8ead1_row2_col1\" class=\"data row2 col1\" >2.201212</td>\n",
       "                        <td id=\"T_8ead1_row2_col2\" class=\"data row2 col2\" >0.293877</td>\n",
       "                        <td id=\"T_8ead1_row2_col3\" class=\"data row2 col3\" >{'classifier': GaussianNB(), 'classifier__var_smoothing': 1e-11}</td>\n",
       "                        <td id=\"T_8ead1_row2_col4\" class=\"data row2 col4\" >0.843660</td>\n",
       "            </tr>\n",
       "    </tbody></table>"
      ],
      "text/plain": [
       "<pandas.io.formats.style.Styler at 0x147333f8610>"
      ]
     },
     "execution_count": 28,
     "metadata": {},
     "output_type": "execute_result"
    }
   ],
   "source": [
    "# df = df[df[\"param_classifier\"].str.contains(\"RandomForest\")].sort_values(by=\"mean_test_score\", ascending=False).head(1)]\n",
    "# testing_model = testing[testing['param_classifier'].str.contains(\"RandomForest\")].sort_values(by=\"mean_test_score\", ascending=False).head(1)\n",
    "# testing_model.params\n",
    "\n",
    "df['param_classifier'] = df['param_classifier'].astype(str)\n",
    "\n",
    "clf_result = pd.DataFrame([])\n",
    "model = [\"RandomForest\", \"LogisticRegression\", \"Gaussian\"]\n",
    "\n",
    "for i in model:\n",
    "    df_model = df[df['param_classifier'].str.contains(i)]\n",
    "    df_model[['model']] = i\n",
    "    df_model[['total_fit_time']] = np.sum(df_model[['mean_fit_time']])\n",
    "    df_model = df_model[[\"model\",\"total_fit_time\",\"mean_fit_time\",\"params\", \"mean_test_score\"]].sort_values(\n",
    "        by=\"mean_test_score\", ascending=False).head(1)\n",
    "\n",
    "    clf_result = clf_result.append(df_model, ignore_index = True)\n",
    "\n",
    "clf_result\n",
    "clf_result.style.set_properties(subset=['params'], **{'width': '250px'})"
   ]
  },
  {
   "cell_type": "markdown",
   "metadata": {},
   "source": [
    "## Task 2: Regression "
   ]
  },
  {
   "cell_type": "markdown",
   "metadata": {},
   "source": [
    "*Resub code: Editted the cross-validation object to size 'cv=10'.* <br />\n",
    "*Note: Moved this section up from further down.* <br />"
   ]
  },
  {
   "cell_type": "markdown",
   "metadata": {},
   "source": [
    "### Regression: Model types <br />\n",
    "* Capped Linear Regression (multi-linear regression)\n",
    "* Lasso (lasso regression)\n",
    "* Support Vector Machine (SVR = support vector regression)"
   ]
  },
  {
   "cell_type": "markdown",
   "metadata": {
    "id": "kPWQy6qv-_99"
   },
   "source": [
    "### Regression: Model hyperparameter tuning"
   ]
  },
  {
   "cell_type": "markdown",
   "metadata": {},
   "source": [
    "#### Regression tune: Build pipelines"
   ]
  },
  {
   "cell_type": "code",
   "execution_count": 29,
   "metadata": {},
   "outputs": [],
   "source": [
    "# Make new estimator compatible for use with GridSearchCV() and cross_validate()\n",
    "# Cap predict function for LinearRegression between 0 and 1\n",
    "from sklearn.base import BaseEstimator, RegressorMixin\n",
    "\n",
    "class CappedLinearRegression(LinearRegression):\n",
    "\n",
    "    def predict(self, X):\n",
    "        return np.clip(super(CappedLinearRegression, self).predict(X), 0, 1)\n",
    "# Credit to Dr. Drew: https://github.com/jakemdrew/DataMiningNotebooks/blob/master/07.%20Regression.ipynb"
   ]
  },
  {
   "cell_type": "code",
   "execution_count": 30,
   "metadata": {},
   "outputs": [],
   "source": [
    "from sklearn.metrics import make_scorer, mean_absolute_error\n",
    "from sklearn.svm import SVR\n",
    "\n",
    "#Create scorers for MAE functions\n",
    "mae_scorer = make_scorer(score_func=mean_absolute_error, greater_is_better=False)"
   ]
  },
  {
   "cell_type": "code",
   "execution_count": 31,
   "metadata": {},
   "outputs": [],
   "source": [
    "pipe_lr = Pipeline([(\"scaler\", StandardScaler()),\n",
    "                    (\"classifier\", CappedLinearRegression())])\n",
    "pipe_svr = Pipeline([(\"scaler\", StandardScaler()),\n",
    "                     (\"classifier\", SVR())])\n",
    "pipe_lasso = Pipeline([(\"scaler\", StandardScaler()),\n",
    "                       (\"classifier\", Lasso(random_state=17))])\n",
    "\n",
    "lr_param = [{\"classifier\": [CappedLinearRegression()],\n",
    "             \"classifier__fit_intercept\": [True, False],\n",
    "             \"classifier__normalize\":[True, False]\n",
    "            }\n",
    "]\n",
    "\n",
    "lasso_param = [{\"classifier\": [Lasso()],\n",
    "                \"classifier__alpha\": np.logspace(-2,2,5), #cannot set alpha=0 since that would be linear regression\n",
    "                \"classifier__fit_intercept\": [False, True],\n",
    "                \"classifier__normalize\": [False, True],\n",
    "                \"classifier__max_iter\": np.logspace(0,4,5),\n",
    "                \"classifier__selection\": ['cyclic', 'random']\n",
    "               }\n",
    "]\n",
    "\n",
    "svr_param = [{\"classifier\": [SVR()],\n",
    "              \"classifier__kernel\": [\"linear\",\"rbf\",\"sigmoid\"],\n",
    "              \"classifier__max_iter\": np.logspace(0,3,4),\n",
    "              \"classifier__C\": np.logspace(-1,4,6),\n",
    "              \"classifier__gamma\": ['scale','auto']\n",
    "             }\n",
    "]"
   ]
  },
  {
   "cell_type": "markdown",
   "metadata": {},
   "source": [
    "#### Regression tune: Multi-linear regression"
   ]
  },
  {
   "cell_type": "code",
   "execution_count": 32,
   "metadata": {},
   "outputs": [],
   "source": [
    "gridsearch = GridSearchCV(pipe_lr, lr_param, cv=10, verbose = 0, n_jobs = -1, scoring=mae_scorer)\n",
    "bestLR_model = gridsearch.fit(x_tune, y_tune['winPlacePerc'])"
   ]
  },
  {
   "cell_type": "code",
   "execution_count": 33,
   "metadata": {},
   "outputs": [
    {
     "name": "stdout",
     "output_type": "stream",
     "text": [
      "Pipeline(steps=[('scaler', StandardScaler()),\n",
      "                ('classifier', CappedLinearRegression())])\n",
      "The mean absolute error of the model is: 0.09099472314119339\n"
     ]
    }
   ],
   "source": [
    "print(bestLR_model.best_estimator_)\n",
    "print(\"The mean absolute error of the model is:\",\n",
    "      abs(bestLR_model.score(x_tune, y_tune['winPlacePerc'])))"
   ]
  },
  {
   "cell_type": "markdown",
   "metadata": {},
   "source": [
    "#### Regression tune: Lasso regression"
   ]
  },
  {
   "cell_type": "code",
   "execution_count": 34,
   "metadata": {},
   "outputs": [
    {
     "name": "stderr",
     "output_type": "stream",
     "text": [
      "C:\\ProgramData\\Anaconda3\\lib\\site-packages\\sklearn\\linear_model\\_coordinate_descent.py:530: ConvergenceWarning: Objective did not converge. You might want to increase the number of iterations. Duality gap: 21.88800048828125, tolerance: 0.4736102819442749\n",
      "  model = cd_fast.enet_coordinate_descent(\n"
     ]
    }
   ],
   "source": [
    "gridsearch = GridSearchCV(pipe_lasso, lasso_param, cv = 10, verbose = 0, n_jobs = 8, scoring=mae_scorer)\n",
    "bestLASSO_model = gridsearch.fit(x_tune, y_tune['winPlacePerc'])"
   ]
  },
  {
   "cell_type": "code",
   "execution_count": 35,
   "metadata": {},
   "outputs": [
    {
     "name": "stdout",
     "output_type": "stream",
     "text": [
      "Pipeline(steps=[('scaler', StandardScaler()),\n",
      "                ('classifier', Lasso(alpha=0.01, max_iter=10.0))])\n",
      "The mean absolute error of the model is: 0.10036985576152802\n"
     ]
    }
   ],
   "source": [
    "print(bestLASSO_model.best_estimator_)\n",
    "print(\"The mean absolute error of the model is:\",\n",
    "      abs(bestLASSO_model.score(x_tune, y_tune['winPlacePerc'])))"
   ]
  },
  {
   "cell_type": "markdown",
   "metadata": {},
   "source": [
    "#### Regression tune: Support vector regression"
   ]
  },
  {
   "cell_type": "code",
   "execution_count": 36,
   "metadata": {},
   "outputs": [
    {
     "name": "stderr",
     "output_type": "stream",
     "text": [
      "C:\\ProgramData\\Anaconda3\\lib\\site-packages\\sklearn\\svm\\_base.py:255: ConvergenceWarning: Solver terminated early (max_iter=1000).  Consider pre-processing your data with StandardScaler or MinMaxScaler.\n",
      "  warnings.warn('Solver terminated early (max_iter=%i).'\n"
     ]
    }
   ],
   "source": [
    "gridsearch = GridSearchCV(pipe_svr, svr_param, cv = 10, verbose = 0, n_jobs = -1, scoring=mae_scorer)\n",
    "bestSVR_model = gridsearch.fit(x_tune, y_tune['winPlacePerc'])"
   ]
  },
  {
   "cell_type": "code",
   "execution_count": 37,
   "metadata": {},
   "outputs": [
    {
     "name": "stdout",
     "output_type": "stream",
     "text": [
      "Pipeline(steps=[('scaler', StandardScaler()),\n",
      "                ('classifier', SVR(C=0.1, gamma='auto', max_iter=1000.0))])\n",
      "The mean absolute error of the model is: 0.1152109044340096\n"
     ]
    }
   ],
   "source": [
    "print(bestSVR_model.best_estimator_)\n",
    "print(\"The mean absolute error of the model is:\",\n",
    "      abs(bestSVR_model.score(x_tune, y_tune['winPlacePerc'])))"
   ]
  },
  {
   "cell_type": "markdown",
   "metadata": {},
   "source": [
    "### Regression: Best model parameters"
   ]
  },
  {
   "cell_type": "code",
   "execution_count": 38,
   "metadata": {},
   "outputs": [],
   "source": [
    "df_reg = pd.DataFrame(bestLR_model.cv_results_)\n",
    "df_reg = df_reg.append(pd.DataFrame(bestSVR_model.cv_results_), ignore_index=True)\n",
    "df_reg = df_reg.append(pd.DataFrame(bestLASSO_model.cv_results_), ignore_index = True)"
   ]
  },
  {
   "cell_type": "code",
   "execution_count": 39,
   "metadata": {},
   "outputs": [
    {
     "data": {
      "text/html": [
       "<style  type=\"text/css\" >\n",
       "#T_25307_row0_col3,#T_25307_row1_col3,#T_25307_row2_col3{\n",
       "            width:  250px;\n",
       "        }</style><table id=\"T_25307_\" ><thead>    <tr>        <th class=\"blank level0\" ></th>        <th class=\"col_heading level0 col0\" >model</th>        <th class=\"col_heading level0 col1\" >total_fit_time</th>        <th class=\"col_heading level0 col2\" >mean_fit_time</th>        <th class=\"col_heading level0 col3\" >params</th>        <th class=\"col_heading level0 col4\" >mean_test_score</th>    </tr></thead><tbody>\n",
       "                <tr>\n",
       "                        <th id=\"T_25307_level0_row0\" class=\"row_heading level0 row0\" >0</th>\n",
       "                        <td id=\"T_25307_row0_col0\" class=\"data row0 col0\" >CappedLinearRegression</td>\n",
       "                        <td id=\"T_25307_row0_col1\" class=\"data row0 col1\" >0.515677</td>\n",
       "                        <td id=\"T_25307_row0_col2\" class=\"data row0 col2\" >0.120080</td>\n",
       "                        <td id=\"T_25307_row0_col3\" class=\"data row0 col3\" >{'classifier': CappedLinearRegression(), 'classifier__fit_intercept': True, 'classifier__normalize': False}</td>\n",
       "                        <td id=\"T_25307_row0_col4\" class=\"data row0 col4\" >0.899680</td>\n",
       "            </tr>\n",
       "            <tr>\n",
       "                        <th id=\"T_25307_level0_row1\" class=\"row_heading level0 row1\" >1</th>\n",
       "                        <td id=\"T_25307_row1_col0\" class=\"data row1 col0\" >Lasso</td>\n",
       "                        <td id=\"T_25307_row1_col1\" class=\"data row1 col1\" >23.659231</td>\n",
       "                        <td id=\"T_25307_row1_col2\" class=\"data row1 col2\" >0.123204</td>\n",
       "                        <td id=\"T_25307_row1_col3\" class=\"data row1 col3\" >{'classifier': Lasso(alpha=0.01, max_iter=10.0), 'classifier__alpha': 0.01, 'classifier__fit_intercept': True, 'classifier__max_iter': 10.0, 'classifier__normalize': False, 'classifier__selection': 'cyclic'}</td>\n",
       "                        <td id=\"T_25307_row1_col4\" class=\"data row1 col4\" >0.906220</td>\n",
       "            </tr>\n",
       "            <tr>\n",
       "                        <th id=\"T_25307_level0_row2\" class=\"row_heading level0 row2\" >2</th>\n",
       "                        <td id=\"T_25307_row2_col0\" class=\"data row2 col0\" >SVR</td>\n",
       "                        <td id=\"T_25307_row2_col1\" class=\"data row2 col1\" >446.431769</td>\n",
       "                        <td id=\"T_25307_row2_col2\" class=\"data row2 col2\" >14.962351</td>\n",
       "                        <td id=\"T_25307_row2_col3\" class=\"data row2 col3\" >{'classifier': SVR(C=0.1, gamma='auto', max_iter=1000.0), 'classifier__C': 0.1, 'classifier__gamma': 'auto', 'classifier__kernel': 'rbf', 'classifier__max_iter': 1000.0}</td>\n",
       "                        <td id=\"T_25307_row2_col4\" class=\"data row2 col4\" >0.906140</td>\n",
       "            </tr>\n",
       "    </tbody></table>"
      ],
      "text/plain": [
       "<pandas.io.formats.style.Styler at 0x1473c476250>"
      ]
     },
     "execution_count": 39,
     "metadata": {},
     "output_type": "execute_result"
    }
   ],
   "source": [
    "df_reg['param_classifier'] = df_reg['param_classifier'].astype(str)\n",
    "\n",
    "clf_result = pd.DataFrame([])\n",
    "model = [\"CappedLinearRegression\", \"Lasso\", \"SVR\"]\n",
    "\n",
    "for i in model:\n",
    "    df_model = df_reg[df_reg['param_classifier'].str.contains(i)]\n",
    "    df_model[['model']] = i\n",
    "    df_model[['total_fit_time']] = np.sum(df_model[['mean_fit_time']])\n",
    "    df_model = df_model[[\"model\",\"total_fit_time\",\"mean_fit_time\",\"params\", \"mean_test_score\"]].sort_values(\n",
    "        by=\"mean_test_score\", ascending=False).head(1)\n",
    "    df_model[['mean_test_score']] = abs(df[['mean_test_score']])\n",
    "\n",
    "    clf_result = clf_result.append(df_model, ignore_index = True)\n",
    "\n",
    "clf_result\n",
    "clf_result.style.set_properties(subset=['params'], **{'width': '250px'})"
   ]
  },
  {
   "cell_type": "markdown",
   "metadata": {},
   "source": [
    "*Resub comments: These comments are new.* <br />\n",
    "\n",
    "Looking at the results, we see that Capped Linear Regression (CLR) has the lowest MAE score (Lasso and SVR are slightly higher). Since CLR has the lowest error value & has a total fit time is much lower than for Lasso and SVR, this suggests that CLR is our best model of the three for the regression task. We will perform an additional check next."
   ]
  },
  {
   "cell_type": "markdown",
   "metadata": {},
   "source": [
    "### Regression: Best model"
   ]
  },
  {
   "cell_type": "markdown",
   "metadata": {},
   "source": [
    "Pick best classifier parameters using gridsearch. \n",
    "We will fit the model on the TUNE data. <br />\n",
    "\n",
    "*Resub comments: These comments are new.* <br />\n",
    "Using the best performing parameters for each model, we compare the regression models against each other to determine which model type performs best for the regression task. No review from prof required."
   ]
  },
  {
   "cell_type": "markdown",
   "metadata": {},
   "source": [
    "*Resub code: Next cell is new.*"
   ]
  },
  {
   "cell_type": "code",
   "execution_count": 40,
   "metadata": {},
   "outputs": [],
   "source": [
    "pipe_reg = Pipeline([(\"scaler\", StandardScaler()),\n",
    "                    (\"classifier\", CappedLinearRegression())])\n",
    "\n",
    "grid_param_reg = [\n",
    "    {\"classifier\": [CappedLinearRegression()],\n",
    "    \"classifier__fit_intercept\": [True, False],\n",
    "    \"classifier__normalize\":[True, False]\n",
    "    },\n",
    "    {\"classifier\": [Lasso()],\n",
    "    \"classifier__alpha\": np.logspace(-2,2,5), #cannot set alpha=0 since that would be linear regression\n",
    "    \"classifier__fit_intercept\": [False, True],\n",
    "    \"classifier__normalize\": [False, True],\n",
    "    \"classifier__max_iter\": np.logspace(0,4,5),\n",
    "    \"classifier__selection\": ['cyclic', 'random']\n",
    "    },\n",
    "    {\"classifier\": [SVR()],\n",
    "    \"classifier__kernel\": [\"linear\",\"rbf\",\"sigmoid\"],\n",
    "    \"classifier__max_iter\": np.logspace(0,3,4),\n",
    "    \"classifier__C\": np.logspace(-1,4,6),\n",
    "    \"classifier__gamma\": ['scale','auto']\n",
    "    }\n",
    "]"
   ]
  },
  {
   "cell_type": "markdown",
   "metadata": {},
   "source": [
    "*Resub code: Next cell is new.*"
   ]
  },
  {
   "cell_type": "code",
   "execution_count": 42,
   "metadata": {},
   "outputs": [],
   "source": [
    "# resub code\n",
    "gridsearch_reg = GridSearchCV(pipe_reg, grid_param_reg, cv = 10, verbose = 0, n_jobs = -1)\n",
    "best_model_reg = gridsearch_reg.fit(x_tune, y_tune['winPlacePerc'])"
   ]
  },
  {
   "cell_type": "markdown",
   "metadata": {},
   "source": [
    "*Resub code: Next cell is new.*"
   ]
  },
  {
   "cell_type": "code",
   "execution_count": 43,
   "metadata": {},
   "outputs": [
    {
     "name": "stdout",
     "output_type": "stream",
     "text": [
      "Pipeline(steps=[('scaler', StandardScaler()),\n",
      "                ('classifier', CappedLinearRegression())])\n",
      "The mean absolute error of the model is: 0.8316285340073664\n",
      "The standard deviation of the model is: 0.005180688160412664\n"
     ]
    }
   ],
   "source": [
    "# resub code\n",
    "print(best_model_reg.best_estimator_)\n",
    "print(\"The mean absolute error of the model is:\",best_model_reg.cv_results_['mean_test_score'][best_model_reg.best_index_])\n",
    "print(\"The standard deviation of the model is:\",best_model_reg.cv_results_['std_test_score'][best_model_reg.best_index_])"
   ]
  },
  {
   "cell_type": "markdown",
   "metadata": {},
   "source": [
    "*Resub comments: Next comments have been edited.* <br />\n",
    "This check confirms the best regression model is Capped Linear Regression. Mean absolute error is 0.8316. Standard deviation is 0.005."
   ]
  },
  {
   "cell_type": "code",
   "execution_count": null,
   "metadata": {},
   "outputs": [],
   "source": [
    "# cell included only for reference = from mini-lab original submit (ks)\n",
    "\n",
    "# import time\n",
    "\n",
    "# best_accuracy = 0.0\n",
    "# best_classifier = 0\n",
    "# best_pipline = \"\"\n",
    "\n",
    "# pipe_dic = {0: \"Logistic Regression\", 1: \"Decision Tree\", 2: \"RandomForest\"}\n",
    "\n",
    "# for pipe in pipelines:\n",
    "#     pipe.fit(X_train, y_train)\n",
    "\n",
    "# for i,model in enumerate(pipelines):\n",
    "#     start_time = time.time()\n",
    "#     accuracy = model.score(X_test, y_test)\n",
    "#     print(\"{} Test Accuracy: {}\".format(pipe_dic[i],accuracy))\n",
    "#     if accuracy > best_accuracy:\n",
    "#         best_accuracy = accuracy\n",
    "#         best_pipeline = model\n",
    "#         best_classifier = i\n",
    "#     print(\"--- %s seconds ---\" % (time.time() - start_time))\n",
    "# print(\"Classifier with best accuracy: {} with {}.\".format(pipe_dic[best_classifier], best_accuracy))"
   ]
  },
  {
   "cell_type": "markdown",
   "metadata": {},
   "source": [
    "# **6. MODELING AND EVALUATION 4 = YES EDIT**"
   ]
  },
  {
   "cell_type": "markdown",
   "metadata": {},
   "source": [
    "SUBTITLE: MODEL ANALYSIS + EVALUATION WITH VISUALIZATIONS\n",
    "\n",
    "*Assignment: Analyze the results using your chosen method of evaluation. Use visualizations of the results to bolster the analysis. Explain any visuals and analyze why they are interesting to someone that might use this model.*"
   ]
  },
  {
   "cell_type": "markdown",
   "metadata": {
    "id": "5_io4Ndh6d8D"
   },
   "source": [
    "## Classification model analysis: Confusion matrix with accuracy\n",
    "*Evaluation metric = accuracy*\n"
   ]
  },
  {
   "cell_type": "markdown",
   "metadata": {
    "id": "Z3u3lNWS6R-9"
   },
   "source": [
    "We now fit the models on the TRAIN data, and make predictions on VALIDATE data to generate a confusion matrix for each model.\n",
    "We shift from TUNE to TRAIN so that we can use as much data as possible to fit our model. The TUNE data was created as a subset of the TRAIN data, so that we could have better processing time when performing hyperparameter tuning. "
   ]
  },
  {
   "cell_type": "markdown",
   "metadata": {},
   "source": [
    "### Confusion matrix: Random forest classification"
   ]
  },
  {
   "cell_type": "code",
   "execution_count": 44,
   "metadata": {
    "id": "UcVejIGa6WCH"
   },
   "outputs": [
    {
     "name": "stdout",
     "output_type": "stream",
     "text": [
      "Confusion matrix of Random Forest Classifier is:\n",
      "[[383878  25338]\n",
      " [ 23484 116331]]\n",
      "The score accuracy of Random Forest Classifier is 91.11%\n"
     ]
    }
   ],
   "source": [
    "from sklearn.metrics import confusion_matrix, accuracy_score\n",
    "\n",
    "classifier_rf = RandomForestClassifier(random_state=17, n_estimators=200, criterion=\"entropy\", max_features=\"log2\", max_depth=9)\n",
    "classifier_rf.fit(x_train, y_train['quart_binary'])\n",
    "rf_pred = classifier_rf.predict(x_val)\n",
    "cm_rf = confusion_matrix(y_val['quart_binary'], rf_pred)\n",
    "acc_rf = accuracy_score(y_val['quart_binary'], rf_pred) * 100\n",
    "print(\"Confusion matrix of Random Forest Classifier is:\")\n",
    "print(cm_rf)\n",
    "print(\"The score accuracy of Random Forest Classifier is {}%\".format(round(acc_rf,2)))"
   ]
  },
  {
   "cell_type": "markdown",
   "metadata": {
    "id": "yb0ecYUd6irT"
   },
   "source": [
    "Random forest takes about 14 minutes to run. Accuracy is 91.1%."
   ]
  },
  {
   "cell_type": "code",
   "execution_count": 45,
   "metadata": {
    "id": "b_U6cTFI6j_q"
   },
   "outputs": [
    {
     "data": {
      "image/png": "[encoded data removed]",
      "text/plain": [
       "<Figure size 432x288 with 2 Axes>"
      ]
     },
     "metadata": {
      "needs_background": "light"
     },
     "output_type": "display_data"
    }
   ],
   "source": [
    "# Visualize confusion matrix as a heatmap \n",
    "import seaborn\n",
    "seaborn.heatmap(cm_rf, cmap=\"Blues\")\n",
    "plt.show()"
   ]
  },
  {
   "cell_type": "markdown",
   "metadata": {},
   "source": [
    "*Resub comments: Next comments have been included.* <br />\n",
    "The random forest classifier heat map shows that we have a high rate of identification of class 0 (our bottom 75%) and good identification of our class 1 (out top 25%). The color indication shows that the model doesn't predict 100% into a certain category. (This depiction will be similar for both Logistic Regression and Gaussian Naive Bayes)\n"
   ]
  },
  {
   "cell_type": "markdown",
   "metadata": {},
   "source": [
    "### Confusion matrix: Logistic regression classification"
   ]
  },
  {
   "cell_type": "code",
   "execution_count": 46,
   "metadata": {
    "id": "zbY7Pw7X6um8"
   },
   "outputs": [
    {
     "name": "stderr",
     "output_type": "stream",
     "text": [
      "C:\\ProgramData\\Anaconda3\\lib\\site-packages\\sklearn\\linear_model\\_sag.py:328: ConvergenceWarning: The max_iter was reached which means the coef_ did not converge\n",
      "  warnings.warn(\"The max_iter was reached which means \"\n"
     ]
    },
    {
     "name": "stdout",
     "output_type": "stream",
     "text": [
      "Confusion matrix of Logistic Regression is:\n",
      "[[384554  24662]\n",
      " [ 32304 107511]]\n",
      "The score accuracy of Logistic Regression is 89.62%\n"
     ]
    }
   ],
   "source": [
    "classifier_lr = LogisticRegression(random_state=17, penalty=\"l2\", C=0.1, solver=\"sag\", max_iter=10)\n",
    "classifier_lr.fit(x_train, y_train['quart_binary'])\n",
    "lr_pred = classifier_lr.predict(x_val)\n",
    "cm_lr = confusion_matrix(y_val['quart_binary'], lr_pred)\n",
    "acc_lr = accuracy_score(y_val['quart_binary'], lr_pred) * 100\n",
    "print(\"Confusion matrix of Logistic Regression is:\")\n",
    "print(cm_lr)\n",
    "print(\"The score accuracy of Logistic Regression is {}%\".format(round(acc_lr,2)))"
   ]
  },
  {
   "cell_type": "markdown",
   "metadata": {
    "id": "KcHeXoiW6xfp"
   },
   "source": [
    "Logistic regression takes about 20 seconds to run. Accuracy is 89.7%."
   ]
  },
  {
   "cell_type": "code",
   "execution_count": 47,
   "metadata": {
    "id": "E94ybxLE7FJw"
   },
   "outputs": [
    {
     "data": {
      "image/png": "[encoded data removed]",
      "text/plain": [
       "<Figure size 432x288 with 2 Axes>"
      ]
     },
     "metadata": {
      "needs_background": "light"
     },
     "output_type": "display_data"
    }
   ],
   "source": [
    "# Visualize confusion matrix as a heatmap \n",
    "import seaborn\n",
    "seaborn.heatmap(cm_lr, cmap=\"Blues\")\n",
    "plt.show()"
   ]
  },
  {
   "cell_type": "markdown",
   "metadata": {},
   "source": [
    "*Resub comments: Next comments have been included.* <br />\n",
    "Logistic regression heat map shows strong correct identification of both our classes."
   ]
  },
  {
   "cell_type": "markdown",
   "metadata": {
    "id": "UX-Pj2MT7HyA"
   },
   "source": [
    "### Confusion matrix: Gaussian naive bayes classification"
   ]
  },
  {
   "cell_type": "code",
   "execution_count": 48,
   "metadata": {
    "id": "xK_u59Ty7HCq"
   },
   "outputs": [
    {
     "name": "stdout",
     "output_type": "stream",
     "text": [
      "Confusion matrix of Naive Bayes is:\n",
      "[[363829  45387]\n",
      " [ 43294  96521]]\n",
      "The score accuracy of Naive Bayes is 83.85%\n"
     ]
    }
   ],
   "source": [
    "classifier_gnb = GaussianNB()\n",
    "classifier_gnb.fit(x_train, y_train['quart_binary'])\n",
    "gnb_pred = classifier_gnb.predict(x_val)\n",
    "cm_gnb = confusion_matrix(y_val['quart_binary'], gnb_pred)\n",
    "acc_gnb = accuracy_score(y_val['quart_binary'], gnb_pred) * 100\n",
    "print(\"Confusion matrix of Naive Bayes is:\")\n",
    "print(cm_gnb)\n",
    "print(\"The score accuracy of Naive Bayes is {}%\".format(round(acc_gnb,2)))"
   ]
  },
  {
   "cell_type": "markdown",
   "metadata": {
    "id": "DuWdVCEs7oPX"
   },
   "source": [
    "Gaussian naive bayes takes about 6 seconds to run. Accuracy is 83.9%."
   ]
  },
  {
   "cell_type": "markdown",
   "metadata": {},
   "source": [
    "*Resub code: Next cell is new.*"
   ]
  },
  {
   "cell_type": "code",
   "execution_count": 49,
   "metadata": {},
   "outputs": [
    {
     "data": {
      "image/png": "[encoded data removed]",
      "text/plain": [
       "<Figure size 432x288 with 2 Axes>"
      ]
     },
     "metadata": {
      "needs_background": "light"
     },
     "output_type": "display_data"
    }
   ],
   "source": [
    "# resub code \n",
    "# Visualize confusion matrix as a heatmap \n",
    "import seaborn\n",
    "seaborn.heatmap(cm_gnb, cmap=\"Blues\")\n",
    "plt.show()"
   ]
  },
  {
   "cell_type": "markdown",
   "metadata": {},
   "source": [
    "*Resub comments: Next comments have been included.* <br />\n",
    "Gaussian naive bayes shows strong correct identification of both our classes.\n",
    "\n",
    "Final analysis of heat maps: these are important tools (along with the confusion matrices) to evaluate that we are not predicting 100% into a certain category. It's also an easily understood depiction for problem classifications (particularly when dealing with multiclass prediction) for identifying over-classification of certain classes. In the case of binary classification, it is useful to ensure that we don't have high occurrence of false positives or false negatives."
   ]
  },
  {
   "cell_type": "markdown",
   "metadata": {
    "id": "uib9iXLO8DWg"
   },
   "source": [
    "## Classification model evaluation: ROC Curve"
   ]
  },
  {
   "cell_type": "markdown",
   "metadata": {
    "id": "UWS0eNnA8JE8"
   },
   "source": [
    "### ROC Curve: Random forest classification"
   ]
  },
  {
   "cell_type": "code",
   "execution_count": 50,
   "metadata": {
    "id": "HNmSTcbp8Ggy"
   },
   "outputs": [
    {
     "data": {
      "image/png": "[encoded data removed]",
      "text/plain": [
       "<Figure size 432x288 with 1 Axes>"
      ]
     },
     "metadata": {
      "needs_background": "light"
     },
     "output_type": "display_data"
    }
   ],
   "source": [
    "# ROC CURVE\n",
    "\n",
    "import matplotlib.pyplot as plt\n",
    "import numpy as np\n",
    "from numpy import array \n",
    "from sklearn import metrics\n",
    "\n",
    "# Labels are the values we want to predict\n",
    "rf_labels = np.array(y_val['quart_binary'])\n",
    "\n",
    "# this is a little repetitive (we already fit above)\n",
    "# keeping logic for future reference\n",
    "\n",
    "# # commenting out - we already ran above\n",
    "# # Instantiate model using values from our gridsearch best model\n",
    "# classifier_rf = RandomForestClassifier(random_state=17, n_estimators=200, criterion=\"entropy\", max_features=\"log2\", max_depth=9)\n",
    "\n",
    "# # commenting out - we already ran above\n",
    "# # Fit the model on training data \n",
    "# classifier_rf.fit(x_train, y_train['quart_binary'])\n",
    "\n",
    "# Use the forest's predict method on the validate data\n",
    "# store as an array so we can plot on ROC curve \n",
    "# rf_pred_stg = np.array(rf_pred.predict(x_val))\n",
    "\n",
    "# need to store our predictions in different format so that the ROC curve will plot \n",
    "rf_predictions = np.stack(rf_pred).astype(None)\n",
    "\n",
    "rf_fpr, rf_tpr, rf_thresholds = metrics.roc_curve(rf_labels, rf_predictions, pos_label='1')\n",
    "\n",
    "rf_roc_auc = metrics.auc(rf_fpr, rf_tpr)\n",
    "rf_display = metrics.RocCurveDisplay(fpr=rf_fpr, tpr=rf_tpr, roc_auc=rf_roc_auc,\n",
    "                                   estimator_name='example estimator')\n",
    "rf_display.plot()\n",
    "\n",
    "plt.show()"
   ]
  },
  {
   "cell_type": "markdown",
   "metadata": {},
   "source": [
    "*Resub comments: Next comments have been included.* <br />\n",
    "The area under the curve (AUC) graphic comparing *False Positive Rate* (FPR) and *True Positive Rate* (TPR) can be thought of as a plot of the predictive power for the classification model. This analysis provides a means to select the most (potentially) optimal model. Because the AUC for our Random Forest model is highest, we expect this to provide the best classification on unseen data.\n",
    "\n",
    "The \"elbow\" is also a good tell as to where we should put our expectations for FPR in order achieve smaller returns on our accuracies. However, different business models may prioritize higher TPR and be willing to allow increased FPR. We would leave this up to the business analyst team."
   ]
  },
  {
   "cell_type": "markdown",
   "metadata": {
    "id": "AC-cOWUV8PSl"
   },
   "source": [
    "### ROC Curve: Logistic regression classification"
   ]
  },
  {
   "cell_type": "code",
   "execution_count": 51,
   "metadata": {
    "id": "TC0HX-ep8UD8"
   },
   "outputs": [],
   "source": [
    "# get parameters for best performing models into a list\n",
    "df_classifier = df.join(pd.DataFrame(df.pop('params').tolist()).fillna(0))\n",
    "df_classifier['classifier'] = df_classifier['classifier'].astype(str)"
   ]
  },
  {
   "cell_type": "code",
   "execution_count": 52,
   "metadata": {
    "id": "TPipaRsI8WOW"
   },
   "outputs": [
    {
     "data": {
      "text/html": [
       "<style  type=\"text/css\" >\n",
       "#T_11c8a_row0_col1{\n",
       "            width:  300px;\n",
       "        }</style><table id=\"T_11c8a_\" ><thead>    <tr>        <th class=\"blank level0\" ></th>        <th class=\"col_heading level0 col0\" >mean_test_score</th>        <th class=\"col_heading level0 col1\" >param_classifier</th>        <th class=\"col_heading level0 col2\" >classifier__penalty</th>        <th class=\"col_heading level0 col3\" >classifier__C</th>        <th class=\"col_heading level0 col4\" >classifier__solver</th>        <th class=\"col_heading level0 col5\" >classifier__max_iter</th>    </tr></thead><tbody>\n",
       "                <tr>\n",
       "                        <th id=\"T_11c8a_level0_row0\" class=\"row_heading level0 row0\" >113</th>\n",
       "                        <td id=\"T_11c8a_row0_col0\" class=\"data row0 col0\" >0.906780</td>\n",
       "                        <td id=\"T_11c8a_row0_col1\" class=\"data row0 col1\" >LogisticRegression(random_state=17)</td>\n",
       "                        <td id=\"T_11c8a_row0_col2\" class=\"data row0 col2\" >l2</td>\n",
       "                        <td id=\"T_11c8a_row0_col3\" class=\"data row0 col3\" >0.100000</td>\n",
       "                        <td id=\"T_11c8a_row0_col4\" class=\"data row0 col4\" >saga</td>\n",
       "                        <td id=\"T_11c8a_row0_col5\" class=\"data row0 col5\" >100.000000</td>\n",
       "            </tr>\n",
       "    </tbody></table>"
      ],
      "text/plain": [
       "<pandas.io.formats.style.Styler at 0x147bbf18b50>"
      ]
     },
     "execution_count": 52,
     "metadata": {},
     "output_type": "execute_result"
    }
   ],
   "source": [
    "# get parameters for logistic regression model with best performance\n",
    "df_lr = df_classifier[df_classifier['classifier'].str.contains(\"LogisticRegression\")]\n",
    "df_lr = df_lr[[\"mean_test_score\",\"param_classifier\",\"classifier__penalty\",\"classifier__C\",\"classifier__solver\",\"classifier__max_iter\"]].sort_values(by=\"mean_test_score\", ascending=False).head(1)\n",
    "df_lr\n",
    "df_lr.style.set_properties(subset=['param_classifier'], **{'width': '300px'})"
   ]
  },
  {
   "cell_type": "code",
   "execution_count": 53,
   "metadata": {
    "id": "LZ3iNDDt8ZlX"
   },
   "outputs": [
    {
     "data": {
      "image/png": "[encoded data removed]",
      "text/plain": [
       "<Figure size 432x288 with 1 Axes>"
      ]
     },
     "metadata": {
      "needs_background": "light"
     },
     "output_type": "display_data"
    }
   ],
   "source": [
    "# ROC CURVE FOR LOGISTIC REGRESSION\n",
    "\n",
    "# this is a little repetitive (we already fit above)\n",
    "# keeping logic for future reference\n",
    "\n",
    "# # libraries already loaded above \n",
    "# import matplotlib.pyplot as plt\n",
    "# import numpy as np\n",
    "# from numpy import array \n",
    "# from sklearn import metrics\n",
    "\n",
    "# Labels are the values we want to predict\n",
    "logreg_labels = np.array(y_val['quart_binary'])\n",
    "\n",
    "# # Instantiate model using values from our gridsearch best model\n",
    "# logreg = LogisticRegression(random_state=17, penalty=\"l2\", C=0.1, solver=\"sag\", max_iter=10)\n",
    "\n",
    "# # commenting out - we already ran above\n",
    "# # Fit the model on training data\n",
    "# logreg.fit(x_train, y_train['quart_binary'])\n",
    "\n",
    "# # commenting out - we already ran above\n",
    "# # Predict method on the test data\n",
    "# # store as an array so we can plot on ROC curve \n",
    "# lr_pred = np.array(logreg.predict(x_val))\n",
    "\n",
    "# need to store our predictions in different format so that the ROC curve will plot \n",
    "logreg_predictions = np.stack(lr_pred).astype(None)\n",
    "\n",
    "logreg_fpr, logreg_tpr, logreg_thresholds = metrics.roc_curve(logreg_labels, logreg_predictions, pos_label='1')\n",
    "\n",
    "logreg_roc_auc = metrics.auc(logreg_fpr, logreg_tpr)\n",
    "logreg_display = metrics.RocCurveDisplay(fpr=logreg_fpr, tpr=logreg_tpr, roc_auc=logreg_roc_auc,\n",
    "                                   estimator_name='example estimator')\n",
    "logreg_display.plot()\n",
    "\n",
    "plt.show()"
   ]
  },
  {
   "cell_type": "markdown",
   "metadata": {},
   "source": [
    "*Resub comments: Next comments have been included.* <br />\n",
    "With a slightly lower AUC, the logistic regression model is outperformed by the random forest model."
   ]
  },
  {
   "cell_type": "markdown",
   "metadata": {
    "id": "8I72ch8n8b_D"
   },
   "source": [
    "### ROC Curve: Gaussian naive bayes classification"
   ]
  },
  {
   "cell_type": "code",
   "execution_count": 54,
   "metadata": {
    "id": "5ygd2IUh8hNU"
   },
   "outputs": [
    {
     "data": {
      "text/html": [
       "<style  type=\"text/css\" >\n",
       "#T_2c2cd_row0_col4{\n",
       "            width:  300px;\n",
       "        }</style><table id=\"T_2c2cd_\" ><thead>    <tr>        <th class=\"blank level0\" ></th>        <th class=\"col_heading level0 col0\" >mean_fit_time</th>        <th class=\"col_heading level0 col1\" >std_fit_time</th>        <th class=\"col_heading level0 col2\" >mean_score_time</th>        <th class=\"col_heading level0 col3\" >std_score_time</th>        <th class=\"col_heading level0 col4\" >param_classifier</th>        <th class=\"col_heading level0 col5\" >param_classifier__criterion</th>        <th class=\"col_heading level0 col6\" >param_classifier__max_depth</th>        <th class=\"col_heading level0 col7\" >param_classifier__max_features</th>        <th class=\"col_heading level0 col8\" >param_classifier__n_estimators</th>        <th class=\"col_heading level0 col9\" >param_classifier__C</th>        <th class=\"col_heading level0 col10\" >param_classifier__max_iter</th>        <th class=\"col_heading level0 col11\" >param_classifier__penalty</th>        <th class=\"col_heading level0 col12\" >param_classifier__solver</th>        <th class=\"col_heading level0 col13\" >param_classifier__var_smoothing</th>        <th class=\"col_heading level0 col14\" >split0_test_score</th>        <th class=\"col_heading level0 col15\" >split1_test_score</th>        <th class=\"col_heading level0 col16\" >split2_test_score</th>        <th class=\"col_heading level0 col17\" >split3_test_score</th>        <th class=\"col_heading level0 col18\" >split4_test_score</th>        <th class=\"col_heading level0 col19\" >split5_test_score</th>        <th class=\"col_heading level0 col20\" >split6_test_score</th>        <th class=\"col_heading level0 col21\" >split7_test_score</th>        <th class=\"col_heading level0 col22\" >split8_test_score</th>        <th class=\"col_heading level0 col23\" >split9_test_score</th>        <th class=\"col_heading level0 col24\" >mean_test_score</th>        <th class=\"col_heading level0 col25\" >std_test_score</th>        <th class=\"col_heading level0 col26\" >rank_test_score</th>        <th class=\"col_heading level0 col27\" >classifier</th>        <th class=\"col_heading level0 col28\" >classifier__criterion</th>        <th class=\"col_heading level0 col29\" >classifier__max_depth</th>        <th class=\"col_heading level0 col30\" >classifier__max_features</th>        <th class=\"col_heading level0 col31\" >classifier__n_estimators</th>        <th class=\"col_heading level0 col32\" >classifier__C</th>        <th class=\"col_heading level0 col33\" >classifier__max_iter</th>        <th class=\"col_heading level0 col34\" >classifier__penalty</th>        <th class=\"col_heading level0 col35\" >classifier__solver</th>        <th class=\"col_heading level0 col36\" >classifier__var_smoothing</th>    </tr></thead><tbody>\n",
       "                <tr>\n",
       "                        <th id=\"T_2c2cd_level0_row0\" class=\"row_heading level0 row0\" >204</th>\n",
       "                        <td id=\"T_2c2cd_row0_col0\" class=\"data row0 col0\" >0.293877</td>\n",
       "                        <td id=\"T_2c2cd_row0_col1\" class=\"data row0 col1\" >0.094663</td>\n",
       "                        <td id=\"T_2c2cd_row0_col2\" class=\"data row0 col2\" >0.033689</td>\n",
       "                        <td id=\"T_2c2cd_row0_col3\" class=\"data row0 col3\" >0.011444</td>\n",
       "                        <td id=\"T_2c2cd_row0_col4\" class=\"data row0 col4\" >GaussianNB()</td>\n",
       "                        <td id=\"T_2c2cd_row0_col5\" class=\"data row0 col5\" >nan</td>\n",
       "                        <td id=\"T_2c2cd_row0_col6\" class=\"data row0 col6\" >nan</td>\n",
       "                        <td id=\"T_2c2cd_row0_col7\" class=\"data row0 col7\" >nan</td>\n",
       "                        <td id=\"T_2c2cd_row0_col8\" class=\"data row0 col8\" >nan</td>\n",
       "                        <td id=\"T_2c2cd_row0_col9\" class=\"data row0 col9\" >nan</td>\n",
       "                        <td id=\"T_2c2cd_row0_col10\" class=\"data row0 col10\" >nan</td>\n",
       "                        <td id=\"T_2c2cd_row0_col11\" class=\"data row0 col11\" >nan</td>\n",
       "                        <td id=\"T_2c2cd_row0_col12\" class=\"data row0 col12\" >nan</td>\n",
       "                        <td id=\"T_2c2cd_row0_col13\" class=\"data row0 col13\" >0.000000</td>\n",
       "                        <td id=\"T_2c2cd_row0_col14\" class=\"data row0 col14\" >0.852800</td>\n",
       "                        <td id=\"T_2c2cd_row0_col15\" class=\"data row0 col15\" >0.845800</td>\n",
       "                        <td id=\"T_2c2cd_row0_col16\" class=\"data row0 col16\" >0.850600</td>\n",
       "                        <td id=\"T_2c2cd_row0_col17\" class=\"data row0 col17\" >0.832600</td>\n",
       "                        <td id=\"T_2c2cd_row0_col18\" class=\"data row0 col18\" >0.846400</td>\n",
       "                        <td id=\"T_2c2cd_row0_col19\" class=\"data row0 col19\" >0.847400</td>\n",
       "                        <td id=\"T_2c2cd_row0_col20\" class=\"data row0 col20\" >0.840600</td>\n",
       "                        <td id=\"T_2c2cd_row0_col21\" class=\"data row0 col21\" >0.837200</td>\n",
       "                        <td id=\"T_2c2cd_row0_col22\" class=\"data row0 col22\" >0.839200</td>\n",
       "                        <td id=\"T_2c2cd_row0_col23\" class=\"data row0 col23\" >0.844000</td>\n",
       "                        <td id=\"T_2c2cd_row0_col24\" class=\"data row0 col24\" >0.843660</td>\n",
       "                        <td id=\"T_2c2cd_row0_col25\" class=\"data row0 col25\" >0.005926</td>\n",
       "                        <td id=\"T_2c2cd_row0_col26\" class=\"data row0 col26\" >205</td>\n",
       "                        <td id=\"T_2c2cd_row0_col27\" class=\"data row0 col27\" >GaussianNB()</td>\n",
       "                        <td id=\"T_2c2cd_row0_col28\" class=\"data row0 col28\" >0</td>\n",
       "                        <td id=\"T_2c2cd_row0_col29\" class=\"data row0 col29\" >0.000000</td>\n",
       "                        <td id=\"T_2c2cd_row0_col30\" class=\"data row0 col30\" >0</td>\n",
       "                        <td id=\"T_2c2cd_row0_col31\" class=\"data row0 col31\" >0.000000</td>\n",
       "                        <td id=\"T_2c2cd_row0_col32\" class=\"data row0 col32\" >0.000000</td>\n",
       "                        <td id=\"T_2c2cd_row0_col33\" class=\"data row0 col33\" >0.000000</td>\n",
       "                        <td id=\"T_2c2cd_row0_col34\" class=\"data row0 col34\" >0</td>\n",
       "                        <td id=\"T_2c2cd_row0_col35\" class=\"data row0 col35\" >0</td>\n",
       "                        <td id=\"T_2c2cd_row0_col36\" class=\"data row0 col36\" >0.000000</td>\n",
       "            </tr>\n",
       "    </tbody></table>"
      ],
      "text/plain": [
       "<pandas.io.formats.style.Styler at 0x147c8d3c3a0>"
      ]
     },
     "execution_count": 54,
     "metadata": {},
     "output_type": "execute_result"
    }
   ],
   "source": [
    "# get parameters for SVM(support vector machine)\n",
    "df_lr = df_classifier[df_classifier['classifier'].str.contains(\"Gaussian\")]\n",
    "df_lr = df_lr.sort_values(by=\"mean_test_score\", ascending=False).head(1)\n",
    "df_lr\n",
    "df_lr.style.set_properties(subset=['param_classifier'], **{'width': '300px'})"
   ]
  },
  {
   "cell_type": "code",
   "execution_count": 55,
   "metadata": {
    "id": "9cvNqRBV8i9q"
   },
   "outputs": [
    {
     "data": {
      "image/png": "[encoded data removed]",
      "text/plain": [
       "<Figure size 432x288 with 1 Axes>"
      ]
     },
     "metadata": {
      "needs_background": "light"
     },
     "output_type": "display_data"
    }
   ],
   "source": [
    "# ROC CURVE FOR GAUSSIAN NAIVE BAYES\n",
    "\n",
    "# this is a little repetitive (we already fit above)\n",
    "# keeping logic for future reference\n",
    "\n",
    "# # libraries already loaded above \n",
    "# import matplotlib.pyplot as plt\n",
    "# import numpy as np\n",
    "# from numpy import array \n",
    "# from sklearn import metrics\n",
    "\n",
    "# Labels are the values we want to predict\n",
    "gnb_labels = np.array(y_val['quart_binary'])\n",
    "\n",
    "# Instantiate model using values from our gridsearch best model\n",
    "# classifier_gnb = GaussianNB()\n",
    "\n",
    "# # commenting out - we already ran above\n",
    "# # Fit the model on training data\n",
    "# classifier_gnb.fit(x_train, y_train['quart_binary'])\n",
    "\n",
    "# # Predict on the validate data\n",
    "# # store as an array so we can plot on ROC curve \n",
    "# gnb_pred_stg = np.array(classifier_gnb.predict(x_val))\n",
    "\n",
    "# need to store our predictions in different format so that the ROC curve will plot \n",
    "gnb_predictions = np.stack(gnb_pred).astype(None)\n",
    "\n",
    "gnb_fpr, gnb_tpr, gnb_thresholds = metrics.roc_curve(gnb_labels, gnb_predictions, pos_label='1')\n",
    "\n",
    "gnb_roc_auc = metrics.auc(gnb_fpr, gnb_tpr)\n",
    "display = metrics.RocCurveDisplay(fpr=gnb_fpr, tpr=gnb_tpr, roc_auc=gnb_roc_auc,\n",
    "                                   estimator_name='example estimator')\n",
    "display.plot()\n",
    "\n",
    "plt.show()"
   ]
  },
  {
   "cell_type": "markdown",
   "metadata": {},
   "source": [
    "*Resub comments: Next comments have been included.* <br />\n",
    "With an even lower AUC, the Gaussian naive bayes model is outperformed by both prior models."
   ]
  },
  {
   "cell_type": "markdown",
   "metadata": {},
   "source": [
    "## Regression model evaluation: MAE <br />\n",
    "*(mean absolute error)*"
   ]
  },
  {
   "cell_type": "markdown",
   "metadata": {},
   "source": [
    "### MAE: Capped linear regression"
   ]
  },
  {
   "cell_type": "markdown",
   "metadata": {},
   "source": [
    "*Resub comments: These comments are new.* <br />\n",
    "We will now fit the Capped Linear Regression model on the full TRAIN dataset and perform cross validation to get MAE score."
   ]
  },
  {
   "cell_type": "markdown",
   "metadata": {},
   "source": [
    "*Resub code: Next cell is edited from original submit.*"
   ]
  },
  {
   "cell_type": "code",
   "execution_count": 56,
   "metadata": {},
   "outputs": [
    {
     "name": "stdout",
     "output_type": "stream",
     "text": [
      "The mean absolute error is 0.09082 with a standard deviation of 0.00018\n"
     ]
    }
   ],
   "source": [
    "# resub code\n",
    "from sklearn.model_selection import cross_validate\n",
    "\n",
    "classifier_clr = CappedLinearRegression(fit_intercept=True, normalize=False)\n",
    "scoresLR = cross_validate(classifier_clr, x_train, y_train['winPlacePerc'], cv=10, scoring=mae_scorer)\n",
    "\n",
    "print(\"The mean absolute error is {:0.5f} with a standard deviation of {:0.5f}\".format(\n",
    "    abs(scoresLR['test_score'].mean()), abs(scoresLR['test_score'].std())))"
   ]
  },
  {
   "cell_type": "markdown",
   "metadata": {},
   "source": [
    "*Resub comments: Next comments are new.*\n",
    "\n",
    "Prediction Error below shows the scatter plots of y-validate of 'winPlacePerc' versus predicted y of 'winPlacePerc' using Capped Linear Regression. <br />\n",
    "We can observed the best fit line and points are close enough to the regressed diagonal line say that it's an ideal model compare to other regression models. There are points where the predicted values are much higher in 'winPlacePerc', however, we can conclude that those are small percentages of points.\n",
    "\n",
    "Capped Linear regression shows the best results with mean aboslute error 0.091, standard deviation of 0.0002, and R-square of 0.833. <br />\n",
    "\n",
    "*Note: MAE and standard deviation are above, r-square value is in graph below.*"
   ]
  },
  {
   "cell_type": "markdown",
   "metadata": {},
   "source": [
    "*Resub code: Next cell is new.*"
   ]
  },
  {
   "cell_type": "code",
   "execution_count": 57,
   "metadata": {},
   "outputs": [
    {
     "data": {
      "image/png": "[encoded data removed]",
      "text/plain": [
       "<Figure size 576x396 with 1 Axes>"
      ]
     },
     "metadata": {},
     "output_type": "display_data"
    },
    {
     "data": {
      "text/plain": [
       "<AxesSubplot:title={'center':'Prediction Error for CappedLinearRegression'}, xlabel='$y$', ylabel='$\\\\hat{y}$'>"
      ]
     },
     "execution_count": 57,
     "metadata": {},
     "output_type": "execute_result"
    }
   ],
   "source": [
    "# resub code: next code block is new\n",
    "import yellowbrick as yb \n",
    "from yellowbrick.regressor import PredictionError\n",
    "\n",
    "visualizer = PredictionError(classifier_clr)\n",
    "\n",
    "visualizer.fit(x_train, y_train['winPlacePerc'])\n",
    "visualizer.score(x_val, y_val['winPlacePerc'])\n",
    "visualizer.show()"
   ]
  },
  {
   "cell_type": "markdown",
   "metadata": {},
   "source": [
    "### MAE: Lasso regression"
   ]
  },
  {
   "cell_type": "markdown",
   "metadata": {},
   "source": [
    "*Resub code: Next cell has been editied from original submit.*"
   ]
  },
  {
   "cell_type": "code",
   "execution_count": 58,
   "metadata": {},
   "outputs": [
    {
     "name": "stdout",
     "output_type": "stream",
     "text": [
      "The mean absolute error is 0.09624 with a standard deviation of 0.00019\n"
     ]
    }
   ],
   "source": [
    "# resub code\n",
    "from warnings import simplefilter\n",
    "from sklearn.exceptions import ConvergenceWarning\n",
    "simplefilter(\"ignore\", category=ConvergenceWarning)\n",
    "\n",
    "classifier_las = Lasso(alpha=0.01, max_iter=10, fit_intercept=\"True\", selection=\"cyclic\")\n",
    "scoresLA = cross_validate(classifier_las, x_train, y_train['winPlacePerc'], cv=10, scoring=mae_scorer)\n",
    "\n",
    "print(\"The mean absolute error is {:0.5f} with a standard deviation of {:0.5f}\".format(\n",
    "    abs(scoresLA['test_score'].mean()), abs(scoresLA['test_score'].std())))"
   ]
  },
  {
   "cell_type": "markdown",
   "metadata": {},
   "source": [
    "#### Lasso model evaluation: visual 1 ###\n",
    "*Resub comments: Next comments are new.*\n",
    "\n",
    "We can see that there is no significant difference in the alpha. As the penalty relaxed, the predictors get added to the model and the alphas we chose show the similar results. All of the alphs we tested are close to zero which results similar least squares fits."
   ]
  },
  {
   "cell_type": "markdown",
   "metadata": {},
   "source": [
    "*Resub code: Next cell is new.*"
   ]
  },
  {
   "cell_type": "code",
   "execution_count": 59,
   "metadata": {},
   "outputs": [
    {
     "data": {
      "image/png": "[encoded data removed]",
      "text/plain": [
       "<Figure size 576x396 with 1 Axes>"
      ]
     },
     "metadata": {},
     "output_type": "display_data"
    }
   ],
   "source": [
    "# resub code: next block is new\n",
    "# alpha we used for hyperparameter\n",
    "alphas = np.logspace(-2,2,5)\n",
    "lasso = Lasso(max_iter=10, fit_intercept=\"True\", selection=\"cyclic\")\n",
    "coefs = []\n",
    "\n",
    "for a in alphas:\n",
    "    lasso.set_params(alpha=a)\n",
    "    lasso.fit(x_train, y_train['winPlacePerc'])\n",
    "    coefs.append(lasso.coef_)\n",
    "\n",
    "ax = plt.gca()\n",
    "\n",
    "ax.plot(alphas, coefs)\n",
    "ax.set_xscale('log')\n",
    "plt.axis('tight')\n",
    "plt.xlabel('alpha')\n",
    "plt.ylabel('Standardized Coefficients')\n",
    "plt.title('Lasso coefficients as a function of alpha');"
   ]
  },
  {
   "cell_type": "markdown",
   "metadata": {},
   "source": [
    "#### Lasso model evaluation: visual 2\n",
    "*Resub comments: Next comments are new.* <br />\n",
    "\n",
    "Prediction Error below shows the scatter plots of y-validate of 'winPlacePerc' versus predicted y of 'winPlacePerc' using Lasso.\n",
    "We observe that the predicted winPlacePerc is over 1, 100%. We can determine that almost 20 percent of the predicted value is over predicted and conclude that this model may not be ideal for our final model.\n",
    "Lasso shows the second best results with mean aboslute error 0.096, standard deviation 0.0002, and R-square, 0.817. <br />\n",
    "\n",
    "*Note: MAE and standard deviation are above, r-square value is in graph below.*\n"
   ]
  },
  {
   "cell_type": "code",
   "execution_count": 60,
   "metadata": {},
   "outputs": [
    {
     "data": {
      "image/png": "[encoded data removed]",
      "text/plain": [
       "<Figure size 576x396 with 1 Axes>"
      ]
     },
     "metadata": {},
     "output_type": "display_data"
    },
    {
     "data": {
      "text/plain": [
       "<AxesSubplot:title={'center':'Prediction Error for Lasso'}, xlabel='$y$', ylabel='$\\\\hat{y}$'>"
      ]
     },
     "execution_count": 60,
     "metadata": {},
     "output_type": "execute_result"
    }
   ],
   "source": [
    "from yellowbrick.regressor import PredictionError\n",
    "\n",
    "visualizer = PredictionError(classifier_las)\n",
    "\n",
    "visualizer.fit(x_train, y_train['winPlacePerc'])\n",
    "visualizer.score(x_val, y_val['winPlacePerc'])\n",
    "visualizer.show()"
   ]
  },
  {
   "cell_type": "markdown",
   "metadata": {},
   "source": [
    "*Resub comments: Next comments are new.* <br />\n",
    "\n",
    "Below shows that the distribution for both train and test are normally distributed and the bell curve is narrow compare to Capped Lienar Regression which means the standard deviation is smaller. Similar to other regression, we can't determine that it's randomly scattered apart but the results shows the that model fits pretty well.\n"
   ]
  },
  {
   "cell_type": "markdown",
   "metadata": {},
   "source": [
    "*Resub code: Next cell is new.*"
   ]
  },
  {
   "cell_type": "code",
   "execution_count": 62,
   "metadata": {},
   "outputs": [
    {
     "data": {
      "text/plain": [
       "<AxesSubplot:title={'center':'Residuals for Lasso Model'}, xlabel='Predicted Value', ylabel='Residuals'>"
      ]
     },
     "execution_count": 62,
     "metadata": {},
     "output_type": "execute_result"
    },
    {
     "data": {
      "image/png": "[encoded data removed]",
      "text/plain": [
       "<Figure size 576x396 with 2 Axes>"
      ]
     },
     "metadata": {},
     "output_type": "display_data"
    }
   ],
   "source": [
    "# resub code: new \n",
    "# didn't expect to get this weird looking\n",
    "from yellowbrick.regressor import ResidualsPlot\n",
    "viz = ResidualsPlot(classifier_las)\n",
    "viz.fit(x_train, y_train['winPlacePerc'])\n",
    "\n",
    "viz.score(x_val, y_val['winPlacePerc'])\n",
    "viz.show(\"Residual_Plot.jpg\")"
   ]
  },
  {
   "cell_type": "markdown",
   "metadata": {},
   "source": [
    "### MAE: Support vector machine regression"
   ]
  },
  {
   "cell_type": "markdown",
   "metadata": {},
   "source": [
    "*Resub code: Next cell has been edited from original submit.*"
   ]
  },
  {
   "cell_type": "code",
   "execution_count": 63,
   "metadata": {},
   "outputs": [
    {
     "name": "stderr",
     "output_type": "stream",
     "text": [
      "C:\\ProgramData\\Anaconda3\\lib\\site-packages\\sklearn\\utils\\validation.py:70: FutureWarning: Pass sample_weight=2515051    0.204102\n",
      "3206475    0.000000\n",
      "419989     0.809570\n",
      "133157     0.284180\n",
      "644326     0.785645\n",
      "             ...   \n",
      "3733241    0.730957\n",
      "2895800    0.299072\n",
      "1451480    0.628906\n",
      "591285     0.627930\n",
      "2315656    0.979004\n",
      "Name: winPlacePerc, Length: 192161, dtype: float16 as keyword args. From version 1.0 (renaming of 0.25) passing these as positional arguments will result in an error\n",
      "  warnings.warn(f\"Pass {args_msg} as keyword args. From version \"\n",
      "C:\\ProgramData\\Anaconda3\\lib\\site-packages\\sklearn\\model_selection\\_validation.py:683: UserWarning: Scoring failed. The score on this train-test partition for these parameters will be set to nan. Details: \n",
      "Traceback (most recent call last):\n",
      "  File \"C:\\ProgramData\\Anaconda3\\lib\\site-packages\\sklearn\\model_selection\\_validation.py\", line 674, in _score\n",
      "    scores = scorer(estimator, X_test, y_test)\n",
      "  File \"C:\\ProgramData\\Anaconda3\\lib\\site-packages\\sklearn\\utils\\validation.py\", line 74, in inner_f\n",
      "    return f(**kwargs)\n",
      "  File \"C:\\ProgramData\\Anaconda3\\lib\\site-packages\\sklearn\\metrics\\_regression.py\", line 182, in mean_absolute_error\n",
      "    y_type, y_true, y_pred, multioutput = _check_reg_targets(\n",
      "  File \"C:\\ProgramData\\Anaconda3\\lib\\site-packages\\sklearn\\metrics\\_regression.py\", line 88, in _check_reg_targets\n",
      "    check_consistent_length(y_true, y_pred)\n",
      "  File \"C:\\ProgramData\\Anaconda3\\lib\\site-packages\\sklearn\\utils\\validation.py\", line 259, in check_consistent_length\n",
      "    lengths = [_num_samples(X) for X in arrays if X is not None]\n",
      "  File \"C:\\ProgramData\\Anaconda3\\lib\\site-packages\\sklearn\\utils\\validation.py\", line 259, in <listcomp>\n",
      "    lengths = [_num_samples(X) for X in arrays if X is not None]\n",
      "  File \"C:\\ProgramData\\Anaconda3\\lib\\site-packages\\sklearn\\utils\\validation.py\", line 192, in _num_samples\n",
      "    raise TypeError(message)\n",
      "TypeError: Expected sequence or array-like, got <class 'sklearn.svm._classes.SVR'>\n",
      "\n",
      "  warnings.warn(\n",
      "C:\\ProgramData\\Anaconda3\\lib\\site-packages\\sklearn\\utils\\validation.py:70: FutureWarning: Pass sample_weight=3706159    0.571289\n",
      "4346882    0.959961\n",
      "1667234    0.918457\n",
      "1080427    0.724121\n",
      "2840143    0.617188\n",
      "             ...   \n",
      "1828821    0.808594\n",
      "1990822    0.285645\n",
      "2324118    0.703613\n",
      "3711177    0.052612\n",
      "3494679    0.166748\n",
      "Name: winPlacePerc, Length: 192161, dtype: float16 as keyword args. From version 1.0 (renaming of 0.25) passing these as positional arguments will result in an error\n",
      "  warnings.warn(f\"Pass {args_msg} as keyword args. From version \"\n",
      "C:\\ProgramData\\Anaconda3\\lib\\site-packages\\sklearn\\model_selection\\_validation.py:683: UserWarning: Scoring failed. The score on this train-test partition for these parameters will be set to nan. Details: \n",
      "Traceback (most recent call last):\n",
      "  File \"C:\\ProgramData\\Anaconda3\\lib\\site-packages\\sklearn\\model_selection\\_validation.py\", line 674, in _score\n",
      "    scores = scorer(estimator, X_test, y_test)\n",
      "  File \"C:\\ProgramData\\Anaconda3\\lib\\site-packages\\sklearn\\utils\\validation.py\", line 74, in inner_f\n",
      "    return f(**kwargs)\n",
      "  File \"C:\\ProgramData\\Anaconda3\\lib\\site-packages\\sklearn\\metrics\\_regression.py\", line 182, in mean_absolute_error\n",
      "    y_type, y_true, y_pred, multioutput = _check_reg_targets(\n",
      "  File \"C:\\ProgramData\\Anaconda3\\lib\\site-packages\\sklearn\\metrics\\_regression.py\", line 88, in _check_reg_targets\n",
      "    check_consistent_length(y_true, y_pred)\n",
      "  File \"C:\\ProgramData\\Anaconda3\\lib\\site-packages\\sklearn\\utils\\validation.py\", line 259, in check_consistent_length\n",
      "    lengths = [_num_samples(X) for X in arrays if X is not None]\n",
      "  File \"C:\\ProgramData\\Anaconda3\\lib\\site-packages\\sklearn\\utils\\validation.py\", line 259, in <listcomp>\n",
      "    lengths = [_num_samples(X) for X in arrays if X is not None]\n",
      "  File \"C:\\ProgramData\\Anaconda3\\lib\\site-packages\\sklearn\\utils\\validation.py\", line 192, in _num_samples\n",
      "    raise TypeError(message)\n",
      "TypeError: Expected sequence or array-like, got <class 'sklearn.svm._classes.SVR'>\n",
      "\n",
      "  warnings.warn(\n",
      "C:\\ProgramData\\Anaconda3\\lib\\site-packages\\sklearn\\utils\\validation.py:70: FutureWarning: Pass sample_weight=1722885    0.208252\n",
      "3302278    0.399902\n",
      "581996     0.535645\n",
      "3079977    0.766113\n",
      "3206600    0.071411\n",
      "             ...   \n",
      "3541585    0.384521\n",
      "3267894    0.126343\n",
      "4108274    0.407471\n",
      "1805566    0.928711\n",
      "464458     0.535645\n",
      "Name: winPlacePerc, Length: 192161, dtype: float16 as keyword args. From version 1.0 (renaming of 0.25) passing these as positional arguments will result in an error\n",
      "  warnings.warn(f\"Pass {args_msg} as keyword args. From version \"\n",
      "C:\\ProgramData\\Anaconda3\\lib\\site-packages\\sklearn\\model_selection\\_validation.py:683: UserWarning: Scoring failed. The score on this train-test partition for these parameters will be set to nan. Details: \n",
      "Traceback (most recent call last):\n",
      "  File \"C:\\ProgramData\\Anaconda3\\lib\\site-packages\\sklearn\\model_selection\\_validation.py\", line 674, in _score\n",
      "    scores = scorer(estimator, X_test, y_test)\n",
      "  File \"C:\\ProgramData\\Anaconda3\\lib\\site-packages\\sklearn\\utils\\validation.py\", line 74, in inner_f\n",
      "    return f(**kwargs)\n",
      "  File \"C:\\ProgramData\\Anaconda3\\lib\\site-packages\\sklearn\\metrics\\_regression.py\", line 182, in mean_absolute_error\n",
      "    y_type, y_true, y_pred, multioutput = _check_reg_targets(\n",
      "  File \"C:\\ProgramData\\Anaconda3\\lib\\site-packages\\sklearn\\metrics\\_regression.py\", line 88, in _check_reg_targets\n",
      "    check_consistent_length(y_true, y_pred)\n",
      "  File \"C:\\ProgramData\\Anaconda3\\lib\\site-packages\\sklearn\\utils\\validation.py\", line 259, in check_consistent_length\n",
      "    lengths = [_num_samples(X) for X in arrays if X is not None]\n",
      "  File \"C:\\ProgramData\\Anaconda3\\lib\\site-packages\\sklearn\\utils\\validation.py\", line 259, in <listcomp>\n",
      "    lengths = [_num_samples(X) for X in arrays if X is not None]\n",
      "  File \"C:\\ProgramData\\Anaconda3\\lib\\site-packages\\sklearn\\utils\\validation.py\", line 192, in _num_samples\n",
      "    raise TypeError(message)\n",
      "TypeError: Expected sequence or array-like, got <class 'sklearn.svm._classes.SVR'>\n",
      "\n",
      "  warnings.warn(\n",
      "C:\\ProgramData\\Anaconda3\\lib\\site-packages\\sklearn\\utils\\validation.py:70: FutureWarning: Pass sample_weight=1057870    0.956543\n",
      "2703173    0.538574\n",
      "1893204    0.785645\n",
      "542867     0.925781\n",
      "2462550    0.346191\n",
      "             ...   \n",
      "1808539    0.518555\n",
      "487681     0.377686\n",
      "1099674    0.439941\n",
      "4040018    0.000000\n",
      "1399478    0.425537\n",
      "Name: winPlacePerc, Length: 192161, dtype: float16 as keyword args. From version 1.0 (renaming of 0.25) passing these as positional arguments will result in an error\n",
      "  warnings.warn(f\"Pass {args_msg} as keyword args. From version \"\n",
      "C:\\ProgramData\\Anaconda3\\lib\\site-packages\\sklearn\\model_selection\\_validation.py:683: UserWarning: Scoring failed. The score on this train-test partition for these parameters will be set to nan. Details: \n",
      "Traceback (most recent call last):\n",
      "  File \"C:\\ProgramData\\Anaconda3\\lib\\site-packages\\sklearn\\model_selection\\_validation.py\", line 674, in _score\n",
      "    scores = scorer(estimator, X_test, y_test)\n",
      "  File \"C:\\ProgramData\\Anaconda3\\lib\\site-packages\\sklearn\\utils\\validation.py\", line 74, in inner_f\n",
      "    return f(**kwargs)\n",
      "  File \"C:\\ProgramData\\Anaconda3\\lib\\site-packages\\sklearn\\metrics\\_regression.py\", line 182, in mean_absolute_error\n",
      "    y_type, y_true, y_pred, multioutput = _check_reg_targets(\n",
      "  File \"C:\\ProgramData\\Anaconda3\\lib\\site-packages\\sklearn\\metrics\\_regression.py\", line 88, in _check_reg_targets\n",
      "    check_consistent_length(y_true, y_pred)\n",
      "  File \"C:\\ProgramData\\Anaconda3\\lib\\site-packages\\sklearn\\utils\\validation.py\", line 259, in check_consistent_length\n",
      "    lengths = [_num_samples(X) for X in arrays if X is not None]\n",
      "  File \"C:\\ProgramData\\Anaconda3\\lib\\site-packages\\sklearn\\utils\\validation.py\", line 259, in <listcomp>\n",
      "    lengths = [_num_samples(X) for X in arrays if X is not None]\n",
      "  File \"C:\\ProgramData\\Anaconda3\\lib\\site-packages\\sklearn\\utils\\validation.py\", line 192, in _num_samples\n",
      "    raise TypeError(message)\n",
      "TypeError: Expected sequence or array-like, got <class 'sklearn.svm._classes.SVR'>\n",
      "\n",
      "  warnings.warn(\n",
      "C:\\ProgramData\\Anaconda3\\lib\\site-packages\\sklearn\\utils\\validation.py:70: FutureWarning: Pass sample_weight=1584161    0.928711\n",
      "432385     0.565430\n",
      "1464337    0.666504\n",
      "3066856    0.834961\n",
      "2417092    0.461426\n",
      "             ...   \n",
      "1053653    0.895996\n",
      "1724698    0.555664\n",
      "1463366    0.866699\n",
      "2326156    0.000000\n",
      "1526231    0.919922\n",
      "Name: winPlacePerc, Length: 192161, dtype: float16 as keyword args. From version 1.0 (renaming of 0.25) passing these as positional arguments will result in an error\n",
      "  warnings.warn(f\"Pass {args_msg} as keyword args. From version \"\n",
      "C:\\ProgramData\\Anaconda3\\lib\\site-packages\\sklearn\\model_selection\\_validation.py:683: UserWarning: Scoring failed. The score on this train-test partition for these parameters will be set to nan. Details: \n",
      "Traceback (most recent call last):\n",
      "  File \"C:\\ProgramData\\Anaconda3\\lib\\site-packages\\sklearn\\model_selection\\_validation.py\", line 674, in _score\n",
      "    scores = scorer(estimator, X_test, y_test)\n",
      "  File \"C:\\ProgramData\\Anaconda3\\lib\\site-packages\\sklearn\\utils\\validation.py\", line 74, in inner_f\n",
      "    return f(**kwargs)\n",
      "  File \"C:\\ProgramData\\Anaconda3\\lib\\site-packages\\sklearn\\metrics\\_regression.py\", line 182, in mean_absolute_error\n",
      "    y_type, y_true, y_pred, multioutput = _check_reg_targets(\n",
      "  File \"C:\\ProgramData\\Anaconda3\\lib\\site-packages\\sklearn\\metrics\\_regression.py\", line 88, in _check_reg_targets\n",
      "    check_consistent_length(y_true, y_pred)\n",
      "  File \"C:\\ProgramData\\Anaconda3\\lib\\site-packages\\sklearn\\utils\\validation.py\", line 259, in check_consistent_length\n",
      "    lengths = [_num_samples(X) for X in arrays if X is not None]\n",
      "  File \"C:\\ProgramData\\Anaconda3\\lib\\site-packages\\sklearn\\utils\\validation.py\", line 259, in <listcomp>\n",
      "    lengths = [_num_samples(X) for X in arrays if X is not None]\n",
      "  File \"C:\\ProgramData\\Anaconda3\\lib\\site-packages\\sklearn\\utils\\validation.py\", line 192, in _num_samples\n",
      "    raise TypeError(message)\n",
      "TypeError: Expected sequence or array-like, got <class 'sklearn.svm._classes.SVR'>\n",
      "\n",
      "  warnings.warn(\n",
      "C:\\ProgramData\\Anaconda3\\lib\\site-packages\\sklearn\\utils\\validation.py:70: FutureWarning: Pass sample_weight=3151396    0.402100\n",
      "123951     0.455566\n",
      "1314812    0.172363\n",
      "465007     0.000000\n",
      "1635700    0.937500\n",
      "             ...   \n",
      "4064472    0.535645\n",
      "3792285    0.965332\n",
      "897811     0.925293\n",
      "2562405    0.407471\n",
      "4370138    1.000000\n",
      "Name: winPlacePerc, Length: 192161, dtype: float16 as keyword args. From version 1.0 (renaming of 0.25) passing these as positional arguments will result in an error\n",
      "  warnings.warn(f\"Pass {args_msg} as keyword args. From version \"\n",
      "C:\\ProgramData\\Anaconda3\\lib\\site-packages\\sklearn\\model_selection\\_validation.py:683: UserWarning: Scoring failed. The score on this train-test partition for these parameters will be set to nan. Details: \n",
      "Traceback (most recent call last):\n",
      "  File \"C:\\ProgramData\\Anaconda3\\lib\\site-packages\\sklearn\\model_selection\\_validation.py\", line 674, in _score\n",
      "    scores = scorer(estimator, X_test, y_test)\n",
      "  File \"C:\\ProgramData\\Anaconda3\\lib\\site-packages\\sklearn\\utils\\validation.py\", line 74, in inner_f\n",
      "    return f(**kwargs)\n",
      "  File \"C:\\ProgramData\\Anaconda3\\lib\\site-packages\\sklearn\\metrics\\_regression.py\", line 182, in mean_absolute_error\n",
      "    y_type, y_true, y_pred, multioutput = _check_reg_targets(\n",
      "  File \"C:\\ProgramData\\Anaconda3\\lib\\site-packages\\sklearn\\metrics\\_regression.py\", line 88, in _check_reg_targets\n",
      "    check_consistent_length(y_true, y_pred)\n",
      "  File \"C:\\ProgramData\\Anaconda3\\lib\\site-packages\\sklearn\\utils\\validation.py\", line 259, in check_consistent_length\n",
      "    lengths = [_num_samples(X) for X in arrays if X is not None]\n",
      "  File \"C:\\ProgramData\\Anaconda3\\lib\\site-packages\\sklearn\\utils\\validation.py\", line 259, in <listcomp>\n",
      "    lengths = [_num_samples(X) for X in arrays if X is not None]\n",
      "  File \"C:\\ProgramData\\Anaconda3\\lib\\site-packages\\sklearn\\utils\\validation.py\", line 192, in _num_samples\n",
      "    raise TypeError(message)\n",
      "TypeError: Expected sequence or array-like, got <class 'sklearn.svm._classes.SVR'>\n",
      "\n",
      "  warnings.warn(\n",
      "C:\\ProgramData\\Anaconda3\\lib\\site-packages\\sklearn\\utils\\validation.py:70: FutureWarning: Pass sample_weight=2161131    0.370361\n",
      "1176252    0.000000\n",
      "358486     0.576660\n",
      "1766662    0.041199\n",
      "2525726    0.035706\n",
      "             ...   \n",
      "2003062    0.777832\n",
      "2340772    0.195679\n",
      "3293229    0.733398\n",
      "388322     0.612305\n",
      "3076232    0.043488\n",
      "Name: winPlacePerc, Length: 192161, dtype: float16 as keyword args. From version 1.0 (renaming of 0.25) passing these as positional arguments will result in an error\n",
      "  warnings.warn(f\"Pass {args_msg} as keyword args. From version \"\n",
      "C:\\ProgramData\\Anaconda3\\lib\\site-packages\\sklearn\\model_selection\\_validation.py:683: UserWarning: Scoring failed. The score on this train-test partition for these parameters will be set to nan. Details: \n",
      "Traceback (most recent call last):\n",
      "  File \"C:\\ProgramData\\Anaconda3\\lib\\site-packages\\sklearn\\model_selection\\_validation.py\", line 674, in _score\n",
      "    scores = scorer(estimator, X_test, y_test)\n",
      "  File \"C:\\ProgramData\\Anaconda3\\lib\\site-packages\\sklearn\\utils\\validation.py\", line 74, in inner_f\n",
      "    return f(**kwargs)\n",
      "  File \"C:\\ProgramData\\Anaconda3\\lib\\site-packages\\sklearn\\metrics\\_regression.py\", line 182, in mean_absolute_error\n",
      "    y_type, y_true, y_pred, multioutput = _check_reg_targets(\n",
      "  File \"C:\\ProgramData\\Anaconda3\\lib\\site-packages\\sklearn\\metrics\\_regression.py\", line 88, in _check_reg_targets\n",
      "    check_consistent_length(y_true, y_pred)\n",
      "  File \"C:\\ProgramData\\Anaconda3\\lib\\site-packages\\sklearn\\utils\\validation.py\", line 259, in check_consistent_length\n",
      "    lengths = [_num_samples(X) for X in arrays if X is not None]\n",
      "  File \"C:\\ProgramData\\Anaconda3\\lib\\site-packages\\sklearn\\utils\\validation.py\", line 259, in <listcomp>\n",
      "    lengths = [_num_samples(X) for X in arrays if X is not None]\n",
      "  File \"C:\\ProgramData\\Anaconda3\\lib\\site-packages\\sklearn\\utils\\validation.py\", line 192, in _num_samples\n",
      "    raise TypeError(message)\n",
      "TypeError: Expected sequence or array-like, got <class 'sklearn.svm._classes.SVR'>\n",
      "\n",
      "  warnings.warn(\n",
      "C:\\ProgramData\\Anaconda3\\lib\\site-packages\\sklearn\\utils\\validation.py:70: FutureWarning: Pass sample_weight=1454199    0.148926\n",
      "1425514    0.326416\n",
      "2436962    0.565430\n",
      "1066292    0.520996\n",
      "4309337    0.807617\n",
      "             ...   \n",
      "1655648    0.620605\n",
      "1940227    0.484131\n",
      "856475     0.269287\n",
      "1730781    0.062500\n",
      "2036747    0.000000\n",
      "Name: winPlacePerc, Length: 192161, dtype: float16 as keyword args. From version 1.0 (renaming of 0.25) passing these as positional arguments will result in an error\n",
      "  warnings.warn(f\"Pass {args_msg} as keyword args. From version \"\n",
      "C:\\ProgramData\\Anaconda3\\lib\\site-packages\\sklearn\\model_selection\\_validation.py:683: UserWarning: Scoring failed. The score on this train-test partition for these parameters will be set to nan. Details: \n",
      "Traceback (most recent call last):\n",
      "  File \"C:\\ProgramData\\Anaconda3\\lib\\site-packages\\sklearn\\model_selection\\_validation.py\", line 674, in _score\n",
      "    scores = scorer(estimator, X_test, y_test)\n",
      "  File \"C:\\ProgramData\\Anaconda3\\lib\\site-packages\\sklearn\\utils\\validation.py\", line 74, in inner_f\n",
      "    return f(**kwargs)\n",
      "  File \"C:\\ProgramData\\Anaconda3\\lib\\site-packages\\sklearn\\metrics\\_regression.py\", line 182, in mean_absolute_error\n",
      "    y_type, y_true, y_pred, multioutput = _check_reg_targets(\n",
      "  File \"C:\\ProgramData\\Anaconda3\\lib\\site-packages\\sklearn\\metrics\\_regression.py\", line 88, in _check_reg_targets\n",
      "    check_consistent_length(y_true, y_pred)\n",
      "  File \"C:\\ProgramData\\Anaconda3\\lib\\site-packages\\sklearn\\utils\\validation.py\", line 259, in check_consistent_length\n",
      "    lengths = [_num_samples(X) for X in arrays if X is not None]\n",
      "  File \"C:\\ProgramData\\Anaconda3\\lib\\site-packages\\sklearn\\utils\\validation.py\", line 259, in <listcomp>\n",
      "    lengths = [_num_samples(X) for X in arrays if X is not None]\n",
      "  File \"C:\\ProgramData\\Anaconda3\\lib\\site-packages\\sklearn\\utils\\validation.py\", line 192, in _num_samples\n",
      "    raise TypeError(message)\n",
      "TypeError: Expected sequence or array-like, got <class 'sklearn.svm._classes.SVR'>\n",
      "\n",
      "  warnings.warn(\n",
      "C:\\ProgramData\\Anaconda3\\lib\\site-packages\\sklearn\\utils\\validation.py:70: FutureWarning: Pass sample_weight=2938119    0.408203\n",
      "606043     0.758789\n",
      "2465143    0.040009\n",
      "3157977    0.826660\n",
      "1412052    0.710938\n",
      "             ...   \n",
      "1786424    0.851074\n",
      "470178     0.375000\n",
      "1743798    0.466797\n",
      "3219598    0.032593\n",
      "477802     0.423096\n",
      "Name: winPlacePerc, Length: 192160, dtype: float16 as keyword args. From version 1.0 (renaming of 0.25) passing these as positional arguments will result in an error\n",
      "  warnings.warn(f\"Pass {args_msg} as keyword args. From version \"\n",
      "C:\\ProgramData\\Anaconda3\\lib\\site-packages\\sklearn\\model_selection\\_validation.py:683: UserWarning: Scoring failed. The score on this train-test partition for these parameters will be set to nan. Details: \n",
      "Traceback (most recent call last):\n",
      "  File \"C:\\ProgramData\\Anaconda3\\lib\\site-packages\\sklearn\\model_selection\\_validation.py\", line 674, in _score\n",
      "    scores = scorer(estimator, X_test, y_test)\n",
      "  File \"C:\\ProgramData\\Anaconda3\\lib\\site-packages\\sklearn\\utils\\validation.py\", line 74, in inner_f\n",
      "    return f(**kwargs)\n",
      "  File \"C:\\ProgramData\\Anaconda3\\lib\\site-packages\\sklearn\\metrics\\_regression.py\", line 182, in mean_absolute_error\n",
      "    y_type, y_true, y_pred, multioutput = _check_reg_targets(\n",
      "  File \"C:\\ProgramData\\Anaconda3\\lib\\site-packages\\sklearn\\metrics\\_regression.py\", line 88, in _check_reg_targets\n",
      "    check_consistent_length(y_true, y_pred)\n",
      "  File \"C:\\ProgramData\\Anaconda3\\lib\\site-packages\\sklearn\\utils\\validation.py\", line 259, in check_consistent_length\n",
      "    lengths = [_num_samples(X) for X in arrays if X is not None]\n",
      "  File \"C:\\ProgramData\\Anaconda3\\lib\\site-packages\\sklearn\\utils\\validation.py\", line 259, in <listcomp>\n",
      "    lengths = [_num_samples(X) for X in arrays if X is not None]\n",
      "  File \"C:\\ProgramData\\Anaconda3\\lib\\site-packages\\sklearn\\utils\\validation.py\", line 192, in _num_samples\n",
      "    raise TypeError(message)\n",
      "TypeError: Expected sequence or array-like, got <class 'sklearn.svm._classes.SVR'>\n",
      "\n",
      "  warnings.warn(\n"
     ]
    },
    {
     "name": "stdout",
     "output_type": "stream",
     "text": [
      "The mean absolute error is nan with a standard deviation of nan\n"
     ]
    },
    {
     "name": "stderr",
     "output_type": "stream",
     "text": [
      "C:\\ProgramData\\Anaconda3\\lib\\site-packages\\sklearn\\utils\\validation.py:70: FutureWarning: Pass sample_weight=4122125    0.877441\n",
      "4046279    0.562500\n",
      "762472     0.688965\n",
      "3832703    0.957520\n",
      "3398503    0.625000\n",
      "             ...   \n",
      "1344285    0.759766\n",
      "798261     0.336914\n",
      "3366971    0.247437\n",
      "2181447    0.444336\n",
      "955799     0.282715\n",
      "Name: winPlacePerc, Length: 192160, dtype: float16 as keyword args. From version 1.0 (renaming of 0.25) passing these as positional arguments will result in an error\n",
      "  warnings.warn(f\"Pass {args_msg} as keyword args. From version \"\n",
      "C:\\ProgramData\\Anaconda3\\lib\\site-packages\\sklearn\\model_selection\\_validation.py:683: UserWarning: Scoring failed. The score on this train-test partition for these parameters will be set to nan. Details: \n",
      "Traceback (most recent call last):\n",
      "  File \"C:\\ProgramData\\Anaconda3\\lib\\site-packages\\sklearn\\model_selection\\_validation.py\", line 674, in _score\n",
      "    scores = scorer(estimator, X_test, y_test)\n",
      "  File \"C:\\ProgramData\\Anaconda3\\lib\\site-packages\\sklearn\\utils\\validation.py\", line 74, in inner_f\n",
      "    return f(**kwargs)\n",
      "  File \"C:\\ProgramData\\Anaconda3\\lib\\site-packages\\sklearn\\metrics\\_regression.py\", line 182, in mean_absolute_error\n",
      "    y_type, y_true, y_pred, multioutput = _check_reg_targets(\n",
      "  File \"C:\\ProgramData\\Anaconda3\\lib\\site-packages\\sklearn\\metrics\\_regression.py\", line 88, in _check_reg_targets\n",
      "    check_consistent_length(y_true, y_pred)\n",
      "  File \"C:\\ProgramData\\Anaconda3\\lib\\site-packages\\sklearn\\utils\\validation.py\", line 259, in check_consistent_length\n",
      "    lengths = [_num_samples(X) for X in arrays if X is not None]\n",
      "  File \"C:\\ProgramData\\Anaconda3\\lib\\site-packages\\sklearn\\utils\\validation.py\", line 259, in <listcomp>\n",
      "    lengths = [_num_samples(X) for X in arrays if X is not None]\n",
      "  File \"C:\\ProgramData\\Anaconda3\\lib\\site-packages\\sklearn\\utils\\validation.py\", line 192, in _num_samples\n",
      "    raise TypeError(message)\n",
      "TypeError: Expected sequence or array-like, got <class 'sklearn.svm._classes.SVR'>\n",
      "\n",
      "  warnings.warn(\n"
     ]
    }
   ],
   "source": [
    "# resub code\n",
    "classifier_svr = SVR(C=0.1, gamma=\"auto\", max_iter=1000, kernel=\"rbf\")\n",
    "scoresSVR = cross_validate(classifier_svr, x_train, y_train['winPlacePerc'], cv=10, scoring=mean_absolute_error)\n",
    "\n",
    "print(\"The mean absolute error is {:0.5f} with a standard deviation of {:0.5f}\".format(\n",
    "    abs(scoresSVR['test_score'].mean()), abs(scoresSVR['test_score'].std())))\n",
    "## This section takes a good long time (59 min)"
   ]
  },
  {
   "cell_type": "markdown",
   "metadata": {},
   "source": [
    "*Resub comments: Next sentence is new.* <br />\n",
    "\n",
    "**Based on the above, 10-fold cross-validated results, we will only compare the Capped Linear Regression and the LASSO Regression. When running final model analyses.**"
   ]
  },
  {
   "cell_type": "markdown",
   "metadata": {},
   "source": [
    "#### SVR Model evaluation: visual 1\n",
    "\n",
    "*Resub comments: Next comments are new.* <br />\n",
    "\n",
    "Prediction Error below shows the scatter plots of y-validate of 'winPlacePerc' versus predicted y of 'winPlacePerc' using Support Vector Machine.\n",
    "Support Vector Machine does not seem to fit well with the data and we will not consider SVR in our model chocies.\n"
   ]
  },
  {
   "cell_type": "code",
   "execution_count": 64,
   "metadata": {},
   "outputs": [
    {
     "data": {
      "image/png": "[encoded data removed]",
      "text/plain": [
       "<Figure size 576x396 with 1 Axes>"
      ]
     },
     "metadata": {},
     "output_type": "display_data"
    },
    {
     "data": {
      "text/plain": [
       "<AxesSubplot:title={'center':'Prediction Error for SVR'}, xlabel='$y$', ylabel='$\\\\hat{y}$'>"
      ]
     },
     "execution_count": 64,
     "metadata": {},
     "output_type": "execute_result"
    }
   ],
   "source": [
    "# resub code: this cell is new\n",
    "from yellowbrick.regressor import PredictionError\n",
    "\n",
    "visualizer = PredictionError(classifier_svr)\n",
    "\n",
    "visualizer.fit(x_train, y_train['winPlacePerc'])\n",
    "visualizer.score(x_val, y_val['winPlacePerc'])\n",
    "visualizer.show()"
   ]
  },
  {
   "cell_type": "markdown",
   "metadata": {},
   "source": [
    "## Model performance on unseen data (TEST)"
   ]
  },
  {
   "cell_type": "markdown",
   "metadata": {},
   "source": [
    "In this section we will see how well our best models generalize to unseen data, by making predictions on our TEST data."
   ]
  },
  {
   "cell_type": "markdown",
   "metadata": {},
   "source": [
    "### TEST Classification: Random forest classification"
   ]
  },
  {
   "cell_type": "code",
   "execution_count": 65,
   "metadata": {},
   "outputs": [
    {
     "name": "stdout",
     "output_type": "stream",
     "text": [
      "Confusion matrix of Random Forest Classifier is:\n",
      "[[191613  12793]\n",
      " [ 11902  58208]]\n",
      "The score accuracy of Random Forest Classifier is 91.0%\n"
     ]
    }
   ],
   "source": [
    "# we already fit the model on the train data earlier \n",
    "# do not need to repeat that step here\n",
    "\n",
    "rf_pred_test = classifier_rf.predict(x_test)\n",
    "cm_rf_test = confusion_matrix(y_test['quart_binary'], rf_pred_test)\n",
    "acc_rf_test = accuracy_score(y_test['quart_binary'], rf_pred_test) * 100\n",
    "print(\"Confusion matrix of Random Forest Classifier is:\")\n",
    "print(cm_rf_test)\n",
    "print(\"The score accuracy of Random Forest Classifier is {}%\".format(round(acc_rf_test,2)))"
   ]
  },
  {
   "cell_type": "markdown",
   "metadata": {},
   "source": [
    "*Resub comments: Next comments are new.* <br />\n",
    "\n",
    "Based on the Random Forest classification model that we created, our analysis on our hold-out dataset resolves to 91.0% accuracy. As expected, it is slightly lower than how the model performed on the training data. Unexpectedly, this model performs better on unseen data than the logistic regression or Gaussian naive bayes did with bias. As such, we would put this model forward as our preferred classifier."
   ]
  },
  {
   "cell_type": "markdown",
   "metadata": {},
   "source": [
    "### TEST Regression: Lasso regression"
   ]
  },
  {
   "cell_type": "markdown",
   "metadata": {},
   "source": [
    "*Resub code: Next cell is new.*"
   ]
  },
  {
   "cell_type": "code",
   "execution_count": 79,
   "metadata": {},
   "outputs": [
    {
     "data": {
      "text/plain": [
       "(274516,)"
      ]
     },
     "execution_count": 79,
     "metadata": {},
     "output_type": "execute_result"
    }
   ],
   "source": [
    "# check shape of test data\n",
    "y_test[\"winPlacePerc\"].shape"
   ]
  },
  {
   "cell_type": "markdown",
   "metadata": {},
   "source": [
    "*Resub code: Next cell is new.*"
   ]
  },
  {
   "cell_type": "code",
   "execution_count": 80,
   "metadata": {},
   "outputs": [],
   "source": [
    "# make predictions on TEST data using model fit on train data\n",
    "las_pred_test = classifier_las.predict(x_test)"
   ]
  },
  {
   "cell_type": "markdown",
   "metadata": {},
   "source": [
    "*Resub code: Next cell is new.*"
   ]
  },
  {
   "cell_type": "code",
   "execution_count": 92,
   "metadata": {},
   "outputs": [],
   "source": [
    "# store predictions in dataframe for comparison\n",
    "las_predictions = pd.DataFrame(las_pred_test)"
   ]
  },
  {
   "cell_type": "markdown",
   "metadata": {},
   "source": [
    "*Resub code: Next cell is new.*"
   ]
  },
  {
   "cell_type": "code",
   "execution_count": 94,
   "metadata": {},
   "outputs": [
    {
     "data": {
      "text/plain": [
       "(274516,)"
      ]
     },
     "execution_count": 94,
     "metadata": {},
     "output_type": "execute_result"
    }
   ],
   "source": [
    "# resub code: new \n",
    "# create new variable with only first column of predictions \n",
    "# las_predictions.shape\n",
    "las_preds = las_predictions.iloc[:,0]\n",
    "las_preds.shape"
   ]
  },
  {
   "cell_type": "markdown",
   "metadata": {},
   "source": [
    "*Resub code: Next cell is new.*"
   ]
  },
  {
   "cell_type": "code",
   "execution_count": 96,
   "metadata": {},
   "outputs": [
    {
     "name": "stdout",
     "output_type": "stream",
     "text": [
      "Mean absolute error for Lasso is 0.09648491442203522\n"
     ]
    }
   ],
   "source": [
    "# compare our predictions from Lasso regression model with the actual values\n",
    "mae_las_test = mean_absolute_error(y_test[\"winPlacePerc\"], las_preds)\n",
    "print(\"Mean absolute error for Lasso is {}\".format(mae_las_test))"
   ]
  },
  {
   "cell_type": "markdown",
   "metadata": {},
   "source": [
    "# **7. MODELING AND EVALUATION 5 = YES EDIT**"
   ]
  },
  {
   "cell_type": "markdown",
   "metadata": {},
   "source": [
    "SUBTITLE: MODEL ADVANTAGES + EVALUATION WITH STATISTICAL METHODS\n",
    "\n",
    "*Discuss the advantages of each model for each classification task, if any. If there are not advantages, explain why. Is any model better than another? Is the difference significant with 95% confidence? Use proper statistical comparison methods. You must use statistical comparison techniques—be sure they are appropriate for your chosen method of validation as discussed in unit 7 of the course.*"
   ]
  },
  {
   "cell_type": "markdown",
   "metadata": {},
   "source": [
    "*Resub comments: Next comments are new.*"
   ]
  },
  {
   "cell_type": "markdown",
   "metadata": {},
   "source": [
    "1. Classification task: When we look at the ROC curves for our classification tasks, we can see that the Random Forest model has the most area under the curve, therefore we can say with statistical certainty that the Random Forest model is the best for our classification task.\n",
    "\n",
    "2. Classification task: We chose Random Forest as our best-performing model, but an argument could be made to change that assessment and choose the Logistic Regression model as the best. Why? Although Random Forest has the higher accuracy (around 91%), it takes about 15 minutes to run. Logistic Regression, on the other hand, only takes about 20 seconds to run, with an accuracy score of around 89%. The tradeoff in execution time may be worth the slight drop in accuracy.\n",
    "\n",
    "1. Regression task: The capped linear regression appeared to have the lowest mean absolute error. This is the optimal model in terms of score. The support vector regression appears unable to compete both in terms of mean absolute error & in terms of run-time. Regression tasks appear better suited to other tools such as multiple linear regression and LASSO (in this particular case)."
   ]
  },
  {
   "cell_type": "markdown",
   "metadata": {},
   "source": [
    "*Resub code: Next cell is new.*"
   ]
  },
  {
   "cell_type": "code",
   "execution_count": 97,
   "metadata": {},
   "outputs": [
    {
     "name": "stdout",
     "output_type": "stream",
     "text": [
      "t statistic: 53.80440\n",
      "p value: 0.00000004\n"
     ]
    }
   ],
   "source": [
    "# resub code: paired t-test to statistically check our regression models\n",
    "from mlxtend.evaluate import paired_ttest_5x2cv\n",
    "\n",
    "t, p = paired_ttest_5x2cv(estimator1 = classifier_clr, # Capped Linear Regression is first estimator\n",
    "                          estimator2 = classifier_las, # LASSO Regression is second estimator\n",
    "                          X=x_test, y=y_test,\n",
    "                          scoring='neg_mean_absolute_error',\n",
    "                          random_seed=17)\n",
    "\n",
    "print('t statistic: %.5f' % t)\n",
    "print('p value: %.8f' % p)"
   ]
  },
  {
   "cell_type": "markdown",
   "metadata": {},
   "source": [
    "*Resub comments: Next comments are new.*\n",
    "\n",
    "### Statistical Analysis on Model Comparison ###\n",
    "\n",
    "Based on the above paired t-test 5×2 cross-validation, there is strong evidence at the 95% confidence level that the capped linear regression model is producing larger *neg_mean_absolute_error* values (p-value for paired t-test with 5×2 cross-validation < 1e-6). This indicates that on unseen data, we are 95% confident that the LASSO Regression performs better.\n",
    "\n",
    "The 5×2 cross-validation paired t-test has been shown to have slightly better power than McNemar's test which leverages 5 replications of 2-fold cross-validation & compares the error estimates (mae_scores). <br />\n",
    "\n",
    "*[Reference: Thomas G. Dietterich; Approximate Statistical Tests for Comparing Supervised Classification Learning Algorithms. Neural Comput 1998; 10 (7): 1895–1923. doi: https://doi.org/10.1162/089976698300017197].*"
   ]
  },
  {
   "cell_type": "markdown",
   "metadata": {},
   "source": [
    "# **8. MODELING AND EVALUATION 6 = YES EDIT**"
   ]
  },
  {
   "cell_type": "markdown",
   "metadata": {},
   "source": [
    "SUBTITLE: FEATURE IMPORTANCE\n",
    "\n",
    "*Assignment: Which attributes from your analysis are most important? Use proper methods discussed in class to evaluate the importance of different attributes. Discuss the results and hypothesize about why certain attributes are more important than others for a given classification task.*"
   ]
  },
  {
   "cell_type": "markdown",
   "metadata": {
    "id": "asIChxBU8nXK"
   },
   "source": [
    "## Feature importance: Classification task - Random forest"
   ]
  },
  {
   "cell_type": "markdown",
   "metadata": {
    "id": "kKbmn6nr8xkr"
   },
   "source": [
    "The random forest model performs best of the three classification models; we will interpret features below. \n",
    "\n",
    "Note: there are no coefficients for random forest model.\n",
    "Additional note: While radom forest has highest accuracy, it does have a much longer run-time. "
   ]
  },
  {
   "cell_type": "code",
   "execution_count": 98,
   "metadata": {
    "id": "tjr2Q_IA8zqg"
   },
   "outputs": [
    {
     "data": {
      "text/plain": [
       "array([6.53948897e-03, 1.26353661e-01, 1.99864644e-02, 4.55940663e-03,\n",
       "       4.24084521e-03, 5.08673636e-02, 2.61275646e-01, 2.46210612e-02,\n",
       "       1.69469410e-02, 4.34718113e-02, 8.04225243e-03, 7.16725309e-03,\n",
       "       2.75459382e-03, 7.09143505e-04, 1.48318953e-02, 1.17199398e-04,\n",
       "       5.82248535e-03, 4.99315320e-05, 1.85596390e-05, 3.51793971e-01,\n",
       "       4.98300257e-02])"
      ]
     },
     "execution_count": 98,
     "metadata": {},
     "output_type": "execute_result"
    }
   ],
   "source": [
    "classifier_rf.feature_importances_"
   ]
  },
  {
   "cell_type": "code",
   "execution_count": 99,
   "metadata": {
    "id": "vnFYf8GO82a8"
   },
   "outputs": [
    {
     "name": "stdout",
     "output_type": "stream",
     "text": [
      "Feature: walkDistance     Score: 0.35179\n",
      "Feature: killPlace        Score: 0.26128\n",
      "Feature: boosts           Score: 0.12635\n",
      "Feature: heals            Score: 0.05087\n",
      "Feature: weaponsAcquired  Score: 0.04983\n",
      "Feature: longestKill      Score: 0.04347\n",
      "Feature: kills            Score: 0.02462\n",
      "Feature: damageDealt      Score: 0.01999\n",
      "Feature: killStreaks      Score: 0.01695\n",
      "Feature: rideDistance     Score: 0.01483\n",
      "Feature: matchDuration    Score: 0.00804\n",
      "Feature: numGroups        Score: 0.00717\n",
      "Feature: assists          Score: 0.00654\n",
      "Feature: swimDistance     Score: 0.00582\n",
      "Feature: DBNOs            Score: 0.00456\n",
      "Feature: headshotKills    Score: 0.00424\n",
      "Feature: rankPoints       Score: 0.00275\n",
      "Feature: revives          Score: 0.00071\n",
      "Feature: roadKills        Score: 0.00012\n",
      "Feature: teamKills        Score: 0.00005\n",
      "Feature: vehicleDestroys  Score: 0.00002\n"
     ]
    },
    {
     "data": {
      "image/png": "[encoded data removed]",
      "text/plain": [
       "<Figure size 576x396 with 1 Axes>"
      ]
     },
     "metadata": {},
     "output_type": "display_data"
    }
   ],
   "source": [
    "# code adapted from: https://machinelearningmastery.com/calculate-feature-importance-with-python/\n",
    "\n",
    "# get importance\n",
    "importance = classifier_rf.feature_importances_\n",
    "forest_importance = pd.Series(importance, cols_df[0:23])\n",
    "forest_importance = forest_importance.sort_values(ascending=False)\n",
    "\n",
    "# summarize feature importance\n",
    "for name, v in forest_importance.items():\n",
    "    print('Feature: {} Score: {:.5f}'.format(name.ljust(16), v))\n",
    "\n",
    "# plot feature importance\n",
    "forest_importance.plot.bar()\n",
    "plt.show()"
   ]
  },
  {
   "cell_type": "markdown",
   "metadata": {},
   "source": [
    "The features with highest importance are *walkDistance*, *killPlace*, and *boosts*. These are similar results to our initial findings in the mini-lab.\n",
    "\n",
    "1. walkDistance: This variable represents the total distance walked by a player during the match. It makes sense that the walk distance would be an imporant factor for influencing the target variable (quart_binary); a player that places higher would be alive longer, and travel a greater distance, as compared to players that place lower (aka die early).\n",
    "\n",
    "2. killPlace: This variable represents a ranking in a given match, based on the number of enemy players killed. More enemy players killed means a better placement. It makes sense that this would be influential for our target variable, destroying a greater number of the other players means that there are fewer players to place higher than you. Additional research into analysis performed by others suggests that very few players adopt a 'passive' strategy (one in which they do not go on the offensive, attacking other players), and that even fewer manage to place highly in a given match when they have a minimal enemy kill count.\n",
    "\n",
    "3. boosts: Boosts are items that give players extra \"boosts\" of life; so if a player's health is diminished, they can use boost items to replenish their health, which in turn allows them to continue to play longer, which increases the chances that they will place higher."
   ]
  },
  {
   "cell_type": "markdown",
   "metadata": {},
   "source": [
    "## Feature importance: Regression task - Capped linear regression"
   ]
  },
  {
   "cell_type": "markdown",
   "metadata": {},
   "source": [
    "*Resub code: Next cell is new.*"
   ]
  },
  {
   "cell_type": "code",
   "execution_count": 100,
   "metadata": {},
   "outputs": [
    {
     "data": {
      "text/plain": [
       "CappedLinearRegression()"
      ]
     },
     "execution_count": 100,
     "metadata": {},
     "output_type": "execute_result"
    }
   ],
   "source": [
    "# resub code\n",
    "# creating instance of CappedLinearRegression to evaluate coefficients for feature importance\n",
    "classifier_clr = CappedLinearRegression(fit_intercept=True, normalize=False)\n",
    "classifier_clr.fit(x_train, y_train['winPlacePerc'])"
   ]
  },
  {
   "cell_type": "markdown",
   "metadata": {},
   "source": [
    "*Resub code: Next cell is new.*"
   ]
  },
  {
   "cell_type": "code",
   "execution_count": 101,
   "metadata": {},
   "outputs": [
    {
     "name": "stdout",
     "output_type": "stream",
     "text": [
      "Feature: assists          Score: 0.01616\n",
      "Feature: boosts           Score: 0.01471\n",
      "Feature: revives          Score: 0.01448\n",
      "Feature: weaponsAcquired  Score: 0.01145\n",
      "Feature: roadKills        Score: 0.00895\n",
      "Feature: vehicleDestroys  Score: 0.00824\n",
      "Feature: numGroups        Score: 0.00127\n",
      "Feature: heals            Score: 0.00069\n",
      "Feature: headshotKills    Score: 0.00063\n",
      "Feature: walkDistance     Score: 0.00011\n",
      "Feature: swimDistance     Score: 0.00010\n",
      "Feature: damageDealt      Score: 0.00005\n",
      "Feature: rideDistance     Score: 0.00002\n",
      "Feature: longestKill      Score: 0.00001\n",
      "Feature: rankPoints       Score: 0.00001\n",
      "Feature: matchDuration    Score: -0.00016\n",
      "Feature: DBNOs            Score: -0.00322\n",
      "Feature: killPlace        Score: -0.00690\n",
      "Feature: teamKills        Score: -0.01005\n",
      "Feature: kills            Score: -0.01521\n",
      "Feature: killStreaks      Score: -0.13111\n"
     ]
    },
    {
     "data": {
      "image/png": "[encoded data removed]",
      "text/plain": [
       "<Figure size 576x396 with 1 Axes>"
      ]
     },
     "metadata": {},
     "output_type": "display_data"
    }
   ],
   "source": [
    "# resub code\n",
    "# code adapted from: https://machinelearningmastery.com/calculate-feature-importance-with-python/\n",
    "\n",
    "# get importance\n",
    "importance = classifier_clr.coef_\n",
    "capped_importance = pd.Series(importance, cols_df[0:23])\n",
    "capped_importance = capped_importance.sort_values(ascending=False)\n",
    "\n",
    "# summarize feature importance\n",
    "for name, v in capped_importance.items():\n",
    "    print('Feature: {} Score: {:.5f}'.format(name.ljust(16), v))\n",
    "\n",
    "# plot feature importance\n",
    "capped_importance.plot.bar()\n",
    "plt.show()"
   ]
  },
  {
   "cell_type": "markdown",
   "metadata": {},
   "source": [
    "*Resub code: Next cell is new.*"
   ]
  },
  {
   "cell_type": "code",
   "execution_count": 102,
   "metadata": {},
   "outputs": [
    {
     "data": {
      "text/plain": [
       "Lasso(alpha=0.01, fit_intercept='True', max_iter=10)"
      ]
     },
     "execution_count": 102,
     "metadata": {},
     "output_type": "execute_result"
    }
   ],
   "source": [
    "# resub code\n",
    "# creating instance of CappedLinearRegression to evaluate coefficients for feature importance\n",
    "from warnings import simplefilter\n",
    "from sklearn.exceptions import ConvergenceWarning\n",
    "simplefilter(\"ignore\", category=ConvergenceWarning)\n",
    "\n",
    "classifier_las = Lasso(alpha=0.01, max_iter=10, fit_intercept=\"True\", selection=\"cyclic\")\n",
    "classifier_las.fit(x_train, y_train['winPlacePerc'])"
   ]
  },
  {
   "cell_type": "markdown",
   "metadata": {},
   "source": [
    "*Resub code: Next cell is new.*"
   ]
  },
  {
   "cell_type": "code",
   "execution_count": 103,
   "metadata": {},
   "outputs": [
    {
     "name": "stdout",
     "output_type": "stream",
     "text": [
      "Feature: weaponsAcquired  Score: 0.01052\n",
      "Feature: boosts           Score: 0.00826\n",
      "Feature: numGroups        Score: 0.00130\n",
      "Feature: heals            Score: 0.00089\n",
      "Feature: walkDistance     Score: 0.00013\n",
      "Feature: swimDistance     Score: 0.00009\n",
      "Feature: damageDealt      Score: 0.00008\n",
      "Feature: rideDistance     Score: 0.00002\n",
      "Feature: rankPoints       Score: 0.00001\n",
      "Feature: revives          Score: 0.00000\n",
      "Feature: vehicleDestroys  Score: 0.00000\n",
      "Feature: teamKills        Score: -0.00000\n",
      "Feature: roadKills        Score: -0.00000\n",
      "Feature: assists          Score: 0.00000\n",
      "Feature: headshotKills    Score: -0.00000\n",
      "Feature: DBNOs            Score: -0.00000\n",
      "Feature: longestKill      Score: -0.00007\n",
      "Feature: matchDuration    Score: -0.00016\n",
      "Feature: killPlace        Score: -0.00580\n",
      "Feature: kills            Score: -0.02115\n",
      "Feature: killStreaks      Score: -0.06709\n"
     ]
    },
    {
     "data": {
      "image/png": "[encoded data removed]",
      "text/plain": [
       "<Figure size 576x396 with 1 Axes>"
      ]
     },
     "metadata": {},
     "output_type": "display_data"
    }
   ],
   "source": [
    "# resub code \n",
    "# code adapted from: https://machinelearningmastery.com/calculate-feature-importance-with-python/\n",
    "\n",
    "# get importance\n",
    "importance = classifier_las.coef_\n",
    "capped_importance = pd.Series(importance, cols_df[0:23])\n",
    "capped_importance = capped_importance.sort_values(ascending=False)\n",
    "\n",
    "# summarize feature importance\n",
    "for name, v in capped_importance.items():\n",
    "    print('Feature: {} Score: {:.5f}'.format(name.ljust(16), v))\n",
    "\n",
    "# plot feature importance\n",
    "capped_importance.plot.bar()\n",
    "plt.show()"
   ]
  },
  {
   "cell_type": "markdown",
   "metadata": {},
   "source": [
    "*Resub comments: Next comments are new.*"
   ]
  },
  {
   "cell_type": "markdown",
   "metadata": {},
   "source": [
    "Interstingly, both the linear regression and LASSO rely heavily on kills and killStreaks for prediction.\n",
    "\n",
    "1. killStreaks: Having a strong negative predictor in the killStreaks variable makes sense. Players with a higher killStreak rating will likely (a) have survived longer, (b) have a higher kill count, and (c) have additional factors in their favor such as weaponsAcquired, boosts, damageDealt, *etc*. It also agrees with our domain knowledge that better players (higher kill streaks) will be ranked \"higher\" (which is actually lower numerically).\n",
    "\n",
    "2. kills: This follows the same logic as killStreaks and has been shown to correlate strongly (~0.8) with killStreaks. Including this in the model *may* be over-focusing on these two variables. However, the high weight on killStreaks may mean there is much to be gained by leaving one or both variables in.\n",
    "\n",
    "Our preferred model based on the 5×2cv paired t-test (LASSO) identifies weaponsAcquired and boosts as the most important predictors for positive correlation.\n",
    "\n",
    "3. weaponsAcquired: The difference in strength of the model coefficient for weaponsAcquired and other positively correlated variables"
   ]
  },
  {
   "cell_type": "markdown",
   "metadata": {},
   "source": [
    "*Resub comments: Next cell has been edited from original submit.*"
   ]
  },
  {
   "cell_type": "markdown",
   "metadata": {},
   "source": [
    "One potential benefit of the LASSO model (beyond having better scores on unseen data) would be that the number of predictors is lower. This would be a more parsimonious model which is easier to both explain & be able to evaluate for changes in prediction efficiency."
   ]
  },
  {
   "cell_type": "markdown",
   "metadata": {
    "id": "64xEpuPafx26"
   },
   "source": [
    "# **DEPLOYMENT = NO EDIT**"
   ]
  },
  {
   "cell_type": "markdown",
   "metadata": {
    "id": "ilSE72BSdU3R"
   },
   "source": [
    "**How useful is your model for interested parties (i.e., the companies or organizations that might want to use it for prediction)?** "
   ]
  },
  {
   "cell_type": "markdown",
   "metadata": {
    "id": "T2p8w8N_-O_d"
   },
   "source": [
    "Our models could be quite useful for different companies or organizations interested in putting together an e-sport betting portfolio."
   ]
  },
  {
   "cell_type": "markdown",
   "metadata": {
    "id": "Y0ru4eP-dbs8"
   },
   "source": [
    "**How would you measure the model's value if it was used by these parties?**"
   ]
  },
  {
   "cell_type": "markdown",
   "metadata": {
    "id": "dz6UgpuC-Tl3"
   },
   "source": [
    "When we look at the ROC curves for our classification tasks, we can see that the Random Forest model has the most area under the curve, therefore we can say with statistical certainty that the Random Forest model is the best for our classification task.\n",
    "\n",
    "As our prediction algorithms succeed or fail, we would be required to further tune our models. But the obvious metric from a gambling perspective would be the net gain to net loss ratio in dollars."
   ]
  },
  {
   "cell_type": "markdown",
   "metadata": {
    "id": "yT7ovqaJdeut"
   },
   "source": [
    "**How would you deploy your model for interested parties?** "
   ]
  },
  {
   "cell_type": "markdown",
   "metadata": {},
   "source": [
    "We could look to incorporate real-time information uploads to the model during tournament gameplay. Since PUBG gives out certain data via their PUBG Developer API, we should be capable to capturing the needed information and running evaluation metrics."
   ]
  },
  {
   "cell_type": "markdown",
   "metadata": {
    "id": "Dnod0I3-dh5H"
   },
   "source": [
    "**What other data should be collected?** "
   ]
  },
  {
   "cell_type": "markdown",
   "metadata": {},
   "source": [
    "One of the most pertinent pieces of information that could be included would be average survival time in-match. This would allow us to look at predicting how long a player may survive for. This could heavily influence prediction capabilities."
   ]
  },
  {
   "cell_type": "markdown",
   "metadata": {
    "id": "3Q1bTYuLdoQp"
   },
   "source": [
    "**How often would the model need to be updated, etc.?**"
   ]
  },
  {
   "cell_type": "markdown",
   "metadata": {},
   "source": [
    "The model would likely need to be updated every tournament cycle. We could look at more frequent updates or cross-platform deployment."
   ]
  },
  {
   "cell_type": "markdown",
   "metadata": {
    "id": "1oefI4CXf2Ch"
   },
   "source": [
    "# **EXCEPTIONAL WORK = NO EDIT**"
   ]
  },
  {
   "cell_type": "markdown",
   "metadata": {
    "id": "ajq-dSqvV_MD"
   },
   "source": [
    "1. Grid search = gridsearchCV used to tune hyperparameters.\n",
    "2. Adding new features = we built new variables for our models to predict (quart_binary is a new attribute we generated for the classification task).\n",
    "3. Data pre-processing and feature selection to optimize run-times (this was huge for us—so I'm proud of our updates to the dataset).\n",
    "4. Post-hoc analysis and data manipulation for ease of display.\n",
    "5. Attempts at mlxtend for 2-sample ttest were made. Significant issues were encountered with not enough resources available to troubleshoot. It appears that pipelines cannot be passed to mlxtend.evaluate.paired_ttest_5x2cv... though this was not apparent in any github notes.\n"
   ]
  }
 ],
 "metadata": {
  "colab": {
   "collapsed_sections": [],
   "name": "ML1_proj2.ipynb",
   "provenance": [],
   "toc_visible": true
  },
  "kernelspec": {
   "display_name": "Python 3 (ipykernel)",
   "language": "python",
   "name": "python3"
  },
  "language_info": {
   "codemirror_mode": {
    "name": "ipython",
    "version": 3
   },
   "file_extension": ".py",
   "mimetype": "text/x-python",
   "name": "python",
   "nbconvert_exporter": "python",
   "pygments_lexer": "ipython3",
   "version": "3.9.7"
  }
 },
 "nbformat": 4,
 "nbformat_minor": 4
}
