{
  "cells": [
    {
      "cell_type": "markdown",
      "metadata": {
        "id": "btvRe3bnBZ6H"
      },
      "source": [
        "# **Machine Learning 1**\n",
        "\n",
        "## **Mini-Lab: SVM & LR Classification**\n",
        "\n",
        "Randy Kim, Kati Schuerger, Will Sherman"
      ]
    },
    {
      "cell_type": "markdown",
      "metadata": {
        "id": "LCeCXLykCPba"
      },
      "source": [
        "The PlayerUnknown’s Battleground (also known as PUBG) Finish Placement Prediction Kaggle competition was posted to \"create a model which predicts players' finishing placement based on their final stats, on a scale from 1 (first place) to 0 (last place).\" We are continuing our analysis from **Lab One: \"Visualization and Data Preprocessing.\"** However, we will focus on response transformation to evaluate classification accuracy on quartiles of *winPlacePerc*, which we will evaluate in combination with 10-fold cross-validation\n",
        "\n",
        "*Note*: We are not performing all of the CRISP-DM outline, only the portions relevant to the grading rubric will be covered."
      ]
    },
    {
      "cell_type": "markdown",
      "source": [
        "#### Library & Data Import Methods ####"
      ],
      "metadata": {
        "id": "XzcfxtNApiJJ"
      }
    },
    {
      "cell_type": "code",
      "execution_count": null,
      "metadata": {
        "id": "lDesQrGZGJt5"
      },
      "outputs": [],
      "source": [
        "# load libraries\n",
        "import csv\n",
        "import numpy as np\n",
        "import pandas as pd\n",
        "import seaborn as sns\n",
        "import matplotlib.pyplot as plt\n",
        "from sklearn.discriminant_analysis import LinearDiscriminantAnalysis as LDA\n",
        "from IPython.display import Image\n",
        "\n",
        "from google.colab import files"
      ]
    },
    {
      "cell_type": "code",
      "execution_count": null,
      "metadata": {
        "id": "L7ThIIIyMucD"
      },
      "outputs": [],
      "source": [
        "# create object for kaggle json file to use kaggle API (to load in data)\n",
        "file = files.upload()"
      ]
    },
    {
      "cell_type": "code",
      "execution_count": null,
      "metadata": {
        "id": "bjvK6kkGMvm6"
      },
      "outputs": [],
      "source": [
        "# make directory to store the data files \n",
        "!mkdir ~/.kaggle\n",
        "# utilize kaggle.json\n",
        "!cp kaggle.json ~/.kaggle/\n",
        "# security settings so that individual user's credentials are passed in on local machine \n",
        "!chmod 600 ~/.kaggle/kaggle.json"
      ]
    },
    {
      "cell_type": "code",
      "execution_count": null,
      "metadata": {
        "id": "GER54eIGMvxk"
      },
      "outputs": [],
      "source": [
        "# load in the data files from kaggle website \n",
        "!kaggle competitions download -c pubg-finish-placement-prediction"
      ]
    },
    {
      "cell_type": "code",
      "execution_count": null,
      "metadata": {
        "id": "88rjGg1RNSsF"
      },
      "outputs": [],
      "source": [
        "# unzip the data files\n",
        "!unzip train_V2.csv.zip\n",
        "!unzip test_V2.csv.zip"
      ]
    },
    {
      "cell_type": "code",
      "execution_count": null,
      "metadata": {
        "id": "IXHfhYnmNbhs"
      },
      "outputs": [],
      "source": [
        "pubg_raw = pd.read_csv(\"train_V2.csv\")"
      ]
    },
    {
      "cell_type": "code",
      "execution_count": null,
      "metadata": {
        "id": "ImZ24bdKU7J9",
        "colab": {
          "base_uri": "https://localhost:8080/",
          "height": 270
        },
        "outputId": "41114cec-797f-4529-b962-e8e890e71d89"
      },
      "outputs": [
        {
          "output_type": "execute_result",
          "data": {
            "text/html": [
              "\n",
              "  <div id=\"df-0e0e575a-17bd-4c3a-93b9-91d8261f69db\">\n",
              "    <div class=\"colab-df-container\">\n",
              "      <div>\n",
              "<style scoped>\n",
              "    .dataframe tbody tr th:only-of-type {\n",
              "        vertical-align: middle;\n",
              "    }\n",
              "\n",
              "    .dataframe tbody tr th {\n",
              "        vertical-align: top;\n",
              "    }\n",
              "\n",
              "    .dataframe thead th {\n",
              "        text-align: right;\n",
              "    }\n",
              "</style>\n",
              "<table border=\"1\" class=\"dataframe\">\n",
              "  <thead>\n",
              "    <tr style=\"text-align: right;\">\n",
              "      <th></th>\n",
              "      <th>Id</th>\n",
              "      <th>groupId</th>\n",
              "      <th>matchId</th>\n",
              "      <th>assists</th>\n",
              "      <th>boosts</th>\n",
              "      <th>damageDealt</th>\n",
              "      <th>DBNOs</th>\n",
              "      <th>headshotKills</th>\n",
              "      <th>heals</th>\n",
              "      <th>killPlace</th>\n",
              "      <th>killPoints</th>\n",
              "      <th>kills</th>\n",
              "      <th>killStreaks</th>\n",
              "      <th>longestKill</th>\n",
              "      <th>matchDuration</th>\n",
              "      <th>matchType</th>\n",
              "      <th>maxPlace</th>\n",
              "      <th>numGroups</th>\n",
              "      <th>rankPoints</th>\n",
              "      <th>revives</th>\n",
              "      <th>rideDistance</th>\n",
              "      <th>roadKills</th>\n",
              "      <th>swimDistance</th>\n",
              "      <th>teamKills</th>\n",
              "      <th>vehicleDestroys</th>\n",
              "      <th>walkDistance</th>\n",
              "      <th>weaponsAcquired</th>\n",
              "      <th>winPoints</th>\n",
              "      <th>winPlacePerc</th>\n",
              "    </tr>\n",
              "  </thead>\n",
              "  <tbody>\n",
              "    <tr>\n",
              "      <th>0</th>\n",
              "      <td>7f96b2f878858a</td>\n",
              "      <td>4d4b580de459be</td>\n",
              "      <td>a10357fd1a4a91</td>\n",
              "      <td>0</td>\n",
              "      <td>0</td>\n",
              "      <td>0.00</td>\n",
              "      <td>0</td>\n",
              "      <td>0</td>\n",
              "      <td>0</td>\n",
              "      <td>60</td>\n",
              "      <td>1241</td>\n",
              "      <td>0</td>\n",
              "      <td>0</td>\n",
              "      <td>0.00</td>\n",
              "      <td>1306</td>\n",
              "      <td>squad-fpp</td>\n",
              "      <td>28</td>\n",
              "      <td>26</td>\n",
              "      <td>-1</td>\n",
              "      <td>0</td>\n",
              "      <td>0.0000</td>\n",
              "      <td>0</td>\n",
              "      <td>0.00</td>\n",
              "      <td>0</td>\n",
              "      <td>0</td>\n",
              "      <td>244.80</td>\n",
              "      <td>1</td>\n",
              "      <td>1466</td>\n",
              "      <td>0.4444</td>\n",
              "    </tr>\n",
              "    <tr>\n",
              "      <th>1</th>\n",
              "      <td>eef90569b9d03c</td>\n",
              "      <td>684d5656442f9e</td>\n",
              "      <td>aeb375fc57110c</td>\n",
              "      <td>0</td>\n",
              "      <td>0</td>\n",
              "      <td>91.47</td>\n",
              "      <td>0</td>\n",
              "      <td>0</td>\n",
              "      <td>0</td>\n",
              "      <td>57</td>\n",
              "      <td>0</td>\n",
              "      <td>0</td>\n",
              "      <td>0</td>\n",
              "      <td>0.00</td>\n",
              "      <td>1777</td>\n",
              "      <td>squad-fpp</td>\n",
              "      <td>26</td>\n",
              "      <td>25</td>\n",
              "      <td>1484</td>\n",
              "      <td>0</td>\n",
              "      <td>0.0045</td>\n",
              "      <td>0</td>\n",
              "      <td>11.04</td>\n",
              "      <td>0</td>\n",
              "      <td>0</td>\n",
              "      <td>1434.00</td>\n",
              "      <td>5</td>\n",
              "      <td>0</td>\n",
              "      <td>0.6400</td>\n",
              "    </tr>\n",
              "    <tr>\n",
              "      <th>2</th>\n",
              "      <td>1eaf90ac73de72</td>\n",
              "      <td>6a4a42c3245a74</td>\n",
              "      <td>110163d8bb94ae</td>\n",
              "      <td>1</td>\n",
              "      <td>0</td>\n",
              "      <td>68.00</td>\n",
              "      <td>0</td>\n",
              "      <td>0</td>\n",
              "      <td>0</td>\n",
              "      <td>47</td>\n",
              "      <td>0</td>\n",
              "      <td>0</td>\n",
              "      <td>0</td>\n",
              "      <td>0.00</td>\n",
              "      <td>1318</td>\n",
              "      <td>duo</td>\n",
              "      <td>50</td>\n",
              "      <td>47</td>\n",
              "      <td>1491</td>\n",
              "      <td>0</td>\n",
              "      <td>0.0000</td>\n",
              "      <td>0</td>\n",
              "      <td>0.00</td>\n",
              "      <td>0</td>\n",
              "      <td>0</td>\n",
              "      <td>161.80</td>\n",
              "      <td>2</td>\n",
              "      <td>0</td>\n",
              "      <td>0.7755</td>\n",
              "    </tr>\n",
              "    <tr>\n",
              "      <th>3</th>\n",
              "      <td>4616d365dd2853</td>\n",
              "      <td>a930a9c79cd721</td>\n",
              "      <td>f1f1f4ef412d7e</td>\n",
              "      <td>0</td>\n",
              "      <td>0</td>\n",
              "      <td>32.90</td>\n",
              "      <td>0</td>\n",
              "      <td>0</td>\n",
              "      <td>0</td>\n",
              "      <td>75</td>\n",
              "      <td>0</td>\n",
              "      <td>0</td>\n",
              "      <td>0</td>\n",
              "      <td>0.00</td>\n",
              "      <td>1436</td>\n",
              "      <td>squad-fpp</td>\n",
              "      <td>31</td>\n",
              "      <td>30</td>\n",
              "      <td>1408</td>\n",
              "      <td>0</td>\n",
              "      <td>0.0000</td>\n",
              "      <td>0</td>\n",
              "      <td>0.00</td>\n",
              "      <td>0</td>\n",
              "      <td>0</td>\n",
              "      <td>202.70</td>\n",
              "      <td>3</td>\n",
              "      <td>0</td>\n",
              "      <td>0.1667</td>\n",
              "    </tr>\n",
              "    <tr>\n",
              "      <th>4</th>\n",
              "      <td>315c96c26c9aac</td>\n",
              "      <td>de04010b3458dd</td>\n",
              "      <td>6dc8ff871e21e6</td>\n",
              "      <td>0</td>\n",
              "      <td>0</td>\n",
              "      <td>100.00</td>\n",
              "      <td>0</td>\n",
              "      <td>0</td>\n",
              "      <td>0</td>\n",
              "      <td>45</td>\n",
              "      <td>0</td>\n",
              "      <td>1</td>\n",
              "      <td>1</td>\n",
              "      <td>58.53</td>\n",
              "      <td>1424</td>\n",
              "      <td>solo-fpp</td>\n",
              "      <td>97</td>\n",
              "      <td>95</td>\n",
              "      <td>1560</td>\n",
              "      <td>0</td>\n",
              "      <td>0.0000</td>\n",
              "      <td>0</td>\n",
              "      <td>0.00</td>\n",
              "      <td>0</td>\n",
              "      <td>0</td>\n",
              "      <td>49.75</td>\n",
              "      <td>2</td>\n",
              "      <td>0</td>\n",
              "      <td>0.1875</td>\n",
              "    </tr>\n",
              "  </tbody>\n",
              "</table>\n",
              "</div>\n",
              "      <button class=\"colab-df-convert\" onclick=\"convertToInteractive('df-0e0e575a-17bd-4c3a-93b9-91d8261f69db')\"\n",
              "              title=\"Convert this dataframe to an interactive table.\"\n",
              "              style=\"display:none;\">\n",
              "        \n",
              "  <svg xmlns=\"http://www.w3.org/2000/svg\" height=\"24px\"viewBox=\"0 0 24 24\"\n",
              "       width=\"24px\">\n",
              "    <path d=\"M0 0h24v24H0V0z\" fill=\"none\"/>\n",
              "    <path d=\"M18.56 5.44l.94 2.06.94-2.06 2.06-.94-2.06-.94-.94-2.06-.94 2.06-2.06.94zm-11 1L8.5 8.5l.94-2.06 2.06-.94-2.06-.94L8.5 2.5l-.94 2.06-2.06.94zm10 10l.94 2.06.94-2.06 2.06-.94-2.06-.94-.94-2.06-.94 2.06-2.06.94z\"/><path d=\"M17.41 7.96l-1.37-1.37c-.4-.4-.92-.59-1.43-.59-.52 0-1.04.2-1.43.59L10.3 9.45l-7.72 7.72c-.78.78-.78 2.05 0 2.83L4 21.41c.39.39.9.59 1.41.59.51 0 1.02-.2 1.41-.59l7.78-7.78 2.81-2.81c.8-.78.8-2.07 0-2.86zM5.41 20L4 18.59l7.72-7.72 1.47 1.35L5.41 20z\"/>\n",
              "  </svg>\n",
              "      </button>\n",
              "      \n",
              "  <style>\n",
              "    .colab-df-container {\n",
              "      display:flex;\n",
              "      flex-wrap:wrap;\n",
              "      gap: 12px;\n",
              "    }\n",
              "\n",
              "    .colab-df-convert {\n",
              "      background-color: #E8F0FE;\n",
              "      border: none;\n",
              "      border-radius: 50%;\n",
              "      cursor: pointer;\n",
              "      display: none;\n",
              "      fill: #1967D2;\n",
              "      height: 32px;\n",
              "      padding: 0 0 0 0;\n",
              "      width: 32px;\n",
              "    }\n",
              "\n",
              "    .colab-df-convert:hover {\n",
              "      background-color: #E2EBFA;\n",
              "      box-shadow: 0px 1px 2px rgba(60, 64, 67, 0.3), 0px 1px 3px 1px rgba(60, 64, 67, 0.15);\n",
              "      fill: #174EA6;\n",
              "    }\n",
              "\n",
              "    [theme=dark] .colab-df-convert {\n",
              "      background-color: #3B4455;\n",
              "      fill: #D2E3FC;\n",
              "    }\n",
              "\n",
              "    [theme=dark] .colab-df-convert:hover {\n",
              "      background-color: #434B5C;\n",
              "      box-shadow: 0px 1px 3px 1px rgba(0, 0, 0, 0.15);\n",
              "      filter: drop-shadow(0px 1px 2px rgba(0, 0, 0, 0.3));\n",
              "      fill: #FFFFFF;\n",
              "    }\n",
              "  </style>\n",
              "\n",
              "      <script>\n",
              "        const buttonEl =\n",
              "          document.querySelector('#df-0e0e575a-17bd-4c3a-93b9-91d8261f69db button.colab-df-convert');\n",
              "        buttonEl.style.display =\n",
              "          google.colab.kernel.accessAllowed ? 'block' : 'none';\n",
              "\n",
              "        async function convertToInteractive(key) {\n",
              "          const element = document.querySelector('#df-0e0e575a-17bd-4c3a-93b9-91d8261f69db');\n",
              "          const dataTable =\n",
              "            await google.colab.kernel.invokeFunction('convertToInteractive',\n",
              "                                                     [key], {});\n",
              "          if (!dataTable) return;\n",
              "\n",
              "          const docLinkHtml = 'Like what you see? Visit the ' +\n",
              "            '<a target=\"_blank\" href=https://colab.research.google.com/notebooks/data_table.ipynb>data table notebook</a>'\n",
              "            + ' to learn more about interactive tables.';\n",
              "          element.innerHTML = '';\n",
              "          dataTable['output_type'] = 'display_data';\n",
              "          await google.colab.output.renderOutput(dataTable, element);\n",
              "          const docLink = document.createElement('div');\n",
              "          docLink.innerHTML = docLinkHtml;\n",
              "          element.appendChild(docLink);\n",
              "        }\n",
              "      </script>\n",
              "    </div>\n",
              "  </div>\n",
              "  "
            ],
            "text/plain": [
              "               Id         groupId  ... winPoints  winPlacePerc\n",
              "0  7f96b2f878858a  4d4b580de459be  ...      1466        0.4444\n",
              "1  eef90569b9d03c  684d5656442f9e  ...         0        0.6400\n",
              "2  1eaf90ac73de72  6a4a42c3245a74  ...         0        0.7755\n",
              "3  4616d365dd2853  a930a9c79cd721  ...         0        0.1667\n",
              "4  315c96c26c9aac  de04010b3458dd  ...         0        0.1875\n",
              "\n",
              "[5 rows x 29 columns]"
            ]
          },
          "metadata": {},
          "execution_count": 4
        }
      ],
      "source": [
        "pubg_raw.head()"
      ]
    },
    {
      "cell_type": "markdown",
      "source": [
        "### Data Evaluation & Transformation Prior to Modeling ###"
      ],
      "metadata": {
        "id": "yRSFZPvDpyIz"
      }
    },
    {
      "cell_type": "code",
      "execution_count": null,
      "metadata": {
        "id": "XEe4ufHfRNsr",
        "colab": {
          "base_uri": "https://localhost:8080/"
        },
        "outputId": "4e08c0f4-c4df-4132-d555-3eb378fb49a2"
      },
      "outputs": [
        {
          "output_type": "execute_result",
          "data": {
            "text/plain": [
              "False"
            ]
          },
          "metadata": {},
          "execution_count": 5
        }
      ],
      "source": [
        "# CREATE NEW DF TO INCLUDE OUR UPDATES\n",
        "# drop the record with missing value\n",
        "pubg_df = pubg_raw.dropna()\n",
        "pubg_df.isnull().values.any()"
      ]
    },
    {
      "cell_type": "markdown",
      "source": [
        "We utilized the analysis from **Lab 1** to inform our approach in dropping NA values as opposed to imputing them. For reference, there was only a single NA value."
      ],
      "metadata": {
        "id": "7fD5aqXrp8y9"
      }
    },
    {
      "cell_type": "code",
      "execution_count": null,
      "metadata": {
        "id": "8Z70upXUG2cS",
        "colab": {
          "base_uri": "https://localhost:8080/",
          "height": 282
        },
        "outputId": "9a92e378-dbe7-456e-c997-27d3c8125c96"
      },
      "outputs": [
        {
          "output_type": "execute_result",
          "data": {
            "text/plain": [
              "<matplotlib.axes._subplots.AxesSubplot at 0x7fcf07afcbd0>"
            ]
          },
          "metadata": {},
          "execution_count": 23
        },
        {
          "output_type": "display_data",
          "data": {
            "image/png": "[encoded data removed]",
            "text/plain": [
              "<Figure size 432x288 with 1 Axes>"
            ]
          },
          "metadata": {
            "needs_background": "light"
          }
        }
      ],
      "source": [
        "# boxplot of our target variable \n",
        "# data looks pretty well-distributed, possibly a little right-skewed\n",
        "# makes sense = would expect to have fewer records as the quartile increases \n",
        "pubg_df.loc[:, 'winPlacePerc'].plot(kind='box')"
      ]
    },
    {
      "cell_type": "markdown",
      "source": [
        "Our initial approach was to subdivide the players into quartiles and use a classification algorithm to sort players into these quartiles. However, to answer our question of interest, we really only need to predict players in the top (winning) quartile. We changed our methodology to reflect this classification task, and built the models as binary classifiers.\n",
        "\n",
        "*Given we may pursue incorporating a multiclass prediction model down the line, we have not removed the code to create the other 2 variables that we are not using for this exercise (quartlie and quart_int). Additionally, these were part of our learning process in changing course to build binary classification models.*"
      ],
      "metadata": {
        "id": "ySZOyb1uqWdd"
      }
    },
    {
      "cell_type": "code",
      "execution_count": null,
      "metadata": {
        "id": "TJava5yyJBLT",
        "colab": {
          "base_uri": "https://localhost:8080/",
          "height": 548
        },
        "outputId": "cec0e715-9062-43df-cfc3-9e0a3538dd85"
      },
      "outputs": [
        {
          "output_type": "stream",
          "name": "stderr",
          "text": [
            "/usr/local/lib/python3.7/dist-packages/ipykernel_launcher.py:11: SettingWithCopyWarning: \n",
            "A value is trying to be set on a copy of a slice from a DataFrame.\n",
            "Try using .loc[row_indexer,col_indexer] = value instead\n",
            "\n",
            "See the caveats in the documentation: https://pandas.pydata.org/pandas-docs/stable/user_guide/indexing.html#returning-a-view-versus-a-copy\n",
            "  # This is added back by InteractiveShellApp.init_path()\n",
            "/usr/local/lib/python3.7/dist-packages/ipykernel_launcher.py:17: SettingWithCopyWarning: \n",
            "A value is trying to be set on a copy of a slice from a DataFrame.\n",
            "Try using .loc[row_indexer,col_indexer] = value instead\n",
            "\n",
            "See the caveats in the documentation: https://pandas.pydata.org/pandas-docs/stable/user_guide/indexing.html#returning-a-view-versus-a-copy\n",
            "/usr/local/lib/python3.7/dist-packages/ipykernel_launcher.py:21: SettingWithCopyWarning: \n",
            "A value is trying to be set on a copy of a slice from a DataFrame.\n",
            "Try using .loc[row_indexer,col_indexer] = value instead\n",
            "\n",
            "See the caveats in the documentation: https://pandas.pydata.org/pandas-docs/stable/user_guide/indexing.html#returning-a-view-versus-a-copy\n"
          ]
        },
        {
          "output_type": "execute_result",
          "data": {
            "text/html": [
              "\n",
              "  <div id=\"df-8d2f1938-a0b5-4dbc-8968-9a8c93b2f59b\">\n",
              "    <div class=\"colab-df-container\">\n",
              "      <div>\n",
              "<style scoped>\n",
              "    .dataframe tbody tr th:only-of-type {\n",
              "        vertical-align: middle;\n",
              "    }\n",
              "\n",
              "    .dataframe tbody tr th {\n",
              "        vertical-align: top;\n",
              "    }\n",
              "\n",
              "    .dataframe thead th {\n",
              "        text-align: right;\n",
              "    }\n",
              "</style>\n",
              "<table border=\"1\" class=\"dataframe\">\n",
              "  <thead>\n",
              "    <tr style=\"text-align: right;\">\n",
              "      <th></th>\n",
              "      <th>Id</th>\n",
              "      <th>groupId</th>\n",
              "      <th>matchId</th>\n",
              "      <th>assists</th>\n",
              "      <th>boosts</th>\n",
              "      <th>damageDealt</th>\n",
              "      <th>DBNOs</th>\n",
              "      <th>headshotKills</th>\n",
              "      <th>heals</th>\n",
              "      <th>killPlace</th>\n",
              "      <th>killPoints</th>\n",
              "      <th>kills</th>\n",
              "      <th>killStreaks</th>\n",
              "      <th>longestKill</th>\n",
              "      <th>matchDuration</th>\n",
              "      <th>matchType</th>\n",
              "      <th>maxPlace</th>\n",
              "      <th>numGroups</th>\n",
              "      <th>rankPoints</th>\n",
              "      <th>revives</th>\n",
              "      <th>rideDistance</th>\n",
              "      <th>roadKills</th>\n",
              "      <th>swimDistance</th>\n",
              "      <th>teamKills</th>\n",
              "      <th>vehicleDestroys</th>\n",
              "      <th>walkDistance</th>\n",
              "      <th>weaponsAcquired</th>\n",
              "      <th>winPoints</th>\n",
              "      <th>winPlacePerc</th>\n",
              "      <th>quartile</th>\n",
              "      <th>quart_int</th>\n",
              "      <th>quart_binary</th>\n",
              "    </tr>\n",
              "  </thead>\n",
              "  <tbody>\n",
              "    <tr>\n",
              "      <th>0</th>\n",
              "      <td>7f96b2f878858a</td>\n",
              "      <td>4d4b580de459be</td>\n",
              "      <td>a10357fd1a4a91</td>\n",
              "      <td>0</td>\n",
              "      <td>0</td>\n",
              "      <td>0.00</td>\n",
              "      <td>0</td>\n",
              "      <td>0</td>\n",
              "      <td>0</td>\n",
              "      <td>60</td>\n",
              "      <td>1241</td>\n",
              "      <td>0</td>\n",
              "      <td>0</td>\n",
              "      <td>0.00</td>\n",
              "      <td>1306</td>\n",
              "      <td>squad-fpp</td>\n",
              "      <td>28</td>\n",
              "      <td>26</td>\n",
              "      <td>-1</td>\n",
              "      <td>0</td>\n",
              "      <td>0.0000</td>\n",
              "      <td>0</td>\n",
              "      <td>0.00</td>\n",
              "      <td>0</td>\n",
              "      <td>0</td>\n",
              "      <td>244.80</td>\n",
              "      <td>1</td>\n",
              "      <td>1466</td>\n",
              "      <td>0.4444</td>\n",
              "      <td>q2</td>\n",
              "      <td>2</td>\n",
              "      <td>0</td>\n",
              "    </tr>\n",
              "    <tr>\n",
              "      <th>1</th>\n",
              "      <td>eef90569b9d03c</td>\n",
              "      <td>684d5656442f9e</td>\n",
              "      <td>aeb375fc57110c</td>\n",
              "      <td>0</td>\n",
              "      <td>0</td>\n",
              "      <td>91.47</td>\n",
              "      <td>0</td>\n",
              "      <td>0</td>\n",
              "      <td>0</td>\n",
              "      <td>57</td>\n",
              "      <td>0</td>\n",
              "      <td>0</td>\n",
              "      <td>0</td>\n",
              "      <td>0.00</td>\n",
              "      <td>1777</td>\n",
              "      <td>squad-fpp</td>\n",
              "      <td>26</td>\n",
              "      <td>25</td>\n",
              "      <td>1484</td>\n",
              "      <td>0</td>\n",
              "      <td>0.0045</td>\n",
              "      <td>0</td>\n",
              "      <td>11.04</td>\n",
              "      <td>0</td>\n",
              "      <td>0</td>\n",
              "      <td>1434.00</td>\n",
              "      <td>5</td>\n",
              "      <td>0</td>\n",
              "      <td>0.6400</td>\n",
              "      <td>q3</td>\n",
              "      <td>3</td>\n",
              "      <td>0</td>\n",
              "    </tr>\n",
              "    <tr>\n",
              "      <th>2</th>\n",
              "      <td>1eaf90ac73de72</td>\n",
              "      <td>6a4a42c3245a74</td>\n",
              "      <td>110163d8bb94ae</td>\n",
              "      <td>1</td>\n",
              "      <td>0</td>\n",
              "      <td>68.00</td>\n",
              "      <td>0</td>\n",
              "      <td>0</td>\n",
              "      <td>0</td>\n",
              "      <td>47</td>\n",
              "      <td>0</td>\n",
              "      <td>0</td>\n",
              "      <td>0</td>\n",
              "      <td>0.00</td>\n",
              "      <td>1318</td>\n",
              "      <td>duo</td>\n",
              "      <td>50</td>\n",
              "      <td>47</td>\n",
              "      <td>1491</td>\n",
              "      <td>0</td>\n",
              "      <td>0.0000</td>\n",
              "      <td>0</td>\n",
              "      <td>0.00</td>\n",
              "      <td>0</td>\n",
              "      <td>0</td>\n",
              "      <td>161.80</td>\n",
              "      <td>2</td>\n",
              "      <td>0</td>\n",
              "      <td>0.7755</td>\n",
              "      <td>q4</td>\n",
              "      <td>4</td>\n",
              "      <td>1</td>\n",
              "    </tr>\n",
              "    <tr>\n",
              "      <th>3</th>\n",
              "      <td>4616d365dd2853</td>\n",
              "      <td>a930a9c79cd721</td>\n",
              "      <td>f1f1f4ef412d7e</td>\n",
              "      <td>0</td>\n",
              "      <td>0</td>\n",
              "      <td>32.90</td>\n",
              "      <td>0</td>\n",
              "      <td>0</td>\n",
              "      <td>0</td>\n",
              "      <td>75</td>\n",
              "      <td>0</td>\n",
              "      <td>0</td>\n",
              "      <td>0</td>\n",
              "      <td>0.00</td>\n",
              "      <td>1436</td>\n",
              "      <td>squad-fpp</td>\n",
              "      <td>31</td>\n",
              "      <td>30</td>\n",
              "      <td>1408</td>\n",
              "      <td>0</td>\n",
              "      <td>0.0000</td>\n",
              "      <td>0</td>\n",
              "      <td>0.00</td>\n",
              "      <td>0</td>\n",
              "      <td>0</td>\n",
              "      <td>202.70</td>\n",
              "      <td>3</td>\n",
              "      <td>0</td>\n",
              "      <td>0.1667</td>\n",
              "      <td>q1</td>\n",
              "      <td>1</td>\n",
              "      <td>0</td>\n",
              "    </tr>\n",
              "    <tr>\n",
              "      <th>4</th>\n",
              "      <td>315c96c26c9aac</td>\n",
              "      <td>de04010b3458dd</td>\n",
              "      <td>6dc8ff871e21e6</td>\n",
              "      <td>0</td>\n",
              "      <td>0</td>\n",
              "      <td>100.00</td>\n",
              "      <td>0</td>\n",
              "      <td>0</td>\n",
              "      <td>0</td>\n",
              "      <td>45</td>\n",
              "      <td>0</td>\n",
              "      <td>1</td>\n",
              "      <td>1</td>\n",
              "      <td>58.53</td>\n",
              "      <td>1424</td>\n",
              "      <td>solo-fpp</td>\n",
              "      <td>97</td>\n",
              "      <td>95</td>\n",
              "      <td>1560</td>\n",
              "      <td>0</td>\n",
              "      <td>0.0000</td>\n",
              "      <td>0</td>\n",
              "      <td>0.00</td>\n",
              "      <td>0</td>\n",
              "      <td>0</td>\n",
              "      <td>49.75</td>\n",
              "      <td>2</td>\n",
              "      <td>0</td>\n",
              "      <td>0.1875</td>\n",
              "      <td>q1</td>\n",
              "      <td>1</td>\n",
              "      <td>0</td>\n",
              "    </tr>\n",
              "  </tbody>\n",
              "</table>\n",
              "</div>\n",
              "      <button class=\"colab-df-convert\" onclick=\"convertToInteractive('df-8d2f1938-a0b5-4dbc-8968-9a8c93b2f59b')\"\n",
              "              title=\"Convert this dataframe to an interactive table.\"\n",
              "              style=\"display:none;\">\n",
              "        \n",
              "  <svg xmlns=\"http://www.w3.org/2000/svg\" height=\"24px\"viewBox=\"0 0 24 24\"\n",
              "       width=\"24px\">\n",
              "    <path d=\"M0 0h24v24H0V0z\" fill=\"none\"/>\n",
              "    <path d=\"M18.56 5.44l.94 2.06.94-2.06 2.06-.94-2.06-.94-.94-2.06-.94 2.06-2.06.94zm-11 1L8.5 8.5l.94-2.06 2.06-.94-2.06-.94L8.5 2.5l-.94 2.06-2.06.94zm10 10l.94 2.06.94-2.06 2.06-.94-2.06-.94-.94-2.06-.94 2.06-2.06.94z\"/><path d=\"M17.41 7.96l-1.37-1.37c-.4-.4-.92-.59-1.43-.59-.52 0-1.04.2-1.43.59L10.3 9.45l-7.72 7.72c-.78.78-.78 2.05 0 2.83L4 21.41c.39.39.9.59 1.41.59.51 0 1.02-.2 1.41-.59l7.78-7.78 2.81-2.81c.8-.78.8-2.07 0-2.86zM5.41 20L4 18.59l7.72-7.72 1.47 1.35L5.41 20z\"/>\n",
              "  </svg>\n",
              "      </button>\n",
              "      \n",
              "  <style>\n",
              "    .colab-df-container {\n",
              "      display:flex;\n",
              "      flex-wrap:wrap;\n",
              "      gap: 12px;\n",
              "    }\n",
              "\n",
              "    .colab-df-convert {\n",
              "      background-color: #E8F0FE;\n",
              "      border: none;\n",
              "      border-radius: 50%;\n",
              "      cursor: pointer;\n",
              "      display: none;\n",
              "      fill: #1967D2;\n",
              "      height: 32px;\n",
              "      padding: 0 0 0 0;\n",
              "      width: 32px;\n",
              "    }\n",
              "\n",
              "    .colab-df-convert:hover {\n",
              "      background-color: #E2EBFA;\n",
              "      box-shadow: 0px 1px 2px rgba(60, 64, 67, 0.3), 0px 1px 3px 1px rgba(60, 64, 67, 0.15);\n",
              "      fill: #174EA6;\n",
              "    }\n",
              "\n",
              "    [theme=dark] .colab-df-convert {\n",
              "      background-color: #3B4455;\n",
              "      fill: #D2E3FC;\n",
              "    }\n",
              "\n",
              "    [theme=dark] .colab-df-convert:hover {\n",
              "      background-color: #434B5C;\n",
              "      box-shadow: 0px 1px 3px 1px rgba(0, 0, 0, 0.15);\n",
              "      filter: drop-shadow(0px 1px 2px rgba(0, 0, 0, 0.3));\n",
              "      fill: #FFFFFF;\n",
              "    }\n",
              "  </style>\n",
              "\n",
              "      <script>\n",
              "        const buttonEl =\n",
              "          document.querySelector('#df-8d2f1938-a0b5-4dbc-8968-9a8c93b2f59b button.colab-df-convert');\n",
              "        buttonEl.style.display =\n",
              "          google.colab.kernel.accessAllowed ? 'block' : 'none';\n",
              "\n",
              "        async function convertToInteractive(key) {\n",
              "          const element = document.querySelector('#df-8d2f1938-a0b5-4dbc-8968-9a8c93b2f59b');\n",
              "          const dataTable =\n",
              "            await google.colab.kernel.invokeFunction('convertToInteractive',\n",
              "                                                     [key], {});\n",
              "          if (!dataTable) return;\n",
              "\n",
              "          const docLinkHtml = 'Like what you see? Visit the ' +\n",
              "            '<a target=\"_blank\" href=https://colab.research.google.com/notebooks/data_table.ipynb>data table notebook</a>'\n",
              "            + ' to learn more about interactive tables.';\n",
              "          element.innerHTML = '';\n",
              "          dataTable['output_type'] = 'display_data';\n",
              "          await google.colab.output.renderOutput(dataTable, element);\n",
              "          const docLink = document.createElement('div');\n",
              "          docLink.innerHTML = docLinkHtml;\n",
              "          element.appendChild(docLink);\n",
              "        }\n",
              "      </script>\n",
              "    </div>\n",
              "  </div>\n",
              "  "
            ],
            "text/plain": [
              "               Id         groupId  ... quart_int  quart_binary\n",
              "0  7f96b2f878858a  4d4b580de459be  ...         2             0\n",
              "1  eef90569b9d03c  684d5656442f9e  ...         3             0\n",
              "2  1eaf90ac73de72  6a4a42c3245a74  ...         4             1\n",
              "3  4616d365dd2853  a930a9c79cd721  ...         1             0\n",
              "4  315c96c26c9aac  de04010b3458dd  ...         1             0\n",
              "\n",
              "[5 rows x 32 columns]"
            ]
          },
          "metadata": {},
          "execution_count": 24
        }
      ],
      "source": [
        "# CREATE NEW COLUMN FOR QUARTILES = WE WILL REMOVE AND PREDICT \n",
        "\n",
        "# add new quartile vector to pubg_df\n",
        "# start with \"best guess\" quartiles \n",
        "\n",
        "## quartile variable = object datatype \n",
        "pubg_df['quartile'] = np.where(pubg_df.winPlacePerc < 0.25, 'q1', \n",
        "                       np.where(pubg_df.winPlacePerc < 0.5, 'q2',\n",
        "                                np.where(pubg_df.winPlacePerc < 0.75, 'q3',\n",
        "                                         np.where(pubg_df.winPlacePerc >= 0.75, 'q4',\n",
        "                                                  'other'))))\n",
        "## quart_int variable = numeric representation of the quartile that the record belongs to\n",
        "pubg_df['quart_int'] = np.where(pubg_df.winPlacePerc < 0.25, '1', \n",
        "                       np.where(pubg_df.winPlacePerc < 0.50, '2',\n",
        "                                np.where(pubg_df.winPlacePerc < 0.75, '3',\n",
        "                                         np.where(pubg_df.winPlacePerc >= 0.75, '4',\n",
        "                                                  'other'))))\n",
        "## quart_binary = binary variable where 1 = record is in the top quartile \n",
        "pubg_df['quart_binary'] = np.where(pubg_df.winPlacePerc < 0.75, '0',\n",
        "                                         np.where(pubg_df.winPlacePerc >= 0.75, '1',\n",
        "                                                  'other'))\n",
        "pubg_df.head()"
      ]
    },
    {
      "cell_type": "code",
      "execution_count": null,
      "metadata": {
        "id": "42GOJ24zdGQI",
        "colab": {
          "base_uri": "https://localhost:8080/"
        },
        "outputId": "524ea5d4-645a-49d7-d802-5fc8018183a5"
      },
      "outputs": [
        {
          "output_type": "stream",
          "name": "stdout",
          "text": [
            "Percentage of players in Quartile 1: 29.70%\n",
            "Percentage of players in Quartile 2: 23.49%\n",
            "Percentage of players in Quartile 3: 22.18%\n",
            "Percentage of players in Quartile 4: 24.64%\n",
            "Miscategorized quartile values:   0\n"
          ]
        }
      ],
      "source": [
        "# check the spread of our quartiles\n",
        "quartiles = np.append(sorted(pubg_df.quartile.unique()), 'other')\n",
        "e = 1\n",
        "\n",
        "for i in quartiles:\n",
        "    if e < len(quartiles):\n",
        "        count = len(pubg_df[pubg_df.quartile == i])\n",
        "        print('Percentage of players in Quartile {}: {:.2f}%'.format(e, \n",
        "                                                                 (count / (len(pubg_df.quartile))*100)))\n",
        "        e += 1\n",
        "    else:\n",
        "        count = len(pubg_df[pubg_df.quartile == i])\n",
        "        print('Miscategorized quartile values:  ', count)"
      ]
    },
    {
      "cell_type": "markdown",
      "metadata": {
        "id": "5HAlHplohI0g"
      },
      "source": [
        "Our data is fairly equally distributed among the 4 quartiles using our \"straight cut\" initial approach; we think it can be even better. Next, we will update our dataset with equal representation for all 4 quartiles. "
      ]
    },
    {
      "cell_type": "code",
      "execution_count": null,
      "metadata": {
        "id": "pUri1Ay5g-w5"
      },
      "outputs": [],
      "source": [
        "# GATHER INFO TO EQUAL OUT OUR QARTILES \n",
        "# pull out the winPlacePerc column\n",
        "winPlace = pubg_df.loc[:,'winPlacePerc']\n",
        "\n",
        "# get quartile thresholds for equal allocation |\n",
        "print('Quartile 1 threshold: {:.2f}'.format(winPlace.quantile(0.25)))\n",
        "print('Quartile 2 threshold: {:.2f}'.format(winPlace.quantile(0.5)))\n",
        "print('Quartile 3 threshold: {:.2f}'.format(winPlace.quantile(0.75)))"
      ]
    },
    {
      "cell_type": "markdown",
      "metadata": {
        "id": "tM7wJSODddpf"
      },
      "source": [
        "This tells us that the thresholds between quartiles in our data are a little different from the \"basic\" quartiles split (0.25, 0.5, 0.75).\n",
        "\n",
        "We will adjust our thresholds in the 'quartile' column, to reflect the revised thresholds (derived from the actual data)."
      ]
    },
    {
      "cell_type": "code",
      "execution_count": null,
      "metadata": {
        "id": "l8JsXzTtjrhv",
        "colab": {
          "base_uri": "https://localhost:8080/",
          "height": 583
        },
        "outputId": "cf7d8feb-e0ae-4d8c-b1b5-ad2e176d15bb"
      },
      "outputs": [
        {
          "output_type": "stream",
          "name": "stderr",
          "text": [
            "/usr/local/lib/python3.7/dist-packages/ipykernel_launcher.py:7: SettingWithCopyWarning: \n",
            "A value is trying to be set on a copy of a slice from a DataFrame.\n",
            "Try using .loc[row_indexer,col_indexer] = value instead\n",
            "\n",
            "See the caveats in the documentation: https://pandas.pydata.org/pandas-docs/stable/user_guide/indexing.html#returning-a-view-versus-a-copy\n",
            "  import sys\n",
            "/usr/local/lib/python3.7/dist-packages/ipykernel_launcher.py:12: SettingWithCopyWarning: \n",
            "A value is trying to be set on a copy of a slice from a DataFrame.\n",
            "Try using .loc[row_indexer,col_indexer] = value instead\n",
            "\n",
            "See the caveats in the documentation: https://pandas.pydata.org/pandas-docs/stable/user_guide/indexing.html#returning-a-view-versus-a-copy\n",
            "  if sys.path[0] == '':\n",
            "/usr/local/lib/python3.7/dist-packages/ipykernel_launcher.py:15: SettingWithCopyWarning: \n",
            "A value is trying to be set on a copy of a slice from a DataFrame.\n",
            "Try using .loc[row_indexer,col_indexer] = value instead\n",
            "\n",
            "See the caveats in the documentation: https://pandas.pydata.org/pandas-docs/stable/user_guide/indexing.html#returning-a-view-versus-a-copy\n",
            "  from ipykernel import kernelapp as app\n"
          ]
        },
        {
          "output_type": "execute_result",
          "data": {
            "text/html": [
              "\n",
              "  <div id=\"df-80157f31-cf1f-4bfc-8b0e-7fcd6d8d1292\">\n",
              "    <div class=\"colab-df-container\">\n",
              "      <div>\n",
              "<style scoped>\n",
              "    .dataframe tbody tr th:only-of-type {\n",
              "        vertical-align: middle;\n",
              "    }\n",
              "\n",
              "    .dataframe tbody tr th {\n",
              "        vertical-align: top;\n",
              "    }\n",
              "\n",
              "    .dataframe thead th {\n",
              "        text-align: right;\n",
              "    }\n",
              "</style>\n",
              "<table border=\"1\" class=\"dataframe\">\n",
              "  <thead>\n",
              "    <tr style=\"text-align: right;\">\n",
              "      <th></th>\n",
              "      <th>Id</th>\n",
              "      <th>groupId</th>\n",
              "      <th>matchId</th>\n",
              "      <th>assists</th>\n",
              "      <th>boosts</th>\n",
              "      <th>damageDealt</th>\n",
              "      <th>DBNOs</th>\n",
              "      <th>headshotKills</th>\n",
              "      <th>heals</th>\n",
              "      <th>killPlace</th>\n",
              "      <th>killPoints</th>\n",
              "      <th>kills</th>\n",
              "      <th>killStreaks</th>\n",
              "      <th>longestKill</th>\n",
              "      <th>matchDuration</th>\n",
              "      <th>matchType</th>\n",
              "      <th>maxPlace</th>\n",
              "      <th>numGroups</th>\n",
              "      <th>rankPoints</th>\n",
              "      <th>revives</th>\n",
              "      <th>rideDistance</th>\n",
              "      <th>roadKills</th>\n",
              "      <th>swimDistance</th>\n",
              "      <th>teamKills</th>\n",
              "      <th>vehicleDestroys</th>\n",
              "      <th>walkDistance</th>\n",
              "      <th>weaponsAcquired</th>\n",
              "      <th>winPoints</th>\n",
              "      <th>winPlacePerc</th>\n",
              "      <th>quartile</th>\n",
              "      <th>quart_int</th>\n",
              "      <th>quart_binary</th>\n",
              "    </tr>\n",
              "  </thead>\n",
              "  <tbody>\n",
              "    <tr>\n",
              "      <th>0</th>\n",
              "      <td>7f96b2f878858a</td>\n",
              "      <td>4d4b580de459be</td>\n",
              "      <td>a10357fd1a4a91</td>\n",
              "      <td>0</td>\n",
              "      <td>0</td>\n",
              "      <td>0.00</td>\n",
              "      <td>0</td>\n",
              "      <td>0</td>\n",
              "      <td>0</td>\n",
              "      <td>60</td>\n",
              "      <td>1241</td>\n",
              "      <td>0</td>\n",
              "      <td>0</td>\n",
              "      <td>0.00</td>\n",
              "      <td>1306</td>\n",
              "      <td>squad-fpp</td>\n",
              "      <td>28</td>\n",
              "      <td>26</td>\n",
              "      <td>-1</td>\n",
              "      <td>0</td>\n",
              "      <td>0.0000</td>\n",
              "      <td>0</td>\n",
              "      <td>0.00</td>\n",
              "      <td>0</td>\n",
              "      <td>0</td>\n",
              "      <td>244.80</td>\n",
              "      <td>1</td>\n",
              "      <td>1466</td>\n",
              "      <td>0.4444</td>\n",
              "      <td>q2</td>\n",
              "      <td>2</td>\n",
              "      <td>0</td>\n",
              "    </tr>\n",
              "    <tr>\n",
              "      <th>1</th>\n",
              "      <td>eef90569b9d03c</td>\n",
              "      <td>684d5656442f9e</td>\n",
              "      <td>aeb375fc57110c</td>\n",
              "      <td>0</td>\n",
              "      <td>0</td>\n",
              "      <td>91.47</td>\n",
              "      <td>0</td>\n",
              "      <td>0</td>\n",
              "      <td>0</td>\n",
              "      <td>57</td>\n",
              "      <td>0</td>\n",
              "      <td>0</td>\n",
              "      <td>0</td>\n",
              "      <td>0.00</td>\n",
              "      <td>1777</td>\n",
              "      <td>squad-fpp</td>\n",
              "      <td>26</td>\n",
              "      <td>25</td>\n",
              "      <td>1484</td>\n",
              "      <td>0</td>\n",
              "      <td>0.0045</td>\n",
              "      <td>0</td>\n",
              "      <td>11.04</td>\n",
              "      <td>0</td>\n",
              "      <td>0</td>\n",
              "      <td>1434.00</td>\n",
              "      <td>5</td>\n",
              "      <td>0</td>\n",
              "      <td>0.6400</td>\n",
              "      <td>q3</td>\n",
              "      <td>3</td>\n",
              "      <td>0</td>\n",
              "    </tr>\n",
              "    <tr>\n",
              "      <th>2</th>\n",
              "      <td>1eaf90ac73de72</td>\n",
              "      <td>6a4a42c3245a74</td>\n",
              "      <td>110163d8bb94ae</td>\n",
              "      <td>1</td>\n",
              "      <td>0</td>\n",
              "      <td>68.00</td>\n",
              "      <td>0</td>\n",
              "      <td>0</td>\n",
              "      <td>0</td>\n",
              "      <td>47</td>\n",
              "      <td>0</td>\n",
              "      <td>0</td>\n",
              "      <td>0</td>\n",
              "      <td>0.00</td>\n",
              "      <td>1318</td>\n",
              "      <td>duo</td>\n",
              "      <td>50</td>\n",
              "      <td>47</td>\n",
              "      <td>1491</td>\n",
              "      <td>0</td>\n",
              "      <td>0.0000</td>\n",
              "      <td>0</td>\n",
              "      <td>0.00</td>\n",
              "      <td>0</td>\n",
              "      <td>0</td>\n",
              "      <td>161.80</td>\n",
              "      <td>2</td>\n",
              "      <td>0</td>\n",
              "      <td>0.7755</td>\n",
              "      <td>q4</td>\n",
              "      <td>4</td>\n",
              "      <td>1</td>\n",
              "    </tr>\n",
              "    <tr>\n",
              "      <th>3</th>\n",
              "      <td>4616d365dd2853</td>\n",
              "      <td>a930a9c79cd721</td>\n",
              "      <td>f1f1f4ef412d7e</td>\n",
              "      <td>0</td>\n",
              "      <td>0</td>\n",
              "      <td>32.90</td>\n",
              "      <td>0</td>\n",
              "      <td>0</td>\n",
              "      <td>0</td>\n",
              "      <td>75</td>\n",
              "      <td>0</td>\n",
              "      <td>0</td>\n",
              "      <td>0</td>\n",
              "      <td>0.00</td>\n",
              "      <td>1436</td>\n",
              "      <td>squad-fpp</td>\n",
              "      <td>31</td>\n",
              "      <td>30</td>\n",
              "      <td>1408</td>\n",
              "      <td>0</td>\n",
              "      <td>0.0000</td>\n",
              "      <td>0</td>\n",
              "      <td>0.00</td>\n",
              "      <td>0</td>\n",
              "      <td>0</td>\n",
              "      <td>202.70</td>\n",
              "      <td>3</td>\n",
              "      <td>0</td>\n",
              "      <td>0.1667</td>\n",
              "      <td>q1</td>\n",
              "      <td>1</td>\n",
              "      <td>0</td>\n",
              "    </tr>\n",
              "    <tr>\n",
              "      <th>4</th>\n",
              "      <td>315c96c26c9aac</td>\n",
              "      <td>de04010b3458dd</td>\n",
              "      <td>6dc8ff871e21e6</td>\n",
              "      <td>0</td>\n",
              "      <td>0</td>\n",
              "      <td>100.00</td>\n",
              "      <td>0</td>\n",
              "      <td>0</td>\n",
              "      <td>0</td>\n",
              "      <td>45</td>\n",
              "      <td>0</td>\n",
              "      <td>1</td>\n",
              "      <td>1</td>\n",
              "      <td>58.53</td>\n",
              "      <td>1424</td>\n",
              "      <td>solo-fpp</td>\n",
              "      <td>97</td>\n",
              "      <td>95</td>\n",
              "      <td>1560</td>\n",
              "      <td>0</td>\n",
              "      <td>0.0000</td>\n",
              "      <td>0</td>\n",
              "      <td>0.00</td>\n",
              "      <td>0</td>\n",
              "      <td>0</td>\n",
              "      <td>49.75</td>\n",
              "      <td>2</td>\n",
              "      <td>0</td>\n",
              "      <td>0.1875</td>\n",
              "      <td>q1</td>\n",
              "      <td>1</td>\n",
              "      <td>0</td>\n",
              "    </tr>\n",
              "  </tbody>\n",
              "</table>\n",
              "</div>\n",
              "      <button class=\"colab-df-convert\" onclick=\"convertToInteractive('df-80157f31-cf1f-4bfc-8b0e-7fcd6d8d1292')\"\n",
              "              title=\"Convert this dataframe to an interactive table.\"\n",
              "              style=\"display:none;\">\n",
              "        \n",
              "  <svg xmlns=\"http://www.w3.org/2000/svg\" height=\"24px\"viewBox=\"0 0 24 24\"\n",
              "       width=\"24px\">\n",
              "    <path d=\"M0 0h24v24H0V0z\" fill=\"none\"/>\n",
              "    <path d=\"M18.56 5.44l.94 2.06.94-2.06 2.06-.94-2.06-.94-.94-2.06-.94 2.06-2.06.94zm-11 1L8.5 8.5l.94-2.06 2.06-.94-2.06-.94L8.5 2.5l-.94 2.06-2.06.94zm10 10l.94 2.06.94-2.06 2.06-.94-2.06-.94-.94-2.06-.94 2.06-2.06.94z\"/><path d=\"M17.41 7.96l-1.37-1.37c-.4-.4-.92-.59-1.43-.59-.52 0-1.04.2-1.43.59L10.3 9.45l-7.72 7.72c-.78.78-.78 2.05 0 2.83L4 21.41c.39.39.9.59 1.41.59.51 0 1.02-.2 1.41-.59l7.78-7.78 2.81-2.81c.8-.78.8-2.07 0-2.86zM5.41 20L4 18.59l7.72-7.72 1.47 1.35L5.41 20z\"/>\n",
              "  </svg>\n",
              "      </button>\n",
              "      \n",
              "  <style>\n",
              "    .colab-df-container {\n",
              "      display:flex;\n",
              "      flex-wrap:wrap;\n",
              "      gap: 12px;\n",
              "    }\n",
              "\n",
              "    .colab-df-convert {\n",
              "      background-color: #E8F0FE;\n",
              "      border: none;\n",
              "      border-radius: 50%;\n",
              "      cursor: pointer;\n",
              "      display: none;\n",
              "      fill: #1967D2;\n",
              "      height: 32px;\n",
              "      padding: 0 0 0 0;\n",
              "      width: 32px;\n",
              "    }\n",
              "\n",
              "    .colab-df-convert:hover {\n",
              "      background-color: #E2EBFA;\n",
              "      box-shadow: 0px 1px 2px rgba(60, 64, 67, 0.3), 0px 1px 3px 1px rgba(60, 64, 67, 0.15);\n",
              "      fill: #174EA6;\n",
              "    }\n",
              "\n",
              "    [theme=dark] .colab-df-convert {\n",
              "      background-color: #3B4455;\n",
              "      fill: #D2E3FC;\n",
              "    }\n",
              "\n",
              "    [theme=dark] .colab-df-convert:hover {\n",
              "      background-color: #434B5C;\n",
              "      box-shadow: 0px 1px 3px 1px rgba(0, 0, 0, 0.15);\n",
              "      filter: drop-shadow(0px 1px 2px rgba(0, 0, 0, 0.3));\n",
              "      fill: #FFFFFF;\n",
              "    }\n",
              "  </style>\n",
              "\n",
              "      <script>\n",
              "        const buttonEl =\n",
              "          document.querySelector('#df-80157f31-cf1f-4bfc-8b0e-7fcd6d8d1292 button.colab-df-convert');\n",
              "        buttonEl.style.display =\n",
              "          google.colab.kernel.accessAllowed ? 'block' : 'none';\n",
              "\n",
              "        async function convertToInteractive(key) {\n",
              "          const element = document.querySelector('#df-80157f31-cf1f-4bfc-8b0e-7fcd6d8d1292');\n",
              "          const dataTable =\n",
              "            await google.colab.kernel.invokeFunction('convertToInteractive',\n",
              "                                                     [key], {});\n",
              "          if (!dataTable) return;\n",
              "\n",
              "          const docLinkHtml = 'Like what you see? Visit the ' +\n",
              "            '<a target=\"_blank\" href=https://colab.research.google.com/notebooks/data_table.ipynb>data table notebook</a>'\n",
              "            + ' to learn more about interactive tables.';\n",
              "          element.innerHTML = '';\n",
              "          dataTable['output_type'] = 'display_data';\n",
              "          await google.colab.output.renderOutput(dataTable, element);\n",
              "          const docLink = document.createElement('div');\n",
              "          docLink.innerHTML = docLinkHtml;\n",
              "          element.appendChild(docLink);\n",
              "        }\n",
              "      </script>\n",
              "    </div>\n",
              "  </div>\n",
              "  "
            ],
            "text/plain": [
              "               Id         groupId  ... quart_int  quart_binary\n",
              "0  7f96b2f878858a  4d4b580de459be  ...         2             0\n",
              "1  eef90569b9d03c  684d5656442f9e  ...         3             0\n",
              "2  1eaf90ac73de72  6a4a42c3245a74  ...         4             1\n",
              "3  4616d365dd2853  a930a9c79cd721  ...         1             0\n",
              "4  315c96c26c9aac  de04010b3458dd  ...         1             0\n",
              "\n",
              "[5 rows x 32 columns]"
            ]
          },
          "metadata": {},
          "execution_count": 6
        }
      ],
      "source": [
        "# overwrite quantile vector with updated thresholds \n",
        "# (to create equal distribution among the quantiles)\n",
        "pubg_df['quartile'] = np.where(pubg_df.winPlacePerc < 0.20, 'q1', \n",
        "                       np.where(pubg_df.winPlacePerc < 0.46, 'q2',\n",
        "                                np.where(pubg_df.winPlacePerc < 0.74, 'q3',\n",
        "                                         np.where(pubg_df.winPlacePerc >= 0.74, 'q4',\n",
        "                                                  'other'))))\n",
        "pubg_df['quart_int'] = np.where(pubg_df.winPlacePerc < 0.20, '1', \n",
        "                       np.where(pubg_df.winPlacePerc < 0.46, '2',\n",
        "                                np.where(pubg_df.winPlacePerc < 0.74, '3',\n",
        "                                         np.where(pubg_df.winPlacePerc >= 0.74, '4',\n",
        "                                                  'other'))))\n",
        "pubg_df['quart_binary'] = np.where(pubg_df.winPlacePerc < 0.74, '0',\n",
        "                                         np.where(pubg_df.winPlacePerc >= 0.74, '1',\n",
        "                                                  'other'))\n",
        "pubg_df.head()"
      ]
    },
    {
      "cell_type": "code",
      "execution_count": null,
      "metadata": {
        "id": "HuP48wMug8qD",
        "colab": {
          "base_uri": "https://localhost:8080/"
        },
        "outputId": "ca47feb7-4dd8-43f1-8a68-7943f810d405"
      },
      "outputs": [
        {
          "output_type": "stream",
          "name": "stdout",
          "text": [
            "Percentage of players in Quartile 1: 24.90%\n",
            "Percentage of players in Quartile 2: 25.19%\n",
            "Percentage of players in Quartile 3: 24.53%\n",
            "Percentage of players in Quartile 4: 25.38%\n",
            "Miscategorized quartile values:   0\n"
          ]
        }
      ],
      "source": [
        "# check the spread of our quartiles\n",
        "# make sure they are more equal\n",
        "\n",
        "quartiles = np.append(sorted(pubg_df.quartile.unique()), 'other')\n",
        "e = 1\n",
        "\n",
        "for i in quartiles:\n",
        "    if e < len(quartiles):\n",
        "        count = len(pubg_df[pubg_df.quartile == i])\n",
        "        print('Percentage of players in Quartile {}: {:.2f}%'.format(e, \n",
        "                                                                 (count / (len(pubg_df.quartile))*100)))\n",
        "        e += 1\n",
        "    else:\n",
        "        count = len(pubg_df[pubg_df.quartile == i])\n",
        "        print('Miscategorized quartile values:  ', count)"
      ]
    },
    {
      "cell_type": "markdown",
      "metadata": {
        "id": "bQ7E8g6yeSCy"
      },
      "source": [
        "Data is now more equally distributed across the 4 quartiles. "
      ]
    },
    {
      "cell_type": "code",
      "execution_count": null,
      "metadata": {
        "id": "c9NmVeW_oYMu"
      },
      "outputs": [],
      "source": [
        "# REMOVE UNUSEFUL 'OBJECT' (DATATYPE) VARIABLES \n",
        "del pubg_df['Id']\n",
        "del pubg_df['groupId']\n",
        "del pubg_df['matchId']\n",
        "del pubg_df['matchType']"
      ]
    },
    {
      "cell_type": "markdown",
      "source": [
        "The *Id*, *groupId*, and *matchId* features are important for distinguishing distinct players, groups, and matches as part of the original kaggle competition. However, these are not good predictors for our binary classification problem—each triplet will be unique. Therefore, these three are dropped as non-essential.\n",
        "\n",
        "The *matchType* variable was previously identified as having low correlation and predictive power with respect to the original (continuous) response variable, *winPlacePerc*. As such, we opted to remove it from our predictors.\n",
        "\n",
        "*Note*: Analysis on *matchType* was provided in **Lab 1** as part of the **EXPLORE ATTRIBUTES & CLASS** section."
      ],
      "metadata": {
        "id": "xpKEprbssIff"
      }
    },
    {
      "cell_type": "code",
      "execution_count": null,
      "metadata": {
        "id": "Gxor9WpnN9ZQ",
        "colab": {
          "base_uri": "https://localhost:8080/"
        },
        "outputId": "ce36bb48-7589-47d4-ee84-4777dd7a93e8"
      },
      "outputs": [
        {
          "output_type": "stream",
          "name": "stdout",
          "text": [
            "['assists', 'boosts', 'damageDealt', 'DBNOs', 'headshotKills', 'heals', 'killPlace', 'killPoints', 'kills', 'killStreaks', 'longestKill', 'matchDuration', 'maxPlace', 'numGroups', 'rankPoints', 'revives', 'rideDistance', 'roadKills', 'swimDistance', 'teamKills', 'vehicleDestroys', 'walkDistance', 'weaponsAcquired', 'winPoints']\n"
          ]
        }
      ],
      "source": [
        "# FEATURE COLUMN NAMES\n",
        "\n",
        "#  get column names to use in our logistic regression model \n",
        "cols_df = pubg_df.columns.values.tolist()\n",
        "cols_df.remove('winPlacePerc') # remove target variable 1 (continuous)\n",
        "cols_df.remove('quartile') # remove target variable 2 (categorical)\n",
        "cols_df.remove('quart_int') # remove target variable 2 (numeric representation)\n",
        "cols_df.remove('quart_binary')\n",
        "print(cols_df)"
      ]
    },
    {
      "cell_type": "markdown",
      "source": [
        "Below we re-evaluate the features we have transformed and selected. Above, the **Feature Column Names** code block lists the predictors we will utilize to create the logistic regression model and support vector machine model for the classification task."
      ],
      "metadata": {
        "id": "MyYaths9t3Ki"
      }
    },
    {
      "cell_type": "code",
      "execution_count": null,
      "metadata": {
        "id": "HV150odZD_Nl",
        "colab": {
          "base_uri": "https://localhost:8080/"
        },
        "outputId": "4615a468-81a5-426f-8f71-24d96a3ca51a"
      },
      "outputs": [
        {
          "output_type": "stream",
          "name": "stdout",
          "text": [
            "<class 'pandas.core.frame.DataFrame'>\n",
            "Int64Index: 4446965 entries, 0 to 4446965\n",
            "Data columns (total 28 columns):\n",
            " #   Column           Dtype  \n",
            "---  ------           -----  \n",
            " 0   assists          int64  \n",
            " 1   boosts           int64  \n",
            " 2   damageDealt      float64\n",
            " 3   DBNOs            int64  \n",
            " 4   headshotKills    int64  \n",
            " 5   heals            int64  \n",
            " 6   killPlace        int64  \n",
            " 7   killPoints       int64  \n",
            " 8   kills            int64  \n",
            " 9   killStreaks      int64  \n",
            " 10  longestKill      float64\n",
            " 11  matchDuration    int64  \n",
            " 12  maxPlace         int64  \n",
            " 13  numGroups        int64  \n",
            " 14  rankPoints       int64  \n",
            " 15  revives          int64  \n",
            " 16  rideDistance     float64\n",
            " 17  roadKills        int64  \n",
            " 18  swimDistance     float64\n",
            " 19  teamKills        int64  \n",
            " 20  vehicleDestroys  int64  \n",
            " 21  walkDistance     float64\n",
            " 22  weaponsAcquired  int64  \n",
            " 23  winPoints        int64  \n",
            " 24  winPlacePerc     float64\n",
            " 25  quartile         object \n",
            " 26  quart_int        object \n",
            " 27  quart_binary     object \n",
            "dtypes: float64(6), int64(19), object(3)\n",
            "memory usage: 983.9+ MB\n"
          ]
        }
      ],
      "source": [
        "pubg_df.info()"
      ]
    },
    {
      "cell_type": "markdown",
      "source": [
        "## **CREATE MODELS** ##"
      ],
      "metadata": {
        "id": "xP8PkOWXuyM9"
      }
    },
    {
      "cell_type": "markdown",
      "source": [
        "Our initial approach (below) was to use unscaled data and fit a model we have more familiarity with: logistic regression.\n",
        "\n",
        "This model will be referred to as **simple logit** when discussing advantages and disadvantages."
      ],
      "metadata": {
        "id": "1QSGVJS6vSp4"
      }
    },
    {
      "cell_type": "code",
      "execution_count": null,
      "metadata": {
        "id": "e8mP_--yOaV0",
        "colab": {
          "base_uri": "https://localhost:8080/"
        },
        "outputId": "2eaddb19-c34b-4ca7-f58e-df964d3ddbd9"
      },
      "outputs": [
        {
          "output_type": "stream",
          "name": "stderr",
          "text": [
            "/usr/local/lib/python3.7/dist-packages/sklearn/linear_model/_logistic.py:818: ConvergenceWarning: lbfgs failed to converge (status=1):\n",
            "STOP: TOTAL NO. of ITERATIONS REACHED LIMIT.\n",
            "\n",
            "Increase the number of iterations (max_iter) or scale the data as shown in:\n",
            "    https://scikit-learn.org/stable/modules/preprocessing.html\n",
            "Please also refer to the documentation for alternative solver options:\n",
            "    https://scikit-learn.org/stable/modules/linear_model.html#logistic-regression\n",
            "  extra_warning_msg=_LOGISTIC_SOLVER_CONVERGENCE_MSG,\n"
          ]
        },
        {
          "output_type": "stream",
          "name": "stdout",
          "text": [
            "Logistic Regression Simple Score: 70.85%\n"
          ]
        }
      ],
      "source": [
        "## WAS ABLE TO GET THIS TO PRODUCE RESULT ON \n",
        "## MULTICLASS TARGET VARIABLE QUARTILE \n",
        "## APPROX 71% ACCURACY \n",
        "\n",
        "## NEW TEST\n",
        "## Create Logistic Regression Model & Score Model using train, test, split\n",
        "\n",
        "from sklearn import model_selection\n",
        "from sklearn.model_selection import train_test_split\n",
        "from sklearn.linear_model import LogisticRegression\n",
        "from sklearn import metrics as mt\n",
        "\n",
        "feature_cols = cols_df\n",
        "X = pubg_df.loc[:, feature_cols]\n",
        "y = pubg_df.loc[:, 'quartile']\n",
        "X_train, X_test, y_train, y_test = model_selection.train_test_split(X, y, train_size=.2, random_state=17)\n",
        "\n",
        "logit_simple = LogisticRegression()\n",
        "logit_simple.fit(X_train, y_train)\n",
        "\n",
        "print('Logistic Regression Simple Score: {:.2f}%'.format(logit_simple.score(X_test, y_test)*100))"
      ]
    },
    {
      "cell_type": "markdown",
      "source": [
        "Here we created a pipeline that scales and fit 3 different classifications, Logistic Regression, Decision Tree, and Random Forest, to compare their accuracies. Because of the larget dataset, overfitting issue, high variance, and noise, Random Forest performed better than other classifications. Although the training time was slower tha others, Random Forest improves accuracy by using its main advantages.\n",
        "\n",
        "-------------------------------------------------------------------------------\n",
        "\n",
        "**Logistic Regression Accuracy**: 0.744\n",
        "\n",
        "**Decision Tree Accuracy**: 0.740\n",
        "\n",
        "**RandomForest Accuracy**: 0.814\n"
      ],
      "metadata": {
        "id": "NbrQkXl5M9AF"
      }
    },
    {
      "cell_type": "code",
      "source": [
        "from sklearn.pipeline import Pipeline\n",
        "from sklearn.preprocessing import StandardScaler\n",
        "from sklearn.tree import DecisionTreeClassifier\n",
        "from sklearn.ensemble import RandomForestClassifier\n",
        "\n",
        "pipeline_lr = Pipeline([('scalar1', StandardScaler()),\n",
        "                        ('lr_classifier', LogisticRegression(random_state = 0))])\n",
        "\n",
        "pipeline_dt = Pipeline([('scalar2', StandardScaler()),\n",
        "                        ('dt_classifier', DecisionTreeClassifier())])\n",
        "\n",
        "pipeline_randomforest = Pipeline([('scalar3', StandardScaler()),\n",
        "                                  ('rf_classifier', RandomForestClassifier())])\n",
        "\n",
        "pipelines = [pipeline_lr, pipeline_dt, pipeline_randomforest]\n",
        "pipelines"
      ],
      "metadata": {
        "id": "hdttDOIziG_I",
        "colab": {
          "base_uri": "https://localhost:8080/"
        },
        "outputId": "081e90e5-f87d-4fa0-f65c-36d72c810a5d"
      },
      "execution_count": null,
      "outputs": [
        {
          "output_type": "execute_result",
          "data": {
            "text/plain": [
              "[Pipeline(steps=[('scalar1', StandardScaler()),\n",
              "                 ('lr_classifier', LogisticRegression(random_state=0))]),\n",
              " Pipeline(steps=[('scalar2', StandardScaler()),\n",
              "                 ('dt_classifier', DecisionTreeClassifier())]),\n",
              " Pipeline(steps=[('scalar3', StandardScaler()),\n",
              "                 ('rf_classifier', RandomForestClassifier())])]"
            ]
          },
          "metadata": {},
          "execution_count": 11
        }
      ]
    },
    {
      "cell_type": "code",
      "source": [
        "best_accuracy = 0.0\n",
        "best_classifier = 0\n",
        "best_pipline = \"\"\n",
        "\n",
        "pipe_dic = {0: \"Logistic Regression\", 1: \"Decision Tree\", 2: \"RandomForest\"}"
      ],
      "metadata": {
        "id": "Z4afcZB6iHJ7"
      },
      "execution_count": null,
      "outputs": []
    },
    {
      "cell_type": "code",
      "source": [
        "for pipe in pipelines:\n",
        "    pipe.fit(X_train, y_train)"
      ],
      "metadata": {
        "id": "fnglKo__iHV8",
        "colab": {
          "base_uri": "https://localhost:8080/"
        },
        "outputId": "6ed07a43-344b-4bbc-8dde-9dc28c8ddc24"
      },
      "execution_count": null,
      "outputs": [
        {
          "output_type": "stream",
          "name": "stderr",
          "text": [
            "/usr/local/lib/python3.7/dist-packages/sklearn/linear_model/_logistic.py:818: ConvergenceWarning: lbfgs failed to converge (status=1):\n",
            "STOP: TOTAL NO. of ITERATIONS REACHED LIMIT.\n",
            "\n",
            "Increase the number of iterations (max_iter) or scale the data as shown in:\n",
            "    https://scikit-learn.org/stable/modules/preprocessing.html\n",
            "Please also refer to the documentation for alternative solver options:\n",
            "    https://scikit-learn.org/stable/modules/linear_model.html#logistic-regression\n",
            "  extra_warning_msg=_LOGISTIC_SOLVER_CONVERGENCE_MSG,\n"
          ]
        }
      ]
    },
    {
      "cell_type": "code",
      "source": [
        "import time\n",
        "\n",
        "for i,model in enumerate(pipelines):\n",
        "    start_time = time.time()\n",
        "    accuracy = model.score(X_test, y_test)\n",
        "    print(\"{} Test Accuracy: {}\".format(pipe_dic[i],accuracy))\n",
        "    if accuracy > best_accuracy:\n",
        "        best_accuracy = accuracy\n",
        "        best_pipeline = model\n",
        "        best_classifier = i\n",
        "    print(\"--- %s seconds ---\" % (time.time() - start_time))\n",
        "print(\"Classifier with best accuracy: {} with {}.\".format(pipe_dic[best_classifier], best_accuracy))"
      ],
      "metadata": {
        "id": "uzRQKBsKiPD3",
        "colab": {
          "base_uri": "https://localhost:8080/"
        },
        "outputId": "0ca4d43a-5bb5-42e9-f60b-c3473fbd4a82"
      },
      "execution_count": null,
      "outputs": [
        {
          "output_type": "stream",
          "name": "stdout",
          "text": [
            "Logistic Regression Test Accuracy: 0.7441089034881093\n",
            "--- 18.469360828399658 seconds ---\n",
            "Decision Tree Test Accuracy: 0.7402658329894658\n",
            "--- 17.931379079818726 seconds ---\n",
            "RandomForest Test Accuracy: 0.8138921714022935\n",
            "--- 244.66135096549988 seconds ---\n",
            "Classifier with best accuracy: RandomForest with 0.8138921714022935.\n"
          ]
        }
      ]
    },
    {
      "cell_type": "markdown",
      "metadata": {
        "id": "YwI_eE-xm9HN"
      },
      "source": [
        "#### **Regression Model to Predict Binary Classification Variable**\n"
      ]
    },
    {
      "cell_type": "code",
      "execution_count": null,
      "metadata": {
        "id": "TPOC1nzXck5J"
      },
      "outputs": [],
      "source": [
        "# TRAIN TEST SPLIT \n",
        "from sklearn.model_selection import ShuffleSplit\n",
        "\n",
        "# we want to predict the X and y data as follows:\n",
        "if 'quart_binary' in pubg_df:\n",
        "    y = pubg_df['quart_binary'].values # get the labels we want\n",
        "\n",
        "\n",
        "    del pubg_df['quart_binary'] # get rid of the class label\n",
        "    del pubg_df['quart_int']\n",
        "    del pubg_df['quartile']\n",
        "    del pubg_df['winPlacePerc'] # get rid of the continuous variable we built the quartile label from \n",
        "\n",
        "    X = pubg_df.values # use everything else to predict!\n",
        "\n",
        "    ## X and y are now numpy matrices, by calling 'values' on the pandas data frames we\n",
        "    #    have converted them into simple matrices to use with scikit learn\n",
        "    \n",
        "    \n",
        "# to use the cross validation object in scikit learn, we need to grab an instance\n",
        "# of the object and set it up. This object will be able to split our data into \n",
        "# training and testing splits (80/20 split)\n",
        "num_cv_iterations = 10\n",
        "num_instances = len(y)\n",
        "cv_object = ShuffleSplit(n_splits=num_cv_iterations, random_state = 7,\n",
        "                         test_size  = 0.2)\n",
        "                         \n",
        "print(cv_object)"
      ]
    },
    {
      "cell_type": "code",
      "execution_count": null,
      "metadata": {
        "id": "-bDrGmcEfpBr"
      },
      "outputs": [],
      "source": [
        "%%time\n",
        "from pandas.core.common import random_state\n",
        "# ADD CODE TO CREATE TEST/TRAIN OBJECTS \n",
        "### BORROWED FROM JAKE DREW'S GITHUB\n",
        "\n",
        "# run logistic regression and vary some parameters\n",
        "\n",
        "# first we create a reusable logisitic regression object\n",
        "#   here we can setup the object with different learning parameters and constants\n",
        "lr_clf = LogisticRegression(penalty='l2', C=1.0, class_weight=None, solver='liblinear', random_state = 7) # get object\n",
        "\n",
        "# now we can use the cv_object that we setup before to iterate through the \n",
        "#    different training and testing sets. Each time we will reuse the logisitic regression \n",
        "#    object, but it gets trained on different data each time we use it.\n",
        "\n",
        "acc = []\n",
        "weights = []\n",
        "iter_num=0\n",
        "# the indices are the rows used for training and testing in each iteration\n",
        "for train_indices, test_indices in cv_object.split(X,y): \n",
        "    # I will create new variables here so that it is more obvious what \n",
        "    # the code is doing (you can compact this syntax and avoid duplicating memory,\n",
        "    # but it makes this code less readable)\n",
        "    X_train = X[train_indices]\n",
        "    y_train = y[train_indices]\n",
        "    \n",
        "    X_test = X[test_indices]\n",
        "    y_test = y[test_indices]\n",
        "    \n",
        "    # train the reusable logisitc regression model on the training data\n",
        "    lr_clf.fit(X_train,y_train)  # train object\n",
        "    y_hat = lr_clf.predict(X_test) # get test set precitions\n",
        "    weights.append(lr_clf.coef_[0])\n",
        "\n",
        "    # now let's get the accuracy and confusion matrix for this iterations of training/testing\n",
        "    acc.append(mt.accuracy_score(y_test,y_hat))\n",
        "    conf = mt.confusion_matrix(y_test,y_hat)\n",
        "    print(\"====Iteration\",iter_num,\" ====\")\n",
        "    print(\"accuracy\", acc[iter_num] )\n",
        "    print(\"confusion matrix\\n\",conf)\n",
        "    iter_num+=1"
      ]
    },
    {
      "cell_type": "code",
      "source": [
        "statistics.mean(acc)\n",
        "weights = np.array(weights)    \n",
        "# Also note that every time you run the above code\n",
        "#   it randomly creates a new training and testing set, \n",
        "#   so accuracy will be different each time"
      ],
      "metadata": {
        "id": "40GU3LXgn3-F"
      },
      "execution_count": null,
      "outputs": []
    },
    {
      "cell_type": "markdown",
      "source": [
        "The above code gives us predictive models with around 90% accuracy consistently. On the flip side, it takes quite a bit of time to run (around 22 min.).\n",
        "\n",
        "Our accuracy could potentially be misleading, possibly overfitting the data. "
      ],
      "metadata": {
        "id": "Rk0QYDNx0cmX"
      }
    },
    {
      "cell_type": "markdown",
      "source": [
        "#### **Logistic Regression using Stochastic Gradient Descent**"
      ],
      "metadata": {
        "id": "wIGxzWPzpT5l"
      }
    },
    {
      "cell_type": "code",
      "source": [
        "# FIRST, WE CREATE OUR TRAIN/TEST SPLIT ON THE DATA\n",
        "# TRAIN TEST SPLIT \n",
        "from sklearn.model_selection import ShuffleSplit\n",
        "\n",
        "# we want to predict the X and y data as follows:\n",
        "if 'quart_binary' in pubg_df:\n",
        "    y = pubg_df['quart_binary'].values # get the labels we want\n",
        "\n",
        "\n",
        "    del pubg_df['quart_binary'] # get rid of the class label\n",
        "    del pubg_df['quart_int']\n",
        "    del pubg_df['quartile']\n",
        "    del pubg_df['winPlacePerc'] # get rid of the continuous variable we built the quartile label from \n",
        "\n",
        "    X = pubg_df.values # use everything else to predict!\n",
        "\n",
        "    ## X and y are now numpy matrices, by calling 'values' on the pandas data frames we\n",
        "    #    have converted them into simple matrices to use with scikit learn\n",
        "    \n",
        "    \n",
        "# to use the cross validation object in scikit learn, we need to grab an instance\n",
        "# of the object and set it up. This object will be able to split our data into \n",
        "# training and testing splits (80/20 split)\n",
        "num_cv_iterations = 10\n",
        "num_instances = len(y)\n",
        "cv_object = ShuffleSplit(n_splits=num_cv_iterations, random_state = 7,\n",
        "                         test_size  = 0.2)\n",
        "                         \n",
        "print(cv_object)\n",
        "\n",
        "## code adapted from https://github.com/jakemdrew/DataMiningNotebooks/blob/master/04.%20Logits%20and%20SVM.ipynb\n"
      ],
      "metadata": {
        "id": "Lrwz4AdepE_5"
      },
      "execution_count": null,
      "outputs": []
    },
    {
      "cell_type": "markdown",
      "source": [
        "Whereas linear regression minimizes squared error, logistic regression minimizes log-loss (also known as cross-entropy). [This article](http://rasbt.github.io/mlxtend/user_guide/classifier/LogisticRegression/) can be referenced for a detailed explanation."
      ],
      "metadata": {
        "id": "ERWd9CcDgabc"
      }
    },
    {
      "cell_type": "code",
      "source": [
        "%%time\n",
        "# use some compact notation for creating a logistic regression classifier with stochastic descent\n",
        "\n",
        "from sklearn import metrics as mt\n",
        "from sklearn.preprocessing import StandardScaler\n",
        "from sklearn.linear_model import SGDClassifier\n",
        "import statistics\n",
        "\n",
        "\"\"\n",
        "regularize_const = 0.1\n",
        "iterations = 5\n",
        "acc = []\n",
        "\n",
        "log_sgd = SGDClassifier(alpha=regularize_const,\n",
        "        fit_intercept=True, l1_ratio=0.0, learning_rate='optimal',\n",
        "        loss='log', n_iter_no_change=iterations, n_jobs=-1, penalty='l2')\n",
        "\n",
        "scl = StandardScaler()\n",
        "for train_idx, test_idx in cv_object.split(X,y):\n",
        "    log_sgd.fit(scl.fit_transform(X[train_idx]),y[train_idx])\n",
        "    yhat = log_sgd.predict(scl.transform(X[test_idx]))\n",
        "    \n",
        "    conf = mt.confusion_matrix(y[test_idx],yhat)\n",
        "    acc.append(mt.accuracy_score(y[test_idx],yhat))\n",
        "\n",
        "print('Logistic Regression using SGD:', statistics.mean(acc))\n",
        "\n",
        "## code adapted from https://github.com/jakemdrew/DataMiningNotebooks/blob/master/04.%20Logits%20and%20SVM.ipynb\n"
      ],
      "metadata": {
        "id": "jgu6qQ5FpiBs"
      },
      "execution_count": null,
      "outputs": []
    },
    {
      "cell_type": "markdown",
      "source": [
        "Utilizing *SGDClassifier()* allowed us to train a model in a much shorter timeframe than the previous regression models."
      ],
      "metadata": {
        "id": "w-ugw6AUkPBy"
      }
    },
    {
      "cell_type": "code",
      "source": [
        "%%time\n",
        "# use some compact notation for creating a logistic regression classifier with stochastic descent\n",
        "\n",
        "regularize_const = 0.1\n",
        "iterations = 5\n",
        "acc = []\n",
        "\n",
        "svm_sgd = SGDClassifier(alpha=regularize_const,\n",
        "        fit_intercept=True, l1_ratio=0.0, learning_rate='optimal',\n",
        "        loss='hinge', n_iter_no_change=iterations, n_jobs=-1, penalty='l2')\n",
        "\n",
        "scl = StandardScaler()\n",
        "for train_idx, test_idx in cv_object.split(X,y):\n",
        "    svm_sgd.fit(scl.fit_transform(X[train_idx]),y[train_idx])\n",
        "    yhat = svm_sgd.predict(scl.transform(X[test_idx]))\n",
        "    \n",
        "    conf = mt.confusion_matrix(y[test_idx],yhat)\n",
        "    acc.append(mt.accuracy_score(y[test_idx],yhat))\n",
        "\n",
        "print('Support Vector Machine using SGD:', statistics.mean(acc))\n",
        "\n",
        "## code adapted from https://github.com/jakemdrew/DataMiningNotebooks/blob/master/04.%20Logits%20and%20SVM.ipynb\n"
      ],
      "metadata": {
        "id": "pJ1ecCRBhadC"
      },
      "execution_count": null,
      "outputs": []
    },
    {
      "cell_type": "markdown",
      "source": [
        "We trained the *SGDClassifier()* with the hinge loss, which is equivalent to a linear SVM (reference: https://scikit-learn.org/stable/modules/sgd.html#sgd)."
      ],
      "metadata": {
        "id": "rqpKp5b7jv5x"
      }
    },
    {
      "cell_type": "markdown",
      "source": [
        "## **MODEL ADVANTAGES**"
      ],
      "metadata": {
        "id": "CCSXL1b1f0Ue"
      }
    },
    {
      "cell_type": "markdown",
      "source": [
        "The logistic model using stochastic gradient descent (SGD) runs much faster than the previous models. The 10-fold cross-validation of the original regression model (*i.e.*, **lr_clf**) took over 20 minutes. The SGD approach takes around 3 minutes to run a 10-fold cross-validation.\n",
        "\n",
        "The trade off is that we see a lower accuracy score (we pay for our improved computing speed with about 10% accuracy = it drops from around 90% to around 80%).\n",
        "\n",
        "\n",
        "\n",
        "But, 80% accuracy is still pretty solid. As for next steps, we could explore methods to reduce the  dimensionality of our data, to see if we can bring our accuracy score up without a substantal increase in processing time. "
      ],
      "metadata": {
        "id": "jSVF1CyAxVX-"
      }
    },
    {
      "cell_type": "markdown",
      "source": [
        "## **INTERPRETING FEATURE IMPORTANCE**"
      ],
      "metadata": {
        "id": "goxVJSaNkpN_"
      }
    },
    {
      "cell_type": "code",
      "source": [
        "# INTERPRETTING WEIGHTS\n",
        "\n",
        "# iterate over the coefficients\n",
        "weights = log_sgd.coef_.T\n",
        "variable_names = cols_df\n",
        "for coef, name in zip(weights, variable_names):\n",
        "    print(name, 'has weight of', coef[0])"
      ],
      "metadata": {
        "id": "ImUikPSipisz"
      },
      "execution_count": null,
      "outputs": []
    },
    {
      "cell_type": "code",
      "source": [
        "%matplotlib inline\n",
        "plt.style.use('ggplot')\n",
        "\n",
        "weights_graph = pd.Series(weights.flatten(), index=variable_names)\n",
        "plt.figure(figsize=(8, 4))\n",
        "plt.ylim(ymin=-.8,ymax=.8)\n",
        "weights_graph.plot(kind='bar')\n",
        "plt.title('Feature weights for logistic regression')\n",
        "plt.show()"
      ],
      "metadata": {
        "id": "YWGoK6EkxV13"
      },
      "execution_count": null,
      "outputs": []
    },
    {
      "cell_type": "markdown",
      "source": [
        "Looking at these coefficients is interesting, they suggest that *walkDistance* and *boosts* have the largest positive influence on target prediction. The *killPlace* variable has a noticeable negative association with prediction of our binary \"top 25%\" classification QOI.\n",
        "\n",
        "*killPlace* and *boosts* were part of our initial assessment as predictors of interest from **Lab 1**. Our knowledge of PUBG matches and the fact that there is no \"*survivalTime*\" variable leads us to assume that *walkDistance* may be analogous to in-game survival."
      ],
      "metadata": {
        "id": "sbp138w024s0"
      }
    },
    {
      "cell_type": "markdown",
      "source": [
        "## **INTERPRETING SUPPORT VECTORS**"
      ],
      "metadata": {
        "id": "AaM6ISmekwtE"
      }
    },
    {
      "cell_type": "markdown",
      "source": [
        "*Below code adapted from: https://scikit-learn.org/stable/auto_examples/svm/plot_linearsvc_support_vectors.html*"
      ],
      "metadata": {
        "id": "tt0LcEN3S3w0"
      }
    },
    {
      "cell_type": "code",
      "source": [
        "import numpy as np\n",
        "import matplotlib.pyplot as plt\n",
        "from sklearn.datasets import make_blobs\n",
        "from sklearn.svm import LinearSVC\n",
        "\n",
        "X, y = make_blobs(n_samples=40, centers=2, random_state=0)\n",
        "\n",
        "plt.figure(figsize=(10, 5))\n",
        "for i, C in enumerate([1, 100]):\n",
        "    # \"hinge\" is the standard SVM loss\n",
        "    clf = LinearSVC(C=C, loss=\"hinge\", random_state=42).fit(X, y)\n",
        "    # obtain the support vectors through the decision function\n",
        "    decision_function = clf.decision_function(X)\n",
        "    # we can also calculate the decision function manually\n",
        "    # decision_function = np.dot(X, clf.coef_[0]) + clf.intercept_[0]\n",
        "    # The support vectors are the samples that lie within the margin\n",
        "    # boundaries, whose size is conventionally constrained to 1\n",
        "    support_vector_indices = np.where(np.abs(decision_function) <= 1 + 1e-15)[0]\n",
        "    support_vectors = X[support_vector_indices]\n",
        "\n",
        "    plt.subplot(1, 2, i + 1)\n",
        "    plt.scatter(X[:, 0], X[:, 1], c=y, s=30, cmap=plt.cm.Paired)\n",
        "    ax = plt.gca()\n",
        "    xlim = ax.get_xlim()\n",
        "    ylim = ax.get_ylim()\n",
        "    xx, yy = np.meshgrid(\n",
        "        np.linspace(xlim[0], xlim[1], 50), np.linspace(ylim[0], ylim[1], 50)\n",
        "    )\n",
        "    Z = clf.decision_function(np.c_[xx.ravel(), yy.ravel()])\n",
        "    Z = Z.reshape(xx.shape)\n",
        "    plt.contour(\n",
        "        xx,\n",
        "        yy,\n",
        "        Z,\n",
        "        colors=\"k\",\n",
        "        levels=[-1, 0, 1],\n",
        "        alpha=0.5,\n",
        "        linestyles=[\"--\", \"-\", \"--\"],\n",
        "    )\n",
        "    plt.scatter(\n",
        "        support_vectors[:, 0],\n",
        "        support_vectors[:, 1],\n",
        "        s=100,\n",
        "        linewidth=1,\n",
        "        facecolors=\"none\",\n",
        "        edgecolors=\"k\",\n",
        "    )\n",
        "    plt.title(\"C=\" + str(C))\n",
        "plt.tight_layout()\n",
        "plt.show()"
      ],
      "metadata": {
        "id": "whNwUqHNSw9B"
      },
      "execution_count": null,
      "outputs": []
    }
  ],
  "metadata": {
    "colab": {
      "collapsed_sections": [],
      "name": "ML1_mini_lab.ipynb",
      "provenance": []
    },
    "kernelspec": {
      "display_name": "Python 3",
      "name": "python3"
    },
    "language_info": {
      "name": "python"
    }
  },
  "nbformat": 4,
  "nbformat_minor": 0
}