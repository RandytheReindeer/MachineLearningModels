{
  "cells": [
    {
      "cell_type": "markdown",
      "metadata": {
        "id": "btvRe3bnBZ6H"
      },
      "source": [
        "# **Machine Learning 1**\n",
        "\n",
        "## **Mini-Lab: SVM & LR Classification**\n",
        "\n",
        "Randy Kim, Kati Schuerger, Will Sherman"
      ]
    },
    {
      "cell_type": "markdown",
      "metadata": {
        "id": "LCeCXLykCPba"
      },
      "source": [
        "The PlayerUnknown’s Battleground (also known as PUBG) Finish Placement Prediction Kaggle competition was posted to \"create a model which predicts players' finishing placement based on their final stats, on a scale from 1 (first place) to 0 (last place).\" We are continuing our analysis from **Lab One: \"Visualization and Data Preprocessing.\"** However, we will focus on response transformation to evaluate classification accuracy on quartiles of *winPlacePerc*, which we will evaluate in combination with 10-fold cross-validation\n",
        "\n",
        "*Note*: We are not performing all of the CRISP-DM outline, only the portions relevant to the grading rubric will be covered."
      ]
    },
    {
      "cell_type": "markdown",
      "metadata": {
        "id": "XzcfxtNApiJJ"
      },
      "source": [
        "#### Library & Data Import Methods ####"
      ]
    },
    {
      "cell_type": "code",
      "execution_count": 1,
      "metadata": {
        "id": "lDesQrGZGJt5"
      },
      "outputs": [],
      "source": [
        "# load libraries|\n",
        "import csv\n",
        "import numpy as np\n",
        "import pandas as pd\n",
        "import seaborn as sns\n",
        "import matplotlib.pyplot as plt\n",
        "from sklearn.discriminant_analysis import LinearDiscriminantAnalysis as LDA\n",
        "from IPython.display import Image\n",
        "\n",
        "from google.colab import files"
      ]
    },
    {
      "cell_type": "code",
      "execution_count": 2,
      "metadata": {
        "colab": {
          "base_uri": "https://localhost:8080/",
          "height": 73,
          "resources": {
            "http://localhost:8080/nbextensions/google.colab/files.js": {
              "data": "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",
              "headers": [
                [
                  "content-type",
                  "application/javascript"
                ]
              ],
              "ok": true,
              "status": 200,
              "status_text": ""
            }
          }
        },
        "id": "L7ThIIIyMucD",
        "outputId": "e029ac0e-f7bb-4982-f177-dd7677048222"
      },
      "outputs": [
        {
          "output_type": "display_data",
          "data": {
            "text/html": [
              "\n",
              "     <input type=\"file\" id=\"files-9ef57fb1-d9b2-450a-a134-f989e05ba623\" name=\"files[]\" multiple disabled\n",
              "        style=\"border:none\" />\n",
              "     <output id=\"result-9ef57fb1-d9b2-450a-a134-f989e05ba623\">\n",
              "      Upload widget is only available when the cell has been executed in the\n",
              "      current browser session. Please rerun this cell to enable.\n",
              "      </output>\n",
              "      <script src=\"/nbextensions/google.colab/files.js\"></script> "
            ],
            "text/plain": [
              "<IPython.core.display.HTML object>"
            ]
          },
          "metadata": {}
        },
        {
          "output_type": "stream",
          "name": "stdout",
          "text": [
            "Saving kaggle.json to kaggle.json\n"
          ]
        }
      ],
      "source": [
        "# create object for kaggle json file to use kaggle API (to load in data)\n",
        "file = files.upload()"
      ]
    },
    {
      "cell_type": "code",
      "execution_count": 3,
      "metadata": {
        "id": "bjvK6kkGMvm6"
      },
      "outputs": [],
      "source": [
        "# make directory to store the data files \n",
        "!mkdir ~/.kaggle\n",
        "# utilize kaggle.json\n",
        "!cp kaggle.json ~/.kaggle/\n",
        "# security settings so that individual user's credentials are passed in on local machine \n",
        "!chmod 600 ~/.kaggle/kaggle.json"
      ]
    },
    {
      "cell_type": "code",
      "execution_count": 4,
      "metadata": {
        "colab": {
          "base_uri": "https://localhost:8080/"
        },
        "id": "GER54eIGMvxk",
        "outputId": "5bd8bb43-ae11-4e55-c68f-3895226c175e"
      },
      "outputs": [
        {
          "output_type": "stream",
          "name": "stdout",
          "text": [
            "Warning: Looks like you're using an outdated API Version, please consider updating (server 1.5.12 / client 1.5.4)\n",
            "Downloading train_V2.csv.zip to /content\n",
            "100% 244M/244M [00:05<00:00, 53.2MB/s]\n",
            "\n",
            "Downloading test_V2.csv.zip to /content\n",
            " 97% 97.0M/100M [00:02<00:00, 42.7MB/s]\n",
            "100% 100M/100M [00:02<00:00, 38.5MB/s] \n",
            "Downloading sample_submission_V2.csv.zip to /content\n",
            "100% 17.0M/17.0M [00:00<00:00, 40.4MB/s]\n",
            "\n"
          ]
        }
      ],
      "source": [
        "# load in the data files from kaggle website \n",
        "!kaggle competitions download -c pubg-finish-placement-prediction"
      ]
    },
    {
      "cell_type": "code",
      "execution_count": 5,
      "metadata": {
        "colab": {
          "base_uri": "https://localhost:8080/"
        },
        "id": "88rjGg1RNSsF",
        "outputId": "ee2f6a7d-685b-4894-86a5-764ffbfae450"
      },
      "outputs": [
        {
          "output_type": "stream",
          "name": "stdout",
          "text": [
            "Archive:  train_V2.csv.zip\n",
            "  inflating: train_V2.csv            \n",
            "Archive:  test_V2.csv.zip\n",
            "  inflating: test_V2.csv             \n"
          ]
        }
      ],
      "source": [
        "# unzip the data files\n",
        "!unzip train_V2.csv.zip\n",
        "!unzip test_V2.csv.zip"
      ]
    },
    {
      "cell_type": "code",
      "execution_count": 6,
      "metadata": {
        "id": "IXHfhYnmNbhs"
      },
      "outputs": [],
      "source": [
        "pubg_raw = pd.read_csv(\"train_V2.csv\")"
      ]
    },
    {
      "cell_type": "code",
      "execution_count": 7,
      "metadata": {
        "id": "ImZ24bdKU7J9",
        "colab": {
          "base_uri": "https://localhost:8080/",
          "height": 270
        },
        "outputId": "7d636abb-a9fe-4270-988e-51e0229afd2b"
      },
      "outputs": [
        {
          "output_type": "execute_result",
          "data": {
            "text/html": [
              "\n",
              "  <div id=\"df-a9a569b1-9033-447b-9f08-f4cc4e79c0c6\">\n",
              "    <div class=\"colab-df-container\">\n",
              "      <div>\n",
              "<style scoped>\n",
              "    .dataframe tbody tr th:only-of-type {\n",
              "        vertical-align: middle;\n",
              "    }\n",
              "\n",
              "    .dataframe tbody tr th {\n",
              "        vertical-align: top;\n",
              "    }\n",
              "\n",
              "    .dataframe thead th {\n",
              "        text-align: right;\n",
              "    }\n",
              "</style>\n",
              "<table border=\"1\" class=\"dataframe\">\n",
              "  <thead>\n",
              "    <tr style=\"text-align: right;\">\n",
              "      <th></th>\n",
              "      <th>Id</th>\n",
              "      <th>groupId</th>\n",
              "      <th>matchId</th>\n",
              "      <th>assists</th>\n",
              "      <th>boosts</th>\n",
              "      <th>damageDealt</th>\n",
              "      <th>DBNOs</th>\n",
              "      <th>headshotKills</th>\n",
              "      <th>heals</th>\n",
              "      <th>killPlace</th>\n",
              "      <th>killPoints</th>\n",
              "      <th>kills</th>\n",
              "      <th>killStreaks</th>\n",
              "      <th>longestKill</th>\n",
              "      <th>matchDuration</th>\n",
              "      <th>matchType</th>\n",
              "      <th>maxPlace</th>\n",
              "      <th>numGroups</th>\n",
              "      <th>rankPoints</th>\n",
              "      <th>revives</th>\n",
              "      <th>rideDistance</th>\n",
              "      <th>roadKills</th>\n",
              "      <th>swimDistance</th>\n",
              "      <th>teamKills</th>\n",
              "      <th>vehicleDestroys</th>\n",
              "      <th>walkDistance</th>\n",
              "      <th>weaponsAcquired</th>\n",
              "      <th>winPoints</th>\n",
              "      <th>winPlacePerc</th>\n",
              "    </tr>\n",
              "  </thead>\n",
              "  <tbody>\n",
              "    <tr>\n",
              "      <th>0</th>\n",
              "      <td>7f96b2f878858a</td>\n",
              "      <td>4d4b580de459be</td>\n",
              "      <td>a10357fd1a4a91</td>\n",
              "      <td>0</td>\n",
              "      <td>0</td>\n",
              "      <td>0.00</td>\n",
              "      <td>0</td>\n",
              "      <td>0</td>\n",
              "      <td>0</td>\n",
              "      <td>60</td>\n",
              "      <td>1241</td>\n",
              "      <td>0</td>\n",
              "      <td>0</td>\n",
              "      <td>0.00</td>\n",
              "      <td>1306</td>\n",
              "      <td>squad-fpp</td>\n",
              "      <td>28</td>\n",
              "      <td>26</td>\n",
              "      <td>-1</td>\n",
              "      <td>0</td>\n",
              "      <td>0.0000</td>\n",
              "      <td>0</td>\n",
              "      <td>0.00</td>\n",
              "      <td>0</td>\n",
              "      <td>0</td>\n",
              "      <td>244.80</td>\n",
              "      <td>1</td>\n",
              "      <td>1466</td>\n",
              "      <td>0.4444</td>\n",
              "    </tr>\n",
              "    <tr>\n",
              "      <th>1</th>\n",
              "      <td>eef90569b9d03c</td>\n",
              "      <td>684d5656442f9e</td>\n",
              "      <td>aeb375fc57110c</td>\n",
              "      <td>0</td>\n",
              "      <td>0</td>\n",
              "      <td>91.47</td>\n",
              "      <td>0</td>\n",
              "      <td>0</td>\n",
              "      <td>0</td>\n",
              "      <td>57</td>\n",
              "      <td>0</td>\n",
              "      <td>0</td>\n",
              "      <td>0</td>\n",
              "      <td>0.00</td>\n",
              "      <td>1777</td>\n",
              "      <td>squad-fpp</td>\n",
              "      <td>26</td>\n",
              "      <td>25</td>\n",
              "      <td>1484</td>\n",
              "      <td>0</td>\n",
              "      <td>0.0045</td>\n",
              "      <td>0</td>\n",
              "      <td>11.04</td>\n",
              "      <td>0</td>\n",
              "      <td>0</td>\n",
              "      <td>1434.00</td>\n",
              "      <td>5</td>\n",
              "      <td>0</td>\n",
              "      <td>0.6400</td>\n",
              "    </tr>\n",
              "    <tr>\n",
              "      <th>2</th>\n",
              "      <td>1eaf90ac73de72</td>\n",
              "      <td>6a4a42c3245a74</td>\n",
              "      <td>110163d8bb94ae</td>\n",
              "      <td>1</td>\n",
              "      <td>0</td>\n",
              "      <td>68.00</td>\n",
              "      <td>0</td>\n",
              "      <td>0</td>\n",
              "      <td>0</td>\n",
              "      <td>47</td>\n",
              "      <td>0</td>\n",
              "      <td>0</td>\n",
              "      <td>0</td>\n",
              "      <td>0.00</td>\n",
              "      <td>1318</td>\n",
              "      <td>duo</td>\n",
              "      <td>50</td>\n",
              "      <td>47</td>\n",
              "      <td>1491</td>\n",
              "      <td>0</td>\n",
              "      <td>0.0000</td>\n",
              "      <td>0</td>\n",
              "      <td>0.00</td>\n",
              "      <td>0</td>\n",
              "      <td>0</td>\n",
              "      <td>161.80</td>\n",
              "      <td>2</td>\n",
              "      <td>0</td>\n",
              "      <td>0.7755</td>\n",
              "    </tr>\n",
              "    <tr>\n",
              "      <th>3</th>\n",
              "      <td>4616d365dd2853</td>\n",
              "      <td>a930a9c79cd721</td>\n",
              "      <td>f1f1f4ef412d7e</td>\n",
              "      <td>0</td>\n",
              "      <td>0</td>\n",
              "      <td>32.90</td>\n",
              "      <td>0</td>\n",
              "      <td>0</td>\n",
              "      <td>0</td>\n",
              "      <td>75</td>\n",
              "      <td>0</td>\n",
              "      <td>0</td>\n",
              "      <td>0</td>\n",
              "      <td>0.00</td>\n",
              "      <td>1436</td>\n",
              "      <td>squad-fpp</td>\n",
              "      <td>31</td>\n",
              "      <td>30</td>\n",
              "      <td>1408</td>\n",
              "      <td>0</td>\n",
              "      <td>0.0000</td>\n",
              "      <td>0</td>\n",
              "      <td>0.00</td>\n",
              "      <td>0</td>\n",
              "      <td>0</td>\n",
              "      <td>202.70</td>\n",
              "      <td>3</td>\n",
              "      <td>0</td>\n",
              "      <td>0.1667</td>\n",
              "    </tr>\n",
              "    <tr>\n",
              "      <th>4</th>\n",
              "      <td>315c96c26c9aac</td>\n",
              "      <td>de04010b3458dd</td>\n",
              "      <td>6dc8ff871e21e6</td>\n",
              "      <td>0</td>\n",
              "      <td>0</td>\n",
              "      <td>100.00</td>\n",
              "      <td>0</td>\n",
              "      <td>0</td>\n",
              "      <td>0</td>\n",
              "      <td>45</td>\n",
              "      <td>0</td>\n",
              "      <td>1</td>\n",
              "      <td>1</td>\n",
              "      <td>58.53</td>\n",
              "      <td>1424</td>\n",
              "      <td>solo-fpp</td>\n",
              "      <td>97</td>\n",
              "      <td>95</td>\n",
              "      <td>1560</td>\n",
              "      <td>0</td>\n",
              "      <td>0.0000</td>\n",
              "      <td>0</td>\n",
              "      <td>0.00</td>\n",
              "      <td>0</td>\n",
              "      <td>0</td>\n",
              "      <td>49.75</td>\n",
              "      <td>2</td>\n",
              "      <td>0</td>\n",
              "      <td>0.1875</td>\n",
              "    </tr>\n",
              "  </tbody>\n",
              "</table>\n",
              "</div>\n",
              "      <button class=\"colab-df-convert\" onclick=\"convertToInteractive('df-a9a569b1-9033-447b-9f08-f4cc4e79c0c6')\"\n",
              "              title=\"Convert this dataframe to an interactive table.\"\n",
              "              style=\"display:none;\">\n",
              "        \n",
              "  <svg xmlns=\"http://www.w3.org/2000/svg\" height=\"24px\"viewBox=\"0 0 24 24\"\n",
              "       width=\"24px\">\n",
              "    <path d=\"M0 0h24v24H0V0z\" fill=\"none\"/>\n",
              "    <path d=\"M18.56 5.44l.94 2.06.94-2.06 2.06-.94-2.06-.94-.94-2.06-.94 2.06-2.06.94zm-11 1L8.5 8.5l.94-2.06 2.06-.94-2.06-.94L8.5 2.5l-.94 2.06-2.06.94zm10 10l.94 2.06.94-2.06 2.06-.94-2.06-.94-.94-2.06-.94 2.06-2.06.94z\"/><path d=\"M17.41 7.96l-1.37-1.37c-.4-.4-.92-.59-1.43-.59-.52 0-1.04.2-1.43.59L10.3 9.45l-7.72 7.72c-.78.78-.78 2.05 0 2.83L4 21.41c.39.39.9.59 1.41.59.51 0 1.02-.2 1.41-.59l7.78-7.78 2.81-2.81c.8-.78.8-2.07 0-2.86zM5.41 20L4 18.59l7.72-7.72 1.47 1.35L5.41 20z\"/>\n",
              "  </svg>\n",
              "      </button>\n",
              "      \n",
              "  <style>\n",
              "    .colab-df-container {\n",
              "      display:flex;\n",
              "      flex-wrap:wrap;\n",
              "      gap: 12px;\n",
              "    }\n",
              "\n",
              "    .colab-df-convert {\n",
              "      background-color: #E8F0FE;\n",
              "      border: none;\n",
              "      border-radius: 50%;\n",
              "      cursor: pointer;\n",
              "      display: none;\n",
              "      fill: #1967D2;\n",
              "      height: 32px;\n",
              "      padding: 0 0 0 0;\n",
              "      width: 32px;\n",
              "    }\n",
              "\n",
              "    .colab-df-convert:hover {\n",
              "      background-color: #E2EBFA;\n",
              "      box-shadow: 0px 1px 2px rgba(60, 64, 67, 0.3), 0px 1px 3px 1px rgba(60, 64, 67, 0.15);\n",
              "      fill: #174EA6;\n",
              "    }\n",
              "\n",
              "    [theme=dark] .colab-df-convert {\n",
              "      background-color: #3B4455;\n",
              "      fill: #D2E3FC;\n",
              "    }\n",
              "\n",
              "    [theme=dark] .colab-df-convert:hover {\n",
              "      background-color: #434B5C;\n",
              "      box-shadow: 0px 1px 3px 1px rgba(0, 0, 0, 0.15);\n",
              "      filter: drop-shadow(0px 1px 2px rgba(0, 0, 0, 0.3));\n",
              "      fill: #FFFFFF;\n",
              "    }\n",
              "  </style>\n",
              "\n",
              "      <script>\n",
              "        const buttonEl =\n",
              "          document.querySelector('#df-a9a569b1-9033-447b-9f08-f4cc4e79c0c6 button.colab-df-convert');\n",
              "        buttonEl.style.display =\n",
              "          google.colab.kernel.accessAllowed ? 'block' : 'none';\n",
              "\n",
              "        async function convertToInteractive(key) {\n",
              "          const element = document.querySelector('#df-a9a569b1-9033-447b-9f08-f4cc4e79c0c6');\n",
              "          const dataTable =\n",
              "            await google.colab.kernel.invokeFunction('convertToInteractive',\n",
              "                                                     [key], {});\n",
              "          if (!dataTable) return;\n",
              "\n",
              "          const docLinkHtml = 'Like what you see? Visit the ' +\n",
              "            '<a target=\"_blank\" href=https://colab.research.google.com/notebooks/data_table.ipynb>data table notebook</a>'\n",
              "            + ' to learn more about interactive tables.';\n",
              "          element.innerHTML = '';\n",
              "          dataTable['output_type'] = 'display_data';\n",
              "          await google.colab.output.renderOutput(dataTable, element);\n",
              "          const docLink = document.createElement('div');\n",
              "          docLink.innerHTML = docLinkHtml;\n",
              "          element.appendChild(docLink);\n",
              "        }\n",
              "      </script>\n",
              "    </div>\n",
              "  </div>\n",
              "  "
            ],
            "text/plain": [
              "               Id         groupId  ... winPoints  winPlacePerc\n",
              "0  7f96b2f878858a  4d4b580de459be  ...      1466        0.4444\n",
              "1  eef90569b9d03c  684d5656442f9e  ...         0        0.6400\n",
              "2  1eaf90ac73de72  6a4a42c3245a74  ...         0        0.7755\n",
              "3  4616d365dd2853  a930a9c79cd721  ...         0        0.1667\n",
              "4  315c96c26c9aac  de04010b3458dd  ...         0        0.1875\n",
              "\n",
              "[5 rows x 29 columns]"
            ]
          },
          "metadata": {},
          "execution_count": 7
        }
      ],
      "source": [
        "pubg_raw.head()"
      ]
    },
    {
      "cell_type": "markdown",
      "metadata": {
        "id": "yRSFZPvDpyIz"
      },
      "source": [
        "### Data Evaluation & Transformation Prior to Modeling ###"
      ]
    },
    {
      "cell_type": "code",
      "execution_count": 8,
      "metadata": {
        "id": "XEe4ufHfRNsr",
        "colab": {
          "base_uri": "https://localhost:8080/"
        },
        "outputId": "5699bb42-5dc4-4d06-f33a-1ee17a7b7c04"
      },
      "outputs": [
        {
          "output_type": "execute_result",
          "data": {
            "text/plain": [
              "False"
            ]
          },
          "metadata": {},
          "execution_count": 8
        }
      ],
      "source": [
        "# CREATE NEW DF TO INCLUDE OUR UPDATES\n",
        "# drop the record with missing value\n",
        "pubg_df = pubg_raw.dropna()\n",
        "pubg_df.isnull().values.any()"
      ]
    },
    {
      "cell_type": "markdown",
      "metadata": {
        "id": "7fD5aqXrp8y9"
      },
      "source": [
        "We utilized the analysis from **Lab 1** to inform our approach in dropping NA values as opposed to imputing them. For reference, there was only a single NA value."
      ]
    },
    {
      "cell_type": "code",
      "execution_count": null,
      "metadata": {
        "colab": {
          "base_uri": "https://localhost:8080/",
          "height": 282
        },
        "id": "8Z70upXUG2cS",
        "outputId": "363a337d-5711-4d18-9e9c-e99a39ced1ed"
      },
      "outputs": [
        {
          "output_type": "execute_result",
          "data": {
            "text/plain": [
              "<matplotlib.axes._subplots.AxesSubplot at 0x7f77f71aea90>"
            ]
          },
          "metadata": {},
          "execution_count": 9
        },
        {
          "output_type": "display_data",
          "data": {
            "image/png": "[encoded data removed]",
            "text/plain": [
              "<Figure size 432x288 with 1 Axes>"
            ]
          },
          "metadata": {
            "needs_background": "light"
          }
        }
      ],
      "source": [
        "# boxplot of our target variable \n",
        "# data looks pretty well-distributed, possibly a little right-skewed\n",
        "# makes sense = would expect to have fewer records as the quartile increases \n",
        "pubg_df.loc[:, 'winPlacePerc'].plot(kind='box')"
      ]
    },
    {
      "cell_type": "markdown",
      "metadata": {
        "id": "ySZOyb1uqWdd"
      },
      "source": [
        "Our initial approach was to subdivide the players into quartiles and use a classification algorithm to sort players into these quartiles. However, to answer our question of interest, we really only need to predict players in the top (winning) quartile. We changed our methodology to reflect this classification task, and built the models as binary classifiers.\n",
        "\n",
        "*Given we may pursue incorporating a multiclass prediction model down the line, we have not removed the code to create the other 2 variables that we are not using for this exercise (quartlie and quart_int). Additionally, these were part of our learning process in changing course to build binary classification models.*"
      ]
    },
    {
      "cell_type": "code",
      "execution_count": null,
      "metadata": {
        "colab": {
          "base_uri": "https://localhost:8080/",
          "height": 548
        },
        "id": "TJava5yyJBLT",
        "outputId": "5f5ec14e-e223-4857-95df-ef52664fa465"
      },
      "outputs": [
        {
          "output_type": "stream",
          "name": "stderr",
          "text": [
            "/usr/local/lib/python3.7/dist-packages/ipykernel_launcher.py:11: SettingWithCopyWarning: \n",
            "A value is trying to be set on a copy of a slice from a DataFrame.\n",
            "Try using .loc[row_indexer,col_indexer] = value instead\n",
            "\n",
            "See the caveats in the documentation: https://pandas.pydata.org/pandas-docs/stable/user_guide/indexing.html#returning-a-view-versus-a-copy\n",
            "  # This is added back by InteractiveShellApp.init_path()\n",
            "/usr/local/lib/python3.7/dist-packages/ipykernel_launcher.py:17: SettingWithCopyWarning: \n",
            "A value is trying to be set on a copy of a slice from a DataFrame.\n",
            "Try using .loc[row_indexer,col_indexer] = value instead\n",
            "\n",
            "See the caveats in the documentation: https://pandas.pydata.org/pandas-docs/stable/user_guide/indexing.html#returning-a-view-versus-a-copy\n",
            "/usr/local/lib/python3.7/dist-packages/ipykernel_launcher.py:21: SettingWithCopyWarning: \n",
            "A value is trying to be set on a copy of a slice from a DataFrame.\n",
            "Try using .loc[row_indexer,col_indexer] = value instead\n",
            "\n",
            "See the caveats in the documentation: https://pandas.pydata.org/pandas-docs/stable/user_guide/indexing.html#returning-a-view-versus-a-copy\n"
          ]
        },
        {
          "output_type": "execute_result",
          "data": {
            "text/html": [
              "\n",
              "  <div id=\"df-410f8363-db6d-4887-bb91-c64eb24258d0\">\n",
              "    <div class=\"colab-df-container\">\n",
              "      <div>\n",
              "<style scoped>\n",
              "    .dataframe tbody tr th:only-of-type {\n",
              "        vertical-align: middle;\n",
              "    }\n",
              "\n",
              "    .dataframe tbody tr th {\n",
              "        vertical-align: top;\n",
              "    }\n",
              "\n",
              "    .dataframe thead th {\n",
              "        text-align: right;\n",
              "    }\n",
              "</style>\n",
              "<table border=\"1\" class=\"dataframe\">\n",
              "  <thead>\n",
              "    <tr style=\"text-align: right;\">\n",
              "      <th></th>\n",
              "      <th>Id</th>\n",
              "      <th>groupId</th>\n",
              "      <th>matchId</th>\n",
              "      <th>assists</th>\n",
              "      <th>boosts</th>\n",
              "      <th>damageDealt</th>\n",
              "      <th>DBNOs</th>\n",
              "      <th>headshotKills</th>\n",
              "      <th>heals</th>\n",
              "      <th>killPlace</th>\n",
              "      <th>killPoints</th>\n",
              "      <th>kills</th>\n",
              "      <th>killStreaks</th>\n",
              "      <th>longestKill</th>\n",
              "      <th>matchDuration</th>\n",
              "      <th>matchType</th>\n",
              "      <th>maxPlace</th>\n",
              "      <th>numGroups</th>\n",
              "      <th>rankPoints</th>\n",
              "      <th>revives</th>\n",
              "      <th>rideDistance</th>\n",
              "      <th>roadKills</th>\n",
              "      <th>swimDistance</th>\n",
              "      <th>teamKills</th>\n",
              "      <th>vehicleDestroys</th>\n",
              "      <th>walkDistance</th>\n",
              "      <th>weaponsAcquired</th>\n",
              "      <th>winPoints</th>\n",
              "      <th>winPlacePerc</th>\n",
              "      <th>quartile</th>\n",
              "      <th>quart_int</th>\n",
              "      <th>quart_binary</th>\n",
              "    </tr>\n",
              "  </thead>\n",
              "  <tbody>\n",
              "    <tr>\n",
              "      <th>0</th>\n",
              "      <td>7f96b2f878858a</td>\n",
              "      <td>4d4b580de459be</td>\n",
              "      <td>a10357fd1a4a91</td>\n",
              "      <td>0</td>\n",
              "      <td>0</td>\n",
              "      <td>0.00</td>\n",
              "      <td>0</td>\n",
              "      <td>0</td>\n",
              "      <td>0</td>\n",
              "      <td>60</td>\n",
              "      <td>1241</td>\n",
              "      <td>0</td>\n",
              "      <td>0</td>\n",
              "      <td>0.00</td>\n",
              "      <td>1306</td>\n",
              "      <td>squad-fpp</td>\n",
              "      <td>28</td>\n",
              "      <td>26</td>\n",
              "      <td>-1</td>\n",
              "      <td>0</td>\n",
              "      <td>0.0000</td>\n",
              "      <td>0</td>\n",
              "      <td>0.00</td>\n",
              "      <td>0</td>\n",
              "      <td>0</td>\n",
              "      <td>244.80</td>\n",
              "      <td>1</td>\n",
              "      <td>1466</td>\n",
              "      <td>0.4444</td>\n",
              "      <td>q2</td>\n",
              "      <td>2</td>\n",
              "      <td>0</td>\n",
              "    </tr>\n",
              "    <tr>\n",
              "      <th>1</th>\n",
              "      <td>eef90569b9d03c</td>\n",
              "      <td>684d5656442f9e</td>\n",
              "      <td>aeb375fc57110c</td>\n",
              "      <td>0</td>\n",
              "      <td>0</td>\n",
              "      <td>91.47</td>\n",
              "      <td>0</td>\n",
              "      <td>0</td>\n",
              "      <td>0</td>\n",
              "      <td>57</td>\n",
              "      <td>0</td>\n",
              "      <td>0</td>\n",
              "      <td>0</td>\n",
              "      <td>0.00</td>\n",
              "      <td>1777</td>\n",
              "      <td>squad-fpp</td>\n",
              "      <td>26</td>\n",
              "      <td>25</td>\n",
              "      <td>1484</td>\n",
              "      <td>0</td>\n",
              "      <td>0.0045</td>\n",
              "      <td>0</td>\n",
              "      <td>11.04</td>\n",
              "      <td>0</td>\n",
              "      <td>0</td>\n",
              "      <td>1434.00</td>\n",
              "      <td>5</td>\n",
              "      <td>0</td>\n",
              "      <td>0.6400</td>\n",
              "      <td>q3</td>\n",
              "      <td>3</td>\n",
              "      <td>0</td>\n",
              "    </tr>\n",
              "    <tr>\n",
              "      <th>2</th>\n",
              "      <td>1eaf90ac73de72</td>\n",
              "      <td>6a4a42c3245a74</td>\n",
              "      <td>110163d8bb94ae</td>\n",
              "      <td>1</td>\n",
              "      <td>0</td>\n",
              "      <td>68.00</td>\n",
              "      <td>0</td>\n",
              "      <td>0</td>\n",
              "      <td>0</td>\n",
              "      <td>47</td>\n",
              "      <td>0</td>\n",
              "      <td>0</td>\n",
              "      <td>0</td>\n",
              "      <td>0.00</td>\n",
              "      <td>1318</td>\n",
              "      <td>duo</td>\n",
              "      <td>50</td>\n",
              "      <td>47</td>\n",
              "      <td>1491</td>\n",
              "      <td>0</td>\n",
              "      <td>0.0000</td>\n",
              "      <td>0</td>\n",
              "      <td>0.00</td>\n",
              "      <td>0</td>\n",
              "      <td>0</td>\n",
              "      <td>161.80</td>\n",
              "      <td>2</td>\n",
              "      <td>0</td>\n",
              "      <td>0.7755</td>\n",
              "      <td>q4</td>\n",
              "      <td>4</td>\n",
              "      <td>1</td>\n",
              "    </tr>\n",
              "    <tr>\n",
              "      <th>3</th>\n",
              "      <td>4616d365dd2853</td>\n",
              "      <td>a930a9c79cd721</td>\n",
              "      <td>f1f1f4ef412d7e</td>\n",
              "      <td>0</td>\n",
              "      <td>0</td>\n",
              "      <td>32.90</td>\n",
              "      <td>0</td>\n",
              "      <td>0</td>\n",
              "      <td>0</td>\n",
              "      <td>75</td>\n",
              "      <td>0</td>\n",
              "      <td>0</td>\n",
              "      <td>0</td>\n",
              "      <td>0.00</td>\n",
              "      <td>1436</td>\n",
              "      <td>squad-fpp</td>\n",
              "      <td>31</td>\n",
              "      <td>30</td>\n",
              "      <td>1408</td>\n",
              "      <td>0</td>\n",
              "      <td>0.0000</td>\n",
              "      <td>0</td>\n",
              "      <td>0.00</td>\n",
              "      <td>0</td>\n",
              "      <td>0</td>\n",
              "      <td>202.70</td>\n",
              "      <td>3</td>\n",
              "      <td>0</td>\n",
              "      <td>0.1667</td>\n",
              "      <td>q1</td>\n",
              "      <td>1</td>\n",
              "      <td>0</td>\n",
              "    </tr>\n",
              "    <tr>\n",
              "      <th>4</th>\n",
              "      <td>315c96c26c9aac</td>\n",
              "      <td>de04010b3458dd</td>\n",
              "      <td>6dc8ff871e21e6</td>\n",
              "      <td>0</td>\n",
              "      <td>0</td>\n",
              "      <td>100.00</td>\n",
              "      <td>0</td>\n",
              "      <td>0</td>\n",
              "      <td>0</td>\n",
              "      <td>45</td>\n",
              "      <td>0</td>\n",
              "      <td>1</td>\n",
              "      <td>1</td>\n",
              "      <td>58.53</td>\n",
              "      <td>1424</td>\n",
              "      <td>solo-fpp</td>\n",
              "      <td>97</td>\n",
              "      <td>95</td>\n",
              "      <td>1560</td>\n",
              "      <td>0</td>\n",
              "      <td>0.0000</td>\n",
              "      <td>0</td>\n",
              "      <td>0.00</td>\n",
              "      <td>0</td>\n",
              "      <td>0</td>\n",
              "      <td>49.75</td>\n",
              "      <td>2</td>\n",
              "      <td>0</td>\n",
              "      <td>0.1875</td>\n",
              "      <td>q1</td>\n",
              "      <td>1</td>\n",
              "      <td>0</td>\n",
              "    </tr>\n",
              "  </tbody>\n",
              "</table>\n",
              "</div>\n",
              "      <button class=\"colab-df-convert\" onclick=\"convertToInteractive('df-410f8363-db6d-4887-bb91-c64eb24258d0')\"\n",
              "              title=\"Convert this dataframe to an interactive table.\"\n",
              "              style=\"display:none;\">\n",
              "        \n",
              "  <svg xmlns=\"http://www.w3.org/2000/svg\" height=\"24px\"viewBox=\"0 0 24 24\"\n",
              "       width=\"24px\">\n",
              "    <path d=\"M0 0h24v24H0V0z\" fill=\"none\"/>\n",
              "    <path d=\"M18.56 5.44l.94 2.06.94-2.06 2.06-.94-2.06-.94-.94-2.06-.94 2.06-2.06.94zm-11 1L8.5 8.5l.94-2.06 2.06-.94-2.06-.94L8.5 2.5l-.94 2.06-2.06.94zm10 10l.94 2.06.94-2.06 2.06-.94-2.06-.94-.94-2.06-.94 2.06-2.06.94z\"/><path d=\"M17.41 7.96l-1.37-1.37c-.4-.4-.92-.59-1.43-.59-.52 0-1.04.2-1.43.59L10.3 9.45l-7.72 7.72c-.78.78-.78 2.05 0 2.83L4 21.41c.39.39.9.59 1.41.59.51 0 1.02-.2 1.41-.59l7.78-7.78 2.81-2.81c.8-.78.8-2.07 0-2.86zM5.41 20L4 18.59l7.72-7.72 1.47 1.35L5.41 20z\"/>\n",
              "  </svg>\n",
              "      </button>\n",
              "      \n",
              "  <style>\n",
              "    .colab-df-container {\n",
              "      display:flex;\n",
              "      flex-wrap:wrap;\n",
              "      gap: 12px;\n",
              "    }\n",
              "\n",
              "    .colab-df-convert {\n",
              "      background-color: #E8F0FE;\n",
              "      border: none;\n",
              "      border-radius: 50%;\n",
              "      cursor: pointer;\n",
              "      display: none;\n",
              "      fill: #1967D2;\n",
              "      height: 32px;\n",
              "      padding: 0 0 0 0;\n",
              "      width: 32px;\n",
              "    }\n",
              "\n",
              "    .colab-df-convert:hover {\n",
              "      background-color: #E2EBFA;\n",
              "      box-shadow: 0px 1px 2px rgba(60, 64, 67, 0.3), 0px 1px 3px 1px rgba(60, 64, 67, 0.15);\n",
              "      fill: #174EA6;\n",
              "    }\n",
              "\n",
              "    [theme=dark] .colab-df-convert {\n",
              "      background-color: #3B4455;\n",
              "      fill: #D2E3FC;\n",
              "    }\n",
              "\n",
              "    [theme=dark] .colab-df-convert:hover {\n",
              "      background-color: #434B5C;\n",
              "      box-shadow: 0px 1px 3px 1px rgba(0, 0, 0, 0.15);\n",
              "      filter: drop-shadow(0px 1px 2px rgba(0, 0, 0, 0.3));\n",
              "      fill: #FFFFFF;\n",
              "    }\n",
              "  </style>\n",
              "\n",
              "      <script>\n",
              "        const buttonEl =\n",
              "          document.querySelector('#df-410f8363-db6d-4887-bb91-c64eb24258d0 button.colab-df-convert');\n",
              "        buttonEl.style.display =\n",
              "          google.colab.kernel.accessAllowed ? 'block' : 'none';\n",
              "\n",
              "        async function convertToInteractive(key) {\n",
              "          const element = document.querySelector('#df-410f8363-db6d-4887-bb91-c64eb24258d0');\n",
              "          const dataTable =\n",
              "            await google.colab.kernel.invokeFunction('convertToInteractive',\n",
              "                                                     [key], {});\n",
              "          if (!dataTable) return;\n",
              "\n",
              "          const docLinkHtml = 'Like what you see? Visit the ' +\n",
              "            '<a target=\"_blank\" href=https://colab.research.google.com/notebooks/data_table.ipynb>data table notebook</a>'\n",
              "            + ' to learn more about interactive tables.';\n",
              "          element.innerHTML = '';\n",
              "          dataTable['output_type'] = 'display_data';\n",
              "          await google.colab.output.renderOutput(dataTable, element);\n",
              "          const docLink = document.createElement('div');\n",
              "          docLink.innerHTML = docLinkHtml;\n",
              "          element.appendChild(docLink);\n",
              "        }\n",
              "      </script>\n",
              "    </div>\n",
              "  </div>\n",
              "  "
            ],
            "text/plain": [
              "               Id         groupId  ... quart_int  quart_binary\n",
              "0  7f96b2f878858a  4d4b580de459be  ...         2             0\n",
              "1  eef90569b9d03c  684d5656442f9e  ...         3             0\n",
              "2  1eaf90ac73de72  6a4a42c3245a74  ...         4             1\n",
              "3  4616d365dd2853  a930a9c79cd721  ...         1             0\n",
              "4  315c96c26c9aac  de04010b3458dd  ...         1             0\n",
              "\n",
              "[5 rows x 32 columns]"
            ]
          },
          "metadata": {},
          "execution_count": 10
        }
      ],
      "source": [
        "# CREATE NEW COLUMN FOR QUARTILES = WE WILL REMOVE AND PREDICT \n",
        "\n",
        "# add new quartile vector to pubg_df\n",
        "# start with \"best guess\" quartiles \n",
        "\n",
        "## quartile variable = object datatype \n",
        "pubg_df['quartile'] = np.where(pubg_df.winPlacePerc < 0.25, 'q1', \n",
        "                       np.where(pubg_df.winPlacePerc < 0.5, 'q2',\n",
        "                                np.where(pubg_df.winPlacePerc < 0.75, 'q3',\n",
        "                                         np.where(pubg_df.winPlacePerc >= 0.75, 'q4',\n",
        "                                                  'other'))))\n",
        "## quart_int variable = numeric representation of the quartile that the record belongs to\n",
        "pubg_df['quart_int'] = np.where(pubg_df.winPlacePerc < 0.25, '1', \n",
        "                       np.where(pubg_df.winPlacePerc < 0.50, '2',\n",
        "                                np.where(pubg_df.winPlacePerc < 0.75, '3',\n",
        "                                         np.where(pubg_df.winPlacePerc >= 0.75, '4',\n",
        "                                                  'other'))))\n",
        "## quart_binary = binary variable where 1 = record is in the top quartile \n",
        "pubg_df['quart_binary'] = np.where(pubg_df.winPlacePerc < 0.75, '0',\n",
        "                                         np.where(pubg_df.winPlacePerc >= 0.75, '1',\n",
        "                                                  'other'))\n",
        "pubg_df.head()"
      ]
    },
    {
      "cell_type": "code",
      "execution_count": null,
      "metadata": {
        "colab": {
          "base_uri": "https://localhost:8080/"
        },
        "id": "42GOJ24zdGQI",
        "outputId": "dfeb845d-c795-4097-85cc-fb2339606220"
      },
      "outputs": [
        {
          "output_type": "stream",
          "name": "stdout",
          "text": [
            "Percentage of players in Quartile 1: 29.70%\n",
            "Percentage of players in Quartile 2: 23.49%\n",
            "Percentage of players in Quartile 3: 22.18%\n",
            "Percentage of players in Quartile 4: 24.64%\n",
            "Miscategorized quartile values:   0\n"
          ]
        }
      ],
      "source": [
        "# check the spread of our quartiles\n",
        "quartiles = np.append(sorted(pubg_df.quartile.unique()), 'other')\n",
        "e = 1\n",
        "\n",
        "for i in quartiles:\n",
        "    if e < len(quartiles):\n",
        "        count = len(pubg_df[pubg_df.quartile == i])\n",
        "        print('Percentage of players in Quartile {}: {:.2f}%'.format(e, \n",
        "                                                                 (count / (len(pubg_df.quartile))*100)))\n",
        "        e += 1\n",
        "    else:\n",
        "        count = len(pubg_df[pubg_df.quartile == i])\n",
        "        print('Miscategorized quartile values:  ', count)"
      ]
    },
    {
      "cell_type": "markdown",
      "metadata": {
        "id": "5HAlHplohI0g"
      },
      "source": [
        "Our data is fairly equally distributed among the 4 quartiles using our \"straight cut\" initial approach; we think it can be even better. Next, we will update our dataset with equal representation for all 4 quartiles. "
      ]
    },
    {
      "cell_type": "code",
      "execution_count": null,
      "metadata": {
        "colab": {
          "base_uri": "https://localhost:8080/"
        },
        "id": "pUri1Ay5g-w5",
        "outputId": "ff27a46b-feb2-44fd-a913-1ccea1d16e5e"
      },
      "outputs": [
        {
          "output_type": "stream",
          "name": "stdout",
          "text": [
            "Quartile 1 threshold: 0.20\n",
            "Quartile 2 threshold: 0.46\n",
            "Quartile 3 threshold: 0.74\n"
          ]
        }
      ],
      "source": [
        "# GATHER INFO TO EQUAL OUT OUR QARTILES \n",
        "# pull out the winPlacePerc column\n",
        "winPlace = pubg_df.loc[:,'winPlacePerc']\n",
        "\n",
        "# get quartile thresholds for equal allocation |\n",
        "print('Quartile 1 threshold: {:.2f}'.format(winPlace.quantile(0.25)))\n",
        "print('Quartile 2 threshold: {:.2f}'.format(winPlace.quantile(0.5)))\n",
        "print('Quartile 3 threshold: {:.2f}'.format(winPlace.quantile(0.75)))"
      ]
    },
    {
      "cell_type": "markdown",
      "metadata": {
        "id": "tM7wJSODddpf"
      },
      "source": [
        "This tells us that the thresholds between quartiles in our data are a little different from the \"basic\" quartiles split (0.25, 0.5, 0.75).\n",
        "\n",
        "We will adjust our thresholds in the 'quartile' column, to reflect the revised thresholds (derived from the actual data)."
      ]
    },
    {
      "cell_type": "code",
      "execution_count": 9,
      "metadata": {
        "id": "l8JsXzTtjrhv",
        "colab": {
          "base_uri": "https://localhost:8080/",
          "height": 583
        },
        "outputId": "0e545199-63b4-49db-addf-7b1a8dd58bdc"
      },
      "outputs": [
        {
          "output_type": "stream",
          "name": "stderr",
          "text": [
            "/usr/local/lib/python3.7/dist-packages/ipykernel_launcher.py:7: SettingWithCopyWarning: \n",
            "A value is trying to be set on a copy of a slice from a DataFrame.\n",
            "Try using .loc[row_indexer,col_indexer] = value instead\n",
            "\n",
            "See the caveats in the documentation: https://pandas.pydata.org/pandas-docs/stable/user_guide/indexing.html#returning-a-view-versus-a-copy\n",
            "  import sys\n",
            "/usr/local/lib/python3.7/dist-packages/ipykernel_launcher.py:12: SettingWithCopyWarning: \n",
            "A value is trying to be set on a copy of a slice from a DataFrame.\n",
            "Try using .loc[row_indexer,col_indexer] = value instead\n",
            "\n",
            "See the caveats in the documentation: https://pandas.pydata.org/pandas-docs/stable/user_guide/indexing.html#returning-a-view-versus-a-copy\n",
            "  if sys.path[0] == '':\n",
            "/usr/local/lib/python3.7/dist-packages/ipykernel_launcher.py:15: SettingWithCopyWarning: \n",
            "A value is trying to be set on a copy of a slice from a DataFrame.\n",
            "Try using .loc[row_indexer,col_indexer] = value instead\n",
            "\n",
            "See the caveats in the documentation: https://pandas.pydata.org/pandas-docs/stable/user_guide/indexing.html#returning-a-view-versus-a-copy\n",
            "  from ipykernel import kernelapp as app\n"
          ]
        },
        {
          "output_type": "execute_result",
          "data": {
            "text/html": [
              "\n",
              "  <div id=\"df-34cfa356-9d74-466f-b27f-d4852049556a\">\n",
              "    <div class=\"colab-df-container\">\n",
              "      <div>\n",
              "<style scoped>\n",
              "    .dataframe tbody tr th:only-of-type {\n",
              "        vertical-align: middle;\n",
              "    }\n",
              "\n",
              "    .dataframe tbody tr th {\n",
              "        vertical-align: top;\n",
              "    }\n",
              "\n",
              "    .dataframe thead th {\n",
              "        text-align: right;\n",
              "    }\n",
              "</style>\n",
              "<table border=\"1\" class=\"dataframe\">\n",
              "  <thead>\n",
              "    <tr style=\"text-align: right;\">\n",
              "      <th></th>\n",
              "      <th>Id</th>\n",
              "      <th>groupId</th>\n",
              "      <th>matchId</th>\n",
              "      <th>assists</th>\n",
              "      <th>boosts</th>\n",
              "      <th>damageDealt</th>\n",
              "      <th>DBNOs</th>\n",
              "      <th>headshotKills</th>\n",
              "      <th>heals</th>\n",
              "      <th>killPlace</th>\n",
              "      <th>killPoints</th>\n",
              "      <th>kills</th>\n",
              "      <th>killStreaks</th>\n",
              "      <th>longestKill</th>\n",
              "      <th>matchDuration</th>\n",
              "      <th>matchType</th>\n",
              "      <th>maxPlace</th>\n",
              "      <th>numGroups</th>\n",
              "      <th>rankPoints</th>\n",
              "      <th>revives</th>\n",
              "      <th>rideDistance</th>\n",
              "      <th>roadKills</th>\n",
              "      <th>swimDistance</th>\n",
              "      <th>teamKills</th>\n",
              "      <th>vehicleDestroys</th>\n",
              "      <th>walkDistance</th>\n",
              "      <th>weaponsAcquired</th>\n",
              "      <th>winPoints</th>\n",
              "      <th>winPlacePerc</th>\n",
              "      <th>quartile</th>\n",
              "      <th>quart_int</th>\n",
              "      <th>quart_binary</th>\n",
              "    </tr>\n",
              "  </thead>\n",
              "  <tbody>\n",
              "    <tr>\n",
              "      <th>0</th>\n",
              "      <td>7f96b2f878858a</td>\n",
              "      <td>4d4b580de459be</td>\n",
              "      <td>a10357fd1a4a91</td>\n",
              "      <td>0</td>\n",
              "      <td>0</td>\n",
              "      <td>0.00</td>\n",
              "      <td>0</td>\n",
              "      <td>0</td>\n",
              "      <td>0</td>\n",
              "      <td>60</td>\n",
              "      <td>1241</td>\n",
              "      <td>0</td>\n",
              "      <td>0</td>\n",
              "      <td>0.00</td>\n",
              "      <td>1306</td>\n",
              "      <td>squad-fpp</td>\n",
              "      <td>28</td>\n",
              "      <td>26</td>\n",
              "      <td>-1</td>\n",
              "      <td>0</td>\n",
              "      <td>0.0000</td>\n",
              "      <td>0</td>\n",
              "      <td>0.00</td>\n",
              "      <td>0</td>\n",
              "      <td>0</td>\n",
              "      <td>244.80</td>\n",
              "      <td>1</td>\n",
              "      <td>1466</td>\n",
              "      <td>0.4444</td>\n",
              "      <td>q2</td>\n",
              "      <td>2</td>\n",
              "      <td>0</td>\n",
              "    </tr>\n",
              "    <tr>\n",
              "      <th>1</th>\n",
              "      <td>eef90569b9d03c</td>\n",
              "      <td>684d5656442f9e</td>\n",
              "      <td>aeb375fc57110c</td>\n",
              "      <td>0</td>\n",
              "      <td>0</td>\n",
              "      <td>91.47</td>\n",
              "      <td>0</td>\n",
              "      <td>0</td>\n",
              "      <td>0</td>\n",
              "      <td>57</td>\n",
              "      <td>0</td>\n",
              "      <td>0</td>\n",
              "      <td>0</td>\n",
              "      <td>0.00</td>\n",
              "      <td>1777</td>\n",
              "      <td>squad-fpp</td>\n",
              "      <td>26</td>\n",
              "      <td>25</td>\n",
              "      <td>1484</td>\n",
              "      <td>0</td>\n",
              "      <td>0.0045</td>\n",
              "      <td>0</td>\n",
              "      <td>11.04</td>\n",
              "      <td>0</td>\n",
              "      <td>0</td>\n",
              "      <td>1434.00</td>\n",
              "      <td>5</td>\n",
              "      <td>0</td>\n",
              "      <td>0.6400</td>\n",
              "      <td>q3</td>\n",
              "      <td>3</td>\n",
              "      <td>0</td>\n",
              "    </tr>\n",
              "    <tr>\n",
              "      <th>2</th>\n",
              "      <td>1eaf90ac73de72</td>\n",
              "      <td>6a4a42c3245a74</td>\n",
              "      <td>110163d8bb94ae</td>\n",
              "      <td>1</td>\n",
              "      <td>0</td>\n",
              "      <td>68.00</td>\n",
              "      <td>0</td>\n",
              "      <td>0</td>\n",
              "      <td>0</td>\n",
              "      <td>47</td>\n",
              "      <td>0</td>\n",
              "      <td>0</td>\n",
              "      <td>0</td>\n",
              "      <td>0.00</td>\n",
              "      <td>1318</td>\n",
              "      <td>duo</td>\n",
              "      <td>50</td>\n",
              "      <td>47</td>\n",
              "      <td>1491</td>\n",
              "      <td>0</td>\n",
              "      <td>0.0000</td>\n",
              "      <td>0</td>\n",
              "      <td>0.00</td>\n",
              "      <td>0</td>\n",
              "      <td>0</td>\n",
              "      <td>161.80</td>\n",
              "      <td>2</td>\n",
              "      <td>0</td>\n",
              "      <td>0.7755</td>\n",
              "      <td>q4</td>\n",
              "      <td>4</td>\n",
              "      <td>1</td>\n",
              "    </tr>\n",
              "    <tr>\n",
              "      <th>3</th>\n",
              "      <td>4616d365dd2853</td>\n",
              "      <td>a930a9c79cd721</td>\n",
              "      <td>f1f1f4ef412d7e</td>\n",
              "      <td>0</td>\n",
              "      <td>0</td>\n",
              "      <td>32.90</td>\n",
              "      <td>0</td>\n",
              "      <td>0</td>\n",
              "      <td>0</td>\n",
              "      <td>75</td>\n",
              "      <td>0</td>\n",
              "      <td>0</td>\n",
              "      <td>0</td>\n",
              "      <td>0.00</td>\n",
              "      <td>1436</td>\n",
              "      <td>squad-fpp</td>\n",
              "      <td>31</td>\n",
              "      <td>30</td>\n",
              "      <td>1408</td>\n",
              "      <td>0</td>\n",
              "      <td>0.0000</td>\n",
              "      <td>0</td>\n",
              "      <td>0.00</td>\n",
              "      <td>0</td>\n",
              "      <td>0</td>\n",
              "      <td>202.70</td>\n",
              "      <td>3</td>\n",
              "      <td>0</td>\n",
              "      <td>0.1667</td>\n",
              "      <td>q1</td>\n",
              "      <td>1</td>\n",
              "      <td>0</td>\n",
              "    </tr>\n",
              "    <tr>\n",
              "      <th>4</th>\n",
              "      <td>315c96c26c9aac</td>\n",
              "      <td>de04010b3458dd</td>\n",
              "      <td>6dc8ff871e21e6</td>\n",
              "      <td>0</td>\n",
              "      <td>0</td>\n",
              "      <td>100.00</td>\n",
              "      <td>0</td>\n",
              "      <td>0</td>\n",
              "      <td>0</td>\n",
              "      <td>45</td>\n",
              "      <td>0</td>\n",
              "      <td>1</td>\n",
              "      <td>1</td>\n",
              "      <td>58.53</td>\n",
              "      <td>1424</td>\n",
              "      <td>solo-fpp</td>\n",
              "      <td>97</td>\n",
              "      <td>95</td>\n",
              "      <td>1560</td>\n",
              "      <td>0</td>\n",
              "      <td>0.0000</td>\n",
              "      <td>0</td>\n",
              "      <td>0.00</td>\n",
              "      <td>0</td>\n",
              "      <td>0</td>\n",
              "      <td>49.75</td>\n",
              "      <td>2</td>\n",
              "      <td>0</td>\n",
              "      <td>0.1875</td>\n",
              "      <td>q1</td>\n",
              "      <td>1</td>\n",
              "      <td>0</td>\n",
              "    </tr>\n",
              "  </tbody>\n",
              "</table>\n",
              "</div>\n",
              "      <button class=\"colab-df-convert\" onclick=\"convertToInteractive('df-34cfa356-9d74-466f-b27f-d4852049556a')\"\n",
              "              title=\"Convert this dataframe to an interactive table.\"\n",
              "              style=\"display:none;\">\n",
              "        \n",
              "  <svg xmlns=\"http://www.w3.org/2000/svg\" height=\"24px\"viewBox=\"0 0 24 24\"\n",
              "       width=\"24px\">\n",
              "    <path d=\"M0 0h24v24H0V0z\" fill=\"none\"/>\n",
              "    <path d=\"M18.56 5.44l.94 2.06.94-2.06 2.06-.94-2.06-.94-.94-2.06-.94 2.06-2.06.94zm-11 1L8.5 8.5l.94-2.06 2.06-.94-2.06-.94L8.5 2.5l-.94 2.06-2.06.94zm10 10l.94 2.06.94-2.06 2.06-.94-2.06-.94-.94-2.06-.94 2.06-2.06.94z\"/><path d=\"M17.41 7.96l-1.37-1.37c-.4-.4-.92-.59-1.43-.59-.52 0-1.04.2-1.43.59L10.3 9.45l-7.72 7.72c-.78.78-.78 2.05 0 2.83L4 21.41c.39.39.9.59 1.41.59.51 0 1.02-.2 1.41-.59l7.78-7.78 2.81-2.81c.8-.78.8-2.07 0-2.86zM5.41 20L4 18.59l7.72-7.72 1.47 1.35L5.41 20z\"/>\n",
              "  </svg>\n",
              "      </button>\n",
              "      \n",
              "  <style>\n",
              "    .colab-df-container {\n",
              "      display:flex;\n",
              "      flex-wrap:wrap;\n",
              "      gap: 12px;\n",
              "    }\n",
              "\n",
              "    .colab-df-convert {\n",
              "      background-color: #E8F0FE;\n",
              "      border: none;\n",
              "      border-radius: 50%;\n",
              "      cursor: pointer;\n",
              "      display: none;\n",
              "      fill: #1967D2;\n",
              "      height: 32px;\n",
              "      padding: 0 0 0 0;\n",
              "      width: 32px;\n",
              "    }\n",
              "\n",
              "    .colab-df-convert:hover {\n",
              "      background-color: #E2EBFA;\n",
              "      box-shadow: 0px 1px 2px rgba(60, 64, 67, 0.3), 0px 1px 3px 1px rgba(60, 64, 67, 0.15);\n",
              "      fill: #174EA6;\n",
              "    }\n",
              "\n",
              "    [theme=dark] .colab-df-convert {\n",
              "      background-color: #3B4455;\n",
              "      fill: #D2E3FC;\n",
              "    }\n",
              "\n",
              "    [theme=dark] .colab-df-convert:hover {\n",
              "      background-color: #434B5C;\n",
              "      box-shadow: 0px 1px 3px 1px rgba(0, 0, 0, 0.15);\n",
              "      filter: drop-shadow(0px 1px 2px rgba(0, 0, 0, 0.3));\n",
              "      fill: #FFFFFF;\n",
              "    }\n",
              "  </style>\n",
              "\n",
              "      <script>\n",
              "        const buttonEl =\n",
              "          document.querySelector('#df-34cfa356-9d74-466f-b27f-d4852049556a button.colab-df-convert');\n",
              "        buttonEl.style.display =\n",
              "          google.colab.kernel.accessAllowed ? 'block' : 'none';\n",
              "\n",
              "        async function convertToInteractive(key) {\n",
              "          const element = document.querySelector('#df-34cfa356-9d74-466f-b27f-d4852049556a');\n",
              "          const dataTable =\n",
              "            await google.colab.kernel.invokeFunction('convertToInteractive',\n",
              "                                                     [key], {});\n",
              "          if (!dataTable) return;\n",
              "\n",
              "          const docLinkHtml = 'Like what you see? Visit the ' +\n",
              "            '<a target=\"_blank\" href=https://colab.research.google.com/notebooks/data_table.ipynb>data table notebook</a>'\n",
              "            + ' to learn more about interactive tables.';\n",
              "          element.innerHTML = '';\n",
              "          dataTable['output_type'] = 'display_data';\n",
              "          await google.colab.output.renderOutput(dataTable, element);\n",
              "          const docLink = document.createElement('div');\n",
              "          docLink.innerHTML = docLinkHtml;\n",
              "          element.appendChild(docLink);\n",
              "        }\n",
              "      </script>\n",
              "    </div>\n",
              "  </div>\n",
              "  "
            ],
            "text/plain": [
              "               Id         groupId  ... quart_int  quart_binary\n",
              "0  7f96b2f878858a  4d4b580de459be  ...         2             0\n",
              "1  eef90569b9d03c  684d5656442f9e  ...         3             0\n",
              "2  1eaf90ac73de72  6a4a42c3245a74  ...         4             1\n",
              "3  4616d365dd2853  a930a9c79cd721  ...         1             0\n",
              "4  315c96c26c9aac  de04010b3458dd  ...         1             0\n",
              "\n",
              "[5 rows x 32 columns]"
            ]
          },
          "metadata": {},
          "execution_count": 9
        }
      ],
      "source": [
        "# overwrite quantile vector with updated thresholds \n",
        "# (to create equal distribution among the quantiles)\n",
        "pubg_df['quartile'] = np.where(pubg_df.winPlacePerc < 0.20, 'q1', \n",
        "                       np.where(pubg_df.winPlacePerc < 0.46, 'q2',\n",
        "                                np.where(pubg_df.winPlacePerc < 0.74, 'q3',\n",
        "                                         np.where(pubg_df.winPlacePerc >= 0.74, 'q4',\n",
        "                                                  'other'))))\n",
        "pubg_df['quart_int'] = np.where(pubg_df.winPlacePerc < 0.20, '1', \n",
        "                       np.where(pubg_df.winPlacePerc < 0.46, '2',\n",
        "                                np.where(pubg_df.winPlacePerc < 0.74, '3',\n",
        "                                         np.where(pubg_df.winPlacePerc >= 0.74, '4',\n",
        "                                                  'other'))))\n",
        "pubg_df['quart_binary'] = np.where(pubg_df.winPlacePerc < 0.74, '0',\n",
        "                                         np.where(pubg_df.winPlacePerc >= 0.74, '1',\n",
        "                                                  'other'))\n",
        "pubg_df.head()"
      ]
    },
    {
      "cell_type": "code",
      "execution_count": 10,
      "metadata": {
        "id": "HuP48wMug8qD",
        "colab": {
          "base_uri": "https://localhost:8080/"
        },
        "outputId": "938e358e-8e01-4d6a-cde5-2afcff9e3271"
      },
      "outputs": [
        {
          "output_type": "stream",
          "name": "stdout",
          "text": [
            "Percentage of players in Quartile 1: 24.90%\n",
            "Percentage of players in Quartile 2: 25.19%\n",
            "Percentage of players in Quartile 3: 24.53%\n",
            "Percentage of players in Quartile 4: 25.38%\n",
            "Miscategorized quartile values:   0\n"
          ]
        }
      ],
      "source": [
        "# check the spread of our quartiles\n",
        "# make sure they are more equal\n",
        "\n",
        "quartiles = np.append(sorted(pubg_df.quartile.unique()), 'other')\n",
        "e = 1\n",
        "\n",
        "for i in quartiles:\n",
        "    if e < len(quartiles):\n",
        "        count = len(pubg_df[pubg_df.quartile == i])\n",
        "        print('Percentage of players in Quartile {}: {:.2f}%'.format(e, \n",
        "                                                                 (count / (len(pubg_df.quartile))*100)))\n",
        "        e += 1\n",
        "    else:\n",
        "        count = len(pubg_df[pubg_df.quartile == i])\n",
        "        print('Miscategorized quartile values:  ', count)"
      ]
    },
    {
      "cell_type": "markdown",
      "metadata": {
        "id": "bQ7E8g6yeSCy"
      },
      "source": [
        "Data is now more equally distributed across the 4 quartiles. "
      ]
    },
    {
      "cell_type": "code",
      "execution_count": 11,
      "metadata": {
        "id": "c9NmVeW_oYMu"
      },
      "outputs": [],
      "source": [
        "# REMOVE UNUSEFUL 'OBJECT' (DATATYPE) VARIABLES \n",
        "del pubg_df['Id']\n",
        "del pubg_df['groupId']\n",
        "del pubg_df['matchId']\n",
        "del pubg_df['matchType']"
      ]
    },
    {
      "cell_type": "markdown",
      "metadata": {
        "id": "xpKEprbssIff"
      },
      "source": [
        "The *Id*, *groupId*, and *matchId* features are important for distinguishing distinct players, groups, and matches as part of the original kaggle competition. However, these are not good predictors for our binary classification problem—each triplet will be unique. Therefore, these three are dropped as non-essential.\n",
        "\n",
        "The *matchType* variable was previously identified as having low correlation and predictive power with respect to the original (continuous) response variable, *winPlacePerc*. As such, we opted to remove it from our predictors.\n",
        "\n",
        "*Note*: Analysis on *matchType* was provided in **Lab 1** as part of the **EXPLORE ATTRIBUTES & CLASS** section."
      ]
    },
    {
      "cell_type": "code",
      "execution_count": 12,
      "metadata": {
        "id": "Gxor9WpnN9ZQ",
        "colab": {
          "base_uri": "https://localhost:8080/"
        },
        "outputId": "9f1c6faa-aa20-468b-8bb8-93d4656102f6"
      },
      "outputs": [
        {
          "output_type": "stream",
          "name": "stdout",
          "text": [
            "['assists', 'boosts', 'damageDealt', 'DBNOs', 'headshotKills', 'heals', 'killPlace', 'killPoints', 'kills', 'killStreaks', 'longestKill', 'matchDuration', 'maxPlace', 'numGroups', 'rankPoints', 'revives', 'rideDistance', 'roadKills', 'swimDistance', 'teamKills', 'vehicleDestroys', 'walkDistance', 'weaponsAcquired', 'winPoints']\n"
          ]
        }
      ],
      "source": [
        "# FEATURE COLUMN NAMES\n",
        "\n",
        "#  get column names to use in our logistic regression model \n",
        "cols_df = pubg_df.columns.values.tolist()\n",
        "cols_df.remove('winPlacePerc') # remove target variable 1 (continuous)\n",
        "cols_df.remove('quartile') # remove target variable 2 (categorical)\n",
        "cols_df.remove('quart_int') # remove target variable 2 (numeric representation)\n",
        "cols_df.remove('quart_binary')\n",
        "print(cols_df)"
      ]
    },
    {
      "cell_type": "markdown",
      "metadata": {
        "id": "MyYaths9t3Ki"
      },
      "source": [
        "Below we re-evaluate the features we have transformed and selected. Above, the **Feature Column Names** code block lists the predictors we will utilize to create the logistic regression model and support vector machine model for the classification task."
      ]
    },
    {
      "cell_type": "code",
      "execution_count": null,
      "metadata": {
        "colab": {
          "base_uri": "https://localhost:8080/"
        },
        "id": "HV150odZD_Nl",
        "outputId": "4e262162-cee5-422b-a73d-5b0baf7e2874"
      },
      "outputs": [
        {
          "output_type": "stream",
          "name": "stdout",
          "text": [
            "<class 'pandas.core.frame.DataFrame'>\n",
            "Int64Index: 4446965 entries, 0 to 4446965\n",
            "Data columns (total 28 columns):\n",
            " #   Column           Dtype  \n",
            "---  ------           -----  \n",
            " 0   assists          int64  \n",
            " 1   boosts           int64  \n",
            " 2   damageDealt      float64\n",
            " 3   DBNOs            int64  \n",
            " 4   headshotKills    int64  \n",
            " 5   heals            int64  \n",
            " 6   killPlace        int64  \n",
            " 7   killPoints       int64  \n",
            " 8   kills            int64  \n",
            " 9   killStreaks      int64  \n",
            " 10  longestKill      float64\n",
            " 11  matchDuration    int64  \n",
            " 12  maxPlace         int64  \n",
            " 13  numGroups        int64  \n",
            " 14  rankPoints       int64  \n",
            " 15  revives          int64  \n",
            " 16  rideDistance     float64\n",
            " 17  roadKills        int64  \n",
            " 18  swimDistance     float64\n",
            " 19  teamKills        int64  \n",
            " 20  vehicleDestroys  int64  \n",
            " 21  walkDistance     float64\n",
            " 22  weaponsAcquired  int64  \n",
            " 23  winPoints        int64  \n",
            " 24  winPlacePerc     float64\n",
            " 25  quartile         object \n",
            " 26  quart_int        object \n",
            " 27  quart_binary     object \n",
            "dtypes: float64(6), int64(19), object(3)\n",
            "memory usage: 983.9+ MB\n"
          ]
        }
      ],
      "source": [
        "pubg_df.info()"
      ]
    },
    {
      "cell_type": "markdown",
      "metadata": {
        "id": "xP8PkOWXuyM9"
      },
      "source": [
        "## **CREATE MODELS** ##"
      ]
    },
    {
      "cell_type": "markdown",
      "metadata": {
        "id": "1QSGVJS6vSp4"
      },
      "source": [
        "Our initial approach (below) was to use unscaled data and fit a model we have more familiarity with: logistic regression.\n",
        "\n",
        "This model will be referred to as **simple logit** when discussing advantages and disadvantages."
      ]
    },
    {
      "cell_type": "code",
      "execution_count": 15,
      "metadata": {
        "colab": {
          "base_uri": "https://localhost:8080/"
        },
        "id": "e8mP_--yOaV0",
        "outputId": "1b1d5d78-9a69-4da2-c757-c9bf51aceb96"
      },
      "outputs": [
        {
          "output_type": "stream",
          "name": "stderr",
          "text": [
            "/usr/local/lib/python3.7/dist-packages/sklearn/linear_model/_logistic.py:818: ConvergenceWarning: lbfgs failed to converge (status=1):\n",
            "STOP: TOTAL NO. of ITERATIONS REACHED LIMIT.\n",
            "\n",
            "Increase the number of iterations (max_iter) or scale the data as shown in:\n",
            "    https://scikit-learn.org/stable/modules/preprocessing.html\n",
            "Please also refer to the documentation for alternative solver options:\n",
            "    https://scikit-learn.org/stable/modules/linear_model.html#logistic-regression\n",
            "  extra_warning_msg=_LOGISTIC_SOLVER_CONVERGENCE_MSG,\n"
          ]
        },
        {
          "output_type": "stream",
          "name": "stdout",
          "text": [
            "Logistic Regression Simple Score: 89.81%\n"
          ]
        }
      ],
      "source": [
        "# SIMPLE LOGIT MODEL \n",
        "## Create Logistic Regression Model & Score Model using train, test, split\n",
        "\n",
        "from sklearn import model_selection\n",
        "from sklearn.model_selection import train_test_split\n",
        "from sklearn.linear_model import LogisticRegression\n",
        "from sklearn import metrics as mt\n",
        "\n",
        "feature_cols = cols_df\n",
        "X = pubg_df.loc[:, feature_cols]\n",
        "y = pubg_df.loc[:, 'quart_binary']\n",
        "X_train, X_test, y_train, y_test = model_selection.train_test_split(X, y, train_size=.2, random_state=17)\n",
        "\n",
        "logit_simple = LogisticRegression()\n",
        "logit_simple.fit(X_train, y_train)\n",
        "\n",
        "print('Logistic Regression Simple Score: {:.2f}%'.format(logit_simple.score(X_test, y_test)*100))"
      ]
    },
    {
      "cell_type": "markdown",
      "metadata": {
        "id": "NbrQkXl5M9AF"
      },
      "source": [
        "Here we created a pipeline that scales and fit 3 different classifications, Logistic Regression, Decision Tree, and Random Forest, to compare their accuracies. Because of the larget dataset, overfitting issue, high variance, and noise, Random Forest performed better than other classifications. Although the training time was slower than others, Random Forest improves accuracy by using its main advantages.\n",
        "\n",
        "-------------------------------------------------------------------------------\n",
        "\n",
        "**Logistic Regression Accuracy**: 0.744\n",
        "\n",
        "**Decision Tree Accuracy**: 0.740\n",
        "\n",
        "**RandomForest Accuracy**: 0.814\n"
      ]
    },
    {
      "cell_type": "code",
      "execution_count": 16,
      "metadata": {
        "colab": {
          "base_uri": "https://localhost:8080/"
        },
        "id": "hdttDOIziG_I",
        "outputId": "dcec9b7f-bed4-493f-c48e-7a71b0747420"
      },
      "outputs": [
        {
          "output_type": "execute_result",
          "data": {
            "text/plain": [
              "[Pipeline(steps=[('scalar1', StandardScaler()),\n",
              "                 ('lr_classifier', LogisticRegression(random_state=0))]),\n",
              " Pipeline(steps=[('scalar2', StandardScaler()),\n",
              "                 ('dt_classifier', DecisionTreeClassifier())]),\n",
              " Pipeline(steps=[('scalar3', StandardScaler()),\n",
              "                 ('rf_classifier', RandomForestClassifier())])]"
            ]
          },
          "metadata": {},
          "execution_count": 16
        }
      ],
      "source": [
        "from sklearn.pipeline import Pipeline\n",
        "from sklearn.preprocessing import StandardScaler\n",
        "from sklearn.tree import DecisionTreeClassifier\n",
        "from sklearn.ensemble import RandomForestClassifier\n",
        "from sklearn.linear_model import LogisticRegression\n",
        "\n",
        "pipeline_lr = Pipeline([('scalar1', StandardScaler()),\n",
        "                        ('lr_classifier', LogisticRegression(random_state = 0))])\n",
        "\n",
        "pipeline_dt = Pipeline([('scalar2', StandardScaler()),\n",
        "                        ('dt_classifier', DecisionTreeClassifier())])\n",
        "\n",
        "pipeline_randomforest = Pipeline([('scalar3', StandardScaler()),\n",
        "                                  ('rf_classifier', RandomForestClassifier())])\n",
        "\n",
        "pipelines = [pipeline_lr, pipeline_dt, pipeline_randomforest]\n",
        "pipelines"
      ]
    },
    {
      "cell_type": "code",
      "execution_count": 14,
      "metadata": {
        "id": "Z4afcZB6iHJ7"
      },
      "outputs": [],
      "source": [
        "best_accuracy = 0.0\n",
        "best_classifier = 0\n",
        "best_pipline = \"\"\n",
        "\n",
        "pipe_dic = {0: \"Logistic Regression\", 1: \"Decision Tree\", 2: \"RandomForest\"}"
      ]
    },
    {
      "cell_type": "code",
      "execution_count": null,
      "metadata": {
        "colab": {
          "base_uri": "https://localhost:8080/"
        },
        "id": "fnglKo__iHV8",
        "outputId": "0698b808-99fd-44c5-e8b2-df57bf2cce7c"
      },
      "outputs": [
        {
          "output_type": "stream",
          "name": "stderr",
          "text": [
            "/usr/local/lib/python3.7/dist-packages/sklearn/linear_model/_logistic.py:818: ConvergenceWarning: lbfgs failed to converge (status=1):\n",
            "STOP: TOTAL NO. of ITERATIONS REACHED LIMIT.\n",
            "\n",
            "Increase the number of iterations (max_iter) or scale the data as shown in:\n",
            "    https://scikit-learn.org/stable/modules/preprocessing.html\n",
            "Please also refer to the documentation for alternative solver options:\n",
            "    https://scikit-learn.org/stable/modules/linear_model.html#logistic-regression\n",
            "  extra_warning_msg=_LOGISTIC_SOLVER_CONVERGENCE_MSG,\n"
          ]
        }
      ],
      "source": [
        "for pipe in pipelines:\n",
        "    pipe.fit(X_train, y_train)"
      ]
    },
    {
      "cell_type": "code",
      "execution_count": null,
      "metadata": {
        "colab": {
          "base_uri": "https://localhost:8080/"
        },
        "id": "uzRQKBsKiPD3",
        "outputId": "ca6869c7-1f62-4e86-e7a2-9eb76cf494c0"
      },
      "outputs": [
        {
          "output_type": "stream",
          "name": "stdout",
          "text": [
            "Logistic Regression Test Accuracy: 0.7441089034881093\n",
            "--- 17.909663438796997 seconds ---\n",
            "Decision Tree Test Accuracy: 0.7403538143430407\n",
            "--- 17.663687229156494 seconds ---\n",
            "RandomForest Test Accuracy: 0.8136214811674929\n",
            "--- 266.11619114875793 seconds ---\n",
            "Classifier with best accuracy: RandomForest with 0.8136214811674929.\n"
          ]
        }
      ],
      "source": [
        "import time\n",
        "\n",
        "for i,model in enumerate(pipelines):\n",
        "    start_time = time.time()\n",
        "    accuracy = model.score(X_test, y_test)\n",
        "    print(\"{} Test Accuracy: {}\".format(pipe_dic[i],accuracy))\n",
        "    if accuracy > best_accuracy:\n",
        "        best_accuracy = accuracy\n",
        "        best_pipeline = model\n",
        "        best_classifier = i\n",
        "    print(\"--- %s seconds ---\" % (time.time() - start_time))\n",
        "print(\"Classifier with best accuracy: {} with {}.\".format(pipe_dic[best_classifier], best_accuracy))"
      ]
    },
    {
      "cell_type": "markdown",
      "metadata": {
        "id": "YwI_eE-xm9HN"
      },
      "source": [
        "#### **Regression Model to Predict Binary Classification Variable**\n"
      ]
    },
    {
      "cell_type": "code",
      "execution_count": 17,
      "metadata": {
        "colab": {
          "base_uri": "https://localhost:8080/"
        },
        "id": "TPOC1nzXck5J",
        "outputId": "70a8ac59-244a-4220-9f3f-4fa0c5b8351b"
      },
      "outputs": [
        {
          "output_type": "stream",
          "name": "stdout",
          "text": [
            "ShuffleSplit(n_splits=10, random_state=7, test_size=0.2, train_size=None)\n"
          ]
        }
      ],
      "source": [
        "# TRAIN TEST SPLIT \n",
        "from sklearn.model_selection import ShuffleSplit\n",
        "\n",
        "# we want to predict the X and y data as follows:\n",
        "if 'quart_binary' in pubg_df:\n",
        "    y = pubg_df['quart_binary'].values # get the labels we want\n",
        "\n",
        "\n",
        "    del pubg_df['quart_binary'] # get rid of the class label\n",
        "    del pubg_df['quart_int']\n",
        "    del pubg_df['quartile']\n",
        "    del pubg_df['winPlacePerc'] # get rid of the continuous variable we built the quartile label from \n",
        "\n",
        "    X = pubg_df.values # use everything else to predict!\n",
        "\n",
        "    ## X and y are now numpy matrices, by calling 'values' on the pandas data frames we\n",
        "    #    have converted them into simple matrices to use with scikit learn\n",
        "    \n",
        "    \n",
        "# to use the cross validation object in scikit learn, we need to grab an instance\n",
        "# of the object and set it up. This object will be able to split our data into \n",
        "# training and testing splits (80/20 split)\n",
        "num_cv_iterations = 10\n",
        "num_instances = len(y)\n",
        "cv_object = ShuffleSplit(n_splits=num_cv_iterations, random_state = 7,\n",
        "                         test_size  = 0.2)\n",
        "                         \n",
        "print(cv_object)"
      ]
    },
    {
      "cell_type": "code",
      "execution_count": null,
      "metadata": {
        "colab": {
          "base_uri": "https://localhost:8080/"
        },
        "id": "-bDrGmcEfpBr",
        "outputId": "0f28ecf9-e5fe-42d5-a5a1-da0bc343398a"
      },
      "outputs": [
        {
          "output_type": "stream",
          "name": "stdout",
          "text": [
            "====Iteration 0  ====\n",
            "accuracy 0.9050386049811501\n",
            "confusion matrix\n",
            " [[624612  38730]\n",
            " [ 45728 180323]]\n",
            "====Iteration 1  ====\n",
            "accuracy 0.9044516878365357\n",
            "confusion matrix\n",
            " [[624863  39059]\n",
            " [ 45921 179550]]\n",
            "====Iteration 2  ====\n",
            "accuracy 0.9050790820256063\n",
            "confusion matrix\n",
            " [[625112  38825]\n",
            " [ 45597 179859]]\n",
            "====Iteration 3  ====\n",
            "accuracy 0.9042290640920269\n",
            "confusion matrix\n",
            " [[624780  38884]\n",
            " [ 46294 179435]]\n",
            "====Iteration 4  ====\n",
            "accuracy 0.9045629997087902\n",
            "confusion matrix\n",
            " [[624231  39215]\n",
            " [ 45666 180281]]\n",
            "====Iteration 5  ====\n",
            "accuracy 0.9048238517730632\n",
            "confusion matrix\n",
            " [[624015  39110]\n",
            " [ 45539 180729]]\n",
            "====Iteration 6  ====\n",
            "accuracy 0.9047001719150027\n",
            "confusion matrix\n",
            " [[624555  38969]\n",
            " [ 45790 180079]]\n",
            "====Iteration 7  ====\n",
            "accuracy 0.9046799333927746\n",
            "confusion matrix\n",
            " [[624747  38775]\n",
            " [ 46002 179869]]\n",
            "====Iteration 8  ====\n",
            "accuracy 0.9046686897693146\n",
            "confusion matrix\n",
            " [[624212  39039]\n",
            " [ 45748 180394]]\n",
            "====Iteration 9  ====\n",
            "accuracy 0.9048778211656714\n",
            "confusion matrix\n",
            " [[624829  38971]\n",
            " [ 45630 179963]]\n",
            "CPU times: user 27min 5s, sys: 5.7 s, total: 27min 11s\n",
            "Wall time: 27min\n"
          ]
        }
      ],
      "source": [
        "%%time\n",
        "from pandas.core.common import random_state\n",
        "# ADD CODE TO CREATE TEST/TRAIN OBJECTS \n",
        "### BORROWED FROM JAKE DREW'S GITHUB\n",
        "\n",
        "# run logistic regression and vary some parameters\n",
        "\n",
        "# first we create a reusable logisitic regression object\n",
        "#   here we can setup the object with different learning parameters and constants\n",
        "lr_clf = LogisticRegression(penalty='l2', C=1.0, class_weight=None, solver='liblinear', random_state = 7) # get object\n",
        "\n",
        "# now we can use the cv_object that we setup before to iterate through the \n",
        "#    different training and testing sets. Each time we will reuse the logisitic regression \n",
        "#    object, but it gets trained on different data each time we use it.\n",
        "\n",
        "acc = []\n",
        "weights = []\n",
        "iter_num=0\n",
        "# the indices are the rows used for training and testing in each iteration\n",
        "for train_indices, test_indices in cv_object.split(X,y): \n",
        "    # I will create new variables here so that it is more obvious what \n",
        "    # the code is doing (you can compact this syntax and avoid duplicating memory,\n",
        "    # but it makes this code less readable)\n",
        "    X_train = X[train_indices]\n",
        "    y_train = y[train_indices]\n",
        "    \n",
        "    X_test = X[test_indices]\n",
        "    y_test = y[test_indices]\n",
        "    \n",
        "    # train the reusable logisitc regression model on the training data\n",
        "    lr_clf.fit(X_train,y_train)  # train object\n",
        "    y_hat = lr_clf.predict(X_test) # get test set precitions\n",
        "    weights.append(lr_clf.coef_[0])\n",
        "\n",
        "    # now let's get the accuracy and confusion matrix for this iterations of training/testing\n",
        "    acc.append(mt.accuracy_score(y_test,y_hat))\n",
        "    conf = mt.confusion_matrix(y_test,y_hat)\n",
        "    print(\"====Iteration\",iter_num,\" ====\")\n",
        "    print(\"accuracy\", acc[iter_num] )\n",
        "    print(\"confusion matrix\\n\",conf)\n",
        "    iter_num+=1"
      ]
    },
    {
      "cell_type": "code",
      "execution_count": 24,
      "metadata": {
        "id": "40GU3LXgn3-F"
      },
      "outputs": [],
      "source": [
        "statistics.mean(acc)\n",
        "weights = np.array(weights)\n",
        "# Also note that every time you run the above code\n",
        "#   it randomly creates a new training and testing set, \n",
        "#   so accuracy will be different each time"
      ]
    },
    {
      "cell_type": "markdown",
      "metadata": {
        "id": "Rk0QYDNx0cmX"
      },
      "source": [
        "The above code gives us predictive models with around 90% accuracy consistently. On the flip side, it takes quite a bit of time to run (around 22 min.).\n",
        "\n",
        "Our accuracy could potentially be misleading, possibly overfitting the data. "
      ]
    },
    {
      "cell_type": "markdown",
      "metadata": {
        "id": "wIGxzWPzpT5l"
      },
      "source": [
        "#### **Logistic Regression using Stochastic Gradient Descent**"
      ]
    },
    {
      "cell_type": "code",
      "execution_count": 18,
      "metadata": {
        "id": "Lrwz4AdepE_5",
        "colab": {
          "base_uri": "https://localhost:8080/"
        },
        "outputId": "855656ef-f3e1-442d-9195-3e84f542d8a8"
      },
      "outputs": [
        {
          "output_type": "stream",
          "name": "stdout",
          "text": [
            "ShuffleSplit(n_splits=10, random_state=7, test_size=0.2, train_size=None)\n"
          ]
        }
      ],
      "source": [
        "# FIRST, WE CREATE OUR TRAIN/TEST SPLIT ON THE DATA\n",
        "# TRAIN TEST SPLIT \n",
        "from sklearn.model_selection import ShuffleSplit\n",
        "\n",
        "# we want to predict the X and y data as follows:\n",
        "if 'quart_binary' in pubg_df:\n",
        "    y = pubg_df['quart_binary'].values # get the labels we want\n",
        "\n",
        "\n",
        "    del pubg_df['quart_binary'] # get rid of the class label\n",
        "    del pubg_df['quart_int']\n",
        "    del pubg_df['quartile']\n",
        "    del pubg_df['winPlacePerc'] # get rid of the continuous variable we built the quartile label from \n",
        "\n",
        "    X = pubg_df.values # use everything else to predict!\n",
        "\n",
        "    ## X and y are now numpy matrices, by calling 'values' on the pandas data frames we\n",
        "    #    have converted them into simple matrices to use with scikit learn\n",
        "    \n",
        "    \n",
        "# to use the cross validation object in scikit learn, we need to grab an instance\n",
        "# of the object and set it up. This object will be able to split our data into \n",
        "# training and testing splits (80/20 split)\n",
        "num_cv_iterations = 10\n",
        "num_instances = len(y)\n",
        "cv_object = ShuffleSplit(n_splits=num_cv_iterations, random_state = 7,\n",
        "                         test_size  = 0.2)\n",
        "                         \n",
        "print(cv_object)\n",
        "\n",
        "## code adapted from https://github.com/jakemdrew/DataMiningNotebooks/blob/master/04.%20Logits%20and%20SVM.ipynb\n"
      ]
    },
    {
      "cell_type": "markdown",
      "metadata": {
        "id": "ERWd9CcDgabc"
      },
      "source": [
        "Whereas linear regression minimizes squared error, logistic regression minimizes log-loss (also known as cross-entropy). [This article](http://rasbt.github.io/mlxtend/user_guide/classifier/LogisticRegression/) can be referenced for a detailed explanation."
      ]
    },
    {
      "cell_type": "code",
      "execution_count": 19,
      "metadata": {
        "id": "jgu6qQ5FpiBs",
        "colab": {
          "base_uri": "https://localhost:8080/"
        },
        "outputId": "17d462b2-a249-450c-dcdf-eb1eb96eea8a"
      },
      "outputs": [
        {
          "output_type": "stream",
          "name": "stdout",
          "text": [
            "Logistic Regression using SGD: 0.8815758612896661\n",
            "CPU times: user 4min 2s, sys: 3.12 s, total: 4min 5s\n",
            "Wall time: 4min 3s\n"
          ]
        }
      ],
      "source": [
        "%%time\n",
        "# use some compact notation for creating a logistic regression classifier with stochastic descent\n",
        "\n",
        "from sklearn import metrics as mt\n",
        "from sklearn.preprocessing import StandardScaler\n",
        "from sklearn.linear_model import SGDClassifier\n",
        "import statistics\n",
        "\n",
        "\"\"\n",
        "regularize_const = 0.1\n",
        "iterations = 5\n",
        "acc = []\n",
        "\n",
        "log_sgd = SGDClassifier(alpha=regularize_const,\n",
        "        fit_intercept=True, l1_ratio=0.0, learning_rate='optimal',\n",
        "        loss='log', n_iter_no_change=iterations, n_jobs=-1, penalty='l2')\n",
        "\n",
        "scl = StandardScaler()\n",
        "for train_idx, test_idx in cv_object.split(X,y):\n",
        "    log_sgd.fit(scl.fit_transform(X[train_idx]),y[train_idx])\n",
        "    yhat = log_sgd.predict(scl.transform(X[test_idx]))\n",
        "    \n",
        "    conf = mt.confusion_matrix(y[test_idx],yhat)\n",
        "    acc.append(mt.accuracy_score(y[test_idx],yhat))\n",
        "\n",
        "print('Logistic Regression using SGD:', statistics.mean(acc))\n",
        "\n",
        "## code adapted from https://github.com/jakemdrew/DataMiningNotebooks/blob/master/04.%20Logits%20and%20SVM.ipynb\n"
      ]
    },
    {
      "cell_type": "markdown",
      "metadata": {
        "id": "w-ugw6AUkPBy"
      },
      "source": [
        "Utilizing *SGDClassifier()* allowed us to train a model in a much shorter timeframe than the previous regression models."
      ]
    },
    {
      "cell_type": "code",
      "execution_count": 20,
      "metadata": {
        "id": "pJ1ecCRBhadC",
        "colab": {
          "base_uri": "https://localhost:8080/"
        },
        "outputId": "3c90e73e-f53e-415a-a6a7-eb23b0c714cd"
      },
      "outputs": [
        {
          "output_type": "stream",
          "name": "stdout",
          "text": [
            "Support Vector Machine using SGD: 0.8944681372576577\n",
            "CPU times: user 3min 38s, sys: 1.94 s, total: 3min 40s\n",
            "Wall time: 3min 38s\n"
          ]
        }
      ],
      "source": [
        "%%time\n",
        "# use some compact notation for creating a logistic regression classifier with stochastic descent\n",
        "\n",
        "regularize_const = 0.1\n",
        "iterations = 5\n",
        "acc = []\n",
        "\n",
        "svm_sgd = SGDClassifier(alpha=regularize_const,\n",
        "        fit_intercept=True, l1_ratio=0.0, learning_rate='optimal',\n",
        "        loss='hinge', n_iter_no_change=iterations, n_jobs=-1, penalty='l2')\n",
        "\n",
        "scl = StandardScaler()\n",
        "for train_idx, test_idx in cv_object.split(X,y):\n",
        "    svm_sgd.fit(scl.fit_transform(X[train_idx]),y[train_idx])\n",
        "    yhat = svm_sgd.predict(scl.transform(X[test_idx]))\n",
        "    \n",
        "    conf = mt.confusion_matrix(y[test_idx],yhat)\n",
        "    acc.append(mt.accuracy_score(y[test_idx],yhat))\n",
        "\n",
        "print('Support Vector Machine using SGD:', statistics.mean(acc))\n",
        "\n",
        "## code adapted from https://github.com/jakemdrew/DataMiningNotebooks/blob/master/04.%20Logits%20and%20SVM.ipynb\n"
      ]
    },
    {
      "cell_type": "markdown",
      "metadata": {
        "id": "rqpKp5b7jv5x"
      },
      "source": [
        "We trained the *SGDClassifier()* with the hinge loss, which is equivalent to a linear SVM (reference: https://scikit-learn.org/stable/modules/sgd.html#sgd)."
      ]
    },
    {
      "cell_type": "markdown",
      "metadata": {
        "id": "CCSXL1b1f0Ue"
      },
      "source": [
        "## **MODEL ADVANTAGES**"
      ]
    },
    {
      "cell_type": "markdown",
      "metadata": {
        "id": "jSVF1CyAxVX-"
      },
      "source": [
        "The logistic model using stochastic gradient descent (SGD) runs much faster than the previous models. The 10-fold cross-validation of the original regression model (*i.e.*, **lr_clf**) took over 20 minutes. The SGD approach takes around 3 minutes to run a 10-fold cross-validation.\n",
        "\n",
        "The trade off is that we see a slightly lower average accuracy score (we pay for our improved computing speed with about 1 to 2% accuracy = it drops from around 90% to around 88%).\n",
        "\n",
        "But, 88% accuracy is still pretty solid. Additionally, the variance of the scores doesn't seem to suffer drastically. As for next steps, we could explore methods to reduce the  dimensionality of our data, to see if we can bring our accuracy score up without a substantal increase in processing time.\n",
        "\n",
        "Both *SGDClassifier*s show marked improvement over the DecisionTree and RandomForest approaches, both in terms of accuracy scores and in terms of time-to-completion.\n",
        "\n",
        "Lastly, between the logistic regression using stochastic gradient descent and the support vector machine, it appears that the SVM model has a slight advantage both in terms of run-time and accuracy."
      ]
    },
    {
      "cell_type": "code",
      "execution_count": null,
      "metadata": {
        "id": "Iu9xbdCR2HGK"
      },
      "outputs": [],
      "source": [
        "### Attempt to optimize logistic model\n",
        "'''\n",
        "from sklearn.model_selection import GridSearchCV\n",
        "params = {\n",
        "    'alpha' : [1e-3, 1e-2, 1e-1],\n",
        "    'penalty' : ['l1', 'l2', 'elasticnet']\n",
        "}\n",
        "\n",
        "clf = SGDClassifier(max_iter=4000)\n",
        "grid = GridSearchCV(clf, param_grid=params, cv=10)\n",
        "\n",
        "grid.fit(X_train, y_train)\n",
        "\n",
        "print(grid.best_params_)\n",
        "'''"
      ]
    },
    {
      "cell_type": "markdown",
      "metadata": {
        "id": "LXKvDfA52PJl"
      },
      "source": [
        "There were two issues with attempting to optimize model hyperparameters. One was that the run-time for evaluation was very large due to having a large *max_iter*. The other issue was that, despite having a large *max_iter*, the model was encountering a convergence warning (*i.e.*, `ConvergenceWarning: Maximum number of iteration reached before convergence`.)\n",
        "\n",
        "*Note*: the *params* in the above model have been scaled down multiple times in terms of number of iterations."
      ]
    },
    {
      "cell_type": "markdown",
      "metadata": {
        "id": "goxVJSaNkpN_"
      },
      "source": [
        "## **INTERPRETING FEATURE IMPORTANCE**"
      ]
    },
    {
      "cell_type": "code",
      "execution_count": 22,
      "metadata": {
        "id": "ImUikPSipisz",
        "colab": {
          "base_uri": "https://localhost:8080/"
        },
        "outputId": "139d6abb-44a1-4e8f-f11d-88dcb0ccf5be"
      },
      "outputs": [
        {
          "output_type": "stream",
          "name": "stdout",
          "text": [
            "assists has weight of 0.12025330374297047\n",
            "boosts has weight of 0.37093306972293505\n",
            "damageDealt has weight of 0.06968740443985529\n",
            "DBNOs has weight of -0.05492528499518519\n",
            "headshotKills has weight of 0.016084188740414007\n",
            "heals has weight of 0.10281253381429861\n",
            "killPlace has weight of -0.3677992135846416\n",
            "killPoints has weight of 0.004440243149349422\n",
            "kills has weight of 0.038271732702837055\n",
            "killStreaks has weight of -0.027460130962160427\n",
            "longestKill has weight of 0.11999354840257538\n",
            "matchDuration has weight of -0.1703295442575657\n",
            "maxPlace has weight of 0.059952709140783364\n",
            "numGroups has weight of 0.05968947154945316\n",
            "rankPoints has weight of 0.00961925801409661\n",
            "revives has weight of 0.05245282604392503\n",
            "rideDistance has weight of 0.14516675045993335\n",
            "roadKills has weight of 0.003686520303298127\n",
            "swimDistance has weight of 0.0957944293604541\n",
            "teamKills has weight of -0.031204727511408074\n",
            "vehicleDestroys has weight of 0.0031760998274735467\n",
            "walkDistance has weight of 0.7159451788033623\n",
            "weaponsAcquired has weight of 0.1906618852409074\n",
            "winPoints has weight of 0.011408034392593467\n"
          ]
        }
      ],
      "source": [
        "# INTERPRETTING WEIGHTS\n",
        "\n",
        "# iterate over the coefficients\n",
        "weights = log_sgd.coef_.T\n",
        "variable_names = cols_df\n",
        "for coef, name in zip(weights, variable_names):\n",
        "    print(name, 'has weight of', coef[0])"
      ]
    },
    {
      "cell_type": "code",
      "execution_count": 23,
      "metadata": {
        "id": "YWGoK6EkxV13",
        "colab": {
          "base_uri": "https://localhost:8080/",
          "height": 361
        },
        "outputId": "4637ed2e-3c6c-45f5-dab9-0f36d620804a"
      },
      "outputs": [
        {
          "output_type": "display_data",
          "data": {
            "image/png": "[encoded data removed]",
            "text/plain": [
              "<Figure size 576x288 with 1 Axes>"
            ]
          },
          "metadata": {}
        }
      ],
      "source": [
        "%matplotlib inline\n",
        "plt.style.use('ggplot')\n",
        "\n",
        "weights_graph = pd.Series(weights.flatten(), index=variable_names)\n",
        "plt.figure(figsize=(8, 4))\n",
        "plt.ylim(ymin=-.8,ymax=.8)\n",
        "weights_graph.plot(kind='bar')\n",
        "plt.title('Feature weights for logistic regression')\n",
        "plt.show()"
      ]
    },
    {
      "cell_type": "markdown",
      "metadata": {
        "id": "sbp138w024s0"
      },
      "source": [
        "Looking at these coefficients is interesting, they suggest that *walkDistance* and *boosts* have the largest positive influence on target prediction. The *killPlace* variable has a noticeable negative association with prediction of our binary \"top 25%\" classification QOI.\n",
        "\n",
        "*killPlace* and *boosts* were part of our initial assessment as predictors of interest from **Lab 1**. Our knowledge of PUBG matches and the fact that there is no \"*survivalTime*\" variable leads us to assume that *walkDistance* may be analogous to in-game survival.\n",
        "\n",
        "All other vectors have weights less than 0.2."
      ]
    },
    {
      "cell_type": "markdown",
      "metadata": {
        "id": "AaM6ISmekwtE"
      },
      "source": [
        "## **INTERPRETING SUPPORT VECTORS**"
      ]
    },
    {
      "cell_type": "markdown",
      "metadata": {
        "id": "tt0LcEN3S3w0"
      },
      "source": [
        "*Below code adapted from: https://scikit-learn.org/stable/auto_examples/svm/plot_linearsvc_support_vectors.html*"
      ]
    },
    {
      "cell_type": "code",
      "execution_count": 25,
      "metadata": {
        "id": "whNwUqHNSw9B",
        "colab": {
          "base_uri": "https://localhost:8080/",
          "height": 369
        },
        "outputId": "87fd4310-77d0-48f1-815a-0ddb024aa9ee"
      },
      "outputs": [
        {
          "output_type": "display_data",
          "data": {
            "image/png": "[encoded data removed]",
            "text/plain": [
              "<Figure size 720x360 with 2 Axes>"
            ]
          },
          "metadata": {}
        }
      ],
      "source": [
        "import numpy as np\n",
        "import matplotlib.pyplot as plt\n",
        "from sklearn.datasets import make_blobs\n",
        "from sklearn.svm import LinearSVC\n",
        "\n",
        "X, y = make_blobs(n_samples=40, centers=2, random_state=0)\n",
        "\n",
        "plt.figure(figsize=(10, 5))\n",
        "for i, C in enumerate([1, 100]):\n",
        "    # \"hinge\" is the standard SVM loss\n",
        "    clf = LinearSVC(C=C, loss=\"hinge\", random_state=42).fit(X, y)\n",
        "    # obtain the support vectors through the decision function\n",
        "    decision_function = clf.decision_function(X)\n",
        "    # we can also calculate the decision function manually\n",
        "    # decision_function = np.dot(X, clf.coef_[0]) + clf.intercept_[0]\n",
        "    # The support vectors are the samples that lie within the margin\n",
        "    # boundaries, whose size is conventionally constrained to 1\n",
        "    support_vector_indices = np.where(np.abs(decision_function) <= 1 + 1e-15)[0]\n",
        "    support_vectors = X[support_vector_indices]\n",
        "\n",
        "    plt.subplot(1, 2, i + 1)\n",
        "    plt.scatter(X[:, 0], X[:, 1], c=y, s=30, cmap=plt.cm.Paired)\n",
        "    ax = plt.gca()\n",
        "    xlim = ax.get_xlim()\n",
        "    ylim = ax.get_ylim()\n",
        "    xx, yy = np.meshgrid(\n",
        "        np.linspace(xlim[0], xlim[1], 50), np.linspace(ylim[0], ylim[1], 50)\n",
        "    )\n",
        "    Z = clf.decision_function(np.c_[xx.ravel(), yy.ravel()])\n",
        "    Z = Z.reshape(xx.shape)\n",
        "    plt.contour(\n",
        "        xx,\n",
        "        yy,\n",
        "        Z,\n",
        "        colors=\"k\",\n",
        "        levels=[-1, 0, 1],\n",
        "        alpha=0.5,\n",
        "        linestyles=[\"--\", \"-\", \"--\"],\n",
        "    )\n",
        "    plt.scatter(\n",
        "        support_vectors[:, 0],\n",
        "        support_vectors[:, 1],\n",
        "        s=100,\n",
        "        linewidth=1,\n",
        "        facecolors=\"none\",\n",
        "        edgecolors=\"k\",\n",
        "    )\n",
        "    plt.title(\"C=\" + str(C))\n",
        "plt.tight_layout()\n",
        "plt.show()"
      ]
    },
    {
      "cell_type": "markdown",
      "source": [
        "The above code gives a representation of the support vectors for our classification QOI. The support vectors  are the instances that lie *on* the hyperplane boundary separating our classifications. These represent maximized margins between our binary classes; but because we are running our model against multi-variate data, the support vectors exist on hyperplanes separating our data as optimally as possible.\n",
        "\n",
        "As we increase the regularization parameter (*i.e.* C), we decrease the strength of regularization: \"The strength of the regularization is inversely proportional to C.\" ([reference](https://scikit-learn.org/stable/modules/generated/sklearn.svm.LinearSVC.html?highlight=linearsvc#sklearn.svm.LinearSVC)). In other words, a larger C overfits on our training data—as seen above."
      ],
      "metadata": {
        "id": "krb-10VP9Mmx"
      }
    },
    {
      "cell_type": "code",
      "source": [
        "# code adapted from: https://stats.stackexchange.com/questions/39243/how-does-one-interpret-svm-feature-weights\n",
        "\n",
        "from sklearn.svm import SVC\n",
        "clf = SVC(C = 1e5, kernel = 'linear')\n",
        "clf.fit(X, y) \n",
        "print('w = ',clf.coef_)\n",
        "print('b = ',clf.intercept_)\n",
        "print('Indices of support vectors = ', clf.support_)\n",
        "print('Support vectors = ', clf.support_vectors_)\n",
        "print('Number of support vectors for each class = ', clf.n_support_)\n",
        "print('Coefficients of the support vector in the decision function = ', np.abs(clf.dual_coef_))"
      ],
      "metadata": {
        "id": "Pv0QGVGpSUhY",
        "colab": {
          "base_uri": "https://localhost:8080/"
        },
        "outputId": "24a231c9-a51e-4afc-95e1-921dd5c08e5a"
      },
      "execution_count": 26,
      "outputs": [
        {
          "output_type": "stream",
          "name": "stdout",
          "text": [
            "w =  [[ 0.50616919 -3.03777007]]\n",
            "b =  [6.01254062]\n",
            "Indices of support vectors =  [ 3 35  1]\n",
            "Support vectors =  [[3.2460247  2.84942165]\n",
            " [0.08848433 2.32299086]\n",
            " [0.89011768 1.79849015]]\n",
            "Number of support vectors for each class =  [2 1]\n",
            "Coefficients of the support vector in the decision function =  [[1.04405632 3.6997822  4.74383851]]\n"
          ]
        }
      ]
    },
    {
      "cell_type": "code",
      "source": [
        ""
      ],
      "metadata": {
        "id": "0fhB7vXkXJvK"
      },
      "execution_count": null,
      "outputs": []
    }
  ],
  "metadata": {
    "colab": {
      "collapsed_sections": [],
      "name": "ML1_mini_lab.ipynb",
      "provenance": []
    },
    "kernelspec": {
      "display_name": "Python 3",
      "name": "python3"
    },
    "language_info": {
      "name": "python"
    }
  },
  "nbformat": 4,
  "nbformat_minor": 0
}