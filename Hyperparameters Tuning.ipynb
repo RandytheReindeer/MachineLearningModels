{
 "cells": [
  {
   "cell_type": "markdown",
   "id": "5ab4f774",
   "metadata": {},
   "source": [
    "# Tuning Hyperparameters"
   ]
  },
  {
   "cell_type": "code",
   "execution_count": 1,
   "id": "9805f872",
   "metadata": {},
   "outputs": [],
   "source": [
    "from sklearn.datasets import make_classification\n",
    "\n",
    "X, Y = make_classification(n_samples = 200,\n",
    "                          n_classes = 2,\n",
    "                          n_features = 10,\n",
    "                          n_redundant = 0,\n",
    "                          random_state = 1)"
   ]
  },
  {
   "cell_type": "code",
   "execution_count": 2,
   "id": "074874a1",
   "metadata": {},
   "outputs": [
    {
     "data": {
      "text/plain": [
       "((200, 10), (200,))"
      ]
     },
     "execution_count": 2,
     "metadata": {},
     "output_type": "execute_result"
    }
   ],
   "source": [
    "X.shape, Y.shape"
   ]
  },
  {
   "cell_type": "markdown",
   "id": "6928db71",
   "metadata": {},
   "source": [
    "Data split 80/20 ratio"
   ]
  },
  {
   "cell_type": "code",
   "execution_count": 3,
   "id": "43471ba7",
   "metadata": {},
   "outputs": [],
   "source": [
    "from sklearn.model_selection import train_test_split\n",
    "\n",
    "X_train, X_test, Y_train, Y_test = train_test_split(X, Y, test_size = 0.2)"
   ]
  },
  {
   "cell_type": "code",
   "execution_count": 4,
   "id": "404e590d",
   "metadata": {},
   "outputs": [
    {
     "data": {
      "text/plain": [
       "((160, 10), (160,))"
      ]
     },
     "execution_count": 4,
     "metadata": {},
     "output_type": "execute_result"
    }
   ],
   "source": [
    "X_train.shape, Y_train.shape"
   ]
  },
  {
   "cell_type": "code",
   "execution_count": 5,
   "id": "9116ddb0",
   "metadata": {},
   "outputs": [
    {
     "data": {
      "text/plain": [
       "((40, 10), (40,))"
      ]
     },
     "execution_count": 5,
     "metadata": {},
     "output_type": "execute_result"
    }
   ],
   "source": [
    "X_test.shape, Y_test.shape"
   ]
  },
  {
   "cell_type": "code",
   "execution_count": 6,
   "id": "62e412f7",
   "metadata": {},
   "outputs": [],
   "source": [
    "from sklearn.ensemble import RandomForestClassifier\n",
    "from sklearn.metrics import accuracy_score"
   ]
  },
  {
   "cell_type": "code",
   "execution_count": 8,
   "id": "1a096eff",
   "metadata": {},
   "outputs": [],
   "source": [
    "rf = RandomForestClassifier(max_features = 5, n_estimators = 100)"
   ]
  },
  {
   "cell_type": "code",
   "execution_count": 9,
   "id": "86a0bd3d",
   "metadata": {},
   "outputs": [
    {
     "data": {
      "text/plain": [
       "RandomForestClassifier(max_features=5)"
      ]
     },
     "execution_count": 9,
     "metadata": {},
     "output_type": "execute_result"
    }
   ],
   "source": [
    "rf.fit(X_train, Y_train)"
   ]
  },
  {
   "cell_type": "code",
   "execution_count": 10,
   "id": "e48a2e86",
   "metadata": {},
   "outputs": [
    {
     "data": {
      "text/plain": [
       "0.875"
      ]
     },
     "execution_count": 10,
     "metadata": {},
     "output_type": "execute_result"
    }
   ],
   "source": [
    "rf.score(X_test, Y_test)"
   ]
  },
  {
   "cell_type": "code",
   "execution_count": 11,
   "id": "f97dc036",
   "metadata": {},
   "outputs": [],
   "source": [
    "Y_pred = rf.predict(X_test)"
   ]
  },
  {
   "cell_type": "code",
   "execution_count": 12,
   "id": "03c47e59",
   "metadata": {},
   "outputs": [
    {
     "data": {
      "text/plain": [
       "0.875"
      ]
     },
     "execution_count": 12,
     "metadata": {},
     "output_type": "execute_result"
    }
   ],
   "source": [
    "accuracy_score(Y_pred, Y_test)"
   ]
  },
  {
   "cell_type": "code",
   "execution_count": 13,
   "id": "28da69d2",
   "metadata": {},
   "outputs": [
    {
     "data": {
      "text/plain": [
       "(array([1, 1, 0, 1, 1, 0, 1, 0, 0, 0, 0, 0, 0, 1, 1, 0, 0, 0, 0, 0, 1, 1,\n",
       "        0, 1, 1, 1, 0, 1, 1, 1, 0, 0, 1, 0, 1, 1, 0, 1, 0, 1]),\n",
       " array([1, 1, 0, 1, 1, 0, 1, 0, 0, 0, 0, 0, 0, 1, 1, 0, 0, 0, 0, 0, 1, 0,\n",
       "        0, 1, 1, 1, 0, 1, 0, 1, 0, 1, 1, 0, 0, 1, 0, 1, 1, 1]))"
      ]
     },
     "execution_count": 13,
     "metadata": {},
     "output_type": "execute_result"
    }
   ],
   "source": [
    "Y_pred, Y_test"
   ]
  },
  {
   "cell_type": "markdown",
   "id": "fd14eddb",
   "metadata": {},
   "source": [
    "# Hyperparameter Tuning"
   ]
  },
  {
   "cell_type": "code",
   "execution_count": 14,
   "id": "5769fe77",
   "metadata": {},
   "outputs": [],
   "source": [
    "from sklearn.model_selection import GridSearchCV\n",
    "import numpy as np"
   ]
  },
  {
   "cell_type": "code",
   "execution_count": 17,
   "id": "fbf868f4",
   "metadata": {},
   "outputs": [],
   "source": [
    "max_features_range = np.arange(1, 6, 1)\n",
    "n_estimators_range = np.arange(10, 210, 10)\n",
    "param_grid = dict(max_features = max_features_range, n_estimators = n_estimators_range)\n",
    "\n",
    "rf = RandomForestClassifier()\n",
    "\n",
    "grid = GridSearchCV(estimator = rf, param_grid = param_grid, cv = 5)"
   ]
  },
  {
   "cell_type": "code",
   "execution_count": 18,
   "id": "af69b798",
   "metadata": {},
   "outputs": [
    {
     "data": {
      "text/plain": [
       "GridSearchCV(cv=5, estimator=RandomForestClassifier(),\n",
       "             param_grid={'max_features': array([1, 2, 3, 4, 5]),\n",
       "                         'n_estimators': array([ 10,  20,  30,  40,  50,  60,  70,  80,  90, 100, 110, 120, 130,\n",
       "       140, 150, 160, 170, 180, 190, 200])})"
      ]
     },
     "execution_count": 18,
     "metadata": {},
     "output_type": "execute_result"
    }
   ],
   "source": [
    "grid.fit(X_train, Y_train)"
   ]
  },
  {
   "cell_type": "code",
   "execution_count": 19,
   "id": "0e808f82",
   "metadata": {},
   "outputs": [
    {
     "name": "stdout",
     "output_type": "stream",
     "text": [
      "The best parameters are {'max_features': 1, 'n_estimators': 200} with a score of 0.90\n"
     ]
    }
   ],
   "source": [
    "print(\"The best parameters are %s with a score of %0.2f\"\n",
    "      % (grid.best_params_, grid.best_score_))"
   ]
  },
  {
   "cell_type": "code",
   "execution_count": 20,
   "id": "224062a5",
   "metadata": {},
   "outputs": [
    {
     "data": {
      "text/html": [
       "<div>\n",
       "<style scoped>\n",
       "    .dataframe tbody tr th:only-of-type {\n",
       "        vertical-align: middle;\n",
       "    }\n",
       "\n",
       "    .dataframe tbody tr th {\n",
       "        vertical-align: top;\n",
       "    }\n",
       "\n",
       "    .dataframe thead th {\n",
       "        text-align: right;\n",
       "    }\n",
       "</style>\n",
       "<table border=\"1\" class=\"dataframe\">\n",
       "  <thead>\n",
       "    <tr style=\"text-align: right;\">\n",
       "      <th></th>\n",
       "      <th>max_features</th>\n",
       "      <th>n_estimators</th>\n",
       "      <th>Accuracy</th>\n",
       "    </tr>\n",
       "  </thead>\n",
       "  <tbody>\n",
       "    <tr>\n",
       "      <th>0</th>\n",
       "      <td>1</td>\n",
       "      <td>10</td>\n",
       "      <td>0.80625</td>\n",
       "    </tr>\n",
       "    <tr>\n",
       "      <th>1</th>\n",
       "      <td>1</td>\n",
       "      <td>20</td>\n",
       "      <td>0.81875</td>\n",
       "    </tr>\n",
       "    <tr>\n",
       "      <th>2</th>\n",
       "      <td>1</td>\n",
       "      <td>30</td>\n",
       "      <td>0.78750</td>\n",
       "    </tr>\n",
       "    <tr>\n",
       "      <th>3</th>\n",
       "      <td>1</td>\n",
       "      <td>40</td>\n",
       "      <td>0.86250</td>\n",
       "    </tr>\n",
       "    <tr>\n",
       "      <th>4</th>\n",
       "      <td>1</td>\n",
       "      <td>50</td>\n",
       "      <td>0.86875</td>\n",
       "    </tr>\n",
       "  </tbody>\n",
       "</table>\n",
       "</div>"
      ],
      "text/plain": [
       "   max_features  n_estimators  Accuracy\n",
       "0             1            10   0.80625\n",
       "1             1            20   0.81875\n",
       "2             1            30   0.78750\n",
       "3             1            40   0.86250\n",
       "4             1            50   0.86875"
      ]
     },
     "execution_count": 20,
     "metadata": {},
     "output_type": "execute_result"
    }
   ],
   "source": [
    "import pandas as pd\n",
    "\n",
    "grid_results = pd.concat([pd.DataFrame(grid.cv_results_[\"params\"]),pd.DataFrame(grid.cv_results_[\"mean_test_score\"], columns=[\"Accuracy\"])],axis=1)\n",
    "grid_results.head()"
   ]
  },
  {
   "cell_type": "code",
   "execution_count": 21,
   "id": "7bba49bf",
   "metadata": {},
   "outputs": [
    {
     "data": {
      "text/html": [
       "<div>\n",
       "<style scoped>\n",
       "    .dataframe tbody tr th:only-of-type {\n",
       "        vertical-align: middle;\n",
       "    }\n",
       "\n",
       "    .dataframe tbody tr th {\n",
       "        vertical-align: top;\n",
       "    }\n",
       "\n",
       "    .dataframe thead th {\n",
       "        text-align: right;\n",
       "    }\n",
       "</style>\n",
       "<table border=\"1\" class=\"dataframe\">\n",
       "  <thead>\n",
       "    <tr style=\"text-align: right;\">\n",
       "      <th></th>\n",
       "      <th></th>\n",
       "      <th>Accuracy</th>\n",
       "    </tr>\n",
       "    <tr>\n",
       "      <th>max_features</th>\n",
       "      <th>n_estimators</th>\n",
       "      <th></th>\n",
       "    </tr>\n",
       "  </thead>\n",
       "  <tbody>\n",
       "    <tr>\n",
       "      <th rowspan=\"5\" valign=\"top\">1</th>\n",
       "      <th>10</th>\n",
       "      <td>0.80625</td>\n",
       "    </tr>\n",
       "    <tr>\n",
       "      <th>20</th>\n",
       "      <td>0.81875</td>\n",
       "    </tr>\n",
       "    <tr>\n",
       "      <th>30</th>\n",
       "      <td>0.78750</td>\n",
       "    </tr>\n",
       "    <tr>\n",
       "      <th>40</th>\n",
       "      <td>0.86250</td>\n",
       "    </tr>\n",
       "    <tr>\n",
       "      <th>50</th>\n",
       "      <td>0.86875</td>\n",
       "    </tr>\n",
       "    <tr>\n",
       "      <th>...</th>\n",
       "      <th>...</th>\n",
       "      <td>...</td>\n",
       "    </tr>\n",
       "    <tr>\n",
       "      <th rowspan=\"5\" valign=\"top\">5</th>\n",
       "      <th>160</th>\n",
       "      <td>0.90000</td>\n",
       "    </tr>\n",
       "    <tr>\n",
       "      <th>170</th>\n",
       "      <td>0.88750</td>\n",
       "    </tr>\n",
       "    <tr>\n",
       "      <th>180</th>\n",
       "      <td>0.89375</td>\n",
       "    </tr>\n",
       "    <tr>\n",
       "      <th>190</th>\n",
       "      <td>0.90000</td>\n",
       "    </tr>\n",
       "    <tr>\n",
       "      <th>200</th>\n",
       "      <td>0.88750</td>\n",
       "    </tr>\n",
       "  </tbody>\n",
       "</table>\n",
       "<p>100 rows × 1 columns</p>\n",
       "</div>"
      ],
      "text/plain": [
       "                           Accuracy\n",
       "max_features n_estimators          \n",
       "1            10             0.80625\n",
       "             20             0.81875\n",
       "             30             0.78750\n",
       "             40             0.86250\n",
       "             50             0.86875\n",
       "...                             ...\n",
       "5            160            0.90000\n",
       "             170            0.88750\n",
       "             180            0.89375\n",
       "             190            0.90000\n",
       "             200            0.88750\n",
       "\n",
       "[100 rows x 1 columns]"
      ]
     },
     "execution_count": 21,
     "metadata": {},
     "output_type": "execute_result"
    }
   ],
   "source": [
    "grid_contour = grid_results.groupby(['max_features','n_estimators']).mean()\n",
    "grid_contour"
   ]
  },
  {
   "cell_type": "code",
   "execution_count": 22,
   "id": "f73d6a0d",
   "metadata": {},
   "outputs": [
    {
     "data": {
      "text/html": [
       "<div>\n",
       "<style scoped>\n",
       "    .dataframe tbody tr th:only-of-type {\n",
       "        vertical-align: middle;\n",
       "    }\n",
       "\n",
       "    .dataframe tbody tr th {\n",
       "        vertical-align: top;\n",
       "    }\n",
       "\n",
       "    .dataframe thead tr th {\n",
       "        text-align: left;\n",
       "    }\n",
       "\n",
       "    .dataframe thead tr:last-of-type th {\n",
       "        text-align: right;\n",
       "    }\n",
       "</style>\n",
       "<table border=\"1\" class=\"dataframe\">\n",
       "  <thead>\n",
       "    <tr>\n",
       "      <th></th>\n",
       "      <th colspan=\"20\" halign=\"left\">Accuracy</th>\n",
       "    </tr>\n",
       "    <tr>\n",
       "      <th>n_estimators</th>\n",
       "      <th>10</th>\n",
       "      <th>20</th>\n",
       "      <th>30</th>\n",
       "      <th>40</th>\n",
       "      <th>50</th>\n",
       "      <th>60</th>\n",
       "      <th>70</th>\n",
       "      <th>80</th>\n",
       "      <th>90</th>\n",
       "      <th>100</th>\n",
       "      <th>110</th>\n",
       "      <th>120</th>\n",
       "      <th>130</th>\n",
       "      <th>140</th>\n",
       "      <th>150</th>\n",
       "      <th>160</th>\n",
       "      <th>170</th>\n",
       "      <th>180</th>\n",
       "      <th>190</th>\n",
       "      <th>200</th>\n",
       "    </tr>\n",
       "    <tr>\n",
       "      <th>max_features</th>\n",
       "      <th></th>\n",
       "      <th></th>\n",
       "      <th></th>\n",
       "      <th></th>\n",
       "      <th></th>\n",
       "      <th></th>\n",
       "      <th></th>\n",
       "      <th></th>\n",
       "      <th></th>\n",
       "      <th></th>\n",
       "      <th></th>\n",
       "      <th></th>\n",
       "      <th></th>\n",
       "      <th></th>\n",
       "      <th></th>\n",
       "      <th></th>\n",
       "      <th></th>\n",
       "      <th></th>\n",
       "      <th></th>\n",
       "      <th></th>\n",
       "    </tr>\n",
       "  </thead>\n",
       "  <tbody>\n",
       "    <tr>\n",
       "      <th>1</th>\n",
       "      <td>0.80625</td>\n",
       "      <td>0.81875</td>\n",
       "      <td>0.78750</td>\n",
       "      <td>0.86250</td>\n",
       "      <td>0.86875</td>\n",
       "      <td>0.86875</td>\n",
       "      <td>0.89375</td>\n",
       "      <td>0.86875</td>\n",
       "      <td>0.88125</td>\n",
       "      <td>0.88125</td>\n",
       "      <td>0.87500</td>\n",
       "      <td>0.86875</td>\n",
       "      <td>0.85625</td>\n",
       "      <td>0.88750</td>\n",
       "      <td>0.86875</td>\n",
       "      <td>0.88750</td>\n",
       "      <td>0.88125</td>\n",
       "      <td>0.88125</td>\n",
       "      <td>0.88750</td>\n",
       "      <td>0.90000</td>\n",
       "    </tr>\n",
       "    <tr>\n",
       "      <th>2</th>\n",
       "      <td>0.83125</td>\n",
       "      <td>0.86875</td>\n",
       "      <td>0.89375</td>\n",
       "      <td>0.85000</td>\n",
       "      <td>0.86875</td>\n",
       "      <td>0.88750</td>\n",
       "      <td>0.87500</td>\n",
       "      <td>0.88125</td>\n",
       "      <td>0.88125</td>\n",
       "      <td>0.87500</td>\n",
       "      <td>0.86875</td>\n",
       "      <td>0.87500</td>\n",
       "      <td>0.87500</td>\n",
       "      <td>0.88750</td>\n",
       "      <td>0.88750</td>\n",
       "      <td>0.89375</td>\n",
       "      <td>0.88125</td>\n",
       "      <td>0.86250</td>\n",
       "      <td>0.89375</td>\n",
       "      <td>0.88125</td>\n",
       "    </tr>\n",
       "    <tr>\n",
       "      <th>3</th>\n",
       "      <td>0.86875</td>\n",
       "      <td>0.87500</td>\n",
       "      <td>0.86250</td>\n",
       "      <td>0.86250</td>\n",
       "      <td>0.88750</td>\n",
       "      <td>0.86875</td>\n",
       "      <td>0.88125</td>\n",
       "      <td>0.87500</td>\n",
       "      <td>0.86875</td>\n",
       "      <td>0.87500</td>\n",
       "      <td>0.86875</td>\n",
       "      <td>0.88125</td>\n",
       "      <td>0.89375</td>\n",
       "      <td>0.87500</td>\n",
       "      <td>0.88750</td>\n",
       "      <td>0.88125</td>\n",
       "      <td>0.89375</td>\n",
       "      <td>0.89375</td>\n",
       "      <td>0.89375</td>\n",
       "      <td>0.88750</td>\n",
       "    </tr>\n",
       "    <tr>\n",
       "      <th>4</th>\n",
       "      <td>0.86875</td>\n",
       "      <td>0.87500</td>\n",
       "      <td>0.88750</td>\n",
       "      <td>0.90000</td>\n",
       "      <td>0.86250</td>\n",
       "      <td>0.88125</td>\n",
       "      <td>0.87500</td>\n",
       "      <td>0.89375</td>\n",
       "      <td>0.88125</td>\n",
       "      <td>0.90000</td>\n",
       "      <td>0.90000</td>\n",
       "      <td>0.89375</td>\n",
       "      <td>0.87500</td>\n",
       "      <td>0.87500</td>\n",
       "      <td>0.89375</td>\n",
       "      <td>0.89375</td>\n",
       "      <td>0.88125</td>\n",
       "      <td>0.88750</td>\n",
       "      <td>0.88125</td>\n",
       "      <td>0.90000</td>\n",
       "    </tr>\n",
       "    <tr>\n",
       "      <th>5</th>\n",
       "      <td>0.86250</td>\n",
       "      <td>0.86250</td>\n",
       "      <td>0.86875</td>\n",
       "      <td>0.89375</td>\n",
       "      <td>0.88125</td>\n",
       "      <td>0.90000</td>\n",
       "      <td>0.88750</td>\n",
       "      <td>0.88750</td>\n",
       "      <td>0.89375</td>\n",
       "      <td>0.89375</td>\n",
       "      <td>0.89375</td>\n",
       "      <td>0.88750</td>\n",
       "      <td>0.88750</td>\n",
       "      <td>0.89375</td>\n",
       "      <td>0.88750</td>\n",
       "      <td>0.90000</td>\n",
       "      <td>0.88750</td>\n",
       "      <td>0.89375</td>\n",
       "      <td>0.90000</td>\n",
       "      <td>0.88750</td>\n",
       "    </tr>\n",
       "  </tbody>\n",
       "</table>\n",
       "</div>"
      ],
      "text/plain": [
       "             Accuracy                                                        \\\n",
       "n_estimators      10       20       30       40       50       60       70    \n",
       "max_features                                                                  \n",
       "1             0.80625  0.81875  0.78750  0.86250  0.86875  0.86875  0.89375   \n",
       "2             0.83125  0.86875  0.89375  0.85000  0.86875  0.88750  0.87500   \n",
       "3             0.86875  0.87500  0.86250  0.86250  0.88750  0.86875  0.88125   \n",
       "4             0.86875  0.87500  0.88750  0.90000  0.86250  0.88125  0.87500   \n",
       "5             0.86250  0.86250  0.86875  0.89375  0.88125  0.90000  0.88750   \n",
       "\n",
       "                                                                             \\\n",
       "n_estimators      80       90       100      110      120      130      140   \n",
       "max_features                                                                  \n",
       "1             0.86875  0.88125  0.88125  0.87500  0.86875  0.85625  0.88750   \n",
       "2             0.88125  0.88125  0.87500  0.86875  0.87500  0.87500  0.88750   \n",
       "3             0.87500  0.86875  0.87500  0.86875  0.88125  0.89375  0.87500   \n",
       "4             0.89375  0.88125  0.90000  0.90000  0.89375  0.87500  0.87500   \n",
       "5             0.88750  0.89375  0.89375  0.89375  0.88750  0.88750  0.89375   \n",
       "\n",
       "                                                                    \n",
       "n_estimators      150      160      170      180      190      200  \n",
       "max_features                                                        \n",
       "1             0.86875  0.88750  0.88125  0.88125  0.88750  0.90000  \n",
       "2             0.88750  0.89375  0.88125  0.86250  0.89375  0.88125  \n",
       "3             0.88750  0.88125  0.89375  0.89375  0.89375  0.88750  \n",
       "4             0.89375  0.89375  0.88125  0.88750  0.88125  0.90000  \n",
       "5             0.88750  0.90000  0.88750  0.89375  0.90000  0.88750  "
      ]
     },
     "execution_count": 22,
     "metadata": {},
     "output_type": "execute_result"
    }
   ],
   "source": [
    "grid_reset = grid_contour.reset_index()\n",
    "grid_reset.columns = ['max_features', 'n_estimators', 'Accuracy']\n",
    "grid_pivot = grid_reset.pivot('max_features', 'n_estimators')\n",
    "grid_pivot"
   ]
  },
  {
   "cell_type": "code",
   "execution_count": null,
   "id": "ca770cf2",
   "metadata": {},
   "outputs": [],
   "source": []
  }
 ],
 "metadata": {
  "kernelspec": {
   "display_name": "machinelearning",
   "language": "python",
   "name": "machinelearning"
  },
  "language_info": {
   "codemirror_mode": {
    "name": "ipython",
    "version": 3
   },
   "file_extension": ".py",
   "mimetype": "text/x-python",
   "name": "python",
   "nbconvert_exporter": "python",
   "pygments_lexer": "ipython3",
   "version": "3.8.10"
  }
 },
 "nbformat": 4,
 "nbformat_minor": 5
}
